{
  "cells": [
    {
      "cell_type": "markdown",
      "metadata": {
        "id": "0egFsNZI8krE"
      },
      "source": [
        "## Question 1.1: Write the Answer to these questions.\n",
        "\n",
        "### Note: Give at least one example for each of the questions\n"
      ]
    },
    {
      "cell_type": "markdown",
      "metadata": {
        "id": "iRnJZIyQ84kc"
      },
      "source": [
        "#### What is the difference between static and dynamic variables in Python?\n"
      ]
    },
    {
      "cell_type": "markdown",
      "metadata": {},
      "source": [
        "Static Variables:\n",
        "\n",
        "    - Static variables, also known as class variables, are associated with a class rather than with instances of the class.\n",
        "    - They are defined once for the class and are shared among all instances of the class.\n",
        "    - If the value of a static variable is changed, all instances of the class will see this change.\n",
        "    - Static variables are allocated memory during compile-time and have a fixed memory location that remains the same throughout the program's execution.\n",
        "    - They are accessed using the class name followed by the variable name.\n"
      ]
    },
    {
      "cell_type": "code",
      "execution_count": 1,
      "metadata": {},
      "outputs": [
        {
          "name": "stdout",
          "output_type": "stream",
          "text": [
            "textual\n",
            "fictional\n",
            "fictional\n"
          ]
        }
      ],
      "source": [
        "class Book:\n",
        "    classification = \"textual\"\n",
        "\n",
        "# Accessing the static variable using the class name\n",
        "print(Book.classification)  # Output: \"textual\"\n",
        "\n",
        "# Modifying the static variable\n",
        "Book.classification = \"fictional\"\n",
        "\n",
        "# Accessing the modified static variable using an instance\n",
        "book1 = Book()\n",
        "print(book1.classification)  # Output: \"fictional\"\n",
        "\n",
        "# Accessing the modified static variable using another instance\n",
        "book2 = Book()\n",
        "print(book2.classification)  # Output: \"fictional\"\n"
      ]
    },
    {
      "cell_type": "markdown",
      "metadata": {},
      "source": [
        "\n",
        "Dynamic Variables:\n",
        "\n",
        "    - Dynamic variables, also known as instance variables, are associated with instances of a class.\n",
        "    - Each object or instance of a class has its own copy of dynamic variables.\n",
        "    - The values of dynamic variables can be different for each object, depending on the value assigned to them.\n",
        "    - Dynamic variables are allocated memory during runtime and have a memory location that can change as the program executes.\n",
        "    - They are accessed using the object or instance name followed by the variable name."
      ]
    },
    {
      "cell_type": "code",
      "execution_count": 3,
      "metadata": {},
      "outputs": [
        {
          "name": "stdout",
          "output_type": "stream",
          "text": [
            "red\n",
            "blue\n"
          ]
        }
      ],
      "source": [
        "class Car:\n",
        "    def __init__(self, color):\n",
        "        self.color = color\n",
        "\n",
        "# Creating instances of the Car class\n",
        "car1 = Car(\"red\")\n",
        "car2 = Car(\"blue\")\n",
        "\n",
        "# Accessing the dynamic variable of each instance\n",
        "print(car1.color)  # Output: \"red\"\n",
        "print(car2.color)  # Output: \"blue\"\n"
      ]
    },
    {
      "cell_type": "markdown",
      "metadata": {},
      "source": []
    },
    {
      "cell_type": "markdown",
      "metadata": {
        "id": "9Y6NH9wr89T9"
      },
      "source": [
        "#### Explain the purpose of \"pop\",\"popitem\",\"clear()\" in a dictionary with suitable examples.\n",
        "\n"
      ]
    },
    {
      "cell_type": "markdown",
      "metadata": {},
      "source": [
        "pop() Method:\n",
        "\n",
        "- The pop() method in Python dictionaries is used to remove and return the value associated with a specified key.\n",
        "- It takes the key as an argument and returns the corresponding value.\n",
        "- If the key is not found, it can also return a default value specified as the second argument.\n",
        "- After the value is removed, the key-value pair is deleted from the dictionary.\n",
        "- Here's an example that demonstrates the usage of pop():"
      ]
    },
    {
      "cell_type": "code",
      "execution_count": 4,
      "metadata": {},
      "outputs": [
        {
          "name": "stdout",
          "output_type": "stream",
          "text": [
            "Popped Marks: 72\n",
            "Updated Dictionary: {'Physics': 67, 'Math': 89}\n"
          ]
        }
      ],
      "source": [
        "marks = {'Physics': 67, 'Chemistry': 72, 'Math': 89}\n",
        "chemistry_marks = marks.pop('Chemistry')\n",
        "print('Popped Marks:', chemistry_marks)  # Output: Popped Marks: 72\n",
        "print('Updated Dictionary:', marks)  # Output: {'Physics': 67, 'Math': 89}\n"
      ]
    },
    {
      "cell_type": "markdown",
      "metadata": {},
      "source": [
        "popitem() Method:\n",
        "\n",
        "- The popitem() method removes and returns an arbitrary key-value pair from the dictionary.\n",
        "- It is useful when you want to remove and process items from the dictionary in a Last In, First Out (LIFO) order.\n",
        "    Here's an example that demonstrates the usage of popitem():"
      ]
    },
    {
      "cell_type": "code",
      "execution_count": 5,
      "metadata": {},
      "outputs": [
        {
          "name": "stdout",
          "output_type": "stream",
          "text": [
            "Popped Item: ('orange', 20)\n",
            "Updated Dictionary: {'apple': 10, 'banana': 15}\n"
          ]
        }
      ],
      "source": [
        "sales = {'apple': 10, 'banana': 15, 'orange': 20}\n",
        "last_item = sales.popitem()\n",
        "print('Popped Item:', last_item)  # Output: Popped Item: ('orange', 20)\n",
        "print('Updated Dictionary:', sales)  # Output: {'apple': 10, 'banana': 15}\n"
      ]
    },
    {
      "cell_type": "markdown",
      "metadata": {},
      "source": [
        " clear() Method:\n",
        "\n",
        "- The clear() method is used to remove all key-value pairs from a dictionary, making it empty.\n",
        "- It doesn't return any value; it modifies the dictionary in-place.\n",
        "- After calling clear(), the dictionary becomes an empty dictionary.\n",
        "- Here's an example that demonstrates the usage of clear():"
      ]
    },
    {
      "cell_type": "code",
      "execution_count": 6,
      "metadata": {},
      "outputs": [
        {
          "name": "stdout",
          "output_type": "stream",
          "text": [
            "Empty Dictionary: {}\n"
          ]
        }
      ],
      "source": [
        "marks = {'Physics': 67, 'Chemistry': 72, 'Math': 89}\n",
        "marks.clear()\n",
        "print('Empty Dictionary:', marks)  # Output: {}\n"
      ]
    },
    {
      "cell_type": "markdown",
      "metadata": {
        "id": "AuT5wfz589aB"
      },
      "source": [
        "#### What do you mean by FrozenSet? Explain it with suitable examples.\n"
      ]
    },
    {
      "cell_type": "markdown",
      "metadata": {
        "id": "00vAMlo1-8jG"
      },
      "source": [
        "a frozenset is an immutable version of a set. It is similar to a set, but once created, its elements cannot be modified. The frozenset() function is used to create a frozenset object, which is initialized with elements from an iterable such as a list, tuple, or set.\n",
        "\n",
        "Since frozenset objects are immutable, they have some limitations compared to regular sets. \n",
        "- you cannot add or remove elements from a frozenset\n",
        "- you cannot use methods that modify the set. \n",
        "\n",
        "However, you can perform various operations on frozensets, such as checking for equality, finding the union, intersection, difference, or symmetric difference between two frozensets."
      ]
    },
    {
      "cell_type": "code",
      "execution_count": 7,
      "metadata": {},
      "outputs": [
        {
          "name": "stdout",
          "output_type": "stream",
          "text": [
            "frozenset({1, 2, 3, 4, 5})\n"
          ]
        }
      ],
      "source": [
        "numbers = [1, 2, 3, 4, 5]\n",
        "frozen_numbers = frozenset(numbers)\n",
        "print(frozen_numbers)  # Output: frozenset({1, 2, 3, 4, 5})"
      ]
    },
    {
      "cell_type": "markdown",
      "metadata": {
        "id": "cldyItcx89cv"
      },
      "source": [
        "#### Differentiate between mutable and immutable data types in Python and give examples of mutable and immutable data types\n"
      ]
    },
    {
      "cell_type": "markdown",
      "metadata": {},
      "source": [
        "Mutable Data Types:\n",
        "\n",
        "- Mutable objects allow you to change their value or data in place without affecting their identity.\n",
        "- Changes made to a mutable object will be reflected in the object itself.\n",
        "- Examples of mutable data types in Python include lists, dictionaries, and sets.\n",
        "- For example, if you have a list and you modify its elements or add/remove elements, the list itself is modified.\n",
        "\n",
        "Immutable Data Types:\n",
        "\n",
        "- Immutable objects do not allow changes to their value or data once they are created.\n",
        "- If you want to modify an immutable object, you need to create a new object with the desired changes.\n",
        "- Examples of immutable data types in Python include strings, numbers (integers, floats), tuples, and frozensets.\n",
        "- For example, if you have a string and you want to change a character, you need to create a new string with the desired change.\n"
      ]
    },
    {
      "cell_type": "code",
      "execution_count": null,
      "metadata": {},
      "outputs": [],
      "source": []
    },
    {
      "cell_type": "markdown",
      "metadata": {
        "id": "PrKegTqh89e9"
      },
      "source": [
        "#### What is __init__?Explain with an example.\n"
      ]
    },
    {
      "cell_type": "markdown",
      "metadata": {},
      "source": [
        "the __init__ method is a special method that is automatically called when an object is created from a class. It is commonly referred to as a constructor. The purpose of the __init__ method is to initialize the attributes of the class and perform any necessary setup or initialization."
      ]
    },
    {
      "cell_type": "code",
      "execution_count": 9,
      "metadata": {},
      "outputs": [
        {
          "name": "stdout",
          "output_type": "stream",
          "text": [
            "Hello, my name is John.\n"
          ]
        }
      ],
      "source": [
        "class Person:\n",
        "    def __init__(self, name):\n",
        "        self.name = name\n",
        "\n",
        "    def say_hello(self):\n",
        "        print(f\"Hello, my name is {self.name}.\")\n",
        "\n",
        "# Creating an instance of the Person class\n",
        "person = Person(\"John\")\n",
        "\n",
        "# Calling the say_hello method\n",
        "person.say_hello()\n"
      ]
    },
    {
      "cell_type": "markdown",
      "metadata": {
        "id": "LRnWr3AP89hb"
      },
      "source": [
        "#### What is docstring in Python?Explain with an example"
      ]
    },
    {
      "cell_type": "markdown",
      "metadata": {},
      "source": [
        "a docstring is a string literal that serves as documentation for various Python objects, such as functions, modules, classes, and methods. It provides a way to describe the purpose, usage, and behavior of the object to both developers and users. A docstring is typically placed as the first line after the object's definition and is enclosed in triple quotes (''' or \"\"\"). Here's an example of a function with a docstring:"
      ]
    },
    {
      "cell_type": "code",
      "execution_count": 10,
      "metadata": {},
      "outputs": [],
      "source": [
        "def square(n):\n",
        "    '''Takes in a number n, returns the square of n'''\n",
        "    return n**2\n"
      ]
    },
    {
      "cell_type": "markdown",
      "metadata": {
        "id": "VkblLC5589j4"
      },
      "source": [
        "#### What are unit tests in Python\n"
      ]
    },
    {
      "cell_type": "markdown",
      "metadata": {},
      "source": [
        "Unit testing is a software testing technique that focuses on testing the smallest testable parts, called units, of a program to ensure that they function correctly. The purpose of unit testing is to validate that each unit of code performs as intended and to catch bugs early in the development process. \n",
        "\n",
        "In Python, unit testing is commonly performed using the **unittest** framework, which is part of Python's standard library. The unittest framework provides a set of tools and assertions for writing and running unit tests."
      ]
    },
    {
      "cell_type": "code",
      "execution_count": 15,
      "metadata": {},
      "outputs": [],
      "source": [
        "import unittest\n",
        "class Calculations:\n",
        "    def __init__(self, a, b):\n",
        "        self.a = a\n",
        "        self.b = b\n",
        "\n",
        "    def get_sum(self):\n",
        "        return self.a + self.b\n",
        "\n",
        "    def get_difference(self):\n",
        "        return self.a - self.b\n",
        "\n",
        "    def get_product(self):\n",
        "        return self.a * self.b\n",
        "\n",
        "    def get_quotient(self):\n",
        "        return self.a / self.b\n",
        "    \n",
        "# implement unit testing\n",
        "\n",
        "class TestCalculations(unittest.TestCase):\n",
        "\n",
        "    def test_sum(self):\n",
        "        calculation = Calculations(8, 2)\n",
        "        self.assertEqual(calculation.get_sum(), 10, 'The sum is wrong.')\n",
        "\n",
        "if __name__ == '__main__':\n",
        "    unittest.main()"
      ]
    },
    {
      "cell_type": "markdown",
      "metadata": {
        "id": "hZsIclPt89me"
      },
      "source": [
        "### What is break, continue and pass in Python\n"
      ]
    },
    {
      "cell_type": "markdown",
      "metadata": {},
      "source": [
        "Break: The break statement is used to exit a loop prematurely when a certain condition is met. When encountered inside a loop, the break statement terminates the loop entirely and continues with the next statement after the loop. It allows you to exit the loop before its normal completion. Here's an example:"
      ]
    },
    {
      "cell_type": "code",
      "execution_count": 16,
      "metadata": {},
      "outputs": [
        {
          "name": "stdout",
          "output_type": "stream",
          "text": [
            "1\n",
            "2\n"
          ]
        }
      ],
      "source": [
        "for i in range(1, 6):\n",
        "    if i == 3:\n",
        "        break\n",
        "    print(i)\n"
      ]
    },
    {
      "cell_type": "markdown",
      "metadata": {},
      "source": [
        "Continue: The continue statement is used to skip the remaining code inside a loop for the current iteration only and move to the next iteration. Instead of terminating the loop like break, continue allows you to skip specific iterations and continue with the next iteration. Here's an example:"
      ]
    },
    {
      "cell_type": "code",
      "execution_count": 17,
      "metadata": {},
      "outputs": [
        {
          "name": "stdout",
          "output_type": "stream",
          "text": [
            "1\n",
            "2\n",
            "4\n",
            "5\n"
          ]
        }
      ],
      "source": [
        "for i in range(1, 6):\n",
        "    if i == 3:\n",
        "        continue\n",
        "    print(i)\n"
      ]
    },
    {
      "cell_type": "markdown",
      "metadata": {},
      "source": [
        "Pass: The pass statement is used as a placeholder when a statement is required syntactically, but you don't want any command or code to execute. It is like a null operation. The pass statement is often used as a temporary placeholder during development or as a stub for future code implementation. Here's an example:"
      ]
    },
    {
      "cell_type": "code",
      "execution_count": 18,
      "metadata": {},
      "outputs": [
        {
          "name": "stdout",
          "output_type": "stream",
          "text": [
            "1\n",
            "2\n",
            "4\n",
            "5\n"
          ]
        }
      ],
      "source": [
        "for i in range(1, 6):\n",
        "    if i == 3:\n",
        "        pass\n",
        "    else:\n",
        "        print(i)\n"
      ]
    },
    {
      "cell_type": "markdown",
      "metadata": {
        "id": "ehNOcvHL89o9"
      },
      "source": [
        "#### What is the use of self in Python\n"
      ]
    },
    {
      "cell_type": "markdown",
      "metadata": {},
      "source": [
        " the self keyword is used as a convention to refer to the instance of a class within the class itself. It is a parameter that is automatically passed to instance methods and allows access to the attributes and methods of the class."
      ]
    },
    {
      "cell_type": "code",
      "execution_count": 19,
      "metadata": {},
      "outputs": [
        {
          "name": "stdout",
          "output_type": "stream",
          "text": [
            "My name is Alice and I am 25 years old.\n"
          ]
        }
      ],
      "source": [
        "class Person:\n",
        "    def __init__(self, name, age):\n",
        "        self.name = name\n",
        "        self.age = age\n",
        "\n",
        "    def introduce(self):\n",
        "        print(f\"My name is {self.name} and I am {self.age} years old.\")\n",
        "\n",
        "person1 = Person(\"Alice\", 25)\n",
        "person1.introduce()\n"
      ]
    },
    {
      "cell_type": "markdown",
      "metadata": {
        "id": "f_PRloai9uaA"
      },
      "source": [
        "#### What are global, protected and private attributes in Python\n"
      ]
    },
    {
      "cell_type": "markdown",
      "metadata": {},
      "source": [
        "there are conventions for controlling the accessibility of attributes within a class. These conventions are not enforced by the language itself, but they serve as a way to indicate the intended visibility of attributes. Let's explore each of these conventions:\n",
        "\n",
        "- **Global Attributes:** Global variables are public variables that are defined in the global scope. They can be accessed and modified from anywhere in the program. To use a global variable inside a function, the global keyword is used to indicate that the variable is from the global scope.\n",
        "\n",
        "- **Protected Attributes:** Protected attributes are attributes that are intended to be accessed only within the class and its subclasses. In Python, the convention to indicate a protected attribute is to prefix its name with a single underscore _. This convention serves as a hint to other developers that the attribute should be treated as protected, although it can still be accessed and modified from outside the class. However, responsible developers should refrain from doing so.\n",
        "\n",
        "- **Private Attributes:** Private attributes are attributes that are intended to be accessed only within the class itself. In Python, the convention to indicate a private attribute is to prefix its name with a double underscore __. This convention makes the attribute name \"mangled\" by the interpreter, which means it is changed to _ClassName__attribute to make it harder to access from outside the class. Private attributes cannot be accessed or modified directly from outside the class.\n"
      ]
    },
    {
      "cell_type": "code",
      "execution_count": 20,
      "metadata": {},
      "outputs": [
        {
          "name": "stdout",
          "output_type": "stream",
          "text": [
            "Global Variable: 10\n",
            "Protected Variable: 20\n",
            "Private Variable: 30\n",
            "Protected Instance Variable: 40\n",
            "Private Instance Variable: 50\n"
          ]
        }
      ],
      "source": [
        "class MyClass:\n",
        "    global_var = 10\n",
        "    _protected_var = 20\n",
        "    __private_var = 30\n",
        "\n",
        "    def __init__(self):\n",
        "        self._protected_instance_var = 40\n",
        "        self.__private_instance_var = 50\n",
        "\n",
        "    def display(self):\n",
        "        print(\"Global Variable:\", MyClass.global_var)\n",
        "        print(\"Protected Variable:\", self._protected_var)\n",
        "        print(\"Private Variable:\", self.__private_var)\n",
        "        print(\"Protected Instance Variable:\", self._protected_instance_var)\n",
        "        print(\"Private Instance Variable:\", self.__private_instance_var)\n",
        "\n",
        "obj = MyClass()\n",
        "obj.display()\n"
      ]
    },
    {
      "cell_type": "markdown",
      "metadata": {
        "id": "ywAsLXBH9ulg"
      },
      "source": [
        "in the above example, global_var is a global attribute that can be accessed from anywhere. _protected_var is a protected attribute that can be accessed within the class and its subclasses. __private_var is a private attribute that can only be accessed within the class itself. Similarly, _protected_instance_var is a protected instance attribute that can be accessed within the class and its subclasses. __private_instance_var is a private instance attribute that can only be accessed within the class itself."
      ]
    },
    {
      "cell_type": "markdown",
      "metadata": {
        "id": "AJpiRt-K9utE"
      },
      "source": [
        "#### What are modules and packages in Python\n"
      ]
    },
    {
      "cell_type": "markdown",
      "metadata": {},
      "source": [
        "Modules:\n",
        "\n",
        "- A module is a file containing Python code that defines functions, classes, and variables.\n",
        "- Modules provide a way to organize related code into a single file.\n",
        "- They can be imported and used in other Python programs to access the code and functionality defined within them.\n",
        "- Modules help improve code readability and maintainability by breaking down complex applications into smaller, manageable units.\n",
        "- Python provides a wide variety of modules as standard modules, which are ready-made libraries available to programmers and users.\n",
        "- Modules can be created by users to encapsulate related code and provide reusable functionality.\n",
        "- A module usually corresponds to a single file with a .py extension.\n",
        "- When a module is imported, its code is executed, and the variables, functions, and classes defined within the module become accessible in the importing program.\n",
        "\n",
        "Packages:\n",
        "\n",
        "- A package is a directory that contains multiple modules or subpackages.\n",
        "- It is a way to organize related modules into a hierarchical structure.\n",
        "- Packages are created by adding a special file called __init__.py to the directory.\n",
        "- The __init__.py file can be empty or can contain initialization code for the package.\n",
        "- Packages provide a higher level of organization and help avoid naming conflicts between modules.\n",
        "- When a package is imported, only its immediate modules are imported, not the sub-packages.\n",
        "- Packages can be used to create a collection of related modules that can be easily distributed and reused.\n"
      ]
    },
    {
      "cell_type": "code",
      "execution_count": 1,
      "metadata": {},
      "outputs": [],
      "source": [
        "# library.py\n",
        "\n",
        "def add_book(title, author):\n",
        "    # Code to add a book to the library\n",
        "    pass\n",
        "\n",
        "def search_book(title):\n",
        "    # Code to search for a book in the library\n",
        "    pass\n",
        "\n",
        "class LibraryMember:\n",
        "    def __init__(self, name, member_id):\n",
        "        self.name = name\n",
        "        self.member_id = member_id\n",
        "\n",
        "    def borrow_book(self, book):\n",
        "        # Code to handle book borrowing\n",
        "        pass\n",
        "\n",
        "    def return_book(self, book):\n",
        "        # Code to handle book return\n",
        "        pass\n"
      ]
    },
    {
      "cell_type": "code",
      "execution_count": 2,
      "metadata": {},
      "outputs": [],
      "source": [
        "# catalog.py\n",
        "\n",
        "def assign_genre(book, genre):\n",
        "    # Code to assign a genre to a book\n",
        "    pass\n",
        "\n",
        "def check_availability(book):\n",
        "    # Code to check the availability of a book\n",
        "    pass\n",
        "\n",
        "class BookCategory:\n",
        "    def __init__(self, name, books):\n",
        "        self.name = name\n",
        "        self.books = books\n",
        "\n",
        "    def add_book(self, book):\n",
        "        # Code to add a book to the category\n",
        "        pass\n",
        "\n",
        "    def remove_book(self, book):\n",
        "        # Code to remove a book from the category\n",
        "        pass\n"
      ]
    },
    {
      "cell_type": "code",
      "execution_count": null,
      "metadata": {},
      "outputs": [],
      "source": [
        "from library_management.library import add_book, search_book\n",
        "from library_management.catalog import assign_genre\n",
        "\n",
        "add_book(\"The Great Gatsby\", \"F. Scott Fitzgerald\")\n",
        "search_book(\"The Great Gatsby\")\n",
        "assign_genre(\"The Great Gatsby\", \"Fiction\")\n"
      ]
    },
    {
      "cell_type": "markdown",
      "metadata": {
        "id": "2fKH8S-i9uv_"
      },
      "source": [
        "#### What are lists and tuples? What is the key difference between the two.\n"
      ]
    },
    {
      "cell_type": "markdown",
      "metadata": {},
      "source": [
        "Lists:\n",
        "\n",
        "- Lists are mutable, meaning their elements can be modified after creation.\n",
        "- They are defined using square brackets [ ] and can contain elements of different data types.\n",
        "- Lists allow for dynamic resizing, meaning you can add, remove, or modify elements freely.\n",
        "- Lists are commonly used when you need to store and manipulate a collection of items that may change over time.\n",
        "- Lists can be used as keys in dictionaries and as elements in sets.\n",
        "- Lists are generally more memory-intensive compared to tuples.\n",
        "\n",
        "Tuples:\n",
        "\n",
        "- Tuples are immutable, meaning their elements cannot be modified after creation.\n",
        "- They are defined using parentheses ( ) and can contain elements of different data types.\n",
        "- Tuples have a fixed size and cannot be resized once created.\n",
        "- Tuples are commonly used when you need to store a collection of items that should not be changed.\n",
        "- Tuples can be used as keys in dictionaries because they are immutable and can be hashed.\n",
        "- Tuples are generally more memory-efficient compared to lists.\n"
      ]
    },
    {
      "cell_type": "code",
      "execution_count": null,
      "metadata": {},
      "outputs": [],
      "source": []
    },
    {
      "cell_type": "markdown",
      "metadata": {
        "id": "QK-QxKvJ9u1E"
      },
      "source": [
        "#### What is an Interpreted language & dynamically typed language? Write 5 differences between them\n"
      ]
    },
    {
      "cell_type": "markdown",
      "metadata": {},
      "source": [
        "Differences between Interpreted Language and Dynamically Typed Language:\n",
        "\n",
        "- Translation Process: Interpreted languages are translated on the fly during execution, while dynamically typed languages determine variable types at runtime.\n",
        "- Compilation: Interpreted languages do not require a separate compilation step, whereas compiled languages are translated into machine code before execution.\n",
        "- Platform Independence: Interpreted languages are often platform-independent, allowing code to run on different operating systems. Dynamically typed languages can also be platform-independent, but it is not a defining characteristic.\n",
        "- Development Cycle: Interpreted languages typically have a shorter development cycle due to the absence of a compilation step. Dynamically typed languages offer flexibility and ease of use during development.\n",
        "- Execution Speed: Interpreted languages may have slower execution speeds compared to compiled languages. Dynamically typed languages can have varying execution speeds depending on the implementation.\n"
      ]
    },
    {
      "cell_type": "markdown",
      "metadata": {
        "id": "1m_mM6Zb9u3U"
      },
      "source": [
        "#### What are Dict and List comprehensions\n"
      ]
    },
    {
      "cell_type": "markdown",
      "metadata": {},
      "source": [
        "List comprehensions in Python provide a concise and efficient way to create lists based on existing lists or other iterables. They allow you to combine loops, conditional statements, and expressions into a single line of code."
      ]
    },
    {
      "cell_type": "code",
      "execution_count": 4,
      "metadata": {},
      "outputs": [
        {
          "data": {
            "text/plain": [
              "[1, 4, 9, 16, 25, 36, 49, 64, 81, 100]"
            ]
          },
          "execution_count": 4,
          "metadata": {},
          "output_type": "execute_result"
        }
      ],
      "source": [
        "squares = [x**2 for x in range(1, 11)]\n",
        "squares"
      ]
    },
    {
      "cell_type": "markdown",
      "metadata": {},
      "source": [
        "dictionary comprehensions provide a concise way to create dictionaries in Python. They allow you to create dictionaries from iterables or transform existing dictionaries."
      ]
    },
    {
      "cell_type": "code",
      "execution_count": 5,
      "metadata": {},
      "outputs": [
        {
          "data": {
            "text/plain": [
              "{1: 1, 2: 4, 3: 9, 4: 16, 5: 25, 6: 36, 7: 49, 8: 64, 9: 81, 10: 100}"
            ]
          },
          "execution_count": 5,
          "metadata": {},
          "output_type": "execute_result"
        }
      ],
      "source": [
        "squares_dict = {x: x**2 for x in range(1, 11)}\n",
        "squares_dict"
      ]
    },
    {
      "cell_type": "markdown",
      "metadata": {},
      "source": [
        "Key Differences between List Comprehensions and Dictionary Comprehensions:\n",
        "\n",
        "- Output Type: List comprehensions produce lists, while dictionary comprehensions produce dictionaries.\n",
        "- Syntax: List comprehensions use square brackets [ ], while dictionary comprehensions use curly braces { }.\n",
        "- Key-Value Pair: Dictionary comprehensions require both a key expression and a value expression, whereas list comprehensions only require a single expression.\n",
        "- Iterable: List comprehensions iterate over a single iterable, while dictionary comprehensions can iterate over multiple iterables using the zip() function or other techniques.\n",
        "- Purpose: List comprehensions are commonly used for filtering, mapping, and transforming elements in a list, while dictionary comprehensions are used for creating dictionaries or transforming existing dictionaries.\n"
      ]
    },
    {
      "cell_type": "markdown",
      "metadata": {
        "id": "q7TQhBG29u5y"
      },
      "source": [
        "#### What are decorators in Python? Explain it with an example.Write down its use cases.\n"
      ]
    },
    {
      "cell_type": "markdown",
      "metadata": {},
      "source": [
        "Decorators in Python are a powerful feature that allows you to modify the behavior of functions or classes without permanently changing their source code. They provide a way to wrap a function or class with another function, which can add additional functionality or modify the existing behavior.\n",
        "\n",
        "Let's say we have a function that performs a division operation, but we want to add a check to ensure that the divisor is not zero."
      ]
    },
    {
      "cell_type": "code",
      "execution_count": 6,
      "metadata": {},
      "outputs": [],
      "source": [
        "def zero_division_check(func):\n",
        "    def wrapper(*args, **kwargs):\n",
        "        divisor = args[1]\n",
        "        if divisor == 0:\n",
        "            raise ValueError(\"Cannot divide by zero\")\n",
        "        return func(*args, **kwargs)\n",
        "    return wrapper\n",
        "\n",
        "@zero_division_check\n",
        "def divide(a, b):\n",
        "    return a / b\n"
      ]
    },
    {
      "cell_type": "code",
      "execution_count": 9,
      "metadata": {},
      "outputs": [
        {
          "data": {
            "text/plain": [
              "5.0"
            ]
          },
          "execution_count": 9,
          "metadata": {},
          "output_type": "execute_result"
        }
      ],
      "source": [
        "result = divide(10, 2)  # Result: 5.0\n",
        "result"
      ]
    },
    {
      "cell_type": "code",
      "execution_count": 10,
      "metadata": {},
      "outputs": [
        {
          "ename": "ValueError",
          "evalue": "Cannot divide by zero",
          "output_type": "error",
          "traceback": [
            "\u001b[1;31m---------------------------------------------------------------------------\u001b[0m",
            "\u001b[1;31mValueError\u001b[0m                                Traceback (most recent call last)",
            "Cell \u001b[1;32mIn[10], line 1\u001b[0m\n\u001b[1;32m----> 1\u001b[0m result \u001b[38;5;241m=\u001b[39m \u001b[43mdivide\u001b[49m\u001b[43m(\u001b[49m\u001b[38;5;241;43m10\u001b[39;49m\u001b[43m,\u001b[49m\u001b[43m \u001b[49m\u001b[38;5;241;43m0\u001b[39;49m\u001b[43m)\u001b[49m  \u001b[38;5;66;03m# Raises a ValueError: Cannot divide by zero\u001b[39;00m\n\u001b[0;32m      2\u001b[0m result\n",
            "Cell \u001b[1;32mIn[6], line 5\u001b[0m, in \u001b[0;36mzero_division_check.<locals>.wrapper\u001b[1;34m(*args, **kwargs)\u001b[0m\n\u001b[0;32m      3\u001b[0m divisor \u001b[38;5;241m=\u001b[39m args[\u001b[38;5;241m1\u001b[39m]\n\u001b[0;32m      4\u001b[0m \u001b[38;5;28;01mif\u001b[39;00m divisor \u001b[38;5;241m==\u001b[39m \u001b[38;5;241m0\u001b[39m:\n\u001b[1;32m----> 5\u001b[0m     \u001b[38;5;28;01mraise\u001b[39;00m \u001b[38;5;167;01mValueError\u001b[39;00m(\u001b[38;5;124m\"\u001b[39m\u001b[38;5;124mCannot divide by zero\u001b[39m\u001b[38;5;124m\"\u001b[39m)\n\u001b[0;32m      6\u001b[0m \u001b[38;5;28;01mreturn\u001b[39;00m func(\u001b[38;5;241m*\u001b[39margs, \u001b[38;5;241m*\u001b[39m\u001b[38;5;241m*\u001b[39mkwargs)\n",
            "\u001b[1;31mValueError\u001b[0m: Cannot divide by zero"
          ]
        }
      ],
      "source": [
        "result = divide(10, 0)  # Raises a ValueError: Cannot divide by zero\n",
        "result"
      ]
    },
    {
      "cell_type": "markdown",
      "metadata": {
        "id": "xPkcyukf9u-k"
      },
      "source": [
        "#### How is memory managed in Python"
      ]
    },
    {
      "cell_type": "markdown",
      "metadata": {},
      "source": [
        "Memory management is handled automatically by the Python interpreter. The interpreter utilizes a private heap space, which is a portion of the computer's memory dedicated to storing and managing Python objects and data structures. The memory manager in Python takes care of allocating memory for new objects and freeing memory for objects that are no longer in use.\n",
        "\n",
        "Here are some key points about memory management in Python:\n",
        "\n",
        "- Private Heap: Python uses a private heap to store and manage objects. The heap is a region of memory where Python objects are allocated and deallocated.\n",
        "- Dynamic Memory Allocation: Memory allocation in Python is dynamic, meaning that memory is allocated as needed. When an object is created, memory is allocated for it on the heap. If an object is no longer referenced, the memory is automatically deallocated.\n",
        "- Garbage Collection: Python employs a garbage collector to automatically free memory for objects that are no longer in use. The garbage collector identifies objects that are no longer reachable and releases the memory occupied by those objects.\n",
        "- Reference Counting: Python uses reference counting as a memory management technique. Each object has a reference count, which is incremented when a new reference to the object is made and decremented when a reference is removed. When the reference count reaches zero, the memory occupied by the object is freed.\n",
        "- Memory Pool: Python uses a memory pool to manage the allocation of small memory blocks. The memory pool is a cache of pre-allocated memory blocks that can be quickly assigned to objects when needed, reducing the overhead of frequent memory allocation and deallocation"
      ]
    },
    {
      "cell_type": "code",
      "execution_count": 11,
      "metadata": {},
      "outputs": [],
      "source": [
        "# Creating objects\n",
        "a = 10\n",
        "b = \"Hello\"\n",
        "c = [1, 2, 3]\n",
        "\n",
        "# Memory allocated for objects: integer, string, and list\n",
        "\n",
        "# Releasing memory\n",
        "a = None\n",
        "b = None\n",
        "c = None\n",
        "\n",
        "# Memory deallocated for objects: integer, string, and list\n"
      ]
    },
    {
      "cell_type": "markdown",
      "metadata": {
        "id": "jS581nP-9vBT"
      },
      "source": [
        "#### What is lambda in Python? Why is it used\n"
      ]
    },
    {
      "cell_type": "markdown",
      "metadata": {},
      "source": [
        "lambda is a keyword used to create small, anonymous functions at runtime. These functions are often referred to as lambda functions. A lambda function can have any number of arguments, but it can only have one expression. The syntax for a lambda function is:\n",
        "\n",
        "**lambda arguments: expression**\n",
        "\n",
        "Lambda functions are used for creating small, throwaway functions that are not bound to a name **(hence the term \"anonymous\")**. They are typically used for short operations that are easier to define inline rather than using a full function definition."
      ]
    },
    {
      "cell_type": "code",
      "execution_count": 1,
      "metadata": {},
      "outputs": [
        {
          "name": "stdout",
          "output_type": "stream",
          "text": [
            "15\n"
          ]
        }
      ],
      "source": [
        "add_ten = lambda x: x + 10\n",
        "print(add_ten(5))  # Output: 15\n"
      ]
    },
    {
      "cell_type": "markdown",
      "metadata": {},
      "source": [
        "### Common Use Cases\n",
        "- Sorting and Filtering:\n",
        "    Lambda functions are often used with functions like sorted(), filter(), and map()."
      ]
    },
    {
      "cell_type": "code",
      "execution_count": 2,
      "metadata": {},
      "outputs": [
        {
          "name": "stdout",
          "output_type": "stream",
          "text": [
            "[(4, 'four'), (1, 'one'), (3, 'three'), (2, 'two')]\n"
          ]
        }
      ],
      "source": [
        "# Sorting a list of tuples by the second element\n",
        "pairs = [(1, 'one'), (2, 'two'), (3, 'three'), (4, 'four')]\n",
        "sorted_pairs = sorted(pairs, key=lambda pair: pair[1])\n",
        "print(sorted_pairs)"
      ]
    },
    {
      "cell_type": "markdown",
      "metadata": {},
      "source": [
        "- Map and Filter:\n",
        "Applying a function to each item in a list or filtering elements in a list."
      ]
    },
    {
      "cell_type": "code",
      "execution_count": 3,
      "metadata": {},
      "outputs": [
        {
          "name": "stdout",
          "output_type": "stream",
          "text": [
            "[1, 4, 9, 16]\n",
            "[2, 4]\n"
          ]
        }
      ],
      "source": [
        "# Mapping\n",
        "numbers = [1, 2, 3, 4]\n",
        "squared = list(map(lambda x: x ** 2, numbers))\n",
        "print(squared)  # Output: [1, 4, 9, 16]\n",
        "\n",
        "# Filtering\n",
        "even_numbers = list(filter(lambda x: x % 2 == 0, numbers))\n",
        "print(even_numbers)  # Output: [2, 4]"
      ]
    },
    {
      "cell_type": "markdown",
      "metadata": {},
      "source": [
        "Inline Functions:\n",
        "When a simple function is needed for a short period of time and defining a full function is unnecessary.\n",
        "\n"
      ]
    },
    {
      "cell_type": "markdown",
      "metadata": {
        "id": "PUQErVR8-akg"
      },
      "source": [
        "#### Explain split() and join() functions in Python\n"
      ]
    },
    {
      "cell_type": "markdown",
      "metadata": {},
      "source": [
        "#### split() Function\n",
        "The split() method is used to break a string into a list of substrings based on a specified delimiter. By default, it splits the string at any whitespace character (space, tab, newline, etc.).\n",
        "\n",
        "Syntax:\n",
        "\n",
        "**str.split(separator, maxsplit)**\n",
        "\n",
        "- separator: (Optional) Specifies the delimiter to use for splitting the string. If not provided, the default is whitespace.\n",
        "- maxsplit: (Optional) Specifies the maximum number of splits. The default value is -1, which means \"all occurrences.\""
      ]
    },
    {
      "cell_type": "code",
      "execution_count": 4,
      "metadata": {},
      "outputs": [
        {
          "name": "stdout",
          "output_type": "stream",
          "text": [
            "['Hello', 'world,', 'welcome', 'to', 'Python', 'programming.']\n",
            "['Hello world', ' welcome to Python programming.']\n",
            "['Hello', 'world,', 'welcome to Python programming.']\n"
          ]
        }
      ],
      "source": [
        "text = \"Hello world, welcome to Python programming.\"\n",
        "\n",
        "# Splitting by default whitespace\n",
        "words = text.split()\n",
        "print(words)\n",
        "# Output: ['Hello', 'world,', 'welcome', 'to', 'Python', 'programming.']\n",
        "\n",
        "# Splitting by a specific delimiter\n",
        "comma_separated = text.split(',')\n",
        "print(comma_separated)\n",
        "# Output: ['Hello world', ' welcome to Python programming.']\n",
        "\n",
        "# Splitting with a maximum number of splits\n",
        "limited_split = text.split(' ', 2)\n",
        "print(limited_split)\n",
        "# Output: ['Hello', 'world,', 'welcome to Python programming.']\n"
      ]
    },
    {
      "cell_type": "markdown",
      "metadata": {},
      "source": [
        "#### join() Function\n",
        "The join() method is used to concatenate a list of strings into a single string, with each element separated by a specified delimiter.\n",
        "\n",
        "Syntax:\n",
        "\n",
        "**separator.join(iterable)**\n",
        "\n",
        "- separator: The string to insert between each element of the iterable (usually a list or tuple).\n",
        "- iterable: The iterable whose elements you want to join together."
      ]
    },
    {
      "cell_type": "code",
      "execution_count": 5,
      "metadata": {},
      "outputs": [
        {
          "name": "stdout",
          "output_type": "stream",
          "text": [
            "Hello world welcome to Python programming\n",
            "Hello-world-welcome-to-Python-programming\n",
            "HelloworldwelcometoPythonprogramming\n"
          ]
        }
      ],
      "source": [
        "words = ['Hello', 'world', 'welcome', 'to', 'Python', 'programming']\n",
        "\n",
        "# Joining with a space separator\n",
        "sentence = ' '.join(words)\n",
        "print(sentence)\n",
        "# Output: 'Hello world welcome to Python programming'\n",
        "\n",
        "# Joining with a hyphen separator\n",
        "hyphenated = '-'.join(words)\n",
        "print(hyphenated)\n",
        "# Output: 'Hello-world-welcome-to-Python-programming'\n",
        "\n",
        "# Joining with no separator\n",
        "no_separator = ''.join(words)\n",
        "print(no_separator)\n",
        "# Output: 'HelloworldwelcometoPythonprogramming'\n"
      ]
    },
    {
      "cell_type": "markdown",
      "metadata": {
        "id": "23axL6KH-aqn"
      },
      "source": [
        "####  What are iterators , iterable & generators in Python\n"
      ]
    },
    {
      "cell_type": "markdown",
      "metadata": {},
      "source": [
        "#### Iterables\n",
        "An iterable is any Python object capable of returning its members one at a time, allowing it to be looped over in a for loop. Common examples of iterables include lists, tuples, strings, and dictionaries.\n",
        "\n",
        "**Characteristics:**\n",
        "\n",
        "- An object is considered iterable if it implements the __iter__() method, which returns an iterator.\n",
        "- It can also implement the __getitem__() method, which allows accessing elements via indexing."
      ]
    },
    {
      "cell_type": "code",
      "execution_count": 9,
      "metadata": {},
      "outputs": [
        {
          "name": "stdout",
          "output_type": "stream",
          "text": [
            "1\n",
            "2\n",
            "3\n",
            "4\n",
            "\n",
            "\n",
            "H\n",
            "e\n",
            "l\n",
            "l\n",
            "o\n"
          ]
        }
      ],
      "source": [
        "# List is an iterable\n",
        "my_list = [1, 2, 3, 4]\n",
        "for item in my_list:\n",
        "    print(item)\n",
        "\n",
        "print(\"\\n\")\n",
        "# String is an iterable\n",
        "my_string = \"Hello\"\n",
        "for char in my_string:\n",
        "    print(char)\n"
      ]
    },
    {
      "cell_type": "markdown",
      "metadata": {},
      "source": [
        "#### Iterators\n",
        "An iterator is an object representing a stream of data; it returns the data one element at a time. Iterators implement two methods: __iter__() and __next__().\n",
        "\n",
        "**Characteristics:**\n",
        "\n",
        "- The __iter__() method returns the iterator object itself.\n",
        "- The __next__() method returns the next element from the sequence. When no more elements are available, it raises a StopIteration exception."
      ]
    },
    {
      "cell_type": "code",
      "execution_count": 10,
      "metadata": {},
      "outputs": [
        {
          "name": "stdout",
          "output_type": "stream",
          "text": [
            "1\n",
            "2\n",
            "3\n",
            "4\n"
          ]
        }
      ],
      "source": [
        "# Creating an iterator from a list\n",
        "my_list = [1, 2, 3, 4]\n",
        "my_iterator = iter(my_list)\n",
        "\n",
        "print(next(my_iterator))  # Output: 1\n",
        "print(next(my_iterator))  # Output: 2\n",
        "print(next(my_iterator))  # Output: 3\n",
        "print(next(my_iterator))  # Output: 4\n",
        "# print(next(my_iterator))  # Raises StopIteration\n"
      ]
    },
    {
      "cell_type": "markdown",
      "metadata": {},
      "source": [
        "#### Generators\n",
        "A generator is a special type of iterator that is defined using a function and the yield keyword. Generators provide a convenient way to implement iterators. They are memory-efficient because they generate items one at a time and only when needed.\n",
        "\n",
        "**Characteristics:**\n",
        "\n",
        "- A generator function contains one or more yield statements.\n",
        "- When called, it returns a generator object, which can be iterated over.\n",
        "- Each time the yield statement is executed, the generator yields a value and saves its state for resumption later."
      ]
    },
    {
      "cell_type": "code",
      "execution_count": 11,
      "metadata": {},
      "outputs": [
        {
          "name": "stdout",
          "output_type": "stream",
          "text": [
            "1\n",
            "2\n",
            "3\n",
            "1\n",
            "2\n",
            "3\n"
          ]
        }
      ],
      "source": [
        "# Generator function\n",
        "def my_generator():\n",
        "    yield 1\n",
        "    yield 2\n",
        "    yield 3\n",
        "\n",
        "# Using the generator\n",
        "gen = my_generator()\n",
        "print(next(gen))  # Output: 1\n",
        "print(next(gen))  # Output: 2\n",
        "print(next(gen))  # Output: 3\n",
        "# print(next(gen))  # Raises StopIteration\n",
        "\n",
        "# Using a generator in a loop\n",
        "for value in my_generator():\n",
        "    print(value)\n"
      ]
    },
    {
      "cell_type": "markdown",
      "metadata": {},
      "source": [
        "#### Advantages of Generators:\n",
        "\n",
        "- Memory Efficiency: Generators do not store the entire sequence in memory; they generate each value on the fly.\n",
        "- Infinite Sequences: Generators can represent infinite sequences, such as an infinite series of numbers.\n",
        "\n",
        "#### Summary\n",
        "- Iterables: Objects that can be looped over (e.g., lists, strings). Implement the __iter__() method.\n",
        "- Iterators: Objects that represent a stream of data and return elements one at a time. Implement the __iter__() and __next__() methods.\n",
        "- Generators: A concise way to create iterators using functions and the yield keyword. They are memory-efficient and can handle infinite sequences."
      ]
    },
    {
      "cell_type": "code",
      "execution_count": null,
      "metadata": {},
      "outputs": [],
      "source": []
    },
    {
      "cell_type": "code",
      "execution_count": null,
      "metadata": {},
      "outputs": [],
      "source": []
    },
    {
      "cell_type": "markdown",
      "metadata": {
        "id": "K4gI5laW-avR"
      },
      "source": [
        "#### What is the difference between xrange and range in Python\n"
      ]
    },
    {
      "cell_type": "markdown",
      "metadata": {},
      "source": [
        "**range** and **xrange** are used to generate sequences of numbers. However, **xrange** was only available in Python 2, while **range** exists in both Python 2 and Python 3"
      ]
    },
    {
      "cell_type": "code",
      "execution_count": 12,
      "metadata": {},
      "outputs": [
        {
          "name": "stdout",
          "output_type": "stream",
          "text": [
            "range(1, 10)\n"
          ]
        },
        {
          "ename": "NameError",
          "evalue": "name 'xrange' is not defined",
          "output_type": "error",
          "traceback": [
            "\u001b[1;31m---------------------------------------------------------------------------\u001b[0m",
            "\u001b[1;31mNameError\u001b[0m                                 Traceback (most recent call last)",
            "Cell \u001b[1;32mIn[12], line 6\u001b[0m\n\u001b[0;32m      3\u001b[0m \u001b[38;5;28mprint\u001b[39m(numbers)  \u001b[38;5;66;03m# Output: [1, 2, 3, 4, 5, 6, 7, 8, 9]\u001b[39;00m\n\u001b[0;32m      5\u001b[0m \u001b[38;5;66;03m# Python 2 xrange\u001b[39;00m\n\u001b[1;32m----> 6\u001b[0m numbers \u001b[38;5;241m=\u001b[39m \u001b[43mxrange\u001b[49m(\u001b[38;5;241m1\u001b[39m, \u001b[38;5;241m10\u001b[39m)\n\u001b[0;32m      7\u001b[0m \u001b[38;5;28mprint\u001b[39m(numbers)  \u001b[38;5;66;03m# Output: xrange(1, 10)\u001b[39;00m\n",
            "\u001b[1;31mNameError\u001b[0m: name 'xrange' is not defined"
          ]
        }
      ],
      "source": [
        "# Python 2 range\n",
        "numbers = range(1, 10)\n",
        "print(numbers)  # Output: [1, 2, 3, 4, 5, 6, 7, 8, 9]\n",
        "\n",
        "# Python 2 xrange\n",
        "numbers = xrange(1, 10)\n",
        "print(numbers)  # Output: xrange(1, 10)\n"
      ]
    },
    {
      "cell_type": "code",
      "execution_count": 13,
      "metadata": {},
      "outputs": [
        {
          "name": "stdout",
          "output_type": "stream",
          "text": [
            "range(1, 10)\n",
            "1\n",
            "2\n",
            "3\n",
            "4\n",
            "5\n",
            "6\n",
            "7\n",
            "8\n",
            "9\n"
          ]
        }
      ],
      "source": [
        "# Python 3 range\n",
        "numbers = range(1, 10)\n",
        "print(numbers)  # Output: range(1, 10)\n",
        "for num in numbers:\n",
        "    print(num)  # Output: 1 2 3 4 5 6 7 8 9\n"
      ]
    },
    {
      "cell_type": "markdown",
      "metadata": {
        "id": "U1JPgzHM-axs"
      },
      "source": [
        "#### Pillars of Oops.\n"
      ]
    },
    {
      "cell_type": "markdown",
      "metadata": {},
      "source": [
        "Object-Oriented Programming (OOP) is a programming paradigm centered around the concept of objects, which can contain data and code to manipulate that data. The four fundamental pillars of OOP are:\n",
        "\n",
        "- Encapsulation\n",
        "- Abstraction\n",
        "- Inheritance\n",
        "- Polymorphism\n",
        "\n",
        "1. Encapsulation\n",
        "\n",
        "Encapsulation is the technique of bundling the data (attributes) and the methods (functions) that operate on the data into a single unit or class. It restricts direct access to some of the object's components, which can prevent the accidental modification of data.\n",
        "\n",
        "- Purpose: To hide the internal state of the object from the outside world and only expose a controlled interface.\n",
        "- Example: In Python, encapsulation can be implemented using private and public members."
      ]
    },
    {
      "cell_type": "code",
      "execution_count": 14,
      "metadata": {},
      "outputs": [
        {
          "name": "stdout",
          "output_type": "stream",
          "text": [
            "10\n",
            "20\n"
          ]
        }
      ],
      "source": [
        "class EncapsulatedObject:\n",
        "    def __init__(self, value):\n",
        "        self.__private_value = value  # Private attribute\n",
        "\n",
        "    def get_value(self):\n",
        "        return self.__private_value  # Public method\n",
        "\n",
        "    def set_value(self, value):\n",
        "        self.__private_value = value  # Public method\n",
        "\n",
        "obj = EncapsulatedObject(10)\n",
        "print(obj.get_value())  # Output: 10\n",
        "obj.set_value(20)\n",
        "print(obj.get_value())  # Output: 20\n"
      ]
    },
    {
      "cell_type": "markdown",
      "metadata": {},
      "source": [
        "2. Abstraction\n",
        "Abstraction is the process of hiding the complex implementation details and showing only the essential features of the object. It helps in reducing programming complexity and effort.\n",
        "\n",
        "- Purpose: To provide a clear and simple interface for complex systems and to reduce complexity by hiding unnecessary details.\n",
        "- Example: Using abstract classes and methods in Python (through the abc module)."
      ]
    },
    {
      "cell_type": "code",
      "execution_count": 15,
      "metadata": {},
      "outputs": [
        {
          "name": "stdout",
          "output_type": "stream",
          "text": [
            "Implementation of abstract method\n"
          ]
        }
      ],
      "source": [
        "from abc import ABC, abstractmethod\n",
        "\n",
        "class AbstractClass(ABC):\n",
        "    @abstractmethod\n",
        "    def abstract_method(self):\n",
        "        pass\n",
        "\n",
        "class ConcreteClass(AbstractClass):\n",
        "    def abstract_method(self):\n",
        "        return \"Implementation of abstract method\"\n",
        "\n",
        "obj = ConcreteClass()\n",
        "print(obj.abstract_method())  # Output: Implementation of abstract method\n"
      ]
    },
    {
      "cell_type": "markdown",
      "metadata": {},
      "source": [
        "3. Inheritance\n",
        "Inheritance is a mechanism by which one class (child or derived class) inherits attributes and methods from another class (parent or base class). It promotes code reusability and establishes a relationship between different classes.\n",
        "\n",
        "- Purpose: To enable new objects to take on the properties of existing objects, allowing for hierarchical classification.\n",
        "- Example: In Python, inheritance is implemented by defining a class that derives from another class."
      ]
    },
    {
      "cell_type": "code",
      "execution_count": 16,
      "metadata": {},
      "outputs": [
        {
          "name": "stdout",
          "output_type": "stream",
          "text": [
            "Value: 10\n",
            "Extra Value: 20\n"
          ]
        }
      ],
      "source": [
        "class ParentClass:\n",
        "    def __init__(self, value):\n",
        "        self.value = value\n",
        "\n",
        "    def display(self):\n",
        "        print(f\"Value: {self.value}\")\n",
        "\n",
        "class ChildClass(ParentClass):\n",
        "    def __init__(self, value, extra_value):\n",
        "        super().__init__(value)\n",
        "        self.extra_value = extra_value\n",
        "\n",
        "    def display_extra(self):\n",
        "        print(f\"Extra Value: {self.extra_value}\")\n",
        "\n",
        "child = ChildClass(10, 20)\n",
        "child.display()         # Output: Value: 10\n",
        "child.display_extra()   # Output: Extra Value: 20\n"
      ]
    },
    {
      "cell_type": "markdown",
      "metadata": {},
      "source": [
        "4. Polymorphism\n",
        "Polymorphism means \"many shapes\" and refers to the ability of different objects to respond to the same function or method call in different ways. It allows methods to do different things based on the object it is acting upon, even if they share the same name.\n",
        "\n",
        "- Purpose: To allow one interface to be used for a general class of actions, promoting flexibility and integration.\n",
        "- Example: In Python, polymorphism can be achieved through method overriding and method overloading."
      ]
    },
    {
      "cell_type": "code",
      "execution_count": 17,
      "metadata": {},
      "outputs": [
        {
          "name": "stdout",
          "output_type": "stream",
          "text": [
            "Woof\n",
            "Meow\n"
          ]
        }
      ],
      "source": [
        "class Animal:\n",
        "    def make_sound(self):\n",
        "        raise NotImplementedError(\"Subclass must implement abstract method\")\n",
        "\n",
        "class Dog(Animal):\n",
        "    def make_sound(self):\n",
        "        return \"Woof\"\n",
        "\n",
        "class Cat(Animal):\n",
        "    def make_sound(self):\n",
        "        return \"Meow\"\n",
        "\n",
        "def animal_sound(animal):\n",
        "    print(animal.make_sound())\n",
        "\n",
        "dog = Dog()\n",
        "cat = Cat()\n",
        "animal_sound(dog)  # Output: Woof\n",
        "animal_sound(cat)  # Output: Meow\n"
      ]
    },
    {
      "cell_type": "markdown",
      "metadata": {
        "id": "7wlUD2DP-a0P"
      },
      "source": [
        "#### How will you check if a class is a child of another class\n"
      ]
    },
    {
      "cell_type": "markdown",
      "metadata": {},
      "source": [
        " you can check if a class is a child (subclass) of another class using the built-in issubclass() function. This function returns True if the first argument is a subclass of the second argument, and False otherwise.\n",
        "\n",
        " **issubclass(subclass, superclass)**\n",
        "\n",
        "- subclass: The class you want to check if it is a subclass.\n",
        "- superclass: The class you want to check against."
      ]
    },
    {
      "cell_type": "code",
      "execution_count": 18,
      "metadata": {},
      "outputs": [
        {
          "name": "stdout",
          "output_type": "stream",
          "text": [
            "True\n",
            "False\n",
            "False\n"
          ]
        }
      ],
      "source": [
        "class Parent:\n",
        "    pass\n",
        "\n",
        "class Child(Parent):\n",
        "    pass\n",
        "\n",
        "class Unrelated:\n",
        "    pass\n",
        "\n",
        "# Check if Child is a subclass of Parent\n",
        "print(issubclass(Child, Parent))  # Output: True\n",
        "\n",
        "# Check if Parent is a subclass of Child\n",
        "print(issubclass(Parent, Child))  # Output: False\n",
        "\n",
        "# Check if Unrelated is a subclass of Parent\n",
        "print(issubclass(Unrelated, Parent))  # Output: False\n"
      ]
    },
    {
      "cell_type": "markdown",
      "metadata": {},
      "source": [
        "#### Checking an Instance\n",
        "If you want to check if an instance is of a particular class or a subclass of it, you can use the isinstance() function. This function returns True if the object is an instance of the class or any subclass thereof."
      ]
    },
    {
      "cell_type": "code",
      "execution_count": 19,
      "metadata": {},
      "outputs": [
        {
          "name": "stdout",
          "output_type": "stream",
          "text": [
            "True\n",
            "True\n",
            "False\n"
          ]
        }
      ],
      "source": [
        "child_instance = Child()\n",
        "parent_instance = Parent()\n",
        "unrelated_instance = Unrelated()\n",
        "\n",
        "# Check if child_instance is an instance of Child or any of its superclasses\n",
        "print(isinstance(child_instance, Child))    # Output: True\n",
        "print(isinstance(child_instance, Parent))   # Output: True\n",
        "print(isinstance(child_instance, Unrelated)) # Output: False\n"
      ]
    },
    {
      "cell_type": "code",
      "execution_count": null,
      "metadata": {},
      "outputs": [],
      "source": []
    },
    {
      "cell_type": "markdown",
      "metadata": {
        "id": "7EfhmTUi-a4Q"
      },
      "source": [
        "#### How does inheritance work in python?"
      ]
    },
    {
      "cell_type": "markdown",
      "metadata": {},
      "source": [
        "Inheritance in Python is a fundamental feature of object-oriented programming (OOP) that allows one class (the child or derived class) to inherit attributes and methods from another class (the parent or base class). This promotes code reuse and establishes a natural hierarchy between classes. Here’s a detailed explanation of how inheritance works in Python:\n",
        "\n",
        "**Basic Concepts**\n",
        "- Parent Class (Base Class, Superclass): The class whose properties and methods are inherited by another class.\n",
        "- Child Class (Derived Class, Subclass): The class that inherits properties and methods from the parent class.\n",
        "\n",
        "**Syntax**\n",
        "\n",
        "To create a subclass, you define a new class and specify the parent class in parentheses after the subclass name:"
      ]
    },
    {
      "cell_type": "code",
      "execution_count": 20,
      "metadata": {},
      "outputs": [],
      "source": [
        "class ParentClass:\n",
        "    def __init__(self, parent_attribute):\n",
        "        self.parent_attribute = parent_attribute\n",
        "\n",
        "    def parent_method(self):\n",
        "        print(f\"Parent attribute: {self.parent_attribute}\")\n",
        "\n",
        "class ChildClass(ParentClass):\n",
        "    def __init__(self, parent_attribute, child_attribute):\n",
        "        # Call the parent class's constructor\n",
        "        super().__init__(parent_attribute)\n",
        "        self.child_attribute = child_attribute\n",
        "\n",
        "    def child_method(self):\n",
        "        print(f\"Child attribute: {self.child_attribute}\")\n"
      ]
    },
    {
      "cell_type": "code",
      "execution_count": 21,
      "metadata": {},
      "outputs": [
        {
          "name": "stdout",
          "output_type": "stream",
          "text": [
            "Buddy, the Golden Retriever, says Woof!\n"
          ]
        }
      ],
      "source": [
        "# Define the parent class\n",
        "class Animal:\n",
        "    def __init__(self, name):\n",
        "        self.name = name\n",
        "\n",
        "    def speak(self):\n",
        "        print(f\"{self.name} makes a sound\")\n",
        "\n",
        "# Define the child class\n",
        "class Dog(Animal):\n",
        "    def __init__(self, name, breed):\n",
        "        # Call the parent class's constructor\n",
        "        super().__init__(name)\n",
        "        self.breed = breed\n",
        "\n",
        "    def speak(self):\n",
        "        print(f\"{self.name}, the {self.breed}, says Woof!\")\n",
        "\n",
        "# Create an instance of the child class\n",
        "dog = Dog(\"Buddy\", \"Golden Retriever\")\n",
        "dog.speak()  # Output: Buddy, the Golden Retriever, says Woof!\n"
      ]
    },
    {
      "cell_type": "markdown",
      "metadata": {},
      "source": [
        "#### Key Points\n",
        "\n",
        "**Method Overriding:**\n",
        "\n",
        "Child classes can override methods defined in the parent class. In the example above, the speak method is overridden in the Dog class.\n",
        "\n",
        "**Calling Parent Methods:**\n",
        "\n",
        "You can call methods of the parent class using the super() function. This is often used in the constructor to initialize the parent class.\n",
        "\n"
      ]
    },
    {
      "cell_type": "code",
      "execution_count": 22,
      "metadata": {},
      "outputs": [],
      "source": [
        "class ChildClass(ParentClass):\n",
        "    def __init__(self, parent_attribute, child_attribute):\n",
        "        super().__init__(parent_attribute)  # Initialize parent class\n",
        "        self.child_attribute = child_attribute"
      ]
    },
    {
      "cell_type": "markdown",
      "metadata": {},
      "source": [
        "**Multiple Inheritance:**\n",
        "Python supports multiple inheritance, where a class can inherit from multiple parent classes. This is specified by listing the parent classes in parentheses, separated by commas."
      ]
    },
    {
      "cell_type": "code",
      "execution_count": 23,
      "metadata": {},
      "outputs": [],
      "source": [
        "class Parent1:\n",
        "    pass\n",
        "\n",
        "class Parent2:\n",
        "    pass\n",
        "\n",
        "class Child(Parent1, Parent2):\n",
        "    pass\n"
      ]
    },
    {
      "cell_type": "markdown",
      "metadata": {},
      "source": [
        "\n",
        "**Method Resolution Order (MRO):**\n",
        "When a method is called on an object, Python follows a specific order to determine which method to invoke. This order is called the Method Resolution Order (MRO). It can be inspected using the __mro__ attribute or the mro() method."
      ]
    },
    {
      "cell_type": "code",
      "execution_count": null,
      "metadata": {},
      "outputs": [],
      "source": [
        "print(Child.__mro__)  # Output: (<class '__main__.Child'>, <class '__main__.Parent1'>, <class '__main__.Parent2'>, <class 'object'>)\n"
      ]
    },
    {
      "cell_type": "markdown",
      "metadata": {},
      "source": [
        "**Inheritance of Attributes and Methods:**\n",
        "All public and protected attributes and methods of the parent class are inherited by the child class. Private attributes and methods (those with a name starting with a double underscore __) are not inherited."
      ]
    },
    {
      "cell_type": "code",
      "execution_count": 24,
      "metadata": {},
      "outputs": [
        {
          "name": "stdout",
          "output_type": "stream",
          "text": [
            "Donald says Quack!\n",
            "Flying\n",
            "Swimming\n"
          ]
        }
      ],
      "source": [
        "class Flyable:\n",
        "    def fly(self):\n",
        "        print(\"Flying\")\n",
        "\n",
        "class Swimmable:\n",
        "    def swim(self):\n",
        "        print(\"Swimming\")\n",
        "\n",
        "class Duck(Animal, Flyable, Swimmable):\n",
        "    def speak(self):\n",
        "        print(f\"{self.name} says Quack!\")\n",
        "\n",
        "duck = Duck(\"Donald\")\n",
        "duck.speak()  # Output: Donald says Quack!\n",
        "duck.fly()    # Output: Flying\n",
        "duck.swim()   # Output: Swimming\n"
      ]
    },
    {
      "cell_type": "markdown",
      "metadata": {
        "id": "en9Ww292-a7N"
      },
      "source": [
        "#### Explain all types of inheritance with an example\n"
      ]
    },
    {
      "cell_type": "markdown",
      "metadata": {},
      "source": [
        "There are several types of inheritance that define how classes derive from one another. The main types of inheritance are:\n",
        "\n",
        "- Single Inheritance\n",
        "- Multiple Inheritance\n",
        "- Multilevel Inheritance\n",
        "- Hierarchical Inheritance\n",
        "- Hybrid Inheritance\n",
        "\n",
        "\n",
        "1. Single Inheritance\n",
        "\n",
        "Single inheritance is when a class (child class) inherits from a single parent class."
      ]
    },
    {
      "cell_type": "code",
      "execution_count": 27,
      "metadata": {},
      "outputs": [
        {
          "name": "stdout",
          "output_type": "stream",
          "text": [
            "Parent initialized with Parent Attribute\n",
            "Child initialized with Child Attribute\n"
          ]
        }
      ],
      "source": [
        "class Parent:\n",
        "    def __init__(self, parent_attribute):\n",
        "        self.parent_attribute = parent_attribute\n",
        "        print(f\"Parent initialized with {self.parent_attribute}\")\n",
        "\n",
        "class Child(Parent):\n",
        "    def __init__(self, parent_attribute, child_attribute):\n",
        "        # Call the parent class's constructor\n",
        "        super().__init__(parent_attribute)\n",
        "        self.child_attribute = child_attribute\n",
        "        print(f\"Child initialized with {self.child_attribute}\")\n",
        "\n",
        "# Creating an instance of Child\n",
        "child_instance = Child(\"Parent Attribute\", \"Child Attribute\")\n",
        "# Output:\n",
        "# Parent initialized with Parent Attribute\n",
        "# Child initialized with Child Attribute\n"
      ]
    },
    {
      "cell_type": "markdown",
      "metadata": {},
      "source": [
        "**2. Multiple Inheritance**\n",
        "Multiple inheritance is when a class inherits from more than one parent class.When calling super(), Python follows the method resolution order (MRO) to determine which constructor to call."
      ]
    },
    {
      "cell_type": "code",
      "execution_count": 26,
      "metadata": {},
      "outputs": [
        {
          "name": "stdout",
          "output_type": "stream",
          "text": [
            "Parent1 initialized with Attr1\n",
            "Parent2 initialized with Attr2\n",
            "Child initialized with Child Attribute\n"
          ]
        }
      ],
      "source": [
        "class Parent1:\n",
        "    def __init__(self, attr1):\n",
        "        self.attr1 = attr1\n",
        "        print(f\"Parent1 initialized with {self.attr1}\")\n",
        "\n",
        "class Parent2:\n",
        "    def __init__(self, attr2):\n",
        "        self.attr2 = attr2\n",
        "        print(f\"Parent2 initialized with {self.attr2}\")\n",
        "\n",
        "class Child(Parent1, Parent2):\n",
        "    def __init__(self, attr1, attr2, child_attr):\n",
        "        # Call both parent constructors\n",
        "        Parent1.__init__(self, attr1)\n",
        "        Parent2.__init__(self, attr2)\n",
        "        self.child_attr = child_attr\n",
        "        print(f\"Child initialized with {self.child_attr}\")\n",
        "\n",
        "# Creating an instance of Child\n",
        "child_instance = Child(\"Attr1\", \"Attr2\", \"Child Attribute\")\n",
        "# Output:\n",
        "# Parent1 initialized with Attr1\n",
        "# Parent2 initialized with Attr2\n",
        "# Child initialized with Child Attribute\n"
      ]
    },
    {
      "cell_type": "markdown",
      "metadata": {},
      "source": [
        "Alternatively, using super() in multiple inheritance can be more complex and requires understanding the MRO"
      ]
    },
    {
      "cell_type": "code",
      "execution_count": 28,
      "metadata": {},
      "outputs": [
        {
          "name": "stdout",
          "output_type": "stream",
          "text": [
            "Parent1 initialized with Attr1\n",
            "Child initialized with Child Attribute\n"
          ]
        }
      ],
      "source": [
        "class Parent1:\n",
        "    def __init__(self, attr1):\n",
        "        self.attr1 = attr1\n",
        "        print(f\"Parent1 initialized with {self.attr1}\")\n",
        "\n",
        "class Parent2:\n",
        "    def __init__(self, attr2):\n",
        "        self.attr2 = attr2\n",
        "        print(f\"Parent2 initialized with {self.attr2}\")\n",
        "\n",
        "class Child(Parent1, Parent2):\n",
        "    def __init__(self, attr1, attr2, child_attr):\n",
        "        super().__init__(attr1)\n",
        "        self.attr2 = attr2\n",
        "        self.child_attr = child_attr\n",
        "        print(f\"Child initialized with {self.child_attr}\")\n",
        "\n",
        "# Creating an instance of Child\n",
        "child_instance = Child(\"Attr1\", \"Attr2\", \"Child Attribute\")\n",
        "# Output:\n",
        "# Parent1 initialized with Attr1\n",
        "# Child initialized with Child Attribute"
      ]
    },
    {
      "cell_type": "markdown",
      "metadata": {},
      "source": [
        "\n",
        "**3. Multilevel Inheritance**\n",
        "\n",
        "In multilevel inheritance, a class inherits from another class, which in turn inherits from another class. Each class can call its parent class's constructor."
      ]
    },
    {
      "cell_type": "code",
      "execution_count": 29,
      "metadata": {},
      "outputs": [
        {
          "name": "stdout",
          "output_type": "stream",
          "text": [
            "Grandparent initialized with Grandparent Attribute\n",
            "Parent initialized with Parent Attribute\n",
            "Child initialized with Child Attribute\n"
          ]
        }
      ],
      "source": [
        "class Grandparent:\n",
        "    def __init__(self, grandparent_attr):\n",
        "        self.grandparent_attr = grandparent_attr\n",
        "        print(f\"Grandparent initialized with {self.grandparent_attr}\")\n",
        "\n",
        "class Parent(Grandparent):\n",
        "    def __init__(self, grandparent_attr, parent_attr):\n",
        "        super().__init__(grandparent_attr)\n",
        "        self.parent_attr = parent_attr\n",
        "        print(f\"Parent initialized with {self.parent_attr}\")\n",
        "\n",
        "class Child(Parent):\n",
        "    def __init__(self, grandparent_attr, parent_attr, child_attr):\n",
        "        super().__init__(grandparent_attr, parent_attr)\n",
        "        self.child_attr = child_attr\n",
        "        print(f\"Child initialized with {self.child_attr}\")\n",
        "\n",
        "# Creating an instance of Child\n",
        "child_instance = Child(\"Grandparent Attribute\", \"Parent Attribute\", \"Child Attribute\")\n",
        "# Output:\n",
        "# Grandparent initialized with Grandparent Attribute\n",
        "# Parent initialized with Parent Attribute\n",
        "# Child initialized with Child Attribute\n"
      ]
    },
    {
      "cell_type": "markdown",
      "metadata": {},
      "source": [
        "**4. Hierarchical Inheritance**\n",
        "\n",
        "In hierarchical inheritance, multiple classes inherit from a single parent class. Each child class can call the parent class's constructor."
      ]
    },
    {
      "cell_type": "code",
      "execution_count": 30,
      "metadata": {},
      "outputs": [
        {
          "name": "stdout",
          "output_type": "stream",
          "text": [
            "Parent initialized with Parent Attribute\n",
            "Child1 initialized with Child1 Attribute\n",
            "Parent initialized with Parent Attribute\n",
            "Child2 initialized with Child2 Attribute\n"
          ]
        }
      ],
      "source": [
        "class Parent:\n",
        "    def __init__(self, parent_attr):\n",
        "        self.parent_attr = parent_attr\n",
        "        print(f\"Parent initialized with {self.parent_attr}\")\n",
        "\n",
        "class Child1(Parent):\n",
        "    def __init__(self, parent_attr, child1_attr):\n",
        "        super().__init__(parent_attr)\n",
        "        self.child1_attr = child1_attr\n",
        "        print(f\"Child1 initialized with {self.child1_attr}\")\n",
        "\n",
        "class Child2(Parent):\n",
        "    def __init__(self, parent_attr, child2_attr):\n",
        "        super().__init__(parent_attr)\n",
        "        self.child2_attr = child2_attr\n",
        "        print(f\"Child2 initialized with {self.child2_attr}\")\n",
        "\n",
        "# Creating instances of Child1 and Child2\n",
        "child1_instance = Child1(\"Parent Attribute\", \"Child1 Attribute\")\n",
        "# Output:\n",
        "# Parent initialized with Parent Attribute\n",
        "# Child1 initialized with Child1 Attribute\n",
        "\n",
        "child2_instance = Child2(\"Parent Attribute\", \"Child2 Attribute\")\n",
        "# Output:\n",
        "# Parent initialized with Parent Attribute\n",
        "# Child2 initialized with Child2 Attribute\n"
      ]
    },
    {
      "cell_type": "markdown",
      "metadata": {},
      "source": [
        "**5. Hybrid Inheritance**\n",
        "Hybrid inheritance is a combination of two or more types of inheritance. Here’s an example combining multiple and hierarchical inheritance."
      ]
    },
    {
      "cell_type": "code",
      "execution_count": 33,
      "metadata": {},
      "outputs": [
        {
          "name": "stdout",
          "output_type": "stream",
          "text": [
            "Grandparent initialized with Grandparent Attribute\n",
            "Parent1 initialized with Parent1 Attribute\n",
            "Parent2 initialized with Parent2 Attribute\n",
            "Child initialized with Child Attribute\n"
          ]
        }
      ],
      "source": [
        "class Grandparent:\n",
        "    def __init__(self, grandparent_attr):\n",
        "        self.grandparent_attr = grandparent_attr\n",
        "        print(f\"Grandparent initialized with {self.grandparent_attr}\")\n",
        "\n",
        "class Parent1(Grandparent):\n",
        "    def __init__(self, grandparent_attr, parent1_attr):\n",
        "        super().__init__(grandparent_attr)\n",
        "        self.parent1_attr = parent1_attr\n",
        "        print(f\"Parent1 initialized with {self.parent1_attr}\")\n",
        "\n",
        "class Parent2:\n",
        "    def __init__(self, parent2_attr):\n",
        "        self.parent2_attr = parent2_attr\n",
        "        print(f\"Parent2 initialized with {self.parent2_attr}\")\n",
        "\n",
        "class Child(Parent1, Parent2):\n",
        "    def __init__(self, grandparent_attr, parent1_attr, parent2_attr, child_attr):\n",
        "        Parent1.__init__(self, grandparent_attr, parent1_attr)\n",
        "        Parent2.__init__(self, parent2_attr)\n",
        "        self.child_attr = child_attr\n",
        "        print(f\"Child initialized with {self.child_attr}\")\n",
        "\n",
        "# Creating an instance of Child\n",
        "child_instance = Child(\"Grandparent Attribute\", \"Parent1 Attribute\", \"Parent2 Attribute\", \"Child Attribute\")\n",
        "# Output:\n",
        "# Grandparent initialized with Grandparent Attribute\n",
        "# Parent1 initialized with Parent1 Attribute\n",
        "# Parent2 initialized with Parent2 Attribute\n",
        "# Child initialized with Child Attribute\n",
        "\n"
      ]
    },
    {
      "cell_type": "markdown",
      "metadata": {
        "id": "KainC9l0-a9p"
      },
      "source": [
        "#### What is encapsulation? Explain it with an example\n"
      ]
    },
    {
      "cell_type": "markdown",
      "metadata": {},
      "source": [
        "Encapsulation is one of the fundamental principles of object-oriented programming (OOP) that binds together the data (attributes) and functions (methods) that manipulate the data, and keeps them safe from outside interference and misuse. It restricts direct access to some of an object's components, usually by making them private (accessible only within the same class). Instead, access is typically provided through public methods (setter and getter methods)"
      ]
    },
    {
      "cell_type": "code",
      "execution_count": 34,
      "metadata": {},
      "outputs": [
        {
          "name": "stdout",
          "output_type": "stream",
          "text": [
            "Car: Toyota Camry 2020\n",
            "Odometer reading: 1000 miles\n",
            "Updated odometer reading: 1500 miles\n"
          ]
        }
      ],
      "source": [
        "class Car:\n",
        "    def __init__(self, make, model, year):\n",
        "        self.__make = make        # Private attribute\n",
        "        self.__model = model      # Private attribute\n",
        "        self.__year = year        # Private attribute\n",
        "        self.__odometer = 0       # Private attribute, initialized to 0\n",
        "\n",
        "    # Getter methods (accessors)\n",
        "    def get_make(self):\n",
        "        return self.__make\n",
        "\n",
        "    def get_model(self):\n",
        "        return self.__model\n",
        "\n",
        "    def get_year(self):\n",
        "        return self.__year\n",
        "\n",
        "    def get_odometer(self):\n",
        "        return self.__odometer\n",
        "\n",
        "    # Setter method (mutator)\n",
        "    def update_odometer(self, mileage):\n",
        "        if mileage >= self.__odometer:\n",
        "            self.__odometer = mileage\n",
        "        else:\n",
        "            print(\"You can't roll back an odometer!\")\n",
        "\n",
        "    # Method to increase odometer reading\n",
        "    def increment_odometer(self, miles):\n",
        "        if miles > 0:\n",
        "            self.__odometer += miles\n",
        "        else:\n",
        "            print(\"Please enter a positive number.\")\n",
        "\n",
        "# Creating an instance of Car\n",
        "my_car = Car(\"Toyota\", \"Camry\", 2020)\n",
        "\n",
        "# Accessing attributes using getter methods\n",
        "print(f\"Car: {my_car.get_make()} {my_car.get_model()} {my_car.get_year()}\")\n",
        "\n",
        "# Updating odometer using setter method\n",
        "my_car.update_odometer(1000)\n",
        "print(f\"Odometer reading: {my_car.get_odometer()} miles\")\n",
        "\n",
        "# Incrementing odometer reading using method\n",
        "my_car.increment_odometer(500)\n",
        "print(f\"Updated odometer reading: {my_car.get_odometer()} miles\")\n"
      ]
    },
    {
      "cell_type": "markdown",
      "metadata": {
        "id": "27ktUH_g-bAF"
      },
      "source": [
        "#### What is polymorphism? Explain it with an example."
      ]
    },
    {
      "cell_type": "markdown",
      "metadata": {},
      "source": [
        "Polymorphism is a core concept in object-oriented programming (OOP) that allows objects of different classes to be treated as objects of a common superclass. It enables methods to be defined in various classes with the same name but with different implementations. The specific method that gets executed is determined by the object that invokes it."
      ]
    },
    {
      "cell_type": "code",
      "execution_count": 35,
      "metadata": {},
      "outputs": [
        {
          "name": "stdout",
          "output_type": "stream",
          "text": [
            "Woof!\n",
            "Meow!\n",
            "Quack!\n"
          ]
        }
      ],
      "source": [
        "class Animal:\n",
        "    def sound(self):\n",
        "        pass\n",
        "\n",
        "class Dog(Animal):\n",
        "    def sound(self):\n",
        "        return \"Woof!\"\n",
        "\n",
        "class Cat(Animal):\n",
        "    def sound(self):\n",
        "        return \"Meow!\"\n",
        "\n",
        "class Duck(Animal):\n",
        "    def sound(self):\n",
        "        return \"Quack!\"\n",
        "\n",
        "# Function to demonstrate polymorphism\n",
        "def make_sound(animal):\n",
        "    return animal.sound()\n",
        "\n",
        "# Creating instances of different classes\n",
        "dog = Dog()\n",
        "cat = Cat()\n",
        "duck = Duck()\n",
        "\n",
        "# Calling the function with different objects\n",
        "print(make_sound(dog))   # Output: Woof!\n",
        "print(make_sound(cat))   # Output: Meow!\n",
        "print(make_sound(duck))  # Output: Quack!\n"
      ]
    },
    {
      "cell_type": "code",
      "execution_count": null,
      "metadata": {},
      "outputs": [],
      "source": [
        "total-Marks"
      ]
    },
    {
      "cell_type": "markdown",
      "metadata": {
        "id": "Vukxo3ow_A7Z"
      },
      "source": [
        "## Question 1.2. Which of the following identifier names are invalid and why?\n",
        "- a) Serial_no. : invalid, . not allowed\n",
        "- b) 1st_Room: invalid, *identifire cannot start with a number*\n",
        "- c) Hundred$: invalid, *identifier ending with special symbol*\n",
        "- d) Total_Marks: valid, \n",
        "- e) total-Marks: invalid,  *- is a special symbol cannot be included*\n",
        "- f) Total Marks: invalid, *a space is not allowed*\n",
        "- g) True: invalid, *True is a reserved keyword name cannot be used *\n",
        "- h) _Percentage: valid"
      ]
    },
    {
      "cell_type": "markdown",
      "metadata": {},
      "source": [
        "## Question 1.3.\n",
        "\n",
        "name = [\"Mohan\", \"dash\", \"karam\", \"chandra\",\"gandhi\",\"Bapu\"]\n",
        "\n",
        "do the following operations in this list;\n",
        "\n",
        "a) add an element \"freedom_fighter\" in this list at the 0th index."
      ]
    },
    {
      "cell_type": "code",
      "execution_count": 36,
      "metadata": {},
      "outputs": [
        {
          "name": "stdout",
          "output_type": "stream",
          "text": [
            "['freedom_fighter', 'Mohan', 'dash', 'karam', 'chandra', 'gandhi', 'Bapu']\n"
          ]
        }
      ],
      "source": [
        "name = [\"Mohan\", \"dash\", \"karam\", \"chandra\", \"gandhi\", \"Bapu\"]\n",
        "\n",
        "# Inserting \"freedom_fighter\" at the 0th index\n",
        "name.insert(0, \"freedom_fighter\")\n",
        "\n",
        "print(name)\n"
      ]
    },
    {
      "cell_type": "markdown",
      "metadata": {},
      "source": [
        "b) find the output of the following ,and explain how?"
      ]
    },
    {
      "cell_type": "code",
      "execution_count": 37,
      "metadata": {},
      "outputs": [
        {
          "name": "stdout",
          "output_type": "stream",
          "text": [
            "6\n"
          ]
        }
      ],
      "source": [
        "name = [\"freedomFighter\",\"Bapuji\",\"MOhan\" \"dash\", \"karam\",\"chandra\",\"gandhi\"]\n",
        "length1=len((name[-len(name)+1:-1:2]))\n",
        "length2=len((name[-len(name)+1:-1]))\n",
        "print(length1+length2)"
      ]
    },
    {
      "cell_type": "markdown",
      "metadata": {},
      "source": [
        "**Slice length1:**\n",
        "\n",
        "- name[-len(name)+1:-1:2] selects elements starting from the second element (\"Bapuji\") up to the second last element (\"chandra\"), skipping every second element.\n",
        "- Selected elements: [\"Bapuji\", \"chandra\"]\n",
        "- len([\"Bapuji\", \"chandra\"]) calculates the length of this slice, which is 2.\n",
        "\n",
        "\n",
        "**Slice length2:**\n",
        "\n",
        "- name[-len(name)+1:-1] selects elements starting from the second element (\"Bapuji\") up to the second last element (\"chandra\").\n",
        "- Selected elements: [\"Bapuji\", \"MOhan\", \"dash\", \"karam\", \"chandra\"]\n",
        "- len([\"Bapuji\", \"MOhan\", \"dash\", \"karam\", \"chandra\"]) calculates the length of this slice, which is 5.\n",
        "\n",
        "\n",
        "Calculate the total length:\n",
        "\n",
        "length1 + length2 computes the sum of the lengths calculated in steps 1 and 2.\n",
        "2 + 5 equals 7."
      ]
    },
    {
      "cell_type": "markdown",
      "metadata": {
        "id": "6gvfp7F7_v0u"
      },
      "source": [
        "c) add two more elements in the name [\"NetaJi\",\"Bose\"] at the end of the list."
      ]
    },
    {
      "cell_type": "code",
      "execution_count": 38,
      "metadata": {},
      "outputs": [
        {
          "name": "stdout",
          "output_type": "stream",
          "text": [
            "['freedomFighter', 'Bapuji', 'MOhan', 'dash', 'karam', 'chandra', 'gandhi', 'NetaJi', 'Bose']\n"
          ]
        }
      ],
      "source": [
        "name = [\"freedomFighter\", \"Bapuji\", \"MOhan\", \"dash\", \"karam\", \"chandra\", \"gandhi\"]\n",
        "\n",
        "# Adding elements \"NetaJi\" and \"Bose\" at the end of the list\n",
        "name = name + [\"NetaJi\", \"Bose\"]\n",
        "\n",
        "print(name)"
      ]
    },
    {
      "cell_type": "markdown",
      "metadata": {},
      "source": [
        "d) what will be the value of temp:\n"
      ]
    },
    {
      "cell_type": "code",
      "execution_count": 39,
      "metadata": {
        "colab": {
          "base_uri": "https://localhost:8080/"
        },
        "id": "EnAtX64e_oMC",
        "outputId": "c0db2022-2a80-491f-9d43-a6665d5aa89f"
      },
      "outputs": [
        {
          "name": "stdout",
          "output_type": "stream",
          "text": [
            "['Mohan', 'dash', 'karam', 'chandra', 'gandi', 'Bapuji']\n",
            "Temp :  Mohan\n"
          ]
        }
      ],
      "source": [
        "name = [\"Bapuji\", \"dash\", \"karam\", \"chandra\",\"gandi\",\"Mohan\"]\n",
        "\n",
        "temp=name[-1]\n",
        "\n",
        "name[-1]=name[0]\n",
        "\n",
        "name[0]=temp\n",
        "\n",
        "print(name)\n",
        "print(\"Temp : \", temp)"
      ]
    },
    {
      "cell_type": "markdown",
      "metadata": {
        "id": "u5WDetWJAkpl"
      },
      "source": [
        "## Question 1.5."
      ]
    },
    {
      "cell_type": "code",
      "execution_count": 53,
      "metadata": {},
      "outputs": [],
      "source": [
        "tuple1 = (10, 20, \"Apple\", 3.4, 'a', [\"master\", \"ji\"], (\"sita\", \"geeta\", 22), [{\"roll_no\": 1}, {\"name\": \"Navneet\"}])\n"
      ]
    },
    {
      "cell_type": "markdown",
      "metadata": {},
      "source": [
        "a) Print the length of tuple1:\n",
        "To print the length of the tuple, you can use the len() function."
      ]
    },
    {
      "cell_type": "code",
      "execution_count": 54,
      "metadata": {},
      "outputs": [
        {
          "name": "stdout",
          "output_type": "stream",
          "text": [
            "8\n"
          ]
        }
      ],
      "source": [
        "print(len(tuple1)) \n"
      ]
    },
    {
      "cell_type": "code",
      "execution_count": 56,
      "metadata": {},
      "outputs": [
        {
          "name": "stdout",
          "output_type": "stream",
          "text": [
            "Navneet\n"
          ]
        }
      ],
      "source": [
        "print(tuple1[-1][-1][\"name\"])"
      ]
    },
    {
      "cell_type": "code",
      "execution_count": 57,
      "metadata": {},
      "outputs": [
        {
          "name": "stdout",
          "output_type": "stream",
          "text": [
            "1\n"
          ]
        }
      ],
      "source": [
        "print(tuple1[-1][0][\"roll_no\"])"
      ]
    },
    {
      "cell_type": "code",
      "execution_count": 58,
      "metadata": {},
      "outputs": [
        {
          "name": "stdout",
          "output_type": "stream",
          "text": [
            "ji\n"
          ]
        }
      ],
      "source": [
        "print(tuple1[-3][1])"
      ]
    },
    {
      "cell_type": "code",
      "execution_count": 59,
      "metadata": {},
      "outputs": [
        {
          "ename": "IndexError",
          "evalue": "list index out of range",
          "output_type": "error",
          "traceback": [
            "\u001b[1;31m---------------------------------------------------------------------------\u001b[0m",
            "\u001b[1;31mIndexError\u001b[0m                                Traceback (most recent call last)",
            "Cell \u001b[1;32mIn[59], line 1\u001b[0m\n\u001b[1;32m----> 1\u001b[0m \u001b[38;5;28mprint\u001b[39m(\u001b[43mtuple1\u001b[49m\u001b[43m[\u001b[49m\u001b[38;5;241;43m-\u001b[39;49m\u001b[38;5;241;43m3\u001b[39;49m\u001b[43m]\u001b[49m\u001b[43m[\u001b[49m\u001b[38;5;241;43m2\u001b[39;49m\u001b[43m]\u001b[49m)\n",
            "\u001b[1;31mIndexError\u001b[0m: list index out of range"
          ]
        }
      ],
      "source": [
        "print(tuple1[-3][2])"
      ]
    },
    {
      "cell_type": "code",
      "execution_count": null,
      "metadata": {
        "id": "efY8GLA-AkAu"
      },
      "outputs": [],
      "source": []
    },
    {
      "cell_type": "markdown",
      "metadata": {
        "id": "xk90d5wQBRDa"
      },
      "source": [
        "### 1.6. Write a program to display the appropriate message as per the color of signal(RED-Stop/Yellow-Stay/ Green-Go) at the road crossing.\n"
      ]
    },
    {
      "cell_type": "code",
      "execution_count": 1,
      "metadata": {},
      "outputs": [],
      "source": [
        "def traffic_signal(color):\n",
        "    if color.lower() == \"red\":\n",
        "        print(\"Stop!\")\n",
        "    elif color.lower() == \"yellow\":\n",
        "        print(\"Stay!\")\n",
        "    elif color.lower() == \"green\":\n",
        "        print(\"Go!\")\n",
        "    else:\n",
        "        print(\"Invalid color. Please enter Red, Yellow, or Green.\")\n",
        "\n"
      ]
    },
    {
      "cell_type": "code",
      "execution_count": null,
      "metadata": {},
      "outputs": [],
      "source": [
        "signal_color = str(input(\"Enter the color of the traffic signal: \"))\n",
        "traffic_signal(signal_color)"
      ]
    },
    {
      "cell_type": "markdown",
      "metadata": {
        "id": "6sjqcgKgBRGV"
      },
      "source": [
        "### 1.7. Write a program to create a simple calculator performing only four basic operations(+,-,/,*) .\n"
      ]
    },
    {
      "cell_type": "code",
      "execution_count": null,
      "metadata": {},
      "outputs": [],
      "source": [
        "# Function to perform addition\n",
        "def add(x, y):\n",
        "    return x + y\n",
        "\n",
        "# Function to perform subtraction\n",
        "def subtract(x, y):\n",
        "    return x - y\n",
        "\n",
        "# Function to perform multiplication\n",
        "def multiply(x, y):\n",
        "    return x * y\n",
        "\n",
        "# Function to perform division\n",
        "def divide(x, y):\n",
        "    if y != 0:\n",
        "        return x / y\n",
        "    else:\n",
        "        return \"Error: Division by zero\"\n",
        "\n",
        "# Main function to run the calculator\n",
        "def calculator():\n",
        "    print(\"Welcome to Simple Calculator!\")\n",
        "    print(\"Select operation:\")\n",
        "    print(\"1. Addition (+)\")\n",
        "    print(\"2. Subtraction (-)\")\n",
        "    print(\"3. Multiplication (*)\")\n",
        "    print(\"4. Division (/)\")\n",
        "\n",
        "    choice = input(\"Enter choice (1/2/3/4): \")\n",
        "\n",
        "    num1 = float(input(\"Enter first number: \"))\n",
        "    num2 = float(input(\"Enter second number: \"))\n",
        "\n",
        "    if choice == '1':\n",
        "        print(f\"{num1} + {num2} = {add(num1, num2)}\")\n",
        "    elif choice == '2':\n",
        "        print(f\"{num1} - {num2} = {subtract(num1, num2)}\")\n",
        "    elif choice == '3':\n",
        "        print(f\"{num1} * {num2} = {multiply(num1, num2)}\")\n",
        "    elif choice == '4':\n",
        "        print(f\"{num1} / {num2} = {divide(num1, num2)}\")\n",
        "    else:\n",
        "        print(\"Invalid input. Please select a valid operation.\")\n",
        "\n",
        "# Run the calculator\n",
        "calculator()"
      ]
    },
    {
      "cell_type": "markdown",
      "metadata": {
        "id": "VZTtMEP0BRJG"
      },
      "source": []
    },
    {
      "cell_type": "markdown",
      "metadata": {
        "id": "u0RN3Wo3BRLv"
      },
      "source": [
        "### 1.8. Write a program to find the larger of the three pre-specified numbers using ternary operators.\n"
      ]
    },
    {
      "cell_type": "code",
      "execution_count": 1,
      "metadata": {},
      "outputs": [
        {
          "name": "stdout",
          "output_type": "stream",
          "text": [
            "The largest number among 25, 15, and 30 is: 30\n"
          ]
        }
      ],
      "source": [
        "num1 = 25\n",
        "num2 = 15\n",
        "num3 = 30\n",
        "\n",
        "# Using conditional expression to find the largest number\n",
        "largest = num1 if (num1 >= num2 and num1 >= num3) else (num2 if (num2 >= num1 and num2 >= num3) else num3)\n",
        "\n",
        "# Print the largest number\n",
        "print(f\"The largest number among {num1}, {num2}, and {num3} is: {largest}\")"
      ]
    },
    {
      "cell_type": "markdown",
      "metadata": {
        "id": "SALJUSb3BROH"
      },
      "source": [
        "### 1.9. Write a program to find the factors of a whole number using a while loop.\n"
      ]
    },
    {
      "cell_type": "code",
      "execution_count": null,
      "metadata": {},
      "outputs": [],
      "source": [
        "def find_factors(number):\n",
        "    # Initialize variables\n",
        "    i = 1\n",
        "    factors = []\n",
        "\n",
        "    # Use a while loop to find factors\n",
        "    while i <= number:\n",
        "        if number % i == 0:\n",
        "            factors.append(i)\n",
        "        i += 1\n",
        "    \n",
        "    return factors\n",
        "\n",
        "# Example usage:\n",
        "num = int(input(\"Enter a whole number to find its factors: \"))\n",
        "if num < 1:\n",
        "    print(\"Please enter a positive whole number greater than zero.\")\n",
        "else:\n",
        "    factors = find_factors(num)\n",
        "    print(f\"The factors of {num} are: {factors}\")\n"
      ]
    },
    {
      "cell_type": "markdown",
      "metadata": {
        "id": "GaCswtjmBRQq"
      },
      "source": [
        "### 1.10. Write a program to find the sum of all the positive numbers entered by the user. As soon as the user enters a negative number, stop taking in any further input from the user and display the sum .\n"
      ]
    },
    {
      "cell_type": "code",
      "execution_count": 2,
      "metadata": {},
      "outputs": [],
      "source": [
        "def sum_positive_numbers():\n",
        "    sum_positives = 0\n",
        "    \n",
        "    while True:\n",
        "        num = float(input(\"Enter a number (enter a negative number to stop and calculate sum): \"))\n",
        "        \n",
        "        if num < 0:\n",
        "            break\n",
        "        \n",
        "        sum_positives += num\n",
        "    \n",
        "    return sum_positives\n",
        "\n",
        "# Calculate and display the sum of positive numbers entered by the user\n",
        "total_sum = sum_positive_numbers()\n",
        "print(f\"The sum of all positive numbers entered is: {total_sum}\")\n"
      ]
    },
    {
      "cell_type": "markdown",
      "metadata": {
        "id": "QiqGhIs1BRVk"
      },
      "source": [
        "### 1.11. Write a program to find prime numbers between 2 to 100 using nested for loops."
      ]
    },
    {
      "cell_type": "code",
      "execution_count": 1,
      "metadata": {},
      "outputs": [
        {
          "name": "stdout",
          "output_type": "stream",
          "text": [
            "Prime numbers between 2 and 100 are:\n",
            "[2, 3, 5, 7, 11, 13, 17, 19, 23, 29, 31, 37, 41, 43, 47, 53, 59, 61, 67, 71, 73, 79, 83, 89, 97]\n"
          ]
        }
      ],
      "source": [
        "# Initialize an empty list to store prime numbers\n",
        "prime_numbers = []\n",
        "\n",
        "# Iterate through numbers from 2 to 100 (inclusive)\n",
        "for num in range(2, 101):\n",
        "    is_prime = True\n",
        "    \n",
        "    # Check if the number is prime\n",
        "    for i in range(2, int(num ** 0.5) + 1):\n",
        "        if num % i == 0:\n",
        "            is_prime = False\n",
        "            break\n",
        "    \n",
        "    # If the number is prime, add it to the list\n",
        "    if is_prime:\n",
        "        prime_numbers.append(num)\n",
        "\n",
        "# Print the list of prime numbers between 2 and 100\n",
        "print(\"Prime numbers between 2 and 100 are:\")\n",
        "print(prime_numbers)\n"
      ]
    },
    {
      "cell_type": "markdown",
      "metadata": {
        "id": "mYQWaBioBRYG"
      },
      "source": [
        "### 1.12. Write the programs for the following\n",
        "- Accept the marks of the student in five major subjects and display the same\n",
        "- Calculate the sum of the marks of all subjects.Divide the total marks by number of subjects (i.e. 5), calculate\n",
        "Percentage = total marks/5 and display the Percentage\n",
        "- Find the grade of the student as per the following criteria . Hint: Use Match & case for this.:\n",
        "![image.png](data:image/png;base64,iVBORw0KGgoAAAANSUhEUgAABIMAAAGkCAYAAACimuXeAAAgAElEQVR4Xuydh7dcxZX1C4SEEhICCYSEBCLnnHM0YOHx2Gs8Hq81XjPzT81aM7NssOeb+bz8OZFMEGBsE03OkhBBCAESiiigCF/9Tvdujq76JUlPr9/Tbq1W9+u+t+rUrtu3du1z6tRh39RH8cMIGAEjYASMgBEwAkbACBgBI2AEjIARMAJG4JBA4DDEIPSgww47rAykCzWP0d+8+mEEjIARMAJGwAgYASNgBIyAETACRsAIGAEjMLIIDKTxoOGEGDRYM1XgYI/3cUbACBgBI2AEjIARMAJGwAgYASNgBIyAETACw4+A5J3BBO50IoMwixO//vrrMm7cuLAyq0mhHNUn3/PQ3xaIhr9DXYMRMAJGwAgYASNgBIyAETACRsAIGAEjYAQGg0DWcnifRSKt7AoxCIHn8MMPL7t27Qqx54gjjuiIQRKF+J6Tdu/eHd/pb4tBg+kKH2MEjIARMAJGwAgYASNgBIyAETACRsAIGIHhRaC5+EtBPxKB0HJCz1HOIJmTFSM+QxzSZ5zQFIcsBg1vR7p0I2AEjIARMAJGwAgYASNgBIyAETACRsAIDISA9Bu0GwX9SMPR0jFpOJ2cQTowq0ZSjpphRTJgMOvQBjLW3xsBI2AEjIARMAJGwAgYASNgBIyAETACRsAI7D8CzeTRnWVh7U3DOql/lEBaYhDLwPSlwoekJPE5BUllynmD9t9kl2AEjIARMAJGwAgYASNgBIyAETi4CDRzawy0U3LHq96eWA10/MFtjWszAkbgUEVA9ybpNXkVVw70ET57LRNTWBEnKi9QThzNiY4IOlQvL7fbCBgBI2AEjIARMAJGwAiMXQSaG+jk3BuaA2k+NHZRcMuMgBEYzQjke1WzHVkU2iOBtCKCsuDTFH+0ZMy7iY3my8O2GwEjYASMgBEwAkbACBgBI9AXAt2c382lF0bPCBgBIzBaEGjmeo6/cwLpZm4g/tYOYxKFLAKNlu62nUbACBgBI2AEjIARMAJGwAgMBYH+loANdTnZUOr1sUbACBiBA4lAXjLGiq/mvW0PMUjbxpMzSLuGbd68uaxdu7Zs2bKlk4laBTW3KzuQhrssI2AEjIARMAJGwAgYASNgBIzAcCPQzKPRnDBp7oMdFoOGuzdcvhEwAvuLQBaBJkyYUCZPnlymTJkSr0cccUSk/EHz4dGJDGqKQUQErVy5sixdurR8/vnnIQjlm2O+Ie6vwT7fCBgBI2AEjIARMAJGwAgYASNwsBGQgzsngZZjvLPjTp08WQw62D3j+oyAERgqAjmlz/jx48uMGTPKrFmzygknnFBmz55dpk6dWsaNGxdiUNdlYohA3Ax37NgRQtDTTz9dli1bVnbu3FkmTpwY32lXsea6s6Ea6+ONgBEwAkbACBgBI2AEjIARMALDhUB/zmwJQYg/TI6Y/zDn4XXSpEnxzCIQ75VLqJuINFxtcLlGwAgYgYEQaCa7JwoI/Wbu3Lnl3HPPLWeffXaZPn16iEEd0YicQdpWnleFDHHAe++9V/7whz/E64IFC8o555wTS8gQjJo3xoGM8/dGwAgYASNgBIyAETACRsAIGIGDiUBTDGK+o8kQ8x7e40EnPcaKFSvKBx98UNatW1dOO+20ct5554UghDjEcc2k0naMH8yedF1GwAj0h0AWt3nPyi6Ceo4++uhy6aWXlquuuqqwbEz3v8gFnRNIU3jeWn7JkiXlgQceiOViF1xwQbnyyisjtIjHkUce6S3mfT0aASNgBIyAETACRsAIGAEj0JMISKxB9NEcpykGMSFCDPryyy/L4sWLy/3331+2b98e856bbropllhoVQSvWkXBOXlS1ZMA2CgjYAQOOQS4R3311Veh4Tz//PMRzHP++eeXa6+9NsRt7l1aFhtikEQgDuQmp+e7775bHnrooUgizQ3xlltuKdOmTYuwIm5+fhgBI2AEjIARMAJGwAgYASNgBHoZgbx8olsSaOZAiEGvv/56+fd///eYKN12223lzjvvjCUW+XytouCcbtvP9zIOts0IGIGxjwBaDmLQhx9+WBYtWhSRjUQ5Igah5bB8rLPMtVtkEBChKL3zzjvlwQcfDDGIk7kpEmakhEOCMidcG/vwuoVGwAgYASNgBIyAETACRsAI9DoCOa9P3jVMCaL5XlE/GzduLK+++mqIQXz/ne98J8QgEq8qpQbtzed6mVivXwG2zwgcOgjk+9G2bdsi1c+jjz4aedAuvPDCcsMNN3QSSCMQdRJIA1EOo9SNkcgglomtXr26XHPNNeXmm28uM2fODERjjVl9+iZ46FxgbqkRMAJGwAgYASNgBIyAERgtCGieoiVi2J2FHX3OnGbDhg0hBv385z+POQ4rIu64447YgQdHuLaY51XbMwsHO8ZHyxVhO43A2EUg3+/IgUbKn8ceeyzEoIsvvjiWvbLFPCu8+CyEcC0Ta94s+RsxiMigNWvWlKuvvjpuikQGSQzSzTSHTo5deN0yI2AEjIARMAJGwAgYASNgBEYbAtl53XyveQ1i0CuvvFL+8z//s7NM7K677ipz5szZY5lYPl8pNiwGjbYrwvYagbGHQL43bd26NXaGf/jhh2OZGPmfb7zxxlgmRs4gLXfdSwyiEEUGsUyMyCAy6rNM7NZbb40CFE5pNXzsXURukREwAkbACBgBI2AEjIARGCsINPMFyZmtSB+JQevXry8vv/xy+Y//+I9oOvMexKD58+fH31oRoXlQFoAsBo2Vq8XtMAKjF4Ec9YgYxDKxRx55JMQgtpZnmRhaDjuK7ZEziCY3I4Mo7K233ir33XdfiEHXX399uf322yMySCGVWjM7eiGz5UbACBiBg49AzmHQX+05yWV/RLNbec3PBlunxgMR36H8nclyzs0gAp3LzOU2Pz/4PTL0GjOe3TzOze/7w3PotfsMI2AEjIARGCwCmiA1dxNrjk2IQVomhtecJRUsEzvxxBOjqubW8k6XMdgeOLDHdUtR0le0l2oeCgc6sNb2VmlZGLWA2Vt9cyCsyWl/WCbGtvJPPPFELAkjMui6666LnEF7JZAWKddNjYK4CSIGsb0iYhAnIwZNnz49xKDRSN4PBMguwwgYASOwLwj0JYg077+57CbRbIpDAxGivuzM5eiYbqS2Wf5QyNRAYknTtm5t2xech/Oc/jAaanvV7xpLvdx6OHvOZRsBI2AEWghojoNDW9vC6z6MGMQysXvuuSfmOuRKJYk0y8R4ZDFIUUV5bDfGw4fAYIW3wfCWQ3m8bQpA3fjg8PWiSz5YCHD/2rRpU3n//ffL448/HhuDIQYR3CMxqKPn1IsgtpbPFwPvOeDtt9+OZWLcHLWbWLdlYgerYa7HCBgBIzAWEMhLbZsRNLl9g4kM6svL08uRQWpXdiyMJg9VE/P9jQzqJuqNhevcbTACRsAI9AoCeTzF4c2YkwUd7CRn0EsvvVR+9rOfxbyIZWLf/e53O1vLN506gxUoegWDsWLHQI6wvjiWRL+xgsO+tAPshF9//HNfyvY5I49Avs+xTIzIIHYT09byLBM76qijOsJ2/Cb6EoMoTJFBWQwiMmgwE5SRh8MWGAEjYAR6B4EsgIio5O1puy2ryoRHOzhKQMmkBsWfY7W7iQZ7jlEdOo+/B4pw4VjIssrjPWXiFeXRJGJKQpfLbpKuZv18j906TnY2yXnv9OCeThNs12RCNmYBLueU6E+YU797UtFLPW1bjIARGGsINJ3e3HNz2gv+zpFBTJ7YOGfhwoVl3rx5e4x7eTJtMf/gXCm5/3JeFI2vuR8Yn+ErmWPlcbg53o4mZ9RAaDevc3EsfQ5fAz9FueW2N69l85KB0O6975tiUM4ZxNbyLH2dOHFip/+Dt/clBilnEMvEshiknEFj6YfTe11pi4yAERhrCHQjohqk85a3fMYg3UzUL2GHcpo7OWZimpf7Zgz7I0JNrJtkQfZlMUj2ZFGHQUViTrZfW/KKmGUb81iSBa+c2LPXrgX1gTDo1p4mqeLvLMx1E/o8qei1nrY9RsAIjBUE8sQ2O2cYnyQckBaDnEH33ntv+eqrr7qKQc3lYV4mdnCukG4cqi8hg/wo6lM5xzQGq7/U76N5PttNrBH3yiIZPSQexznicuJc+Xu9b+bHOji97Fr2F4H+xCBtLY8YpL4Pp29fYhCFOTJof7vE5xsBI2AEWgjkG3Q38YXP8sCcxZ8sEmiA1/ESJpqeSv2tQT/XOZjIIJ2vbXNzvdlWPpfYo/wLzaiYpvdV7cwkLdufRaNeun6aSUjzJECRT8Jbx+aIr2Y/5n4Qzt6YoZd63LYYASMwVhDoJiZk50qODEIM2r59uyODeqjz+3KoiUfkqGlFKWdHjaJh+E4OL+WN6qFmDsmUJibiZuKcmXsKn6ZIpAjnJlfJkd7mJUPqlhE9uD8xSJFBkyZNCudkp+8tBo1on7lyI2AEDhEE+iKiedBueqj6ixTJ32kZVzMkOnuAstjSlzcpR/VkwUdijohzXx43RTRJHMrkIucHyh4nLTHL9qmcXiIgWQzTe9onUpmJJthJDBKmIqwSwpp93a1PDpGfhptpBIyAETioCGi84T6d79U5Mmjbtm1dxSDfqw9eV3UTO5rOqCY/Ee/JQlB2buXPKaubw+zgtXD/amo6qCituVxfNQgDOIs4o/hIFsUyt/S1vn/9MxJn9ycGXXTRRZ1lYrpOgo9bDBqJrnKdRsAIHGoIdBu0NXA3hYZ8MxfxaUbmZPFEx+RjmyQqE95uUSjNOpse07yULUf2SMzSZ01yLdGj27K3gUhHUzAZyWsm919e9sbnyh+URa4s/vQl0mWBzKRrJHvXdRsBI3AoIWAxaHT0dpM35bE3O5uy4JG5Ul4ypSiI5hL0ZkT26ECmZWU3Xpn5WTcOlblYUxjLWJiTjKYr4VtbLQaNzn6z1UbACBwCCDQFHw20WUyR4KLBOufg6S9qKK8Fp54cIq3yuwlG3YhCHkgQOeQxymHVfKbkz6w3zqJGUxySKJLrV1kSw5rt7EUSov6jreQjoN15CZ3akMUw5S1oikSZcGlXm16MhjoEfpZuohEwAocgAhaDRkend3NSZX4gfpF5hnhFNx6ROU8uu5eikIfSM/3hkx1STcdb5iBy/ImL5GihptNxKLb52JFBwGLQyODuWo2AETACQ0IgE9E8SEtIaQ7A3SKHcoXZQ9YUg3Kyy/6M7EYqshgkkYMyeM/GAjwRPDiOhHTHHHNMmTZtWrzPEUESq3IuIAlI2Usn23tRGBE+CrHOApbIJwlH165dW7788svO8rEpU6YUduGcOnVqmTBhwrdrtOsSM8pUVBHiUvNaGNJF5YONgBEwAkZgUAhYDBoUTD17UOYr4hKZP2lMbo6pWh6VuYacZz3b2CEY1sSlP4dfkzeKZ2YxSJFHQzDBh44wAhaDRrgDXL0RMAKHJgJNIWUgFLqJQTm3jCKDGJQljMh7Q9nNsOYcFtxNSMoeoiA+tYxvGkbmcGHZgtDD+yPGHVF27d4Vwg9lbd68uXz44Ydl6dKlhRwLfM5Ok6eddlpZsGBBmTVrVkf46CZwNUmHBCYRtKifdiYbmzYfVr/9pv7T60CYB25d2q3Pw84uhXTKbxskLHWo/ub1008/LYsXLy4ff/xxId8EmM6cObOcdNJJ5cQTTwyMjjzyyIgqGnf4uJYYVHGN6Kv232q0bO3L5qapvRhNNZg+8TFGwAgYgYONgMWgg4149/qGwp3y2Jvfi/80I24zV9L42C0qWRtf7M0xunOC4UDuWz7TF1NpMoLW35mzZJ4X3Knyj8zr9vi+7YxqRgipbTk6va/2Zg4Wx2QT2yd1619zleG4gr4t02LQ8OLr0o2AETAC+4WAvCzffF23h//m6070DIUqSgRhRdE2Ek0kBOkmHwIN20G2B3uiSySk8Pn48ePjKZIjEqBolsHmDIr1+YfV7eKPqLtv7NodW+2yw8oXX3wR2+++9NJLIYDs2LGjHHfcceWSSy4pJKg7+eSTy1FHHdVZSiU7adeOev72ejznYB/2EjGDvWpTiEE1+uiw+torD/oLLDIJzYkr6YO33367PP300/FKdBDtmD9/fjnnnHPKeeedF4IQkVO0d1xtdy0sIogk+jW9mL3SdtthBIyAERhLCFgMGh292eFMdazMy+gZb3nmZMiKEBJf0hL3nCA6L3eHbxC5C/fYI4Km1tUSN7I7ahjwanq89qGKryuXPPzwwzrYZI5IcWCiNisqCh6m95mDhZOqcjLlQQQ/sNkjOkjq0zBDsw9Q+JQuAtzWrVvLe++9Vx555JHg3E4g7cvECBgBIzBMCGQlPr/PYbjhDWlHsnQ8OnVglZeEGzURNxs3bgwhgfcswyLCRIMz5h+OgFKfLMXiyQCu4xBgWKo1e/bscuyxx5bJkye3BBb+yRNUiUM8OkTkW6vi4zYR4lXJGokMgkBs2bol7Fq+fHn561/+Wp595tmy6otVYSN1XnnlleWaa64pZ5999l5RMNT/5aYvy+erVpXPP/usrF+3vgoi42L5FEIST5ZTYS8iyTcIXclMvZe1337XwvXbKKFvI4rUxCbnan6ePYLffteKOuo8GpFBCEM7d+2MvqFtENO//e1v5Y9//GN58cUXI2IKYnX66aeXyy67rFx++eUROUX/0G/jELxqO3eG4HZY9GkITbXK6K9ouyKf2h7K+v1e11T6LF/e9r4N04/dxRoBIzDqEbAY1Btd2I07iYc08/vo8+BKWypX2rCxbNi4oWz6clPZvGlz2frV1pjwfr376xh74RdE4sZ42x5fcUTBL+AZfH7xxReXGTNmBBjfcozW++bf3RDL7GlPJjU4fPs7p8VsZNmegTffRgR9y26CBQUfqE40uAT8ovI2+BmOPLDhbxx4claBz4xjZpSZx87scEaJaeDfLc3AXjYPUtRSX5ubDO7a2NejHBm0r8j5PCNgBIzAfiCQd3TIyZQ1kOacOUFw6ox/69bNlZCMD7LCY8eO7WX1qtVlxYoVIbbwXL3mi7Jx/YYYuLfViBoEAzw1nIPwM3PWzDJ92vSybu26svS9pUFurrjiinLlVVeWk+vSpMmTp5QjJtTjJxz5rRgU9X9dmUU7yuXr3TVKqU1++A4RpgpGRC9BHiAV1Ml4j1D16cqVZcnSJeW5554vL7zwQlm9elVIF8cdf3y58MILQ/g4++yzyhmnn1GmTJ1SyUQlZWxdWctFTHrlpZfLokWLyhtvvFHmn3xSOXn+SeWsM88sF196SSUjM8uE8TUhda2M+r6uS6iCkFRbw6b6obCG8FRfYalxS/X/2h6+5Pt2Am2YHG34hrbWz2UDy7I4NDxgCDH1VfpY1BvltAAhMknRQLSR6CCJZfRteNzqE4K5rZKtRY8vKg888EBt25tl06ZNNQroqDJ/3vxyZm0f2NA382u/4I0MryMRYhV/2nbYYS0xiL8jgiu+rl6/ehx2dcK2x30bnZRJVZO0dRMl9+MS96lGwAgYgTGDgMWg3ujK5m5Y2dkRMkha6hRjcB1vcSqtXbO2fPTRR+Wj5R+Vzz9fVVZWXrK5jrlELsOVOG9KdYYx1hKNy+vuOrZu+2pbiCNE5hK1+/2/+7t4heNEhE0da3fW8Zzzx1fu1OEcbW4UnKEdsRy8LpbytyKYEaEYr/nsmza36Dit4CNScHC0cW595dzgGW0eE4v42xwtrtEAoZYv3laPg/dI8IHL1b9a9bYFIOGGfXA4MNlYOeSq6oiDv7G8H6cc3GjunLnR/jMqRznppPmBVbiiqLLy1OA8FRQ5M3kPORo3Ht7U4iIcF4YCQ0MYyr+zHLXkXETD9/uzGDR82LpkI2AEjECfCOSbbw6/7QgG7YG/Ncmvw30dMBFGjkBkqd+tqUmHV9fB+eMqAH1cxSA8N5AbJSPesmVLDOoK22WZEeQGjxaRNZCb999/P5YfXXfddZ3onOOrQDO5Hkc9YiJBthAh5EVqEy4aJzIBOeG4TlvaUSyIUqtXry4ffPBBeeaZZ8rzzz8fBIPzqIsQVASPs846q5xao2COrPZI0MBGzuecBx98sLz++utxHNEy559/frnu2mvLsTW/Dm0IztQOCxcZ1NIxSBRRNdgYvAMShOgT57QIFhijpoBttCm+qx/VzzptqmRwV/WSQQqPaJclb5rKheFAhjj3sHGVIkks6uQral0SiEEQyCeeeCLa9tZbb0VbIZgsmWOJGB5IltHNPuGEMmnipDAo2kBkEWSuLfLEsjEEtAj9pi1tYSza2Fo6t0dIe/uqlEglvOx98w3LCBgBI9AdAYtBI39laMwS9+C1KQbJSsSD7du214jidcGNyMsH5/msRhkThQtnwgFD5AviB84eIqNxkMGReNV3cCkcakQw//M//3M59dRTO5HWOQp7wnj4SxVb2tG/slN5F+EiIYzUunjgyEG0CadOHcfhFnIEjqvR1fEZA3o4eFpOJ5xl0eYQi1rRPIFDfUrgCWddPS+0FsSx8Hvp2Na5imGO84MTtYSgzz//vHxSOeVn9RXuxhJ/sOM9dp9xxhnhrLrgggsCB/IaUm+rTBxtijZqqVkdZxht1t847CSItTlX5h/NaOZuaQpG/mocOxZYDBo7femWGAEjMIoQaJKa5sRchEBRLhG+Wwdqhn3IDeLBm2++GZ4uxBWEBKJwEIEgMNrJS6RE0UEIJ4oIgRBNmjQpliMhPBCJwhKlWbOOq0IGOX92tUgGXq06YHdIClukt8kM3iytL8dWyEwM3PXzXfVJvh8I1yeffFKeffbZyI8DGWOJFMvErrji8rpU7Kqo94Q5c1rRPeQzqq+rKhmBmJBn6Kmnnop1zJAQCAi2ImKxtA2SJs9bkK82QWyJPm1ilpNgtwnJHsfhrWqTspZHq5Td7WTYHSGlfo7d2iK+44VL110rUgfCpyihFiHikxCd+LxiF16+is9f/vKX8uijj5Z33nknlu6BJWTr0ksvjT6hvXjetHsJIl14yJL3M+rL3tDcjojoaoVuq32yMXvdJAipKd3Eo1H087KpRsAIGIEDioDFoAMK5z4V1q0PYqxNYx5/M06T+2RNjQZaVnnDkrpJA/wBUUMCEHwJh5OEBsZR5SLUK98rzxCR1TihfvKTn4RDir+n1WXqrcjtb5djU3/ORcTfwZfafKTjZFN+w7bzCa7CccrnGGN9bUeM3W3nWogpIe60BZy2QNRx6FBmdoq1z4too06YURsvfdaOOoJfsqQfXkkEN3jxN0LZhg0bAk/4ItwrnFXVkUd0EEv1g3+0eY76ItrN5xFG3Xa0wXviC9qEAS2s1K/ZMdUUh3TMPl04PqlfBCwG+QIxAkbACIwAAs1Q5473JEVxdJY3EW1SB0yWFbGOGwEIEYE8M7yH1CjBH8QBjxZRQLwXsZAnigEdwYj6GOTx6jCwI8YgQBCJMmfu3IhQCTGoLTJkD88ekSZt4hEJrKuQAVnoiEH1/LC7EiolkCZHDl46jj+hRrwgRFEniZKnVnIVIkl9Yve7VSDBk/faa6+Vl19+OYQhhCBsRSi5/vrrO/l0Im8QJAxi006wLNErL4fqRP60BaEskuxBKPHE1XJE5FpLr1plg2WUCcVpk7EIydajTdRaYdpaQtYKBecoJWjkPUm1EckIwyaqSzmDiJhCCJpTBbIQu9rL5iKfU5sQxjUjYav9updHjZByPHBt0pWJKu+zCBTCI0IepLSHEnGPwM/TVRoBI2AE9kDAYtDIXxA54iaP83mpPf0Ex4FzLFu2rLz68ivBIXhPdAvjHDyF8xlPcbbAd7SbZ3aa4GSDq/AZXIlomO9973vhsGHXT5xRSiatCBsJL4raCSdQe/wO5xS8IiJjWDbVigqSmAJH6HzfjgKO79q8Ibcz85UOj5FQJNGoXX5EE2eHEToMdbXtgQsi/CCUEYndWrr+RvBN8QJ6HwyI5FbUMjggiim6SRFOHMt7JZiGKwUeEcWMEIQ41ooaajpCHaF88H9nFoMOPuau0QgYgUMcgeyh0aCZP9NEPN+gWaaFGEJ+ILYiRwh69913g9wg8HAsIhBLrxAQtC25yof4MNDjGdNyMggTgzviCudcUYWZK6++urMePrqp7U2KAVretzyAK+ImHadIFYjO7vr5zko0qIuwbOyHYBGOjEfplFNOCVshVBOr6LGltmVTJSVb6hOhhDYuWbIkRCGICWIQS8XIM3T9DTeEGBTLxNpkB9IBeYtwasQYltm1vWUdwYZjFSmDIKJ2Ju9ihGS3H0GiIGMiM00xiDJE6vK1LTGo/ZkikegLxC7sJvqJPlmzZk30I7bPmjUrhDKIJhi1chO0l3q1yZ76IjySKepH0VCIarHEMESrFuGiTvpGkU2ZHPJ53kHFkUGH+E3KzTcCRmAPBCwGjfwFkfsgW5MjS+AWRB/jYCHKZfE778Z7IqjhIYy78CREIMbaefPmxfJ5yhBPwjHDk7GZqBjKREDCcXbbbbfFK3lziG6O3IKZY+DQajuHFJncWu7fijiW2NPKL5jEIOgWz3b0jESYYCKxNDyIRusph1P7nPi+zdHkoArnU1MM6hIpxDG0D2xoK8v577vvvliWj0DGA/tpJ3zr6soRcVYRIRQRUhXHFoVq5StC5ApRqG2znHHiILHMvr0crpXuqOVIk9DniKCD/zuzGHTwMXeNRsAIGIHO4JcHSnlJNClnUGx5blrRMmw/jkDCK4IQ4hDeHAgM0SMICCfVZMMM0HhsEFkUMcOgDhniPMQVRBl5ydiVC1JEpM1NN91UTq45a7RdqNbDI4QonFdLlMIbBD9pf8f3Sm7N+ROqTbSBCCOECGxAkMILhfCBbXjXEKRoA2IWS9dIhE3E0yuvvBIkjiVmLKGiLEUG4aFjJzJInPIbHcla/xoRBVbNZVOxY0g7kgbBReKbSIsGQ+wXsYP8QVxoH1FPtAHagtDCc1ctM/IRtcmPoobinHrcTsSXdlJIyuc42hgiGWJQfU+0l5WVXwYAACAASURBVEKxEbvAhnrJXYAtEFZwyt4zLcujHTypL6Kp2pFMEEVsRUSK7eiDoLXInLaFleAo4qVoIEcG+eZkBIyAEdgbAYtBvXFVNJ1peZkRFiJqwBtYXv5y3XxieeUSOKIYWzmWSBYcYAsWLIgnYhD8h3GX8VQiEEIQzijORSThgfOKyBiiqM8599wQhIIDIWa0OYKWlTG28v6rynvG13EYEYrxOLa2Zyl8e5zWLmXwmMhtCD+A98FXGNcZ59vHxzKydhoAOXMUqRwiCzvHslRfEcRtbhYcoM1LwIAlYTyph3LIYYgDDp5FFPaf//zn4IriJnIWgRPtZ7kcghB8DIeVlrHFgrB2RDpOwGhHO9JbzijyQka0MrmT6u5tgUs7ckp8RI6s/Ld+f71xFY4tKywGja3+dGuMgBEYBQh0iwzCbH0ugYjPYknRrtYOVHhsyJ2DxyZ2wmgLQQymRJEgkEByEIMgLUT7xK5elRBAhAibZh04TwQhnhCf2Cq0iip4vL7zne+EGARh0fai1INQIS8Rx/NkAGeAl1eJVwQpyBYJGHnlOIkXCkUmMgjRh88Vas1xiEIQL8gIT/IiIVpBUBRJg8CFNw4bWUbFcjjIDxjw+SmVnFDWhHY0TQhsFceNlcypDRA7kRzZxnGUgfgi28F0UhVlop2VgMVOafXBuexCQgQTmFCGtmGFUB5TsYSYIXghfklogTRhP3Xw4JjAuB7HsdgFkcV+2sUTfCbWMhV6Li8e9YELOIKN+kgEkc+inNoPk6dMjjrBl1fljWqS6Lw0zJFBo+BGYhONgBE4aAhYDDpoUPdZkRxmclpk3sR7xmI4DUuc/vrXv0YE9eefVTFn/cbOrqqMqSxNZ6kTXAlnGGMzjhrKZ1zF0YYYhCDy4YcfdpbjI4acc8455aqrrgpBaEHlWWFT5WmM5YzhLNvXluyM54ztzaTUHIvwxPfwJLgL4zPvGZ/5XudiD5wJ/iQHUIg7VXThWKUFoA1E7lDGeHJDtqOCck5BPlMOIGxVLiDVxSttxxlHdBUOQ/5uikHnViEMMQj8qFNiEOXjlAIDuM+majev2tAk7K7HjKs7wOIshGvRbmyH79CevCxNTjQ5Rr18fXh+gxaDhgdXl2oEjIAR6BMBiQOKStHA3lwPLo/KzrqF/I7tO8uTTz5ZHnnkkRCDEAEgHAghDP4MyrfccksQFQQHhAw+jyiUtncGUgJRQnCBLJGrhuVXlMNAfOedd5Y77rgjBB0GcCKJqIdzICTyjnEsAzhigwQPhCbeEzpMdBLeNkKxOZbyKQ9CQ5kIPNgAcUPUwXaOxW7W9ZNQmbZSN8+8bl2kDRIRUUHtkGPeE7p94403lpmVsCmiBs/a9kq6Pq/EBlITO2XUSCNeISiIJnpgK5ghomEX9kD+EFQQYyT4QJIog6VdkB7apfZDNDmXssBLoh0kBy8kXjXwQWCi/RwDvpTFsZTDufQB9eN5g2wh6ul6oD7OgbBBVOkbzgNj4QHhC5Gw2nP87OPLvFoWxDVyM9X2NIUfeeacL8g3LiNgBIzA3ghYDOqNqyLzp2aELyIKY/Orr75S/vLnv0Z08fr162rUSxVdph1VHTXHxBhIFPQ1dbnTvDoWI6YQURMiRNvxg3OFcZUxFk6izTrgPPAVxnEEpVPrmMpS9O21Xo3J8BvOhxuIpxHpC0dhbEfQYQyXA4ixnkgbeMPcmq+R8ZmxnHLgGozxmWtIIGHMluMI/hRR4ZUvzK3cC86i/ILhSIIHVr6BU5ENSD6pXAO+wS6vvGIrnIGHdlTDPtpPlJU2zoBXEpEtMYgIdPgJkdiUDYbwKqK7sZ1ndujBOygXR9jMWTPjXNpMhBWv/K0NQRRhpWhzbLOTanh+gxaDhgdXl2oEjIAR6BOBJoHRxFxrphUZpMk/g+fG9RtCIEEoQcjhMwZGBm4GaEQgEhvirUHAiCVBdeAlZ492uqBeCAFEhagboowY6CFQEAfWgrNDF0IKhIpjGMwhOZAayBE2QVY4RmIQgz/fUQ71QxC0BTxEi/MhBAgWPCEflI/9iEfhYatCCSIMpOu3v/1tiF6IGRCCWJ5Vj0VUojyRBAQSHtiOdw/bf/jDH4bwcUzFhDBrQp8RcRQNhbePNknYimVb7aTJYMN7CTpEV0HQELYQiSgHHAgdx2NImyQGKR8B2EMWIX0QONqpPAVsS4tgh8ADjvQheEjM4Vjsoz/BkOMhiZCkyZDI2n6FsEO2iOyCKGIXfcoDO+lnjgMvknIjBi2o7WDnD8qFfNKHsSSu4pqfumhNunwDMwJGwAh8i4DFoJG/GnJUdV42xNitiBctMSeS+p2334nP2dUUwYSxFK5xY10Of1UVNY6tgsQ37MPOUiaWcqcciIqmpjy4EKIQdcILEEM0ljJWIu4grBDRDD+Q84txmHLkvIKvwZPgDXKkIeIQacR4T9mM4XAUxnfqplz4igQZiSKx3Iv8iPWB0ATvwK6za07F+W2HVCzbQgyqz23Vji9rvXAHRTzBYeAQ2K8lWeAE7+Fv6sZhqF3XtEwMx5u4HnXjcARjuAhcCAyoB66nHdzgRERORw6majccEoEuIrpru4lqp17qjzyQbb6qnIl2VA3f789i0PBh65KNgBEwAl0R0KAW+YDqU8mBm5FBEBwm9AzUn3/6WYhBixYtioGW7xgwGYgZPBGD7r777iAURO3Iy6VkgzHQk5iQhM51IF5RhYfX6w4bDNiQFcpj2RVkgmOpg10l5DXChpyfKLxp7SSAWiaG/Xh48LwhBvHkAaFAjMlLmiAMiBHXXHNNuaEmgla4Nrt+/O53vyuPPfZYR/RR2LDy6Ugk004V4AdJQWj5wQ9+EKIShGpzO2n16jY5Yft2wp4VNcNxWkpH24gWgqiAD0QFYgImCDIcp8SUhJ6TuwmipugiSBBPSB/9AYFB5NEyMf6G7CC4YSskUYm8lUMJYYg6EJ/oT/qCuudVTCdXvEmuDY7UjYgHSQNTrgHspV6IFcSN4z5fVaOf6jnUjQBE/SKxtIdzRAC5LrRO36TLNy4jYASMwJ4IWAwa+Ssic6csBvG5ljgxNsIj2Ln0vfeWlR11POR75VOEa1xz7bXlouqImnb09MjJ2Nkoo53vhigXLZVHuFGUjpaSM54y3kb0dT0H3kAuRy3j1zJ0Ld9GBFJUs5aAMe7DGRCoiDKCu2EjdUiAQhRijMd+xnbGcOrTkjQ4C8cwjvM9fAXnGru0slydPERypNEOIrKxE4civAyOAicSn8QmuB3tw6Eoxxm8hL9pM1FR8BMtE4NHwJngOvBJyoZ/KFoZ0QtehAhHW/l7+cfLW3ywvaMbttMvYEAbcIg1l4xJBBv5q3DsWWAxaOz1qVtkBIxAjyOQvVuKBsqTcg16HAeZWPNFjTCpHhzEILaUx5PDd0zymdQjwCAasEQKsgDp4JG3M43y+bDtbWEgZqBXeDCkhAGZ8hisIVKIDgzuCDeQBm2xqkgmSAPCBgSCKBgIBWVAJBj4sYXP8JYR8UNdiuYRQSCa5+abbw4SQFkINghBrPfHJok3sdV9O8m01slDMJRsm3rxrhH+rbxFEDTagFdPHi4+g5gRSQSZwcOFtwpxRhE/tJd+gehB0hCraAuYY4/EIHnUIEGKXkLgItQZu8BLUUzYjl20F7EOzxzL/ehf2sZx2EbbwELkEPsQh7CZYznnj3/8Y9gKEaQOyBPRRrxCJsENMkwCzRUrV9RjdkVb6BPKZic2yJzsxDbapmTjJl09fgOxeUbACBx0BCwGHXTI96owcydtLS/uxPhIFApjPoIE4/5HH34US7g4hvGPvIqMqUQk46yaMm1q3QiitdGDuBgOFHICIrjIeSZRB67AGK2kx3AhnDGcy5iMsw6xBT6EA42xmO/gSozhjLGM97wqohqBhfxFRBrBS/gOvsJYL66HOILdLNEiwgb+hDMJXgUfUV4iyrjrrruCBynfIFyEvIRwF8okPQBRR9qJVhFHcBdsxF5sQACCs4EDx8jphkML7OBPcA54GPyQNoM7EVlEUdF+cIJ7wEvgNBwPX3r9jTfL0veWhDhFHRwDh4HH4iDEoagcQjmHpiOWh+c3aDFoeHB1qUbACBiBfhFo5g0SoWnpNXWLzvbyHQZUBv3lldT8uS7rev6FF4LwQIQgFQgFEABIDmLIaVW0UILiKIudtRCGanmsbY+tS9sJj5XEEDGH9wzqCEkSHYg8wcuGlwcbIByKYtJOYIgKfM7gDyFAmEL0wAPEEzIE+UCcgARoaRLlQHCurR46iUGQIgQOCAtEDiEKskO52jED0gD5omzaHsmQa9tmVAFGO4RQLvUgdj3xxBMhLClfEKRGHkKIFcII4gxiEDb+6U9/ClLH3/QDXjByKUFSIIJgRVsRrSQwYSeiDHWCH8IUx9JG6qMPefIdu7VRHwLZ008/HYRQiSu1DI6+hByCbYhBRAZVkkYZL1eB59e//nWQOfCkHvpdwhYkiuPAnLZz3OatWwI/2g0Zg2zhOQTvLEIqb1D2uPpnbASMgBEwAt+Oyzmil3s8jhUEiHvvvTfGUSJUFy5cGONTHst9X93/q0iCDSUpklpiAWMpYzNjH4IM3GXlJytby+Db459y/TAOkkNvytQpsUGHljjBVz6Fb1WORb/qwThO/+XNF7R7KGUx7uLMIUcRNmgZFp8ptw/chXEcpxfvKR+OhQBENA9LpeBu1APngo/ALeANcDy4CmM9/AeOBv+graQO0DJ9ONCPf/zjcGAdX8udWsuj/g2VQyG8ELnEk0gnJXWGj+iJYEb92IZYhGOMNtBWHghMOLSwR4IaHERL/3FAsROZIs5pG2VKyILTYCu87p3F7wbPg2/x4PcC9/nud78bUdm0E7xy5LwTSO//b6hbCRaDhgdXl2oEjIAR6BOB7N3K4g/kpkkeGfQZaJcuXlKef+65EIPwFmm3KEgIBIBBFKGB3bQQdRCBgiwhLLEOvj55aLkYUUOQJLY21yO2g6/iCudBBhBQ8PRAcCAn5LRBDEGEYpBnYMfbw2cKO9YuZgqhphwIAgO+lmAp8TWCDqQFLxYhwrRFSZWp6/HHHw8vE3bIC6ioI8gFT4gSyQixaTpr0Nth29iEzUTRILooZBmyhbADgeN82gA5Q9CCQD788MPhaUNIAg9wxUbEFuommkZJuCkfTyDEDwEGMQhCw1IsefgoF1KF14y65dkDrxdqX1KPdmmjPvqO/sQunhDAE2uZbMcKfpxHPiWuATxqHA85g5jhWaMOymSJH+1YXMWgNWvXhKdPwqHEIPAXkdZ1563lfeMyAkbACOyNgCODRv6qyH3QtAauhAD0XOVJiAwhBq38NISe8XVsPbmKEoy/cBbEDJwjRJ/AjXDmrKnLtHG0wXcQYuBdcCFF7ioyWrkFFfUCP2AMZsxH6GBsRnAhuprysJlxGn7DGIzQobxAOL7gFIhBONI4DpEGTkEb4E+M04zt4gTYrHqoA6cPHIPzaNM//MM/RJQ45yHywAVXViEIgQahBgEJjgBHgg9iE5xDdcAVEIHAD/twKNF25VPEgQd/ghtxDrwFUQtxCs4B95CQhg1EEcG1cHBxvJaTLXt/WXmpOsU4nr6Dh3EcuS85RxwSe8SZHRk0PL9Bi0HDg6tLNQJGwAgMGoFMcJqDHgMnA/fid94NcsHAyaCLGIRHhigUCAACBzuBnVpFlamVLDSFJaKCIplge6t1cgkxwO+u5URECGJR/S7CpTmuPhE9iGBBzCESBo8Xg7ZED8KFieqBJEAc8DaxzAzvEWSHQRzSouSLCDx4pyAtnANRQAiCSOE9giyxlTuJn/FkPXD//bFkjPXzSpgNYUJsQSTBy0cUEOviac84drSo5xIWjlCC9+mBBx4IcsjfYAvxQrBC2NGOXRAmsID8gS9tQdxRNI22oWWJFWRGiZ8hSffdd19ndzdw4XsIp7x8lKstXOkvSA7HyXuISEb7qA/SyXecC/GDbFHW7IrpkfU7CYP0B9cAhA1iil0ifuCK8ES5ELSPa58gBpEYE1EJEky/4WEES9rYzFVlD/agf7o+0AgYgUMEAYtBvdHR2ZnG+87yrnZkEOM9Y/+SpUvKyhU4sHbE+HlSFWEQXRjPGYclBsEd4FNr2+Mmggk8gHFZPAsRgrFW0UByrOGMQrwgmgWHFrYgAJH3ECcUAgyf4aRhXKdeuBrCEfwKrqEdyuBOij7G0QTnQlShDp5wHbgVYzy8Cl7I+YhX8EScSrTp+9//fkT/Mr5zDs43+ALHkmYA/kC5YAdPU25CbINLwENwnuEcQzjiqR1dFRmkdiBsgQl4wzkom/fia/BTuB3HKWoce1YjvK1YXut4J/ghnBBuRv3kvsS5pd3FEN2y07Q3rsKxZYXFoLHVn26NETACowSBfPPNJovcKByWQZJJ/3tLlgZBYWBGSICk4CFiAIVYyKOCx0Y7SsVSs3ZEkCI+JAYhmiD+KI+QjqVcrRlHQHmxClCQKwZ6PF5a6oU3CY8YAzf1aY08pAe7lH8G+zkPYoWXicgWhR3j+UEM4glRinXi5AGqNm+qotP9VWghUgcSo92yOA4yhRCEUELbxyeygLdrU3urd7x7RAZBUPLua4Qfa0kctkPGEG04BrFKO4BojTxkCa8WAhTv2ZVjXTvHEKSPdtF+SAuEEHELMSd2AaviFmVDpiIBIzkBKtmiT7+o54DvM5U0flAxkheSNkKGiEaijbNoYxXWlKSR/sdOxDVIG23hwfc8wYrvqAMct22vYfIV0zkVX8QgiCJP+lDXmT1uo+TGYTONgBEYEQQsBo0I7HtU2hSCsvNMW5oTcQvPiB2tKu/Ytm17RNbCL7QLFo4WxmrG/0gUXcd0xCAcPCwrh2tpp87m0jDGSsZqxnPEEXYwJU8P5SGkEMn8q1/9KpacIwzxgHPgKFI+QOVThGsgRh1beRwJn4lyhoNpxy8ifvgbAUUOPuzVtvV8j9DDQ0vg4WQsA4dHEG0DLghL4IFAhfgCj2Psh4PBa+A3WmZPG3BOEZ1EG+BgHE+7aS98DX4DD1OOQiKCwFx5jrQpCfhyDmIWvDCi1tnltS5d3/jlxorVqohqom0cg2j0ne98J/oJEQn74FAWg4b3t2cxaHjxdelGwAgYgb0QyDdeTcKVQ4iBXkSD4/D24MXBw4VXR3lgOE5bdUI0GJwJD4Zs8Ld2htJuYln0wSDIBbl2dtVBGGKxpQ72CDF4piA55LHZWAkBS9MQg7SVOvYgnhBVQ4QJdeLRgohEdE4lGJyvdvDKYA+5wX6eiBSQBRELoosQKRBPtNU75OMPf/hDLImSGES5EC6IAgTm8ioIHVfJDsJTLIWr9bNl6dr29vWIQSw1g6BgN99rKRakhPppL7Zjj5JRg41CweXRA18EGnIyEXmE+APBwkY8YZA6SCOEjzBqjoVchVhVyZXEN4QrMIJ8EoX1pxpO/pvf/Ka8VMmUsOU8RSPhycTOIIltUQmSCoZEYkE2sR/Cx1NEle8jwfSuuvVsbbcisSgbsYrIIMQghWBbDPKNyggYASPQNwIWg0b+6si7iSnfnSKDGD+J7lUCacb9pVXc4fMJ4yd0tjBnbMbJcl4VhKbXrc131MghnDU4qVbU8fSNOp4jbOB0gbsogTL1aLk6HIiIYsQQooIYT+FEcAC4AGIQXA3ew9iL0w5xA56DUIOjB24hgQdeQF4jHFLwD5w9CFO0B/6Hg0d20G74EZ8RIQQPEBbZHuqDO8DvJI4hlMFbqIexH+6GU0/RzLSBz+FD8C6EINpCXRK/OF7RRET78B1OSiKUEJrgHbSBMuCo2MCr0hBElNXXbFpRHViVnyj/JZgSyYQt4ETZiFmIQWqfecrw/AYtBg0Pri7VCBgBI9AvAs3IoPx33mGMAZXBdvOXmyI/DcueGHAZbBEZIB94VIgIYlt1vDV4U7TrRUQaITClrcMxjB0zdtYyIECQHrxLEAG8SYhJEB3qZZmYwq6VuJrBmWMhNT/60Y/Cm8MgrUR/1MkArygjyBGEhXX0tAGiA7FhoIdYkHAT+yEmkWC6kic8U7+vUTeQEezjeNqLfVomdlmtHzGI/EfUPe6IcXVnkJ3l8xo+/VElYZBBPFvgFUkkK8nBU4XohJcQsgR22I6t2iEE+/XUjmmEOx9XcYWsbK62raltQiBDDIJoQdgU7o3YAtkjlJrzJtCmWkdEYsGA6ntesfexRx8rv/zlL8vfKknDRrBFsMFTp0TSCEoISJur2AM5ReSiv4j+oV5FYmGrkmeDMaLRF2u/qMTvq8B0bsW3KQY1d+ow6fKNywgYASOwNwIWg0b+qugvMghORKQs4z1jMsvq36y7Vm2tUSjjjxgfggzcCI4UAkh1Zs2ceWxwBvIKbWf3rDq2f1bHTsZXxneWSiHIwEfkJGKcR3TRUm7Kw7ECt1Bk0P/9v/83uA6cCRGEurXjJ7yJ8Z2xOidE/qra8Gkd03E0ISIRycMYT93a3RT7cWQRAYzIw/eIO4hZfIaAwrI1HFLwMniclsxzHBE8lKtdTOFxt956aziIsI+/sWln5UMIaSyDv+eee0LY0aYhinym3RKDyO0oMYjla9iCzdiLgxK8sAXb5bA6bFzd0KTNS8U74GBwQc5DLON4LxMb/t+dxaDhx9g1GAEjYAT2QKAvQqOJubxfDJAMqogEu+v24ES5PPTQQ+H5YoCXIMSAibBBhA1eLwbomVUkmVbJSWfgZclYe9075+FZwqvE8i2FECvfDQM3RIV6IVXy+iAuiJQgqEBq/vEf/zHqk8fmMISZ2lptqY79EDRIEYQBb5kSUSOUEHJMskPqpkyik8ChmxgEqaIubY8e+XRqGePIGYS4UsnFzkrsiIqhDiJ2EINoA2QJogbJgGzgeUKsgcRBOrTdq0gV9kOYICKQGEQjlndNqWINuCFwsa6fZWKIMxKDKBOiST9QB0u8CFEnCusb+gBBiDBztnKv9j7wwIPlf/7P/wkiRZ0IOkQ/aQtcIqCwmQc4QuTIaYDXEA8c52iJHQIXBBCbyRfEse/h3VzzRfTPnEr0tIxNOYNyAmlFk+n688/WCBgBI2AEWghYDBr5KyH3Qc5tx3vGQngNQg5jP0uiXnrxpVg2zviHg4yxHocIYzSCCTt1sgQ7ooLbTqEt7U07EIK0RJ6xV0u1GKOJ2EVEoQxEIDnfqAch53/+5386y8QoGz4FH8CRxRJ3+EFLGKmYHtba3INoHbgYIgxjN2M8Th1xLjgSTiacaLQX0QjBChu1mxjc7e/+7u86OQHhLlomRnlwOS0Twy4ccGw8ApcCF/gVog+Ry0tq2Q8+WPlJbYsipxG1iAiXEEZ92E3EETxIu8ByPHyC7ykb8QuOCl/jQWQQDyK5tZst+IIf7cQphn05mij398hfiWPLAotBY6s/3RojYARGAQI51Fk5ghgEGYS1ba22+YbgxFKfr78pzz37XIgpDLqQBMgA5ykiBIKBUMKEn50zZlcRAZFDg+quGq2zuS0CQR4QaLRtPO/x9Nx8y83lzDPODMKBGIJIoa3htYsZAzXCDYICYhADfixF4okY1BaxaAtiELZ+VIWk5+o6fNbjUxefQwwgUzwRNMK7Vska4dJfVjvvq1E3igyC0PDAc6XImch70yZzRD/tpj6WTFW7EWcgVI9XvF6p0U2QRB5EPSEGUQbLzSJ654TZVeRphTEj8oANT+wGW0QWonO0dTxCHMdBrn73+9+X16o4t3bd2jLxyIlRHgLXBRdeUE4/7fQQg2Lp3eGIcS3SR4JudviALJEXCS8iUUzanh4yhG30B4IbdUOYwO3V114tTzz+RGc3MWyGIELOaBMYciykDNHw/UqM161f1/HSUTb2QdAQjrg+JE56a/lRcPOwiUbACIwIAhaDRgT2PSpVHxB5HNG1dfwTh+I1khPX6FnGP5akP1fFj/Xr1oe4wZjLeMcYiSDD2MoYyDImeIHKYhzGoYQYJGcSXIvPeVDG1ZV7/ODv/77cfvvtrW3X2/yH5fhwqt/8v/8X9SMMKdcOYhDjOvXC1WIns3ZE9eGV+8FbXqyiCjvGYj+OOiK3qQ+uxLlwruOOO77a0lpKBj/DyQYnwXlH21i2Rh3wMtqG3URXs+wL/gUvoFzqJtr5CiKVLrk4eB/8AL4C90NoYgOP++tGHjjJ4CvghA3wHNoAbwNz7AAveAyOKM6nPxCb4Ccse4ejcHzkk2wFStdo583BY+FriEr0AWXjfFPkO/Y4Ynl4f3sWg4YXX5duBIyAEdgLgWZkEIIPAy2DpHLtKAFzrCmvQhAjJwMtiQ3xemlpl/ILMXAilEAGzjn7nNbgXkUPPGGIGJSHoMJyreXLP6rnvx+kAMKhCCQGeRIhnnfueeX42ex2sS6IRmuHrSVVjFhRtm7ZWhM217pmn1Cuv+H68tOf/jTqbOXYYVey1iivbVhZnvRpDbMmQuXpSkSIasEGvifihZBjIoNOrwLWgkoUJk2sOXyq1wgC9+CDD5RHHn6kChotckFbZ82cVXdMOzXIBefhbaLtCCCQCa3p52/EGiKpnq5t+LKSH8QiiAUEhfMuq969y6sosqASwqlTauh1Fd2ItgETCB1iEsdDYiAonMcTHGPHrurFI4z65UqE1q5ZG7iAOWILRIn3s2ufiMxwIYR99TWElxoZ9PBDfyz//d//HcvxaCN2nHHmGeXCms/gwkqiiAwiwuuLuiPYksVLos8gdLErWz2e3dfw7EFuIYuIeJBh+gyP4fKPl4cQRiQS30H2tBUuRJi+bz7tgfNNywgYASOwJwIWg0b+ish9oJ29skONsUwRNk8++WT581N/KmtXry0bN30ZggbnMA6ec87Zdbw8v5PHBz6Ak0vJmhlD4VmIIdr04uvd1Y1TB2+ibXBEEYFzWxWDyOUXkb5tZ97bVchh44o/PfmnwvbpPIiokRgEz7qoRspMO2paSxSp/I6oZgSdRx99MNZc8QAAIABJREFUNJ4IMQgk8AQij4KvVC5wfeVLOMzWVj6wdOl7McbzhO8gysBP4HCIQfCaE+rfPJZVPrOkikHwL5aKbdiwvn56WEQnKf8P0ciXXHxJ1PdFjSam3YseW1SeePKJKJvHjKNnRNvPPa+1qUZrB7VvqoPy1YhqwhbOwx44HuLRKQtOKeed38rzyDkIVPTDpi3slPt5cC0EJOVdBB+wgs/CX8WFzUuG7/dnMWj4sHXJRsAIGIGuCDQjg3RQXrIjj1FECuFCqURkxcpPyuIqULz15tvlrXfeih3GEBB2VC/R7l272x6kE6qocnIVIs4KrxeD/cQqBpGfZmslQ6yHX/nJyhA83l38bggbJ5wwJ3LvID5cfXUrsfCunbur4LCyvFh34iIaZflHy2tU0ebYBQKxZ8axx5RLL7k0hAiEkuNnHx9EgcfXVcwhKeP2HXVnr3rOhx9+EF6jN+r6/XfffaeKQ5+VXbt3xQ4aRDJBjGLpVhVBIGpE42yreW4efOjBTsJshKm60KpMq0Rszuw5cSzRN4hShHlD4r6pxGr6tOlVUJlSScRRsVPFQzXnEASFxJCQrcMr6YKYzannndneSnXu3Dll8pTJYfO6GhG0si4xI6KGcO2jKmFD9Lq0kiSW3h1b202+IMp7s5I+BK7lyz+u/bCpnZBxbohHZ551Zjm7lo/ARYg4RPPwGhkU3ku2m6+RRKtWrS5/qec/VZey0RfYN2PGMbU/ZlcCdWo559yatLoStGnTpwW5+qwKVW9WokX4+8qVn5avqviFGHTxxRcFsT311FOiv7W1/NtvvV1WrV4V/Q75wttGGDgRR3jrwJ6/EdN4iHTx3okaffMyAkbACHyLgMWgkb8amn2AWKJoai1zRriA3+A4YbfOiH5ml9Av1tTNH7bX8XR6jLFzanQzEc44SOafNP9bMQgeUIWYD6oTCuEEoYIci4zfseSr8ocrrryiLFx4d7njzjtCzEEQQnDCSbP4nXfLMzUi6cUX/xZ/H1mTV0+ZOiV4FnzggvMvCO4yf96JZVZ1iI0bVzfAqNyGaJ377ru/RgvfX5Z9sCw2qqA+eBURxqefQS7Bi6pzb2LlD3WJf406evudt2M5F0IXdhxTuQZlwxvggIhDcA84IrzmiSqQPffMc5UjfBFiDRtTEBmNYNNaOn9m8IQNlYssrfySNrz6yqvBWYj4nl75F46uE0+cGzyCaCK404YNG6uzcHl5tnItluaxU9imjV/WpfVHVG55XG33gnLW2WeVs86AK84OjgjXYvkdfcWTNiiPJM4+LeGXs8pi0PD9/iwGDR+2LtkIGAEj0BWBfOPVxDtHCzVPkufrq21flVVV4Fj23rIQaIgUYoBfX0mEtvLUlulHV4/M9JQLR/mC8Jpt2bylCgRbI2KEgZ+IEgb1004/rYYWz4/wXcQbQpWJQPqwDtSra9g0ZeR6EIDmzZ1XLrn0kog2wbOEcEViaupY/cXqOD8SOlZbV7STIWrJFiIV5IVlWHiYEFEgJPxNNNOi6pWDXOBxIomjPIGTJ00uM46ZEeIMwg/LytiNAyLBUilCqk+pnjQIDEvc8PBRBsvcaP/EGu1D7h8wmlHJjaKnYreuSsACoyqSkbcIskgoOOKJyOaSGiX1xutvlLfefiuENbBESAIf8McORJYQm+pTS+DIHbSrinaIOq+//lrYBlElGgkiqN03EGWwiTBviCrRRWw7S/1EaLWW2q2IsHA+AwfEPLxwCGORCJOlbDV6aXPtB4ggYhmiD8IUx9Eu8h7ceeedsQyNOnlSnnMG+cZlBIyAEdgTAYtBI39FiCeJE+VlYljH+MVYh5hDImPGVwSdpfWVpeobq2gBV5hUHU4TJ02MKBjGRHiQhCWW0yPEMP4zNrNkPISTyjO0YQfRKwsXLoxt0BGftKwKxxMiypL36k5glRswpk+o4y5j6+TYWWtWcCycX+fV/EE44KgfDkPyanZPfejBh8r7H74f9cOjWE6mJepEU/NeCaRpJ2M9QgoRx5MqN5p+9PTgQOdXB9FJJ59U5lY+Na8+4TU4kp5++plw9H1ZxRpsnzh5Yjl6+tHxxPGEM44oab6n/SyZ07I8RVZjA1wNhxJcgigeyme5GBgQWcW5tJ9z4BzYRR2t7eVL8Jcd1WEIdpzL5+BC2oC8EYqXrw//785i0PBj7BqMgBEwAvuEQI4g4j0PBm8GZwSOF/B61dBfhJKIEIrtPLfFQIswoaTIijiShwViwoDPE8GB8F0EISKJIEeQKHITITqQiBmhgoFb9fMau34hfhw1tVx15VWxxTyiicKsCfklkSMhw3mXiQiJrlFK2lIVGwgbRjzBBrxORBoRig2JQ/AiZBohR4IJdah9kDPaA5FAUKIttAmSQtksFcMOxCAELm1rD0lRzoHIq1SXuNXUzp1tTsGBp5JNnl6JDwQR0sIuJX+tpIrIIR4QM+2cJlsgY7SDEGyetA1SRz+x/IxcBISx4zmMnAP1IWLL37SLCCZIFv2CoARp/KQSzGeffSaW2mm7WerkePU3fZPzH2i72tZSvlbeIq39/6d/+qewTbt86EJ1ZNA+/WR9khEwAmMUAYtBI9+x4kRaTi+hQPxIzgztwqqt5uEQjLuMt/AkbXDBeXKE0LpWPudWBBBPciDiJNIYzzFwE5xfd999dyxzZxxGkCGJMvl14BkISFr+r/Gd8ZlxlnEcrsKSKZaUEwGDYALHgnOx6yr5fVhej+OINnGuOE/kIKwcqi7w7iQ111buOeckXCocfVVgwdFGO+GN8Cr41KeffVrW1YjrnHspMKi8TrhWSlSjuHcGp8yOQM5h6ZqW0FMXfAuMEYMQguCO4KAlZq3fD+Uf3ok8hqvAXeBGiEpwJZa4ITTBUSjTy8SG/3dnMWj4MXYNRsAIGIE9EGhGBg0ED2RiW/X8sEW5cv9AaiR0EGLL4AshIaKFyBuenKcE0gzwEhggI4gMiDAQEXl3EB84Dm8auXZIgEg9EYLczgPEe8rhSX2UT+6ef/3Xfy133HFHZ0t5PEMQMIgHYhC2QgxEspRcGqJDFAxiEJFFrEeHWBCtgoiDLZxLWQggtIs2QpywSWIQtkN82OkC8QSyRbksmQIbSAoEC6EL23jieZNAQjsIp4acIAJRP+UQmYOoQ1mIUbSBiB4IG7Zxjh4iqIrA4TwiivBygTE2QoyIlMIDSF4B8AUDCXUiYbxCHPEEQriI4sEW2gPZIuKKNiC6QdIkJnGOchsRoYTNJLHUNZHX8kO6fvzjHwfetFlEWrYMdF36eyNgBIzAoYKAxaCR7+lmvkUlFpYYJCcGx0VemsoXWOYFl4ADIIIwZjL2I+JkLsG4jfggDqCt6JWUGh5BeXAOdhL74Q9/GHwF0YdyyMfzi1/8Ipan8UC0wQ64CvapfMZanDts4kDeITiY7IWjyAHGe2zXNu2UgX2IJNiGKIWIwrhNmxBfxAOpW4mb4VU8iX5CHGMDEvgUHALuiO0Su+TMolw4CG2D8+FQAi+OiyXv7Z3C4Djnk9i68i54JZFK8DW4GrZjE5+BN2XEcv524m+1Ba5FNDiY4HzjqXQB2KNl7BKqRv4qHHsWWAwae33qFhkBIzBGEMiRQQzCEg0YUJnUM8AS6cJkn4GXgV47MyACQGIk3MgrRcQKYgFiiXbJUugxx1APZS1atCiSGlMmgziDBa8QGwZxyAaDPK94t4gwwUvGA7u19TpCEOQD4gGZgKyJECj5NUILNmmnDcQT7IR40T5EFzxaEBiROOyA7Gm7WIQtvEmIJrQHsQvyoy3iwQiSwitt4on9ElJoOyQNWzgfYoIIg7eKsmk/2PJEDJIgo6VVsTVtfWgpG0QNjGkTQhDeOQgc30NKibwiOSWCjvpV58sTiD3YApGjXbQPAQ5MJY6x5h6yJvEIHCFTCFm8184qtBeCxvn0AfiyLh/vJseLVGIDbVUE0Rj5KbkZRsAIGIH9QsBi0H7Bd8BOFi+iP/SUKKS/tZEEx8I7GCcRJhCD2JUTp1BeYsVxcCXGf8ZdReUS/YJYAidCnGE85QHn+d73vhdRLNQNH4EXsBkE0dCdHVwrV4OHYRciE3wFhw3OLzZ9YOcvbcAhjoF9cBWimXlSv7Zdh9NwPNHPmeMg6nAOdtIuBBtFJMM9eMIlsBMOpN3F1CZ4AXVgG7wQYYc2wMHADt6lHcsUgQy/wEFFPTjh+Bs+1Mq39EHHHnCHD9IORUnBN+BI4Ex9lAPWqhuseGhpPhh7+foB+wntVZDFoOHD1iUbASNgBPYLAXnBmt4vER6EDgZrCAqTfbxCDLqKEOJ7eVYYwBmAETYY6Bm4EQTkXdJggBhEOQgOiDBEwiA2KJKHMrUkicGd95AByBGvshkCRtQL5ATigX0cr+gTHQfhgLjg7YIgQQogOtgIcaBuiFvkLmrn/OEzSA22yrtEO2gPAgyECUIX4dS1fMpBHMMGykJg4gl2iEEiGdjBeXilEIEQSRSqTF0QIsohDBwxBpwknGSPJG2EVGEPbYG8QXTAH/wQZcBXO4h1QtLreTnKR21DmFIuJdoN0cr9zTn0L0QWLxs48goOXAuQP4Vt02ZsBS/KhMRhp5aWSQzyMrH9+un6ZCNgBMYYAhaDRr5Dc2SQlprn3TD1WVMkgjMwFjIOMv7CmeA2Elo4j3IYM+EN4gE4VRhzEVsYR+EAPHDwIATBNxT9AycgmhqewqNpS94qHR4Gv2BZOyIND/EdxmgEFPgXZTG+a1k7HALBhCc8Bc4CN5Gzh/bBvXjAPXjCBRCOssADD+IchCccXLSLOuABHItIoyh0xB3wUyQV/CYSabcjzOEbcD/sgQ+Cl8qnHXAteJMig7ANu8FazjfKAAfqxYZmaoPMhUf+Khx7FlgMGnt96hYZASMwRhBohkTrhp3FIW2pzkDNk0EbcsBTS6DkXWGQZRDmidAAseC9BBORKggSQo6WIClMWbBCEjgWT1LsdlGFHMiJSA3HyS5IAGRCa8cVSSOyhm3KYQQBE0GAkMmLRJs4X4kcsUfr/qmfdnA8T0gW7cwRO7IVm2gbNkG41K68ph9cwIQyRW4UzaSILC3P0vK57JWk7VqSp7xDCC9gxOfURT9Blnhig9bEiwDlkHfs4XzaxSvnQ2pFzGiHRD+ImCKlsF/ETNcFhA/cFLKOTcoTlaOT1IYx8jNyM4yAETAC+42AxaD9hnC/C2jmUdTfjK2KZs0TW3EoXhn/GS8ZP+UIYjzU8m6OYfxUDiFxAMZXOdkkGiGEwHcYQ3OeRMZ0cQsaq3FV5ynql3oYzykDQUTCkXL+yMkH5+EzbFTUcSRjrkIKPAWBScvhaBeCi7gf5VM2dXEsr3ACyqN8ys44cB4P8Slw0DIxzkHk4SluRXkcKyeU8vtQDjxLnJT32CXHGzhryRz2wJOwlVfKyHzKvGS/fzKDKsBi0KBg8kFGwAgYgYOPQCY+2s1By5F0885WiTRI/MlESMQkH5/JE6RIRIVjREoUnitb8vKh7K3JZCwTFw3sElzy+XnQz+crKgWbIB7NHUOwL3v+mm3Ky+molzJExjgPsqKInuZOFRJkMjY5wXMW4nI0ULYn59zJETbUy98QIY7PoewSpnLy5yz+NZdt8Z0IJO3X+v6cA4lz1NbmdZMjs4Rnvm4cGXTwf++u0QgYgd5FwGLQyPdNNweZxjxxiKYYlDlIFmU0xkkM6jb+KZJZopE2zqCOnP9QY7GO1yYXucw8ngtJjcsScMR3+F52NSOfdA7HZA5Cnao3kl+3I3g0vut4ObcQZ8T5hFEe9zMPU7uwKS/hEo/KdTSdlvm7pi3CQX0nh5k4V8bDy8SG7/dnMWj4sHXJRsAIGIH9QiCLOflmLeKhAV9CRF/iQRZtstDTHLQz6eC9tlOVIMS5eZmXiI7KFKHQzloiSzpf5WfhJNuQj8tlZoKiaCQ+y7tvZaKj43OYdj5eeEg0yvhlnLsRI7WhSf4ymcrCTRbViCTiuxwGrWOzsKPPMtGTwMYrYlLuB7xrIo8ig4reyu3hOx5ZXOM4kU7K6UYK9+si9slGwAgYgTGAgMWg3uhEiQIaxzXGZg6gMT2Pd+o/8ZjME7KglHlKky9pVy9F7woR/c14Sj1a1qVl+pkH5PyCcgjlOuWQUnuyM0rfiQ/IucSxTV6l3cxkU5PvZQefOIDEMnE3tV/1CnMdz/c5wbPsyMcLG/EtcYzMfdTWJpdUXwnnzMl642ocG1ZYDBob/ehWGAEjMAYRaHq4MhnNhEZCQreBUgNvUxDSoCvPTlOU4G9FI2WvjWDOkUqqN9clW0UKRDKaYkPTW9YUhyRgyD5FMGWPm8hGFjny93m5nHAQaenrsmnalUlbJl5qX25XFnF0LJ9pi9Us3mRBjTozTvncLFgJC30mkpXbJHsoL4tmTVEskzYJSPbAjcGbiZtkBIzAfiFgMWi/4DsgJzcFoCx0ZLFHY6PGMoktcqJkYzI3ao77HCcxRmXo3DwO53Fbwg9lyWHXjNrOHCILHnKIZTtyVHXmFrJb43sWTKhPm44oEjnX2WxL5oMZq77OUXv4XuX3xUcyjxUv4bwsgDUdb03emnnWAbmQXMgeCFgM8gVhBIyAEehRBERkmhEu3QbSfDPXwJ4H2+w1ago/mRjkqCOVw6uWUwmqHFrd10AuOyVyiPQ0PVTdRCyJVFrHrvozMWsKTcp9JPFHy8OaQlRf7W/akcl/04MnkiTsmiKXcMr9kkO4RTKb0UnNcrL3rkla1afCuSlMSbDLdUjYa56bvXWZVPfoT8NmGQEjYAQOKgIWgw4q3F0r03io6ONuEbDZESJHkca97PzI42nTgaNxvVvEbo6eaTqXmjwrj//NpfJN8Ur8KEfSiGfkY7vZ2mwnx0sMysvKsoNP5XTjMNlu8Tc5kmRT0wnX5BtZLOsmYjV5o3DtJrJJxNN3I38lji0LLAaNrf50a4yAERhDCDQFnty0PLjmQTWTk/2FounFyeX1V083UaWbLd1EoCyi9HVOUxTRcdnefWl7U4jpD/9ufdGtzsGWMZC9fQlmfdnRV//kNmYcRfD665OBbPT3RsAIGIGxioDFoJHv2W7jWnNMa4olzTGyvzL6a2F//KL53WDG64HQ7DZWD5br7AsXGorNTW7YH9/I3GJf+WmTmw2Enb8fGgIWg4aGl482AkbACPQMAvkGfjAGyzyQDyTk9CVWNQWlvkjLYESJZgTL/ka0NIWboWDal+gzlDL6u7CaXsS+iNu+1jeY8nvmwrchRsAIGIGDjIDFoIMM+CCrGwoP2l+O0JdJ3cpt2jXI5ozYYUPBsRuP62a4ecWIdeeQKrYYNCS4fLARMAJG4OAhMFBUSTeP2L56XgbTqsFGIA3Fa9QXORuo7djbzRvXFKyGgse+RgZlW7pFRe2Ll67ZH4PBtD9P4kD9u68i0kDl+nsjYASMwFhAwGLQyPdiN14wFB50IMZioTDQmLw/4/FIID0UHLN9g42YGiz22ZHYxHowTsKRwG6012kxaLT3oO03AkbACBgBI2AEjIARMAJGYNgQsBg0bNC6YCNgBEYQAYtBIwi+qzYCRsAIGAEjYASMgBEwAkagtxGwGNTb/WPrjIAR2DcELAbtG24+ywgYASNgBIyAETACRsAIGIFDAAGLQYdAJ7uJRuAQRMBi0CHY6W6yETACRsAIGAEjYASMgBEwAoNDwGLQ4HDyUUbACIwuBA6IGPT1118XCuL59ttvl/vvv7+sW7euXHvtteX2228v06ZNi++c+Gl0XRy21ggYASNgBIyAETACRsAIGIEWAsxnmPccfvjh8WS+8+qrr5Z77723fPXVV+XWW28tCxcuLPPmzYvjmPs4Qb+vHiNgBHoVgW5i0KOPPlp27NhRLrroonLjjTeWSZMmxf2Oe1m81pO+0Q1RNziJQW+++WZ54IEHyvr160MMuu2228r06dM7YpBFoV69FGyXETACRsAIGAEjYASMgBEwAk0EJADt3r07RJ5x48bFxAgx6LXXXiv33HNP2b59e7n55ptDDJo/f35n7mMxyNeTETACvYpAX5FB3M8Qg7inHXnkkR0x6IgjjthbDOKmyJMHkUH33XffHpFBiEG6iVoM6tVLwXYZASNgBIyAETACRsAIGAEjIATyREmijiJ+EITWrl0bkUG//OUvy9atWzuRQSeeeGJn7qOyvELC15URMAK9hkBTDFq6dGkhMmjnzp2DjwzatWtXQSnnJrdkyZLyhz/8oaxatapcf/315c4774xlYhTITZPQIglDvQaG7TECRsAIGAEjYASMgBEwAkbg0EUgRwExUWL+0hSH+DtHBiEGbd68OVZE3H333QUxiGUWnKvJFnMg3uvV4tChe4255UagVxDI+dC4hy1btqwsWrQotJsLLrgg9Jyjjjpqj3vZXsvEFDJJo1CTfv/735cvvviiXHfddZ2cQRKLHCrZK11vO4yAETACRsAIGAEjYASMgBHICDSTRUvQ0TEScThuw4YNsUzsZz/7WYg/t9xyS2eZmFZN5JQayrvhlRK+5oyAEegFBJqRQYhBRAaxTAwxiJxBBPZwH+zc03LOIBqhfEEc8O6775YHH3wwxKDLL7881KQZM2Z8m3CoRg/5BtgLXW8bjIARMAJGwAgYASNgBIyAEehLDNLn3YQdRJ6NGzdGioz/+q//iogfHOEkkV6wYMEeEUDMfRQplKOFjLwRMAJGYCQRyOI3S13ff//98thjj8WqL4lBigziMx6dyCCFUWo3MQ546623QgxasWJFOfPMM6MQ1CSSDXGTbKrqI9l4120EjIARMAJGwAgYASNgBIyAERAC2VMeE58q+pASg4e845oDMXn64IMPYidl5jrnn39+ufDCC8ucOXPiby0LYw60bdu2zi5kdoz7ejMCRqAXENC9CB2HHRFXr15dXnrppTJx4sRy6aWXhsDNe93PYodEIoPaG4p12sDfrC1jN7Hf/va3sVzshBNOiGz6EyZM6AhBSrrWC423DUbACBgBI2AEjIARMAJGwAgYgYxAXtolMQhBhwmRNs7hb5ZSMHkiOojjyBV00kknlalTp8bcBxGJV+ZCEoOox2KQrzcjYAR6CQGl/eGetXz58jJr1qxy1VVXxe7w7CY2fvz4uMd1xCDdyNQIbowUghj061//uixevLgcd9xxZe7cuR0lKYdY9lLjbYsRMAJGwAgYASNgBIyAETACRiCLNRJtmCARFdRNDFqzZk1EBzFJwhGOIDR58uQQfFgaxueIQQhHvHcCaV9jRsAI9BoC0mm4161cuTLuZddcc01EBk2aNCnEIB5dI4NyziCU8d/97ndxUzz55JPLGWecEQXoZuoE0r3W9bbHCBgBI2AEjIARMAJGwAgYASGQ5y3MXVj9gIijZWL6fsuWLeWTTz4pL7zwQnx/+umnl7PPPjvypfLIy8sQg7SzsiODfK0ZASPQCwjkZbHc59avXx+RjqT5ufrqqyOB9JQpUzpCeAhCrBHL+YIULqmt5R944IHy2WeflYsvvjgUJQrzdvK90N22wQgYASNgBIyAETACRsAIGIG+EJDjOiY97WURyo+qqB5NoEggzeY5v/rVr8LxzbKKG264ocybNy+Kz+kxWEGR86e6B4yAETACI41AFqZZyvrhhx+Wp556Ku5nl112WbnppptCDOLexT0sjm+KQXyhG9x7771X7rvvvlg/29xaXjdVq+Ej3e2u3wgYASNgBIyAETACRsAIGIEmAnl3HYlBHKN8qXmZF170119/vfz85z+P5Kt5a/nOzjtVUPIcyNeZETACvYhA1mVIiK+t5YkSIhk+O8OTA40lsop03CuBtPIFccMkVxDLxBCDOPmuu+6KyCBO1g3VYlAvXgq2yQgYASNgBIyAETACRsAIHNoIZDGI9yztkhjEXEbCDq+IQa+99lr55S9/WTZt2lRuu+22cvfdd0feICZT+XgtMdNnhzbKbr0RMAK9gEDWZVj2SmAPW8uj3bArvMQg3QcRw/vcWp7CWGNGZNDatWs7kUHTp0/fI0wy30R7AQTbYASMgBEwAkbACBgBI2AEjIARyDk0NGdRVBCvSn3BpGjdunXl1VdfLb/4xS8iMujWW28tCxcuDDFIS8S07MyJo31tGQEj0GsI5PsdkUGIQY888kiI2RdddFHkDGJrecQg7mXxyjIx3RTVICWRZjcxcgahlLMVGQo5YlCuyIp4r10GtscIGAEjYASMgBEwAkbACBiBbghoHqPtl5UIWmLQPffcE7uF3XzzzSEGzZ8/35vn+FIyAkag5xHoSwzifkb+Z3IGIQZphVdHDKJlzTDKHBkkMej2228PMUjquJeI9fw1YQONgBEwAkbACBgBI2AEjIARaCOQJ0yKDGJyhBjEMrF77713j8ggEkg3I4PsDPflZASMQK8h0E0MevTRR8uOHTs6kUHsDB/Lw3JkUBaDFBXE61tvvVXuv/9+Rwb1Wk/bHiNgBIyAETACRsAIGAEjYASGjEB2gHdbJoYYxE48SiCNGKRztEzMYtCQYfcJRsAIDDMCfUUGSQxSZJDFoGHuCBdvBIyAETACRsAIGAEjYASMQO8hYDGo9/rEFhkBI7D/CFgM2n8MXYIRMAJGwAgYASNgBIyAETACYxQBi0FjtGPdLCNwiCNgMegQvwDcfCNgBIyAETACRsAIGAEjYAT6RsBikK8OI2AExiICFoPGYq+6TUbACBgBI2AEjIARMAJGwAgcEAQsBh0QGF2IETACPYaAxaAe65Cxbk6+4JptzQn2OK6/h47tdowT9Y2+q6i/6+Jgtqa/62qodvg6HCpiPt4IGAEjYASMQG8iYDGoN/tlNFs1EPfdX07qhOWj+eo4eLZbDDp4WLsmI2AEehwB3RAPhJkHsqwDYY/LMAJGwAgYASNgBPYNAYtB+4abz9p3BPaXR+7v+ftuuc8cTQhYDBpNvTUGbM0XHFtzolpLue4vMohjOZe9/GNFAAAgAElEQVTnuHHjCtvb6W/O43se2vbON8DRdbHk66J5jTT7PLds9+7dnX7PRE3naPvX7B3RdaZrRtcPr1xblLlr164o94gjjtjjmuKzpqdGf2e7dV37Ohxd16GtNQJGwAgYASPQDQGLQb4uDjQCTe6rVRHikN3mRRwj/gpn1VxI5/KZHo4MOtA9NjbLsxg0Nvu1Z1s1WDFIQlG+yeWbH6KPBCLe81DZ+k6f9ywYNqyDgEQbhBj1Y1Nk4W9EGl0H48ePD+GGRx78VMaECRPi+ywcZjEnX0+63rIYxHkSF7MAJPEon5OvP9XhwdgXuBEwAkbACBiBsYGAxaCx0Y+90ors0M5znewg13t9L66cnePin5nTZh5qQahXerx37bAY1Lt9c0hbphueBJ8cRaQJuoSBHCnkiIzRddnkGxCW088ScCTwZFFo586d8T3nTZw4sSMC5ogwrgu+P/LII+NVA6WifbJ4yHdZNMx15TKbApWihziG6KE8YOs8XcOjq0dsrREwAkbACBgBI9BEwGKQr4kDjUAWd7KDu7lyIvNjHJ36O6+u4JwcDW/H+IHurbFbnsWgsdu3Pdmy5uQ/G9kMh8wT8zypz2IQk3It5eEYLxPryW4f0KhMshB8ukXlZEFGAo8K1vWhAZK/GTCzt6Xb+fkaa5ala4lrjAGWSKRcb1O00uDNMc1laQMC4AOMgBEwAkbACBiBnkXAYlDPds2oNCzz1jzHEc+ER8pZ2UyVIa7Laz5GYpCXio3KS2LEjLYYNGLQu+K+EOjrBrl169ayefPmmJQfddRRnfwuOTLDkUGj67rqFhkkUQVRiD7nqagejlcoLP0u4YUooSlTpkQ0kIQYraXOETqU89VXX8Vz27ZtZfv27UXiUzMqiPIVqcR7XXO8pz7qakYZ5fxD9sqMrmvR1hoBI2AEjIAR6I+b5mXiclqtW7euvPrqq+Xee+8NXnHLLbeUhQsXlnnz5u217N1Ldnx9CYGcHkGijhyY4ra63nA+wlfhwzt27AjeyneTJ08uRx99dDjFda4cmeagvtYGi4DFoMEi5eMOCAKDjQxqhk4ywH722Wfx5OZ38sknl2nTpoVNTPpzVFF+f0CMdiHDhkC3EFkJPhs3boz+XrVqVdm0aVNnIORaQBAk8gdBBpFm1qxZQbymT58en4ukyXCuCQbTDRs2lE8//TTKXbt2bfnyyy9jcOV7riN5X3jPU0vOuOaOPfbYeM6cObMcf/zx8ao8RtQj8UhiloQik79hu3xcsBEwAkbACBiBg4KAI4MOCsyHTCVyfDejyrNDHDDgoQhBq1evLu+9916BG/M33Pekk04qp556asyLMud0dPohcxkdkIZaDDogMLqQwSLQzAWUb1hSsbtNnpnEv/nmm3EjZMJ/xRVXlDlz5uyxE1lW0nVhD9YuHzcyCDSXdzHoKSII0WbZsmVlxYoVZf369SHa8MogKDGIAfCYY44pc+fOLeecc06INFwfRAlpWZeixfCmfPLJJ+Wtt94qS5YsCUEIMQihSUsMm54V7OG6pMzjjjuuLFiwoJx++unxSp2Ujb08VB/n8Lk8NRaDRubacq1GwAgYASNgBA4UAhaDDhSSLgcE8vWk+Ys4qJzafE4kO6siFi9eXP70pz+FQxM+yxyIudBVV11VZsyYsRfnFcrmoL7eBkKgp8SgblEjfeWR6daw/OPZl+8HAiv/sJrKbfNH19f3fdWRE9AO1o79qXMgrPKNqT+bczsHU2Yui0iNvCZW3zXXzhKh8cUXX5Snn366vPHGGxGRcccdd5RTTjklTtHxmvTnm+xAWA7V5sFcAwPVOdD3/V0L+2pvrrMZOdVftFZ/tg7GzoEGoVw37xF81qxZE4PdRx99VD7++OMQgCSwEBXEICihRbl8pk6dWs4444xy4oknRoQQgySRYzkJH+dR5osvvljefvvtKJeHwm37WvLF53hgiApCBDrttNPK/PnzQxxqikG0wWLQQFe4vzcCRsAIGAEjMLoQsBg0uvqr161tRsY3OSj2K6KdSHaWIj700EPlgw8+CB7MCombb7653HbbbeWEE07opEnQagkvE+v1K6B37OspMagbLNnAgZb/dIsGyZ8dqGiR/srJwsRQunlfz2uKIYNt40BYDUZQaZYxEC5a+6p+zBN1CTlSxZUVXzdLxIHHH388boaERX7/+9+PSXlTnJG4NBgc9hfzbkLHYOvtTyTpz67BlD/Y6y7Xsy/lDsbO5u+3aVtT+GPtPUINUWD0OcIK0T8IgDx5r+VbRPQwQHIckWOsm0agOfvss8t5550XohADqQZGBk8G0VdeeaV8+OGHISjNnj07hB7EJJac5d+TtqTnM+UMon6O5ZxJkyaFGJSXhdEeiZzKWTSQIDbY/vJxRsAIGAEjYASMwMggYDFoZHAfq7U2naFqp3gxf+OsJFUCPBdu/OyzzwaPJaqdSPirr7663HrrreGohJfCVZUqIc+PxiqGbteBQaCnxKBsTLdJfv6B5B/NQJPyfZno9gXvQGXtT4TPULt0IFuGWt5wH98UH5pigkQiTai1fTchktz8nnjiiRAJiAD58Y9/XM4888wwOQtJWVnvaxK+PyLQYDAajvKHo8wDca32Fak0kHCbf7/5d8+SMAa7v/3tbyHwsAQMUYeBjlf+ZqAjQojvOf7dd98t77//fogyLOc699xzI2yW64OysxjEsrOXX345BlbEJS0ty8vKhHXeIp7PGGRZCqbyaAPvdVy+fvM1aTFoML8aH2MEjIARMAJGoHcRsBjUu30zGi3L15N4Yt5enjkQXJf0BkTJMw9iqRivRNDjnLzwwgsjOoj0BThDM5eVQ9McdDReHQfX5p4Sg7rlk9EEK1/UGM2xOeFr3lKc73l2S+CqiZ52J+IYLevIkzyVQf3aoq/bhFz5QnSMfnTajrq501U3Qav5Q1X7mpP1bEdfk23ZLZGEV0Uu5OS4wjNPfHUsr8KO97RF5WknJ2GlCJ6csDdj1yy/2+Wt9qr/FW3BTXDLli1l+fLloYgrooOoj5/+9KcxkeeR8VK76BclAc5tyBP8jGeOUsr2c26+PvSDUfilsMrn5zYK89zHWTQQ5rpe8zXIudStJVEcK5vVJ2pvHkC6XRv52s0RL81j8/XZvFZzkjvhKPub9ef8T/0JQ6pDuJIT6o9//GMIQgxq9DHLAXkSxYPYgyBDlI8ifd55552ydOnSsnLlyrheGBxZRnjJJZd0onSwASzJFfTCCy/EsQhMrLemXOpq/s6bvyHdc5p9lu8z+drxQHxwBzPXZgSMgBEwAkZguBCwGDRcyB6a5ebdxPKcVbyYeQzOcNJj4PgkcTTzos8//zw+gwOzQuLyyy8PJyjvSWcg5+VgnbKHJvpudUagJ8SgbISMy2KNJvz6gTAR5kfCMfwwmMQxmdOkjASz/EiyUMB38urzqoktS0OUM0TCjSZ0lK3vVCflaEtrTdyVzFa2S8zQhF0RLqqT4zlGbaDMLCrJVmzTDkV8L4GJVz0VgZDr5jNFMchWiV7YQLmySZPqLCpwDOepDAke2K0lMFnFBqc8qed8tt7mM7VR9jUny5QpPGQ3tlAmS4bIns/SMG58TOC5GbIM6Ac/+EFEfsgO6iNihD7BbtolbLBHdqj+fOPVtaYyOC/3s7Yel/ioOvN1Bi4qW/2MHbKHV47nOMrWEiKUfeGk8qmPz7SDAHbpOqTvdN3RXvVv3h49R0fl304W7PI1Sj26niR4ZNt1bBaUsnAncUR9nIVEYanjm7fffN3wHcLO73//+/Lcc89FXh5CYCUGEQKr3zDl0X6EQqKCeBIhxPIvxMK///u/L5dddllHyMQm2ogY9Mwzz8TAysB5zTXXRIQQS75kd8ZP1xCv6ju1V1FBun9p4NXvvikQe+gxAkbACBgBI2AERicCFoNGZ7/1qtXiv3BwzbvEPzVvwcH5l7/8JbguvJylYeTWJJE0y8f4m9QZ559/fnBeeLOcyHZI9mrP955dPSEGZaFAEypt6Zwn9BJkmFQjCiAOkFiYLOokjOWHwjF8xhNFVWF2TBxRTLXzEHk/mAAy0aYuTewUjcG5lMGPjeUo/CDJ5k55TMiVO4SEtdRNeXkSKYGHc8ltQlmcjx0cz4PvEDyYyJPMlnMoBxv5cfMjx0bq5FxthU3bOZ5yJRzQdo5lwkziXMqgvbxXhEyepFIva04pE9tUliJ9aCNlEHbIK/lYENw0IRZOiC6cj03coPgbO0hmRntoI4IO9oNhjrKhXLYE50kf0naJJijfhEIyuUcIYrJPm2kvZV988cWdBL60nYk9uGIn7aZu7OFJvdhHm2UnF74EHM6nbvAWZvxNH0sIydchbeca5NrgSdtUF+2nXEQL+gJbKZe/CfMEZ+qjX6iDHamEKwIYWLLLlTwAXIeKauFaRbigjdranOupaWOOQpIYxGszOol2YLuwoS4e9B8ROPRJjpjJYofEJwlbWfTJUUvCLQsm+TaYo4+whwiwBx98MAQb+uLSSy+N6CAEHvVrFmPAirBZRCSuFa6Rs846KxLqERmkSDaJoUQQEXXEvQOR6dprr43rj/7BFvDUrmCKdpJwmCOjcrlZ/JIgiI0S9/L3vTcE2CIjYASMgBEwAkZgIAQsBg2EkL8fCgJykub5rs5XwAD8HDEIRyZzEkQf+DepFJhTwLf5HI583XXXRYQQDzl/dc0OxS4fe+gh0BNiUDMySFERmmDSLRJ1mLwiMJDzg0gAXlnmceqpp8Yklkk66yt5Mvlnks4PR7sBMfFjkojYovwj/BAVncJ76mA9JpNLRAgmnNTJkwk7E2Qm5JTJRJUfHzbwGeWoTkQIRA2elEOZCAAcz8Sev2UnogKTRybhiohA4OB47OeGwA+fiAbajE0IOVmgon7ax6SZ9aNggpijaApFFtFGyqIc7dqEHYo+An/qJUcLYhcZ61lSgzigqCXKQNhg8g1OtBEbEUOwgboRlBA3aDuTb/qD7xV1o12ZqIfjKR+hBJGK3C4IA9wAWTrE+dpVCiGFc7gB0ibOueiii+LJBB9RiEk9+FM/54IbT/6mfPqIdoI55SCuIMzQXq4N3tMXEh50Y6XdnMu1gF0IVrSL/qNc3dzBHOEGeygPGxEi6HO+w0aEIoV1gguiGeXxxFbqQKDhO2zlesU+ngwIlMu1qN9JjmLpKxInR/TwXr8lRV3xGX2P7dgHBmDJQ9FCvG9GeHW7dUp8kojUFKlUTn4F00cffbT89a9/DSzJD8VvjKVf/C64pnJUGnYjFrJdPH1Lf3I8Ig+DY45kA0fuGUQdgS/XNZFH9L2EP2wRjrlNtF2iTo6U6mtpaVN4O/SGFrfYCBgBI2AEjMDYQcBi0Njpy15oSTMyXqsE4JrwX+YwzPNwYDJ/YG6H4AO/fP3112MOwtyLeSAcWU5Q5hgWg3qhh0ePDT0hBmmCmpfwyAuvMDcudibdiBcIGWwRzY+DSTgTdyaAiCEcj2jAsYrm0WRaUS/kCeGHI0FIS28kukhMQuRQHhK6VOqtJsf8TRkSNRBMmEQzwWbSz5PQPmxF1FBCXCby/KgRrhSZgxDA39iP0LFw4cJoE7ZxHu2kvUxiEWFok5Yd6XLLS5sQIRCdmPAiIkg4QchAtGFSTFnUD168UpeW0zD55RxEK9qI0IIIoYgZzkG0oH1EZtBWyuYBBkRnINrQbwhXikSSzUzS6S8EIHC78soro3zqpBzKBTNEIfWDbnqch3iEGEefcuNj4q8dpHQdgBnnYid9Co4KxaSvJX4xoaed2rUK2ylLWzXSJuECdhLjELnAUBFReYmVBEawkIhG/VzjCCwIEAh1iEKImOCDrRLp6A8wwjYJGvQPdtI+9S1l8LfEjBxpI2FD10de5sVn2Kv20A7won8YaLCRaxSMqZO68y5aTRFEvy0JRt3s6OahaB7H7w2x5vnnnw9xjHYhtCJuch3yN7bwGwR3cKN/+Y1xHYAr1wZ9yO9I9xT6DyEX0ejpp5+OQZS+4T5A/1CewnIlEtJu+oYnbVc0YbccYlkg4r2jgkbPIGhLjYARMAJGwAgMhIDFoIEQ8vdDQSBzckWiw8Hh0VoxAg9m4xzmMMxJbrrppqhCEfFExTNfYo6GGET+IJzESpvhyKCh9Mihe2xPiEHZCC2/yBNZoiOYJDLh4wdAxAgTZyayCCNEojA55oeC8MEElh8Dk0Z+WAgXnK9IHyaLTAKZ8BN5wIScySKRHUwsX3vttYhm4UfIpJ4yiUpg0ojAQZkchyjABJRJI9+zXpM8Nggjihph8skEH0GEHze2amckJq5MMGkf50hkwPYf/ehH0SaEAGyhPH70tIX2aRkZ75l4IroglnBTQDRiAn3BBReEoIRYBTbUTx2Ux45KHM/ElUk/ggJiDDcQ7KEeRSJh8y233BJtw2ZwRahhUk1fINiAk8QKyqBORVwokoo+1XI36paQAh7cxJjAc46ig8CEfsNe+g4MwBGssQd7sZ96aS/9xHuuIfpSW5Rz3dBnCByK/AE3LR/jOkIIwR4eYKbs/LqOwBhcOIbrg/7HFtqDQEEeI3DiPQ+iVGgjog7lc32BCeIcNshWPkfQ4GZPuQhG9DlCBX3Mq5Y/qn+55sEA3CiT65ny5E2gfuUkai5tai5pok3USVsoH8x5BRuO5drWMkzEFa4j/lZOKIlA+t0qgkaDXI5E0nKrfLvNEUYcy3XH9cvvhmsMW7hudX1KoEKgoY/BCjwQhsBC1x19zW8r52hCQOWaePLJJyMZOd9pOSNCEU8tcaPfqQuxjWuL47SbGW1XrqYsNjWXx6md3SKiDt0hxy03AkbACBgBIzD6ELAYNPr6rJctFj9WygrlpmReqVQozIEQguDk8FCCGeD3fMackOVi8FrmLTfccEOIQeLJSn9gDtrLV0Fv2NZzYlCOFNAPg8mettVjgsiFzwSfCSDfMRFG+NCyJibKRAsxgZTQgqDAZBsRhImeltrwwyLqgLqYCPPjYn0m5TMJpWxEirwUjB8pS1OUo4SJPyIGAgLqLDYxoUW84DgEGoQl2oZgwLGIUAhSRPDwOZNg6uQcbPnud78bYgDnvfjiiyG4cFPgO0QAztXSKglZyq9DvhVECerAdiKRmCRzM9GuXEy2ETKwh7LAANwUcYE4wq5LL730UpR1/fXXxzHUjSBGOU899VSIc7SPNijfCsdTH/3BRBoBhHZyY0J4oC/pD615xYa77rorbmYci1DDg8m7luvRfvoPXOmLn/zkJ9E+6lVkl8IiEX4QN1hqRB0ICogq4IVog6iFWMBxCAr0H+2gPdRHuXfffXfYg6BAe6mD643r789//nO8ci5tpp9uvPHGsF0RWNRJfyI6cA1wHdKnXB9gqPw39Dt9TplgrQRx9BnXtPINcS1ybXIMghT2gy9YIGoqZ5bECUWvZHFVkUtatsWxfAbOXNNcaxILwY/rmGP5HfF7og7EEcQgJXNWknEt31LZ9J9+y+qXbkvX8u+dAVFL+7im6G+wwxZs5FriSX9QpkQ2JZAnugwssDfnAJONlMF1xHUBjvQf/QW2/BaUzwrb6Vfq4Ulf0XaufwnOfK5E9BKuJYypbotBvTHI2QojYASMgBEwAvuLgMWg/UXQ52cEstNUEeniycz3mJcwX2KuggMUHsr8RM5Q5g445ZmrMR8gBQpBCZpjwGMdGeRrbjAI9JQYpIlrM6+JllNpsiphiB8CE2MmaFdddVVM9hF5FCXCRI8JLR5/jmONJTtTMYlk0opgQYQJE28mokzgidBADEK0YMLNMUzKmQjyN1EBTFixQTsZUSaTY4XoMRlkko+9HKdIByafyiPDJB5hACFBO3opeTC2YRPlYA8iBd8x+aRtiBlMemkrNwXwoo0IOCz/4saAcKFoCo6lHZTBJBh7VR6fkzdFS+a0HApbWarDkh3wR+gAZ7DgZoRogiCkvqCtypmDXQhM3JCwF0EDwYd2cYyioB5//PGY8NMGiUGco9xLWSRjEo/tiFjY8G//9m9hh5I1KxcRGDGppy8XLVoUYhATfUQg+pAn9iFeUD7n8T243XfffSHMgAXCDbghBioSBtvpj8ceeywig3jQnxwHhrRRN1/KBGPW+pL1n2vle9/7XvS5olcQIVD3qZsbOgIZghzY0f/KW6SlkopaQ/TjGgQ3BCtEEMQ2tYl2ySOgJWbYKjFIfay/OV5J2Ylkoi+5fpVbSeGrWvqGmMr1TnvBR8nKlXcrR/vkvF8STZqDoQQkLdPiN4sdipZCVOPaVpQSGNNv/EapE3sQqRAs+V1hl3bi0wCrBNKIXVxD9DMCHWKf7jtKHM1vSbmalMgbrBlsuTa4z/Ce6zRHHlGOdnHwMrHBDD8+xggYASNgBIzA6EDAYtDo6KfRYmW+nmSzcrsqgIG5K1xTQQ5wXW06w5wARzJzDLgs3BRBiHkG8zVF8DsyaLRcESNnZ0+JQZpE5h2nNInlM3nwmagSmcGknMgBJte33357RyBBBFICLSbNvCe6gEkgE0xe+YEhCnz/+9+PyTRl88NCPCASh8kcwgQ/LC1BY0LIgx8rYgsTeQSKRx55JCI6EINQZVFvtdU9E1tEE45hUot4oAgGRfZojai2EgcH6kIZZkkL7aRO2okQRLQP77kpaOt5JqJMjqkD0YvJs/LycA5tRZBA3MEe2qecKQgZCF3UyedMtpkQIxohLIEVNxMm/STmJYEZGCs3EuWBqZZjIdIwMcdOoiq0dlWTfTDk3P/93/8tCEKKhAJnRA1N5jlOCarpb/oFpZwb3b/8y7+EwCOBIS9Xoi9pPzdIrg8e7EpFf3JDVVSOxCAt+/vNb34T7QBXorwQnbAHMUiRY4hX9CXXEzdfyqTPeWqJGMKD8k8hqD388MNhB8Ijx4ELZbI8DOyI+OG6RHzhe9YE02eKtPr/7N2Jt2VbVd/xgxGlFxFsUFRQUQEFBAUfoMALj06NOlATbJJ/K8ZEQuJQUPo+aGKbmEQFFFEhgihK36qxg5D72Y9vOdmeW3Wr6hV1q2rdMc44556z99pz/dZcc835W3OtpU3ocBlMiAz3IUwQUYgr2HVMPSzmvlYRMnX29reBS0STz3Do9DLXziV97X2lPdq0G7HW0rGWvqVDmbRjmzEfM3dlKcGNDDMbsCWi8FFeBB75IoiQjvoV0tLn0mTVb5JNyJ02X9d3DLJlDilL3ehmpFj7VmkrfXoOtu1JVPtEBnlmmVnp5/Uz8evJC4GFwEJgIbAQWAhcLQKLDLpaBG/++2dQva9tpEwZQcfIIP6tWFCsI74UZ5qE5OOLLfmpXv7EZjLdxYnK4ve6znIxcQZ/fGYGzcz96aOv7KGbXy8vVcNzQQaVCVRAOIWewarfkRQCOh3lta997dZZBKWW9Qj4BfI6kr8yJQR7yIH2nrGMCtHhWnvzIBdkqyAzBO0IE8G0wFKHwrB2xHZZBAXLrv+lX/qlLaiU+dEpT7I6ykxCMr3kJS/ZSBoETJtDd6x4AXOBq4BUHWXD6ORIDXVQPy/17fSy8FHGXBLXyVtIhE4Cs2QJZmRWP6RLpzW5rqC4ZWeCcJk/smyQXwwRogLx5vntN6MNlO16snve7bffvmWtWE4zj02sjuR70YtedHjNa16zkRCwa38jGMVoC8oZPNkziBVt5Lof+7Ef28ga9VZ+S3N8ZkyRCeSCvWciddoUm4HsVDBkoTYV7MskoiPkv+OOO7a2Rx6RBz5lECF3GGjlwlCb33bbbVt7e4bylUtu5CJjTQ4E02Mf+9iN6GG0kRJkpBfIICSEshBCnuuPnO3d43cY01V4+N/64O/7vu/bdLgNtdUn/JArMCLXzNiZfcz36ZF72w9Hu3iGTKHWLdMF36lfm1nrH+RFjsCjZXX1Z88/LVOmPY1qx5artV8UvfNbJ9WRU/sihuiQ39uvShu31xK9RlBNYiYyUlnJ35Iz7VvGkXb28oyW5tELZSEA6Z3BFhHnr35T+S2LW9lBlxp+1u8LgYXAQmAhsBC4MRBYZNCN0U7nVcpIoEkKtR1Kv/FvxVFiVPGfCWqrK8QN/Ot8Wu98YL+7Vjkm9U2Si1/EBvzVSfQs0ue8asb1l+tckEGnMamTPS3zAxk0M4PsASRLBpkg0EbwtJFrmTw6CVJBAC8Al1aH8BE8u0/Q3zHvlnQJ0BEdAkXBZewqeQR+dd7KRZgIiO0bUzZJS7jI6pmyTnRYndkz27i649RbbqJMQTgiwXIgclpqJPBGONjjSHYCMsF3kwyCUQRNp0L5XT3JjlRCSiFuBL7qJdtHHdtYuHflCLSVwzj5Q47J+LGkCzHUsYfagEFCFKgHUgBhxCh5dmmPYUdOeL/85S/fsmY8ByauR8TAqDRI18GizCBBuSD8R3/0R7frlRlhQvbIOnJbEoQEjPDpqHbX+87/iIGIIYG/77Xhs571rI10a58cWMGkNvEuUyfyCy4IMtdpQ7+V5imLRx2RQTLN6CvyUL0sAdQe6kfW9ufRvuEW4UD3kRQIHmQXAoM+kBVBVsZT13sPj4iJiMdJwrQMbGbxRGyos5dnwoaMsoTaXNz3+gkySLtEVJYlVdkRJGTaD4izb2szRK8XzOimNoCL58AXLnCgG8nhc/0evjLYtCM9LzOtfqs+LedCGPub+xrRnbL1tDOyTlt2Ip06doRnpzaUbTWzr8oOWim613+gWxIsBBYCC4GFwELgahBYZNDVoHdr3Jt/m/+d/zf96yZmj5FD/Hz+vZUQVoVYncFP5QvzN93D1+2AJLGGOFP5vkMa/eAP/uDmAyOH0tmZJT+fW7bQ8lNvDf08rZbnggzaC7cnh2bGUGSQYNFyHYG04MxSGVkVSBnBX0tjyjoS+CMrBHRIEdlBAkuBtM7TxsaW4AjMBaI6HkbWdYJDZbUvStkoBbs6KjkQS+2VQw7ZBbIqZMHIyEEYyAxyjcygAvg6og4rWEVKCboRQTJidGpkgqwRpEynTHj0DogAACAASURBVM2OXBlk22dcqJ/Ml5e+9KUbcYOEErBjjpVdkF6WiEC2cjp6HdEmM0lWhHogB2SNCJZlqqgn2dXtmc985oYrDGf2Tm0JFwQZMsg9MruQO0iFjktvryjZQLKktDViBeP9/Oc/f8O706vKBkuXkAXt29QpWdrUsyK4vLuuZUeyd5Ab9MiSLoQdrNsLqKWBdM+1dAWZ1L5B8zQ25IRsI2QFAgUOERRt1I1gUH9Lzxh0ZbUvFOKDLJ0KVvt06kBZKu0ZBHPEXvveRG406Li/wWgOBLNv7X9vOaQ+ByPYITY7lQ9x43s6JI1VdhL9h1dErOdG0swTuJKn3+vXcJUl5UVHy7RTfkfAK6+lZPpIR8vDE8EmQwhZgyhzD1nKfNMvJvG6tz2ROurlPnVsbzJ7idFDZFMzL+payu6cdSkbas3E3NoD7Kr9QmAhsBBYCNwcCCwy6OZox2tZi2LOJjmLqWastve784fb7kPMIF4U+5mkRvKIIfix/FexgfitiW33ianEMyZPrXgRp/FP+d3iCK85aemZcxK0RIBric0q+/wicC7IoD35U6epEx0jg3QQrCmCQPCH1GnT3TJmYmZb9iSQFZxb1oVkEXDLSEFazM2eBZU6nwwcZQr2EQcF4gXYBbcF5q7T+ZArOqrOhzBBZvzsz/7s1rl1VPsUkbkTz2bWhLoLdAWdAl2klZdAH0GBjGmz55YCzWyEGdDX8dscG16vetWrNnmQB2Tp1YbDEQVzWZHPXp6H8BAMIwA6+QmZERkEp5ZZtes9HArAY7URKwgyZAgioA2bESUIuE77QujAQUDOMCKy7A3z4z/+41u7ZeDKhFLnNtOGYUfAC+7nyVfaJ/zSD1lYiCNtA2vld7w7fahcZCEdIRO9UW4nbEXmuTZixu/aGpEHv067Qiq94Q1v2OrEiLsXEea53ieh2UbQc0BBVpQ543p1KlOsrJTT+tY0SZVZf2lZnwGGXEgtgxNs2lza92SS+YUY1OZebW43T9Sq3zSQNQglQ6eZIXIiY7U5ss/G8NqATpTFQ75kRKCVrSSjz2wKGWTRIafok7Zxb9j03Aa/SZ5GLsJNHdS3jEK6ivgkD7IT2VR96y+zfWbW3vkdApZkC4GFwEJgIbAQWAhcCoFFBl0KofX7zAzq88y+j/iZGUPInWIj/qwYzaRr2ejiSokDHRjEZxW/uA8JJGYsJuFni4dNPnfQSROWnt2KA89vtUattrKDbl39PRdk0B7+s2YGCaQtURI0Wrpk4yxB935ZiKBM0NhGtMggqXeC8h/4gR/Ylre0P44OhdiQYaQz2SNHAF9nJutMu4uo8oyeO7Mx6qTIINkOyJfv//7v3wgVzygrp8BUZ0SyCIbJJBvBUiKyIigshROMMg4z+J9yRQJNo4MIg5c9gwT1Mkpk4ngvgyfDEAlXmb37nqGJbFM3ZI3lb4guWRSME/m0h3JbLlQbF3gjS2Aiu8tnwbVlPQX+SAZllbHVnkEyg5BBP/ETP3GBDFJ2p4m5R5YNY6qN3UfGjKl3BEovdUEUyORpCR1ygzzwaR+cNtXuxDl64jkMsWd6Ph3pZDhEAqJAWdpcveDRyWQdFU8XEZvIFeQkDBAZiJX9fjeT6Iscco02ieyIeNmTQftU0JaPRTi5L9l9Rq4h7CJb4EknO4nPLIW+hmyRPQWn9t+J7EmGMoPIGik4ZyHoEd3RVsggA6DnWFInG07ZbY6dHpX55n+yahebkb/61a/eBsxOvfOuDbRfutd7hGAZWOEbyavsMgrJZ1kje5N+I4PaqBr+zQhNcnZlBt26g+uq+UJgIbAQWAjcPAgsMujmactrWZPpC3pOGek9c5Iw/M7IID64SWzxlLiF3ypm4HPyt9sXlB4qoyVl/FST2eJFk7diJCsoZOrzn9uuY++PtnQsea8lJqvs843AuSSDgmwKV/BK+Sl7y8QQEYgVwTtio93WZ2aCe+0ZJJjV0XQa9wnkEDMyCLCxMhMsz5JtpByBqBfSRofthLJj5FXEi/c6tucKqJVpSRQiQ1ktTSszqOA50sU95PGyvxESB2mhg3c0OYIKkTSzHSKhZipgmTMwsxkZ8gUOsp6QHY4xR4Z1nPvFmOE9ISYIZ7DaBLk9g9TRpsYM0TEySDCuHX/u535uq5vPcFY3WTnud19kkHZBmMgMQhYwcvYMQgJO0kO5SIT2W0IGIW20mwwvbarslsghazoJCtb/8T/+x+2Id993Qpc2atM2xA9ShBwyzBAi2iASsM2r248GpsqS1aKMlix5JuzUxfPUDXa1sSVIdLpliQ0mU098jmTpe203yaCpD1NPZjv2fZtFG1S0qf7iM5KqemkPA5CssI6TVzd1VDdltX/TfknYnsSZWTMGQBlcMqS0V8sN6TsCVLvBuAFrEknNvNBvmW/6mfZmCwyCne7nHoQf/bAeW12QRIisNv0O08rXTrBABOkziCaErr5DP5BB2rjTC+s7c5+mRQad7wFwSbcQWAgsBBYCC4GzILDIoLOgdGtfMzOD5qTrfm/O/MX8dH6nRADxFFKHL8/X7DToMoMq3/18Z767GMr2Jyb7ZRSJvcQ8JkPFefzzJlCLjed+nrXYygy6dXX3hiSDBGgtE7MsRNAnaIwFFaALrNv3RiXLPJB94CWYFwxaJoaEECTKSBCQOv1J53HkumPUBaOt2Swo1ZFarlIAPDODCnYRCJ4nq8DyIhkp9jMRrMqqEEzGzhbMdxqW4JUsLaViGGQ/udfnTrkqk6c0w7nMh2oLdhkMJ1vJREFOea5AWKYRQqjj3GdWUWteJ3ngd/UkszIF4cq1fMaSGn+MlowrcrYUq0CegWudKzIIQYX8sr5VJkibNrsPDmUGwS4yyFK5H/mRH9n29OkIdXKRR7YOksVLFgeZEDr0A4EGs3bYR+bISiEbMshR94hCBIfMpggF2PjraHcyI5zgpx0QI15zuRV86Ex7Ms1Tq5TFeNM3uNE59fMdoguxqW7t1aQs5EXGvHYpO6gj6CfL315DM4PGc5OxAcV7pBuskFL6is90t6VgCB/Yqae6mGlQP0RIe/KUJefZLZuaz5+DWAOg67Qzkg1ZiqzVN/VxWJSZ18bcLVlspoXsZHS9drEMEuYITnahpaMRTp4DdzqHeEQ40Vf3JLPyvJBKU5/YGqSQtkHo0kNY1O8jc3MA5tKxW3eIWTVfCCwEFgILgYXAjY/AIoNu/Da81jUo1slPz+/OPyw2bNKxCVzXi6dsC8KXFZ+UANCBQXzSJsCLQZWrDBPLJiwlSohZxJd8VH60SXC6GxHk2cnnc//PidZrjdMq/3whcEOSQWUG2RBZB0D+WFqDDGr5VcF3JwcJApEDMoIEjjqPYFAWBva0pSp+R5gARnkyC9qct8yOltGUoid7QuAnQBZUFpxramSGlD9HqCModGrEBFKnTXHLoihQLxODnAgQ9WwT4k5takmcILnNwXTuZIqoIkMBe1lRshsEw2RRDoODGINj+/vMOiqz5T2e5z5lwoxcMnDUUeAMN2SKfZEigwrcC44jeZBBGHABPeKN4cKCl93lexkqlrgxcIga7wL85z3veVv5LZVjxJRLHqQCgkV7axvtKFMJdsiMduF3PZmx8UgQrLr7GE6ZSu6jI+qjbVzrd9lV9El5focHsqQlZ97VVb3hlV7Aps3Nw0AmDGIT0SAjRp2cTOZde7jXPbBoOZr20H5tcozYS+/mcsOZGTRnHyZpFfEIN8/3HibkVxd6j0hDrnSiQRsyRzrts5BmJlImb2bJNACGk2fTT6SYF9IlLPQTGGs3L/e4Hwbazrv2M4jaC4wu67faxkvb0FU4t9k5G8JWIJu0o3rButmWlh2Sg03QdzuZjly33377poeRznuiTTlhs2Zbztegt6RZCCwEFgILgYXA5SKwyKDLRezWu35mBrU/z35P1ukTNiErVhHriHP4suIO/mmTjm1jwAd2TzFeqz/EEO1B6lqxUROqfN3ixOmr8vHntgjLV7319HUfn9EtMZWYR6wrFpIwQxfbIqb45m4nF386lnNmGvhasPzKV75yI1zsuSMLZh5vdznLJiZT1Wy7QBhBILvFshDEjb9OMhKgyS4RPJJNdgNCRnaODBaBnQBdtohrySi7Q/kycZAaANApBcGyAJACrnFPR/uVFSNDRJCoowkoEQkIh/Y4aU8dskrf8xtQZS60uW2ZNmHZbvGMA3lkByEf1ENjIEx08rKD1EfwLeAVyMvqkOmkERkO5ArZw6GAmDERLCNiyDIJoZbjKUvgbGkN+RACgmHYuEYWCeOlTJjBsaO3pSdGys3T19wneLeBNCLJn/rIUII14qGd8skMX+2HOEL0qDeySVaTdi5bRJu4FtmlnScZ5AQ397ke3pS9DcXVUT0sD3Q/rMgDZ3VtzxnEQ8sTEQvavCVC6omQ8Y6cgTu8/N/+RL4ra60BAAmiTG2s7yAuyNlyQPKGYSdulb1Dt80A0NG5cXMkBFxnmmr9KT1DLtExOtOeWcqkY4gRz61e9N538yj1Nlve24KMS4PX7McNNmWvGSTJqJ9oD+1sUNMWcKsdIt1mFlK6EZGkvWX9aDd2B9HZkfSwQzJJwbXhuewjg62lXsheGNLtiMJOZtAm5NF36Y3ykMcIVDK1V1M4z+Vva7bl1h1YV80XAguBhcBC4OZCYJFBN1d7XovaTH937u3pWU2Clo2T78wPF3vwM8U44j5xUPvEii3ynZvwnZk9ynGP/WW9843FOCZFrTQQb4pVmpCPEMpHX77qtdCEG6vMc5EZNIXYw1fg2lKl/dHy0ukoeJsPR2roPO5BYuhk7fuBvHENogLx4NXJTTpke8LIUtCZBJ/IgDY27shsnVrAKDBHlvheMOk6AaM/5bU8TUDps4C6dZwdQY8g2i+1UT5yR9AqiCWXLBLPFCSXAeVedY0Mak8U9yIFyCJoZVgE4IJl+7MgYco2Ikf72ihLgI4oEKB7dfw6GQXaSBiBcRtyC9yxiLDwDGQQNpuMMEFGtUEx+ZEvMi60HVLFX0vfECGWXyHVEBEILSQd8k8WmGchVATxAnhkSUSF+mZUESwIKnWEOXKFLO3xU0omeZA8ZIKL/zshi9wtW4MPY4qwwNojLZCSnkd/yyxBpHiVOZNskUDag8ydcEU/tQkig7z+tCVCSru4LgJGm2hf5I2XNnZN++Jk7CuDXGV07ZeHuUZbqS986aYyfUdWeqVObXhdeuk8bat+W9rqJDP91rK1+vTMTpqfy2hrTyZEHuKW7NpA/6QPHePeTEZEL9lhSH4y6NtIXjrVcj3Y0c+yxgy6tZvyO12PXnuudmmJoj7of+2mfyOZ2A0YTTyOzbJcDvl9Yw0dS9qFwEJgIbAQWAjcOggsMujWaesrrenMDNpv07A/4EU8K/7gg4vvxDn8WfEen9dEfVsdFJvlW5OPXysO4AuLecR1fFxxj9hEjKQMPuvcL7XlZnsffWUGXWmr3/j3nQsy6DQYW3tJyJkZ1J5BMngsCxG8Yj4LsJUX+YDQcX0V9b1rBYwdG14QXTaM4A8xgLAQ8OtwOmIZODPAQ1b4H2GE/FCmDoUgakPqNjT2nU5YoO96rwJR5WdIyhwhu/sQL4JkQa/fyiZSHvnLUBCc+g0mEQ8RVB1DqEzBtrLaFwbhULoh/NQBMeDdM/zesedkZrwQM4gqRghOyoKHoBkBhUhhyJBH/sIE0ebF8MFG2yKrIt3goX3KvGAsXScDybI5bUqW9q9BGiENyshi4Fouph3VV/u1zA8+7UHjO78pEx5kZETpguvIRDbyIKl8z9jSDcSQsmHO0LY/Uqmh6W3v8NUuSClGGrnhXvUjJ4IJ2YOYgmNLv2LvvbfkTh21u3IaLDw/QsZ7bD/sp/73m+8iV5tJICNsPLvlbfPkg0icmQkzZyom8ZMs/e7eMsTm8rL6K1kaFGV3kYnOaps2eU5H24TbM2SEwYu+I+20E93Tz/ojr3LaRB4ZREcMpMruZLHInTY5b+8gvyubbtJLelG67hxAG1wbsBcZdOMPkqsGC4GFwEJgIbAQWGTQ0oFLITD3DMr33vvIfEY+q3iDz8sfbcWG+EM8ZTLWagmxBx9fHMIv99cErGvFC+JDsVhl+I7v2kRnK1z4xWIV8VwrKoor1n5Bl2rZm/v3c0EGTSEiQ2aANYNqwZsgEZFgfSRSQ2Am80NH8bsOJqgW/AkwdU5Bf8eL61ht/Cugay2lwNP17R+EqUVayCjwvaCzDWsjSCIZEC4FiZEXsmUsMynDxvf+BNlkaaf4MpTa2DgD4r1Al8EQICMN1E+Z6uh3sgjgkSKIGGULiCNI2mi6o8MFuogHZAaShSHxG8Oi7gXAyhRgu18gLKOqpW3wt7QJEaSc9rTxru0QM0gjm0I/8YlP3GSEIzw7NUq2BQKpbJRIHQF3hB3yRHnqX8ZIz4PP3NOmOpNZe8GKfAytZ5Ehcos+kJFxVCc60AbKCAOEoPaCARzVQzv5U54sFHipLxkQD4yp56Yr7WnjujKs6Btdoa/av4274eCZYYSYUk6nBWiTTvKCU9kybWI9NxMn4yR8yqqLHOq3yBpt7ln62ZwxaCPoOXtQamryzE2rmwWZg0rfzawhv08yqMGIHpClk/+QNdq6o+bpumv8kdNf+yXRE20JD1j0vWsirsjMdph5off0Q/naOd13fYOkZyhL29IBfaBMpQblY8vwwn8Nsjf34LlqtxBYCCwEFgK3DgKLDLp12vpKazozg5o8zSfs3fd8Xf6+lzjF9gXiI36u3/i0YgRxVCst2hYj37LTk4tVxZziE35uE7viBUSSFSniKuUpu9ULs54rM+hKW/3Gv+9ckEGTSZ0dac6ylxGhk+gAlN4+PNLiZFrYdFew5jrBJMJEkCcAjCiZgV2nSs1TjzTnzJYQ8OuoAkadS3mC5pktMwPzjv6L2XWfgNP/OnjrRz2zTBuBppdAVvZBgftcy4kQQBaoE8IgeToi2z06dsQUkkPnRxiQz7PmcrsINXVSFvJD3ZRXplNkl/sZDqQFOZXNyLinDBn3Vn6kkGdioBkz5A4CrGU3EWyT5HO/ewTx7tOmPQ+B4l6pk54rmPc/WWHpHnK5p2PptSUCCV5lQEUkkB9W8IETvSk7CCEUQeYZZFQ+Zh3pqB3oHh30fxsbIwkiEz3bs9LBCErMPYKIrIglZTLMbVDdZtnqSA5643q6Q455Opn2UE4ERRktES0NFnMwKqvmrs5WuZLypuFJd8JNvWEPAy+4RKbBIjKowQ6xpy3oC1zobBudzezCst20YViX3RWx2l5GbQivvIigCET9dGZg3fjDwKrBQmAhsBBYCCwEFgIXQ2CRQUs/zoLA9DtnNv0+rhOjeBXb8EP5p+4RD/E5+Z8mOU0iF38pRzxZZpAYx2vuF5sMYjkxjPsrR7nzsJm1Z9BZWvXmvuZckEHHMoMihfanEpU5ILBGBtkQFuFgw1iBtUCw07gmySS4EyC2h4vAukyRSKCa2n2IBs8qIPd/WQBd735LiZQrQGyplWsRJJFHAthIngiQlvm04XAnUE3muM/zZK8IB2VH3GRgqiPixecyhkopnEap+qlj2Ue+8yx/5GvJGTKtY8TLpPJ8ZFlLecquykgpo5O0GDA4eU57GpWxFR7uU0ZYzs2KyeJebVEGx5S1pXKdmta+ThFcZR/Vvsprbx/XdiJUS4MQMJ1CV5sru2wjG7T5bE8aL4QM40qmMqM67arlirJcpHAy+uoqG6nlTAgputNpYVNvqiec4KOuXtoh2Vsy2KZ0MytoPzMxjf4kXk8zc80UHMvYO+2e07L7js06zL5fFlGYaYNe6egc4NJ79YefV/s1TYKp/tp3ZcjRpfpRJNAkY1tOqFzt7//9Zu8rtfbmHiBX7RYCC4GFwEJgITD9iDKk87lM/Mlcf8ELXrD5hjb+dWiJCcp8nDWBdOvo0PRr05sZP+aHzxizVSltpVB8ydefJ1UXCxQ7lSxgMl95/i9hIV+8yX3ltK1IOtxEcr71rdNKq6YTgXNBBiXQFKaNtgr46lACdSSEtDrLxKTWyap51rOetQXmWNR5VJ5ON3d0j7TIiBeAKn8u+fC/+3rtA1z/FwhW1uxUOnR1KCCfgfkMagWYET+TuJmytQ9NGR+Ig/4aZMqk6hhDv7ffC3l6ZkdzH9vbZtaz4L0yIuZmFlBl9Ox+q5xIKe+MVHLUnvN9klqzvHCOkJuzM7VDuLlW/b33vAiuORjPDJop8yTMfCZvaZuyxOibvZKUaeNmG1lj3FvilzywjgRk5GX72ETcuz8EkPtsyI0YQuy4Rz3KgsvYJ9PMlGtD59ooAmj2l31b9Fv4nQdTeKzP1xcarPb9qHrM9qRfYRKho5yJ2bQznqvcSKBjNqh+PffSmnpznnA8D225ZFgILAQWAguBhcDNisD0PfOn+QSLDLpZW/zy6zV92ukjzjgwHzYftNhzxlN7f3/GcvmkxWQdM5/PPOOAapCPnJ8844oZS15+jdcdNwMC54IMOsaiFgAWkAHbd2Wk2PMGGWSpkoD6aU972oXj2jGfdaQ503+swfasff9HQExyYB9Mz6yJOvMkMTxvZgTNgH0vVyTCsTL3Af6xYHf/nMpJHuRR5FJkUYTNxH8aoK6fBq3gOdIlTPeES2VPPJAzBeiRN7NNZjZHREjX7//fZ6zEtEckRJq5bwbze5Kxcqpr9yWX7zHuBnvrcmWimQHyvWPP7YckI621vJEF7fKvzrKnZLI5McyyJEy/pXNITJvDWdqGEIwMisCcxFz1yvjvB5lZ74lj9TuvxmpPBtUOs9/PtvC5Pjnr3OfZ53yeenaMvAmrva6Hc+XuZwInEXVesV1yLQQWAguBhcBCYCFw1yCwyKC7BsebuZTpS04ffj85O2ObGYfMe6avW0w6kxvyh49Nerqu76cfO2Onyqw9znu8cDPrzfWu27kmgwrmmsWXYWGZkSU3NjD+lV/5lS3ItnHzE57whG0PFp8t2Wk5TSRCHXF2mplhsA+gZ5BIjmOZSrOsPfkROTSzPFwfu7sP9Ousfb8PavdM7ySfMgjJWADsnoiQmVlUoBuBNAPfvRwZh55fxlObCyfnXF42y52ZFGX29N3MfNo/dxqxSchN8m6y4PtMmdp9T7IlfzJEOsxBvmywfkNApnOIIMu9kD32/bEZueVe9qvpRDeyeA4SqaPgLQ+jq/63bE4WGyIoImkaY1gnZwNGRGI4df1en9OFPVk2yz9GilwvQzQNUO08+2X6NQnQY2Ro98zBbZKde5IznPbvU9/Den439e884Xi92m89dyGwEFgILAQWArcCAosMuhVa+erqOGO4fVLDJH0idWbss590zCcuFplJCvmu04ee/v/0VScRNSe+e3aT6Xty6OqQWHffSAicCzIowKYwkR1+E3jbGMvGwZbZCKxladjIV5AuuJYdJNvCexsJ2yBYgD6zVo4Fz8cCwkkO7eU79tvs0LOT7jtvQeueCJlKE4GRIZi4XCz4n4Yj/HreNFBlvyRDJzvtjcu892KB7zQ0e2bZM/ak2f6a07IzJqGxJ9umrBP7fdl70m1POOzvPYY5YsbyRPpneaJT3ehd63DbNypCqr192ky7VFDLxuxpY4kYPUUgtQF1cs4ljunBNN6zHfZ1S4fC80Zg+fd9fsp+jNCafW9PzMyBcOr4JEdnPzhGFk29Okb81CY3EsY30oC0ZF0ILAQWAguBhcB5RGCRQeexVc6XTMU8c9KyOGOSQXQp8mdOZp/md+6/n7HA9JX38ek+dptxQ/7sjB3OF5pLms8VAueCDJoGdhILgSAQd1yeU6gE47KCHIfeBrCCcqf+IH8svbGhtPeyhGaQuCdtZsc5lv1zWlbA7Oizkx4jgmZHjRiZ+6AcI12OESjHOrV7J6tbR0++Y2XvDcckDfZkySxP3WKoy57p+ZPkSvb2B+q33vdB+yRg9kap36rjLGtvDI+1X8+q3Sc5F2E2268sKc+Z+0W5RoYQvaOHyMh27pcBREfV133tk9QG3jZtQ1gifpx6Za8gLxsTIyv9IY7azyrMZ3ZU8ntvsNmTnH3/uTIed8VzpgFqcDxG6M2T0HruJMvSkz3JWnvP/jT1b5JDx/rBfFay1gduRLzvijZbZSwEFgILgYXAQuBWQ2CRQbdai19+fU+bcDw2qTvjmxlr7v3O6SfvY5oZE82YZsZH03edE5nHiKfLr/G642ZA4IrJoL3Cp9T28HnlK1+5HQX9pCc9aTvly9Hk80H7YK+gqmBwBnQCLxkVjgiXFYQUcvS3PVyU03IaGRcCa1lBndSEDPLsYx1rBtcRAJOUmMTFnqDaEyyVNUmWvttn6PR9dZ2ddE/E7HHKCOzT/OYyr2PtMuVP9oLkKd80MrNOczlWQfX8LkLoGJE0A/yJ8x6zfYB+TObZPjPjaBJix4xbmIRncszssylP1yd7v9E1em3fH8c4yhRyLKTTyuziXwZQ18sYsrE0HUQC2RvogQ984PYZeVkW0B6jvc5M4z2Nzp7IuBEN+7QLU3/29dwTibNNZxmnkUGzL02i9Fg/2JNC6eZpA+rNMBCsOiwEFgILgYXAQmAhcCcC+wB8/930QecG0uKVThOTBb738Y/59QvzmweBfQy2j9tmHJT/uY8piwnmsq0ZX07/91g8uvel97FPOrmPe5Zu3jx6eLk1SSfYNckNkh5e97rXbQcxPeYxjzk89alP3Q46Sie3CfqTmz7tQZPESfksoXnVq161kTVPfvKTL5BBBWlTCRN2fuezoNufh3bylYDbq6PeBd97ksY9gm/HtQvA7R00O9sM6mYn6PuZPbAPKidBUOebpEydaO6dM4P8SVjM4L77ClDDolOlujZ598TG/v9Zl9pk1js5TiNb9u1URo6yTluiNttxtuVp2U3VdWbpTIO2D/xn+T7PDKCyNLpmX056OrM45jWznffERDoYfp7bUecdP28fUkXpOAAAIABJREFUK1k9rf9Nf+fxkEhKm5rTTdlCPntV/hwcyDaJNvo/DfskfPbteqOTQcfaML3fZ7rVblOX9gPZdMJq/30/mwPsvl8fswv76+fAf7nGd12/EFgILAQWAguBhcD5Q+DYJNwMmPIp+G9nPU1sH1ecv1ovia4WgWKlfM38yH1cky4cmySfPv+csMz/3E9YXixOnHHWniS6EWOGq22fdf9xBGbsLr61Dc/rX//6zyKDJN0U118gg2YQVCaD72QGveIVr9hOUDprZtA0sCl1HSVSpFOsZsA2g73Z4ebx7O2oPr87xn7OTjEDzwnb7HB1qv1SnuRsWcuxThpJNE+5msRNAXB1moPOJH8qJ+MTuTAbNfn3RMeeTZ4GZxqp/YB4jIyKwNhjsm+ryXJPuaZsx4xd5MjEek+KzGyajOueaAufGdDvy576VzvsCYA9CaMM7KnnzpPa9hjvyZ+pm8nvmshQRNDekM861P5TX46RYefZ+M22D4NJIla3PSHW93uSSP3nZunzGM1jOjfbtn40+099Lx0/psPnGd8l20JgIbAQWAgsBBYCl4fA9E32fnR+Yz78WcigvV96edKsq28UBPax1oyZZkwy/V3XFA/MOGd//Zz8bCJ8Hz/NGGZOls94YR8rHiM+bxS8l5x3DQKTh7lYZlAx5gUyqCBJ4OqV0r3tbW/byCDG8axk0DHCou9S0kk+ze/2bOv+/xnYHSM2JlkzA8+9TDNovNRvpz1z1mFPZhwjWfbPmfLtialJcB3r2McGttNU6FLyT9n3hm8SE8fwnLLtia1j7do1xwiuY+XvMfL/xH3Kd7Gy9+0xsdrrzP4ZlyLQjrXrWbrzfO5pn4/V/yxlX69rTtPLi9XvmG2Y+l979N2lyjrWnns81mB5vTRkPXchsBBYCCwEFgKfWwRmcLSPP+bkkN/EO29+85sPP/3TP71lirdMzCEhBfkm91Zm0Oe2Da/H0/Y+7d7/zD/dxz/Tr937uPt6nBYPnRZzzRjlmD+895+vB27rmdcXgWnv7I/7zne+8/DqV796s2ePfvSjN5tmmVgJOhtpeXKTv03yfRbNW9/61m3PoP0ysZZPXUyJzwrFaZ3oWAB31jLXdQuBsyJwFgJjlrUM7VmRXdctBBYCC4GFwEJgIbAQuP4IzO0Fijv2mcu+t5fkm970po0MMjlur9TnPOc5hwc/+MGflfExV1Esv/D6t++SYCGwELgTgRnX2g7FnkGvec1rtlUv3/It33K4/fbbt61OWmXlngtkUOz4NHC/+7u/e4EMespTnnJ4xjOecbj//e+/kUaXCpCPBdlnmbU/jQQ6lhEyyajLed6xzKCee6nfTiMPNjBPlrXUEGdRymOZNcfqvyfdLibDxZ57seddjiwTq7PKcpa2P3bNaZk5Z2mvy2mD2m+vZ2cp42qvuRg2N1IWy1mItdPqehb92LfRxfTlrP3gattu3b8QWAgsBBYCC4GFwPlFYJ8NNP30vR+BDPqd3/mdw0/91E9t5M8dd9yxkUE2kJ7Lf1pe5v4byU87v610/iS7FvHe5dRyr5tnjU8v5xnr2psPgckZTDLIhviPetSjtswg+zF38NEWW5UZFBlU1g9DJzOoZWLIIAy5jZxLj1wG8OZTolWjhcBCYCGwEFgILAQWAguBhcDNhIAgaX/Ixz7gtkcqMujf/bt/dyEz6LnPfe52uvHcRkNZ+5UNK0PoZtKWVZeFwI2JwJ4Mskzsta997XaaOzLIaWIygzrUaCO0JxmkgIge7/YM6jSx2267bUstcrJXm+Iuw3djKsqSeiGwEFgILAQWAguBhcBCYCFwKyBQgHTa4Sfb7PhJUIQMsmfQC17wgm1ZhVn0Zz/72Yf2DJoH2LjnemST3wrtteq4EFgIXBkCkwyygXRkUEfLs2lOE2PLuvafkEH9gAxymhgy6EMf+tC2gTQyaL9MbBFCV9ZY666FwEJgIbAQWAgsBBYCC4GFwELg2iGwJ2ya+I7YsSKiWAYZ9Ja3vOXwwhe+cCODzKJbJoYMMhHe0or2WO0Usv12DteuNqvkhcBCYCFwOgKTx7GB9Nvf/vbD6173um0D6cc+9rEbl3Ove93rs064vuQysTaQ/q7v+q5tzyDrzI6tv10NsxBYCCwEFgILgYXAQmAhsBBYCCwEzgsCc++XGSiVJdSSL4TQxz/+8Y0M+smf/MkteGoDacvE2jOoehULraPmz0tLLzkWAguBae/sGSQzSGKPZWKPecxjtmxHZFDLxLbr93sGxXaXGYQMwpQ/+clP3oximUFtmrZgXwgsBBYCC4GFwEJgIbAQWAgsBBYC5w2BPRlEvvYP6rN3pA4yyDKxf/tv/+2WGRQZZAPp7mmfoQtLLE5IpJUZdN5afcmzELi1EUBeWyb27ne/+8KeQU4Tk+2IDDr1NLG5Z5BC7BlkA+kPfOADhyc84QkH2UH3vve9t32FMEprA+lbW9FW7RcCC4GFwEJgIbAQWAgsBBYC5xWBmQ1UFpA4RjCEAJqnhCGDnKT84he/+GBW3US4VRGOlm8Dafd1mpj7V2bQeW35JddC4NZFgL2yTOw973nP4Zd/+Zc3m/XoRz/6AhnU0lj262hmUCeLOU3spS996eFP//RPtx2oH/e4xx3ufve7b6mT282LDb91tWzVfCGwEFgILAQWAguBhcBCYCFwzhHYZ/FMMqiDc5A8yCB7bPzar/3aFkg9/vGPP3znd37ndpLy3/7t317YZ+OcV3eJtxBYCNyiCMwsRdmNH/nIRw6//du/ffjCL/zCjcd52tOedrjnPe95Yf+zf3KaGHacUYwp/73f+73Di170ou2I+Qc84AGHr/iKr9hSIb3Wpmm3qJatai8EFgILgYXAQmAhsBBYCCwEbgAE9vucNuHtXSwj9vFnslvw5NAcKyLssfHlX/7lhy/90i/drrMiQoxkQty9n7Xnxsn/628hsBBYCFxvBCKD2LU+v//979+yG2U6PuUpT9nIoC/4gi/YRL1ABkUAtV+QH32WKvkLv/ALhz/6oz86POhBD9rIoIzh3HDteld8PX8hsBBYCCwEFgILgYXAQmAhsBBYCEwE5jIx35vwFuPMz64R3yB6PvjBDx7e9a53bYGUAErsgygysy7AarmY75pEXycrL51bCCwEzgsCEeDsEhtlqRhi28nwCCFHyyODLlw3N5CO4IkMkhn08pe/fCvk4Q9/+LZUzJ5Bk2WPVTovACw5FgILgYXAQmAhsBBYCCwEFgILgYXAnPCOACobKHQijGy4igj6xV/8xW3G/Fu/9Vu31xd90Rdt2UHFSQil/q+MRQgtXVsILASuNwJxNN5lOn74wx/eTki0abRlr2UG/ZPTxPYM+iSDbCAtZVIBt91223aaWEYwdr3jGa83AOv5C4GFwEJgIbAQWAgsBBYCC4GFwEIAAnOW3P9IG9k9bXkxV0V84hOf2A7PeeELX7hdZxb9u7/7u7dZ9VlORFAbSEc4LcQXAguBhcB5QECWI3vmNLFf/dVf3URytDwy6D73uc+FJbIbEX6pzCBkkKPl3eyIxfvd734XmPF1lOJ5aO4lw0JgIbAQWAgsBBYCC4GFwEJgIXAMgeKVJq+RQcie/ve7bKGPfvSjB6sifuqnfmpbSnbHHXccnv3sZ29LxeZfB+i0+fRCfSGwEFgInAcE5mb5TkR8xzvecXj961+/LYG1wsvJ8Pe97323pa8R4RsZlDGb6Y++k1ZkmRgyyLn0jldUwIWb14Zp56HdlwwLgYXAQmAhsBBYCCwEFgILgYXAKQiIcSJ/5p5BZfz4Trwj9vnJn/zJ7fSwZz7zmYfv/d7vPXzVV33VhZOULa9o76COp1+T40vtFgILgfOAwGlkkA3xI4Mk9rBj/i5kBh3bQNqPv//7v7+RQdabYZKQQdbNxqivo+XPQ7MvGRYCC4GFwEJgIbAQWAgsBBYCC4E9AgVH+wlv1819fvyODHJ4zk//9E8f/vIv/3LLDEIGfeVXfuVGBnWqGDLIa52svPRtIbAQOE8ITGLaHmgyg97whjds9uuRj3zktuw1MugCcdQysSrihzJ/nCKGDLKzvnWzGHLrzBSIXV9k0Hlq/iXLQmAhsBBYCCwEFgILgYXAQmAhMOOa4pW5T9Akgzpuvsygn/mZnzl8/OMf38ig7/me79lOFTMRvid/yjBaaC8EFgILgfOAwMwMigx64xvfeGGZmG1/WiaWvNsyMf+UHcTYdWziH//xH29k0Hvf+96NDHrWs561FYAN386lP3mt1Mjz0PRLhoXAQmAhsBBYCCwEFgILgYXAQmAiUJzSRHeEjmvKFipDCAH05je/+fAf/sN/2DKDWiZmzyCxj4nw9hf6rKOZ17YZS+kWAguBc4DAzIRsz6DIIJlB+JzIoAs8zj4zCBFUKuQ73/nOw8te9rLD+973vu0kMZuoWSbWkYzrGMVz0OpLhIXAQmAhsBBYCCwEFgILgYXAQuCfIHCMDJp7BzUZPpeJ2UDarLq4xzKxL/uyL7sw+S1OEgchg/ytWGgp3UJgIXBeEJhJOsc2kEYGWSZmA+ns14XMoG5uHSzj9od/+IcX9gx60pOedGHPoDZbWwbwvDT9kmMhsBBYCCwEFgILgYXAQmAhsBCYCBzbM6jfEUFesoX8OU3sTW960+EFL3jBtoG0U5Sf+9znbhtIF/uUTdTx8isWWvq2EFgInBcEpr1rmZjTxP7+7/9+O1reHtD3ute9Lix53TIlWya2N5b+d7ziK1/5ym1DNWQQoygzaLLssevnBYQlx0JgIbAQWAgsBBYCC4GFwEJgIbAQOIbAPDinz+IZB+ZYJhYZ9LSnPW0jgx7ykIdssc/aL3Xp00JgIXCeEbgUGeR0+Hvc4x4Xtvs5Sga1plZhThNDBn3kIx+5QAbd//7331j0xYSfZ1VYsi0EFgILgYXAQmAhsBBYCCwEFgLHEGjT6Mgg/5cZ5DQxmUG33377Z5FByln7pS59WggsBM4rAsf2DCoz6NGPfvQhMqi90y6ZGfTWt751I4MYx2OZQWvz6POqCkuuhcBCYCGwEFgILAQWAguBhcBCYI/AXOEwM4NMfs9lYk9/+tM/iwxah+csXVoILATOMwJnzQwqy3GRQee5NZdsC4GFwEJgIbAQWAgsBBYCC4GFwF2KwCKD7lI4V2ELgYXAOUFgkUHnpCGWGAuBhcBCYCGwEFgILAQWAguBhcD5Q2CRQeevTZZEC4GFwNUjsMigq8dwlbAQWAgsBBYCC4GFwEJgIbAQWAjcpAgsMugmbdhVrYXALY7AuSKDpjBnaZc2pO7oxrPec+w5c3O308rrmvmcK5HhLHLeldfs5d5v5H0p3Pcb313s+j2OxzC7WN2u9v592Rdr14vJdql2vdTvl9t+xzYXPAvOPeeu3JzwtOdeaZ3PItuldPBy8XT95ere1T7jrPjcVXKd9XlXUq/LvecsbXyszEu1++XYniuR2T0XGz8uNS5cC/mmflyujTqtHS5lS47hcLk2afa5qZt3lb6fpX0v1V7HyjjtniuR+7R7jo3BZ9X9S8lc212JvPvx4ywYX0yes4ztp91/Vh08rb5XU/+z1Ptal38txvKz1Gtdc3YEFhl0dqzWlXf6Fp8ru3E1eF+p/3Y1z1z3ni8EzhUZdL6gWdKcBwSu54bj1/PZ5wH7JcNCYCGwEFgILAQWAguBhcA/Bvc2j14bSC+NWAgsBG4WBM4FGXQ92NOzzNSdZeb9LNdcibJcq3LPIsv1fvacqb9erPoeg0v9fxZc99ecNQPgWNkX098rkeUsffBK2+Issw6Xev6lsv9qn1n3S8lbmZe6TplnqcNZcT/L847V91gdz/rMy7lu/+y74rlXo+sX6zeXU6+zXnup9rnU72d9zpVed96efznyXM61V4rP5erL7NuXsjN7++L/y7nnSut0Fn/lcsq+q9vhri6vupxmdy+W3T1xmBM6x+zapdruNNuXXMfKv5T/dCl7eleONZejE+vaSyOwMoMujdG64h8R2Nupi9nJi2Xkn8VOXc3k9bI5S2vPBRlUM8S0e98TAnunq+PN+t49c5CdHaPf/O6+/ndN1+0dwn3n63ndM+9LhmMy9yz37+tQWfO3vSMx69TnWdfZgH6fxsZvyR2mYXDMYdrj7ppZ7ymbz8fayfV7meaz531TNs+a8s928psy/u///b+Hv/zLvzzc/e53P9z3vvc9fOEXfuFWjU996lOfdW8Y7GWf8s7ffN/zL9WuU859u1f3nuP/vpvlH3NKp8y1zcRx6mw4TbnDK126GtN2rB/2zH27n6avyRYGlbmXKyz2dXXd3/zN3xz+7u/+7vDJT35y+9xs3L4/f/7nf/6mC/e6172292T1vXJnf/mHf/iHw9/+7d9u5Xn/+7//+01/ks9xif0pp9/onPK/4Au+YNO/e9zjHtura2a/6pm1+ez3U8ere5h+4hOf2GQii3rv+yzZ7nOf+2wvz552s2u34x5P5K7PTP07rc97pr4FE/WFN9mqnzJ8rv6u8Z1nzdnRszoj+wCq+s++nO3Z6/Ux3dzbuYs5NvO3idMxZ2tvP2rXrp39e4/5Mds4bXO6Mfu1zzA9zWZMuzL1bf/9sb4W5lOn+i6bccw+7sua8s4+WxtM+5/eT5sxnzn7pvvolZc+Rgf1B/2A3rH3s1/Osvt8zN5nh9Kned/Fxv7wzea4tr41bdbs47NvT5sybeC+/unEtFFzjNn7G/P+2TbH+sUcj/bjwrQ9YTN1Y28rjmE/v6ufJkf6kB2aeE7cu/5YX5z37OXf13diz6Z/7GMf23yFcM2m1b+MA77LhyCT8cKf7z2PHvr93ve+9/byu3Z1b69sp2fOOszxZN8OyrznPe+5lcmuZkdr97tyLJ/tuD5fPQLTjs6xbx0tf/XY3iwl7MfFaeOroz7vOrbGGMeO/PVf//X2cn2/u56tyd9yDxvEB93rIrviOr+xL8pgX9itbGljcfZ0+jKn+eg3S7uselwcgam34oF3vOMdh9e//vVbjPSYxzzm8NSnPnXTp/ysa3K0/BQiZ206JgVoOsExZ8o9/TYdthwEHc7fDJT2Tth0YvdOf+Uk25ThtIBi7xz1/z5wycmcTlPPz0mrA/es6YD2uU49Zdzfv3f+57XVfz57OliVNR3AZJ7fzcBuylkAOXHZB9DTma/M6iVQ/bM/+7PDu9/97i0w+MZv/MbDF3/xF18wqBm8iUN4Ve+pW7NN+77rk6uyZpA0jerEr3Z1bYEAmarvbIu9gz+fdyzQmPrYoOAez9m38d5pPqsBPDaA7fWjPpP8E8Oc7tq/ICoM9nqzl2sObOH3vve97/De9773wNHy3mBp4PQchgkx8oAHPODwZV/2ZYev/uqvPnz5l3/5BUKoAVP/r20//OEPH/70T/90e/3FX/zF4aMf/ehGhHgmWbM1ydO9dO5Lv/RLD1/5lV95ePCDH7x99syp73OAnQFPONYf9s6B/z3nXe961+HP//zPt/q+//3v34IZjgCZBA6e+TVf8zXb64EPfOAmb8+c9u9YH5hBWs/3TFh6nr71zne+cwvAPdcA8CVf8iWbY6GeX/u1X3v4iq/4isP973//rc/ldHhuAdaxgHa2e3L1/H2/c394F0DPa6f9SwcnttOG7W3k/G1vB2efOybj3pEqWMxenVbviIhphyKuc/b2dkMAWltWfjo2x7/Gstknj40L+zFrb1fDZdryPamy76vzmXOc3o8X3TeD4Qgv8tfP0x86V4AumOeMeKd33/AN37AF59O+7fV82rA5Ls+gLSznOFx95m/TtkVS7TGf7Tvlqj/XNyYpvbfXx/rHbJOp53N8mp+nPZ7XN/Y09lanbPPUr70eTT2ZfWLaxzn++F7bTaxnGfPZ05eYGM4288y9Lzf1cI4Xsy3Zyw996EOH3/u93zu87W1vO/zVX/3VhckE5U9fUhDGrkeAG0/qY+ztgx70oO31sIc9bLN/rlVH4xC9/MAHPrDZ7Pe85z3bM5MpfdHu7GfY+t4z2HHl0WnjlcCtay7V9846nq/rrg0CU+8WGXRtML6ZSp1jUoR0vg1bxZbwQf/kT/7k8Ed/9Eeb/9c4nv0W+7Bb+Qz0zlg4fW62RTzElvDR8lHZFz6yeyO7Zzw0dXh+fzO1warL2RCYunrdyKA5yzOd19kpclZzsAyeOTl+K4iYpMB0cHIYKvNYwDTByGHJucrprQP2nGMw74OL6Qzn5OQM7wOc+f/eIZtOXwZlX48cvZyv05zicM4Zq7y+D+8ZoM06FyDtHfDIkBlw5WR3T/UqqNrLOp3PyhOk/v7v//7hD/7gDzZjd9ttt20Gb2Yp7NsiLJIl57I65cDPuqcz6cm+zCnbxGpeN4O5cPS+JyOPlT31LB2cfYJ8sx2q2wxoztb1P/uq2QdnmT176uVZAsCumUTBMaJq9pX6saDQAGiARFAgbTjcdMCr2RMZA/e73/02hx0R9M3f/M2Hr/u6r9v0wywJnGawQd+QiW95y1sOv/u7v7t9/vjHP74RIrOvzSBVvTn0X/RFX7SRI9/yLd9y+KZv+qbDV33VV23PnATQPqCa+n5Mb9Jt74zvH/7hHx7e/va3bw4BskrA0ayQenqeZ6sj3VfPAom9/NN2HgugPROWH/zgBzfiCdYwEeDA13MFRMpHvHouIkwQ43uY+HNdAc8xvUhvJim6t8vTlkwbN2311MlJ7FRWhH9lZVOmffQ5fahvzSBstpHyJsE2M3bqK9m1SWDNutQmXec+uq0smE2CPNnoLH2c48S+/fYkRPeG9bQFjZPT6Ztkw/w9G1VbNWaGy16O03Q6+arD/r4Z8M6y6w/wpP9vfetbN6LyIQ95yOE7vuM7tr6eQzzt0cR32queM9sh/Zr6NPGaOjzlTra9HZ862r3HAvq9TfHMggOfp34lT/dkg5J5PrO6Tz2fY/ocO2YwMcfc2nnWfT5r9slJBu19h0kGTbJvbwfn//sJvsbL5EsX92PH9DumHrKjxor/8T/+x+HXf/3XN3vGRpFV3yoTtAxScvrOy+9somcj27/+679+I2we8YhHHB75yEdu44yyEExsJrKJzUQIGaPUJVs4/Ydw9R0dZkOV+djHPvbw0Ic+9EKw1j1XO5Zfyfi/7jkbAuldvmW+48oMOht+t8JVe9vUWDXtKP3h45bB+Nu//duH//W//tdmu/ikvqdbyGP3NVEZqeO7fAnEkD9kNZ+Yr2rMRGKzX3xFftxpZNAkmua4eiu01arjPyIw9fa6kUHHBvbp1CXudFZybPrtmKNUGfugYh9YdN105vbOxwwicnJzXPaDuHtz5BoscnqUk8MwA5hjMk35j9Vzyr13fGd5eznJkLO1x7nvp0M/na29ozIDi4zd7GDTEO5xapZ8HxzsHVttbbD9jd/4jQOjyVF79rOfvRm7GeQUFE3Sp7qHxz54n05bdZvB1R7XPZYT533993WfWIfbfGayzGBvGud9sOH6Wc7VGLZjA9hpAUH1OBZQ7e+Zejaxnn267/UHAyGCwkwrgqKMILO4pfTn3NMfAyJcDIL0wctAKJvF4Oi3mXnAcadDAk3PUqb+OPt7M94FPn4zmBpkZeWUgWSGd7ZfdZ16MIOnvR3yHIF/s8xvetObtsCipXEN8jmenAeDuwCCDOpZdty0MwWXYbzXQ/LBGukkoJEVJGMK1mE58VAH+CLAHv/4x2/vZpuUC39y9oyJwf7zMTs0++XEsgC17/Z12V+7t3d7WzMDsr3NOtZus632tvI0XOf3x8ajqRcFuQXGjQ8RmPP++vkcD/Y2fP/svS3ITu7HlKkbe0ewNpj2ePb9SYpNTPdjZVhezFbVnvRJsI0EFmiz+3T96U9/+qbrE7fapXunf5CcM7uk58/67PvvMRvafdMuH7Nlc9zoGfV/NstfDvlsh9l3jtlc1+79ne7v3myW/2fGzqzzrEf2oj6514PTbP/sK8mQrZgBsuv2M+FT/5vQiECqH0wdPO3zxG6Wqd50h1373//7f292nn1FXrNX7Dwnl5z+r+5lpHkXjCGQkDZsHRIIGc7mIt/Z5mby//iP/3gjLWWwIpEEbhHl6dX08TzPOGK2Xnlsuay3Ar78yu7d98djurm++9wiUL9YZNDnFvcb6WmNi+lI/XrWwXdsCbvReGcisAyh//N//s821vExjXtsD5vEfhRfljXOrinL/2yYstkU1z/qUY/aiGflTNuUHZ/+8d7nuJEwX7JePQIzBrxuZNBp1ZjC1bFcOwP0vQOSA5tjODvi3qnNoWvQ3QfhORq957BMR7Ay58BNvhyhvdPj+vld9ZnO+gw+kmkGlTmdp9Vnzp7ugxLPi4SZBiEcZx1z8o4FDFPenLM9WXFMvhloJ1vyVq/poNaeAtU3vvGNh//5P//nxnQ/73nP25y06hD5lsO9D+Cm/sx67+u2v6//J4k0nf50d++ET506poNTX/b65f99yn0O4tS9SaJdC8dx3/9qz4nFvi/sB5eC1oK4STKkNz0ngkIGmCwZTr12RcJwoM3Ump01+LW8iUNu4EQeISzohgHQrCuypOyLZoVdj3Qx6AoI6JAy3bvX99q2eiM9DLIG5PaTmAFofWcGKKdhVftyBshCLrPZ6iED5+EPf/gWLJCbsyCLyUw3IrQlcd/2bd+2kVPZkIiEAr1pm/a2jPMA4ze84Q0bfu3LYtYaoaaOgh6BkWw8M+Ge+8//+T/fsqNapqYe+4zBfTAz9WjKNAmavf5mXwpgJwlwrLxjRMCxvhtW02ZNHd6357RFs6+fZheO2deeVVnJP8uYtnOSJvQ3IsH3k9wIy/ndxP6YndrbltouWaaeTH3e47Ifj9Pzmc0ydX/WdRIX2bBIXf2arRdk00/9g04+85nP3BziPaE05Z62Zi7VSXdqv0lezLafvgUcppxzzJjj1NSJxuiZ7VLblD12WluRfWYKHcs8nnblYrJGQESCTx1Wj4lT+jqOkg9qAAAgAElEQVTLO6ZD6ezEbtr0yp39OzmmPUqPqt++3551TNsHXO7jwGaz2DR6JJCiP8aFsoDU1Rgyg7WWl7F1v/Vbv7Vde/vtt1/IAhVYucd1iHNLGJWPoFdnEw9laza5MPUg++bd2MHezj3u8vMmVtdiTE9f1/uVIVA/WGTQleF3K9w1/RP2wv97H6kxJAKHP2Zy0iTIf/tv/23z9dgg/ik/kO/Ln+ULZ89nDMZvbBsNfrNMRX4jX+2JT3ziVg4fmp2aq2eKTfY+263QTquOn43A1NvrRgYlxN5Z3gcOOW7TAYwJbdnCPvBuQM2JrIw9OXBakJojPx34fUCxdyiTewbPOZfT2ZnO/GyIWR4j4bfSmqcj6vMsLydv3j9lmATFMbJkH6TM9jgtUN4748m3J6+mo+ye/p/4Tsd6GksBgWD5V3/1V7dAnnF8/vOfvzHeGbFjQUhlh9Ek+04LHqtn+hKmYZdD3nNncHKMDJsOcXozdXGv8z2/ZSrJPttrYj77xOxHl2vopv6lM5VRnff6MQmqrm3p335JwqWIlp4pCDQY/uZv/uY2mCEdOPMGMy+EhMGME87xN5siy4fzbzBlB2x2xpF/9KMffWGZleezFZx4OmTgRLpYfiLTZW5Qe1bstPckN9ORfTCYHtZW6hoZJPPBWnEvacKMMDLLAE5+dTXQC1J+6Zd+6UIgJ/D47u/+7u2aMg0nYTLbZn7OZgi64fDCF75www751Cy4ZWjwkKElUwlJBTfkmYw8RFt7M1XeDPKq73xuOn+aju51bNrYqe/7QPVY/594z+yu2demrdn3oXn/vr8ny2mBWnZrkh9zPJg2ojrO/ganPWE+MywmmXAM82nzKjencepndm2WN/v7/H2PW5hOe9q96b7/Jxkx67gnCVzbxu50HRnMmZVx4T7LP+kdnZw61fNnf522fk8oTr1Uzn7p1n48Pa0fzzauXsrr2TMzZ465U8/mhEx9Y9/OUw/r27OfRBzUPrMvhP9s8/310x5NDGcf6/Pst1P3Z7sm22wD3019qZz9mBymc4yZPsK+v83npqvtLYfAlm3pTwAlCwfhv//rWe7PDiPmZUsiw40hgrAZgCnDnmqCNtcaUxBFnsNudu0/ediRL+q/tcPeDp1mY85S9rrm2iAwdWbal7VM7NrgfSOWuieq9zawOu1joDITX/WqVx1e85rXbOMJXxahwydki475qcpn7/jOfDn+cEvOxEpPeMITDiYO+Xj85/Yb2vsP0w7diLgvma8OgWyb9+tGBtV5cgg4StOBaFAsoJzOdfuHSIFz3ZxdyykLohyQHODpROW872XJaZxBwX4WZ3bq6XD6nAw5ltNBzilOjhw+/0f+NGMqI6HOOx2n6dDNAOQYYTDLnxhWt2PER+XvHft9WVM2dW2zT9+378l0aI+RHNMZcg+FLHNCMGxTSMGpoPVf/st/uc3apRv7jYprh2PO6uwy0+FKpinHHpPpHNcOPWsSTJPwgZ0XYs9ferzf+yc92LdN+pbeFnhMxzoZKvtyzcIcwCZms74Tl57XzAfZ1Cd9b/Pm2r5NVE9z6j1fGdrXYGhJoD6A8EMCGQgNZJx08uk7+oaA0QCITGm5k3ue85znHL792799k6f+6XrXGihl2iCBvvM7v3NL1W/GpEwMz5ibf5JvLvGoHrM+YTUD/mmzZqBDFn8CF8FvQQiShvxIKkGwZ5qJRoa++c1v3oIWwQiS7Lu+67u2OsKk9oDLPvtg2pf0jy6aAf/3//7fb1hYEsFpaImdAIdtNcuEhLVkBx533HHH4Vu/9VsvbHxav2vpXkv5pj7Nvj51fPa3GeRmu7p29uV0v988p2ft+/UMfsO+8cG12bRp/ybBsG9b/x8jY5LJvZNA2AfFlVf/qqz6TPo1SYGJS3WYNt8z9uNZbex54TNtVDglxyRqk3mOd1PuWV7PPtZO04b0vKkrkzxRXy+6Xf/ULxC+9JC+yUgzxlf3ubRz9qvknqRU3x2rZ3oQPsfs5rTH1X//zDn2Ns7tlwj5Pjuo/0+s59iRDMk77f7U1WSf5E1j0hwjJmnnd9hkJ5JpT/pU571fVF+bti79Tf/rd9Up+7vPjpo6OfUtvZp7XOzHtWP+i7GALaNHno28RpobN2ThTJ0rc0y5JhEQQJaV9WeiAOltjOB7zXGOT2K8MVb5no66TpYmMihs5v5Bez9i9sFp7/Zj+zF9XN9dPwTq93PcoUOLDLp+bXLenpyO7MfA/dgxxyN2hE0yGfLKV77y8LKXvWwbH4x9/EFkkIxth6XMMaBxTtkmT5tMkfFtb0y2D5mEDPLi381YMl+hMetK44fz1gZLnstHYOrtdSeDch5y+BpU58DpmgLBjhA16Jr5ochtfuqa1ofnzHbkHiehDWbns/aERil8nNKOIs3xVWZLRlo2csxhIYf7yeUzkoRTC/jK9VzB2ZzFnjPvOWACxY407d5JeKmfepHLc7wiHCYRE4bk6VjDWb+c1Mojb8cWTpKpwLkNGHN+1Y1T5Nlk5jxlwHL8O55buV5TVuUKeDl3Xhw1GSA5ekig5z73udtMXPJ4noC+IKG28Dx1gxc5M7rTAYO7+3p1fHg4zKC19m8me7ZJWVzqHe4dIats7H2bFacH7Vmj3DZOVk6z1rULeZVRu9bOBQpknMHi5ZqC0waw2fdmYEqH9C8v33O220fGPQU9kUGRQ8fIoDloIv1e8YpXbNko+jRSBPlnVkPK//5+2St0A6FitpaOnEYGwZUDjwxCvnDeZdfsl4kdI/Xqg3tSdwbc6dS0W7O/ZGsKyLxbfkV2RJZAmJ7Sb8QMEkw7t0eFGR/11TdgIXvIzNEkg8hXMHaaPvjdcwQ///k//+ctCwMZVJaU9eUCHH2HfBwL19I1QTl8ORnZBfUq02E6ONV3H/hU/4K+AqXpaNfPtFnr4QtgO94ywlifinBVhnLrH7N/TZJutot+pwyv9mtKlrCkv3Qc1nPD7GRSNnncH9GnD5Arm1f/ydbrL8osqG9TaddlC7KtBfAFiy1ThMU8Pjbd89ycT2V4pjZXxznOela2uPpNkqx2dV12tHEVFu5xfRiW0VjmWwSxZ9Cpxr7aXrnKQ3jqu5aG2e+FrVQXfRMpSj/DSpv6PgJ3jtvhpp7Z/n2fnW05x7U5Ru4JsPRQuW1CPPs7DFpGqj3UST9Vv5YFNS5r7/1Y3qbhPdc7fL3S4UlOR/pEmBwjMadtUjc4eI6gQVuSR9lwzV7vfa890TT7NBnS7Y5Y9z4J+PqRcmY21DEbqX7ZlNkuezuSbahO2Tx2jA7xtdQNYU5P8kUmsZXfpF3tE2T5+e/8zu9s+1PJJBJ4IXjY2fpwbcMeI+YR5dpWPzahEBl0bElIdUgXsyvVJR3Of7masfxyx/51/dkRWGTQ2bG6Va+cvvT0bbN5fTf/9x07g1REBv38z//8Bh8ix/jnvczDqYNzIslnYzyi+iUvecmWYW/M5TvzE/mUbQHA3sxJhtpq71/fqm14K9b7XJBB+86zJ4EKdCN4OFmcRYGKddv2EjAQG4R1po6gNmi3wWkOr2sN3AIeg3ibtBbw6yQ6FAJDWZhWL//nCCoLQ6uj5XB0sk/7duQkkcUsJ1k5iBwvgZQ/v3U6kvq4V9nksvzDdQUI6qEcMrnWq5OQMiTK5ryQy70coUnkNBumrE5m4oQ3C6vezd7BhRMFJ7NrTlJqR3pYcSaTnxzaxP3wUw8YK8NvnDS/TYdaWWSEn7K9yMpAuRYJJMgX4AuCvZPVb21k6xkFf5w4y4mUp+w2ZZzHwLqfI6wdyigja0eUw6729LnsrKmPMGzjN+XVDtpFuf4mYaNeyvQdnOHkj77Alh7d+6TdPn3ynbKUSW/pi/ecx4jMTrVCFsKP7HsDvu8/l2vYpiM6B7PqXtCsX2hf+qAeZlPLCJtBynR8j8nS8+ietpYia5kY/dUPkCIIIXhFmDaQcchljLkPZjB2jz1GzKYUgNBLciOD/vt//++bPhkYn/a0p226V0A0s3+mXZrBljpM4rcAGO7Zk9kmkQAzqMn518ayfsoM8j+5DNyyoegyvSCvAEQd6IK25yTAphPFCv5yECIOpm1LBjqsPFlYbKi+w9nwbvZIoK2v6IeCc32xpRPko4cFq+lb5EPPncGX505dmljMwNvniNYyA+kYWditSAU4t/m2PqNfRTxmB+lLNuZYcJmth7ky9GGfYcM+dKRrJ3Qoj82p39HBOWHApiaLsiMH4K8usFQP5cKOHWtjWniTsQ2UlUOfkX9zgiP7QiZ2hUxzc8lJ5EROqZeyqmOEl7Lou2frv+rVvgLpceR5exroX/q9dnJPe0eFIV0lr3rCgB3VZp5Br+AXoRZRBDeBuOwzyxHpGrzc5352hX2PFNFf9W1jvrGSvkdGeb76NlZGumiDyDk2k22BnXfjpbJhN/tqkx0d/9vyI7oWIabcxmx9Qlnag87C3B951RtensNeKANm+Rc+z0wiZTYuJuccfyexmU2NVM1fmnWJAG6jeM/XJmT1ishPf/YTIBFlexuWjpmwEYRoS20xs9X2Y8gcXyIF1be94dSXHqp/z9uPcZXpXTtpW32FLaOrfIl8ocjjCKkmWsipjZDwlsyysWbPBU50K7KzvpANo1+yKvVn7elZ5HVPfkPX5k81Xsw2qm61pfdJ+K3A7HI9l2t//SKDrj3GN/oT5uTWJMOr154M8n2TjcaBX/iFXzj83M/93Hb5lhn0zY84PO7xj9v8QXa6GCt/y3VNyPAtjJ8vetGLDr/2a7+22Xg+Ipsmi5zvlq3fT9xN236jt8GS//IROBdk0BR7H4DNgbJNYw36gkCziGbUkRWCRYN3Dm9HJnPkpsPGsWxTLgO4jjGDJc5NJ1JYgylIM3PEAdDRmvXiQOUACKI4qzkCzUhWDgfXy/8cHs/noHBcORScTIRJs0zKfepTn7oFexyNHPGCRg4MJ7JMk4yDazlQnE6GQ8ePcGAsCuY5gh3XDT8vshVQcUKUJTgQHHqpH5w7Oai24HzBRz3I4xmeXx3JqZ20h2c0Y5sDpdwpK+dKm3HMOGgyRTiZbYim/O5taSAHitF83OMet9WZAYSvdvDcNuilM4wtR77ld+rKkdSeHccoQBOo+W46Z3DWFnDSBmYhYafuBW3NBKsH3VKml//VqX1tOlGEPtKJT57U630nWLYXAUwjMyO81Fd7wgy+9E57KzvH/0ozhPYDWAPUdLojESP/1F/7wo8jLKNFXcryara5/nVstnM6V56p/q997Wu3gUwbKldbGMy0bcuQKhO5Ix2WQ19AKL1fxo8ALEJC2fq263/lV35l08nIIO1cNlgBfjMnLW3xfcFkpEvtElaRIBFHc7bdtQ34c8Y+kpf8sm/okwAboaXu2rylkkgv+NIZfZEO6WuTgC5oi5iiv2XNhFmEy9tPbNJvnmRg6VubTJ/+f4eve9jXbXbnXve+1+EjH/7Inf3npJ0/fNLOAl0kmwA60sx9F5Z/nOjB531m75Sy42ZweYwM2pNsyosEYnPpQ0RGJwNpV2SI/7Nj7H4ZQuSETUerdupay4wiy+gDbJXBRrD3bAT9LvMSZvU77dGSxch/9gBGbJ976Rd77i9Sij1i09hvv3mm38p4UW466LnZLGWRqQA70jFyhQ5km9WRLhgD02HPZKv0Uw5idtr3jauuNW4piz3RhxsXczA7QUk5bLE2IQO53QMfNlD52gp+Xu5ro1zls9HqTE7fK4P+a+f/8l/+y5adoR1g5F66wAbAr0kNMml/yxXZe/aw8ZEOaEvyZT/V3zOaMCkrCG6dzKc/Vf6craUfZagqT/tpG/KW7Uo/JvmobmRqvy3lwUk2HTvm+cokqzIbfzsCPXvFzqkn2TriHA6dilWf2xOuEQgRH9l1/TFSuSW12p1M2obNKVu6TNmZVTxxyc6VaaS//tf/+l+3TU+bcHFN5Fp9fJJt0y7Xzuqbb9ZJW7M+x/zEJrjISg/I4rvqkv3L9rXcyzVtjj/7vexIWWj6E53Jjs3Ay7hszHFfvpI+o63YnupZdh65Gzsqr3G6Os16ZsPnhMPlu/brjmuBwCKDrgWqN1eZ+XmTsM//q5/vfeImLY0tL37xi7fMINfemRn0TSdZ20/YJo4ig7ZM+xPYPv2Zk6E9K7+FL4lMkgHPV1MGf7IDR8rOhXo+7LI5N5cOXkltzgUZNIVopmfOinB8OnKaw20Q9uL0GdANwsggDnWzhJzqmbESCcG55Jh56VwcoRkkcJgQN5y0nGdlTccoJ4jDwfHjOERocLBcr1OTVVk6J0eSoyJ4L4gvC0ZAzYktxVoH/v7v//6tE7smYktZHHLl55zV6BmbnCPycKwQB14c1mYk26cEhp4tOMhZ2c/uCy7gKxgvC4HhcF/r5turpawXmEhN5Bhx0NrnhNxl5bRkjoMLj9tuu20LbLRFe8EI2AUxgiJYllmjnTmLDKN6aweymS3WFmRWD0SVe2EvWClziSF1T8tMyjjwPezpEux99oxmsCNDCtbIVtYTMiHDWlq5d/VpKUVLSuDy4BPH98tPXl9yEjx8wYksHzgJot76+2870bmTY74/JLD9m5PA4fNPSIo7Z5K16yf/4VOHu/2zO2fkv/EbTk6bevg3HB5y0rb+p9fTsWwgqh9N4mLOTDQgNCuQHnn33AgWbVvmRIOOvuIa9emo3ILaSJT0dDr/BQdzBtvz4QVPRFBLRXynDegT/UCGlOUBE8GnANK7vudauiGo7fShMFAXfdEeODKJ4GaQLIuMDGRqYPZsZSiXThXETie9eu1tWPUJ67lEImchggpJqg8hg+i8a9kJz21WukAHQatv+0076LstA2I/IgbJqG8JUloq0RIEz3XPe7alaX98eM+fv+ekf50E8u/7wOGLHyAT48GHe93z3hs5RA8/9UnB1T0OD/iSE707aQd1/tjHPn748Ec+fKKTd+738umTa+H1hSd6GCHdzHxZAmUBRFySI3vVb8rWV8sQYaP0exj50w7sWcuC6WWZGtkXOKg7OeglctA9M1DT9+HHxtOJbKHnkKGgzXUR6epDt9iryBf2DEmnHGVkC9XH9eRsyW/kP5vkGYgRs3XKYjPdM0kpOq1uEZX1yZZrRUIoH9FCNnWOUCOT/uR5xg0EBj0qA5Ue0oN0hW4h0OgXAoO+uIetj1Cinz5rB9jCAq4wn/hn5+EJZ2QD+8y2NklB/ggXe4TJDGrcbWJC3cuAqp/6H9lrDPdsz2Xrm3RRZ+Vme3K8s2XeI8DIoh3KBJl9m+zaQ52V6Rllf0ZyFvinm+Sle9nONhdu88/IQzqnfZrQgV9ZleSOxIEzjDnydKQsxtmHjhFCezJIW7bcFE7GxLLCymgyVpGdzPDpKGJ1nH/hSkb1JLvAQ3aX+sAIjgUYMxtmjgeNPb5T93yjCE4yHJu9dt8MuBpXp080yavsevfBjszGb3pnPC/jkH566VPTtwpvz9IfjB/6VXXVTnCbbVi/LSud/vI3YdykGvsXVrOuxyZOrsTBX/fctQgsMuiuxfNmLG1Oes3J1HRnEr/Tb/T9h08m4F76kl84/PxJdpA/cYjMIH4Cu3if+4p5Nst5wb7ywf7uxJ6xYx/44AcO7zjx6X75ZInY2/7gbdu4Jsucn2scYdcaR6cfvsigm1ETL69O54IMmsFRqdlzgDRwIwM4ZgbwyBrKbzDmcLdTOoeJc1MA3nGjAowcbR0ksqQZuwIk1/ziL/7i1rE4T2TjfDYDatDn0HGIXcM54FTpqGaVOJccaI4COWW2cCI5ue4jK4fAjJx7OEBkVBaH04vsP/RDP7Q595xipIv6I7/I1HGp7tWxOWswEjSRy3U6vfs9gxMOl5ZfucYynLI61M+snHvUpf0OwsvznvKUp2wBdgGeZwiqydYSOFiU2g/jljAUuMFY2a5XT/Kqj+u+7/u+byN0BN+RKcgHsiaHVHQ4agszw3BsFrAlXgV8yuWctrafXGVzqafrBAUt6+DE0i3fMZwys8ooEGDTA8EB2V2n3uSCqfoViLmWTJ5PD+id9hecKPerH3KSYfWZZYoRSH/91391eMtJIPTrv/4bh7//zGx6s7ZkFZS7/y/+/C8Of3pSf9fA7Gsf+rUnev+Nh4c+7KEXgsBjpEQDUk79HKymAx0R6FkFis1ip5sto9GWMKSDgsg2HhZAzKyRBplmWd3X0rdIgjI1XKs99Bn6BWMBNt1GxMDZs7RjAW/BpHf6KUCdS2dmxpP+p8wCT891bX2f/kZKRMI048um0OmWIUasFLjNgKcgJ+feb5MMImsZZy1JhStSgY7rl5EfcCsTTh9t9hzGyCM6WKaCslra6Pc2DxTctDwn/P+G83Ciy+9/350ZbjAXnP7DiWPx+Z//eRsJ+cUnmN/9pJwHn5BDD3voww4P+tIHncxEfXp7nmCSfWsZzic/9cmTNjkhoO533y1IZ19ri/QugnA6RS2njYCBmTZiW2SKIBLohHuy6ZEV2gI2CMCWrbaheLi65hnPeMZmAwtwPUu5+qXsQ4Ed/LU5PYvo8b928KKP+jObA0t1ZOvplPECfvpIS1mzg2Xv0B3ysx+yCthB35GrpaSwoJvq7/eyduBYxh0cOkXPO9ngajNxTp9x5U6n8sOb/aNPMGnpDJ1oAsTz1KlsJXoKS8S/sczYQl51V06kmevVhfxlQ2R/26g3e+leek3/G/OQc5G1kRb0uKNx2xtLG2pf7d3eWOpPxjBpgsNzjGnkhIc2jFBt35eWLEeMuVdbIpZMRpA90txvMERKK7f9f8ijHupd1ol20PbGkJaTTx0hB5m1KZ1j05SrHynPtWwa3aNzsELyGmfg7/4nPelJG6Hp2a7z7OxKNiv7Pe1qZIPvPL+JJ1g3RsHZHxnzBehImWae1WRYJNjM6INVp7816dYYMCeX9q7pJIY2Ivlk7KTnvZqkmxMJk6DZT4j12ySr5jOaaDTG0wXko76rbemTvlgGtPaoDtluOOtH6krP2L+WhzfRVFt4b7m4etR/kbZ0ByFE3+a4kZ3cE2aX59Kvq68lAosMupbo3jxlTz/8tFpdIKzv9unD3f7f3Q53OyF4TAS/7OUvP7z451+8TcKZqOBryIJt+T4y6JOf/IfNPuX3tKT/He94+zZO/9mfvefwoY9+eCOSjG9IpZaTs+fTVkZO+W5+vnlaY9XkLAicCzJo33FyNOosBusygTjKBuGZ1VI2R2nrBltOLyfQH2fYfZxwDjKng6PDIbUJq2BJx0LICA4sU9G5DM4cMYG+zqQ8L06VTV8nUeGZT3/607cZPL8LrDi4HGHOg+CJw0AuxJWXjs75iDxwjzI5EjZqdS3ZrU9vuQSZ2hBMfSM/CliQH+roOsaD7OroOR1RTXYON8fG9xwUzl87zZOTI6wsTqv2QGQIfjwTwcSZ/OVf/uXNKSJzzrIAoqVwHCy4tLcD56hlAbCRVi6IYqR+4Ad+YHPGOMacJ+VEXsEFuQYHODKO/+pf/auNPPLXLH6GjD65R+o6R55DrVy4uUc9tKt6lfavfEd3u0+7fO/3fu92bXsZMaCdOqLe9CmSwnVPfvKTt2eUcaRcZWkLeqd9nvrU7z489jGP3Zbi0D/trk1gacNksqo7vJKV85/RT4fpE9kRGY88wewxj33MhvPMwJiERITMdKQjhMKsbLf2E2k/lvYCaSlcM+PqSbfaT4osZdBEgsxZEc+e5Ij/57KBfle++rWxMvzg0/LAyN6CzTLaONdtutz+Vu0rk34og97BWj/XJu3TQi/bs6PMCdfTZW3lXZsUZObMT7JrBi2TcFO3SYBFOpXaS1foAd3Orgks2yen/bXoBczpP+zUoQC9pawtISIf3RF4C6R9LsW4zV4/dhLE/vl7Tkjmd50ck/yuP9kIZ8EsuWDQXlrtTVSfaXkF27YtWf3whw7/7PP+2eF+Jxg98EEP3J7HprovvSw7o8xN8keoFRBl92ViIEVkG5CpI8bJDws2FgbaoqwG8mrD9pCKwFAHxDGZ2DrBrueog2vsH6UevoORcsldX47QZQvZiLL9LCXhoHmufZe0XRMEZZJ6lvZSHlvInitP/bzTK7a0LAF9TVYceQSKfmNb6B3sIwo6McQzEQaIg2c961mbDVJHeggH9k//0af1TXipH5noR7ZYOXc6kH+22Vwn7CHDYUs3/c7OR9go259yEDVtnks/IxDgoo7GDxhHfLQpPPzgUQBMLzpNzD1lXBobjAvq1ljnnjDTR8jIxrLL2pQcjXmeR6YIMnUw5nQgARx+8Ad/cDu6vmPBydIYboxSLgzZupZ8tQyaLJ4PH+0ajvwFExzGVjoLa0SQ373YII48vTC2em/W1rOMv+km2bsmn6G+vJ+FjsyaWTmNCy2Bbw+p9jKkT+qrzWDcUjfYw4f8bXYeoZvdnTa+SQTy1t/nOHNslnyOFU0AZkdnltalgpQZpM9AZzrBrmlco8N8IGOu7+kYvW95eMuRs92NV+rYPkP8qJavz6Xn9Ceizn0wpIfqQG/oUP7W3MusejfBMOt/Fmd+XXPtEVhk0LXH+EZ/wj7b52L12Wzi3U7yfD51QgjJuD6ZIHjVq1+97fljLDYutAVDe8Aa+9ofsclQsQmbZmx53/vee+LL/r/DPe55jy02sC+mccN9M5M1m7bIoBtd4+4a+c8FGVRVyhAi1HRyclrbE6AsGYOxz20oPGeMO12Kos89aMw2c4YEZDrZ7bfffuEIas4ap/+Nb3zjJlLZNQKb0uE5ReQpnR1BwVn0PA65GcayFhAk5BMkcHAFNZx6wQwiaq6Lbw8eAQEnIJJIYGCWnNMheGrvhY49bSbW/QJJTjGZBJNt2tmsYqdmuAaWfudkkrkZQQYDNuQQjAlOXNsmnpwm93DCWzdfENt+OJx8aY3Vr42wyc94kY0sds33DA7R93zP91zYJ6XlOPNazjbHjbEjw4//+I9vBF2GzHvLqf6xn14AACAASURBVDhjsDDrJ3uCrIKgglRBUey4NvK74MA6XQ4i7MnDke/UJA6x4EZ5gj9BR3sCaUuZU4x1S0raMFZQq/3oAaP8xO3I8EdseuDZsOsEHWXSYdgVwHPOw00wSh9g0FIT133XCcmE4JqbSdexj6XrRxR5j3Alb1kY+oFAocw7ZSibriGryFTQAINe7dNQm+jPMwskJ7fn1u+nrO3jAmvY6Ddly0QIeY6BslNjWoqhDQTOdLmTe7Ij6uB+etfJY37Tb703SArE9O9mj/WDZn0Lzg3QdIh9KLMhRz7bNfXSdxf21fnM6VLqqc+yI9kxQRnMOkGIDNolmXym+/o+XWuTe3rjxa7RFf2HbO3HRVaBHUyU1cb7f3KiT3/wtj84fPRjHz3ZxPze272wZQPUmY65XrCvLO+y0WQHKcPvneRGBx7xyEccvunE6WCPXdvmvDPLM7xyRMI93VB/djKCAvGvbupONjqI9GuGvc3iy+RqmS+7wi7r24iBSB42SXvoc3AXlLOt5EXuyIjRzi0xhIO+y9aVZQN3ZSL/2eParyWtZFAP7aBM9r79ndojSt9vsqG95eDJvqivoFE92TjPmIcduNe1bBWywvhiLycytbyFntuHB2FIDuXQ297pQo4kW6msJh3YH5MR7ZsC+8YxRAos4MLB1A50o32sOtFR3cjJXrHbnlEb6qcymSK6IzDKztQmEVNhiJxSduQRfCM36KJ6srV0h0yeEfkHu+RRrranH15080d+5Ee2ZdnZb32VLIgjOoRUIyNc2PrIPWV6sZtschvZw9E1P/qjP7rtP8NmslV+R865VpvRMbIql3+hrmXFKtO4oSyfy1CkS8pm8/Ykarb8GOle/6J/2q6sIO/q2gEQk9RwD9kjEtvAtEyhbOokhtjYyKfLdVHLIioTp2yk/XjR+FV95/8+50dOUiWs1FO7ltnjM73SBnSmbOs5sTTHsLLp2u9J20SCzbG25XPwhq+xlN1o2ajx2jPbjH6OgdXrUgTY5eK7rr96BBYZdPUY3golzMD6tPpu9ukk6//zTjKqP3Uy5tgEiA/38pPMoJ/5mZ/ZPrNHbazfISfKiwyKeG7MYt/YTVtQbBMXJz5ZPkREfn55djXyPrt5K7TPquM/ReBckEH7jjPJoBmkCUzaw0CQ4Og8jh0Hvw2XOaUdtUv5czA4iRxZTqNAQwBgIEbgcNjaVFnqsA1mOTyCgmZSDeIFuznRLUWSUSIosRzBDGanhmxM72dOAkIwkZkDyOloz6L2eGh53J37b2yLQreZRI6x8jlpHEaOIHJKnXMec4bacBUmPqs7p5HDKdjxPeeW4+85gmaGglNSKjO83ed5HCYOMzKozanNnnHk4QNTvwmClClgcC8jpI4Cmoidgr8yUNSN0YO178zec3Rh3vIP38OvgFlQoe3U/yd+4ie29+k4pTfbkqqT9oVde7BwZJXdsoauLfuC7EgedXYNeQTeXU+n6AiyUOaY4IYT6XftgnAjN4ew4B82gjVt/86T4O3pJwHN5sx/0zdvTqE2om+CBO+upxfIOXWL6MtoI2haMicA5dR/27c97vCMZ96xbTJX0JPOh3n6UdA1zQBntdl17dmLbiMr9KFOlaND7QdTcFoWTYFR9U+H69t7h33/f45v+21p9/Y74XhzuskamdApccrR92QMIUkEvBER5C5t33Xpk3IRL9q0oL8slfbmUT4HXmAueIO98gSY2qg9WpoBr432BFhYz2xH+tlJQvqO4Fp/UFZZFhFNnUqk3fUxQYSAlC4Lptmk9iXrhCB6SM4yNdq7QlupFzvo9a6Tur37T969YcqezODZcxET7WXW3mF0s/1tXEN3ZTDAkW143Lc//kIWQctoZpCaTQ6vqZvpJx2gk/oDGTwDXu5lh8iQTUvvekbZdvr+K17xio38QxCqG/1g6+BvUsBY4MXWwRURpM+3VDXdbTNgtoc+COTZwOc85znb9WTVl/VJL+SEOijHeICkacNpZfqt/eHUR9siCbY2ObETcHWP9G5t3ebGBd10lP6ShX2RMQh7tty15GGf2FZ2BZmk3t71j5btRp4bU+khTMgPJ0QX+90+XGXnGg+MR+pgUqBN+zuoYG7wDlflsplk1If0A2Ujm8ijTtmKlr/RJzbf/Z7vGe7R/6a919bk0j71IzrDHpONrer4eXXtZE/tV9Yr/fvhH/7hLTO1TCXXagMyIGT4GZ5L75rEYffr+/BWZhm3xin6pFz2vmxi9VIWPaKD6k9/vMoKasms3+mmMuGmL7mGPimTPsGy8Vo9ZjbO9Kn2mZqeMUnviPVOsOtURni1fIus6p79Z2OapHANfW5PqjILyTTt3p6Yr79HotAFtooOTTI/on2OW8eCrcifOeZ0b2OiOrKj9Ljl23BFvBrD8/GSddoun+kGvVRORFBjTPcWrEWwsUH6dss11ZP9ptORgJHZteEKzM5nuLbIoPPZLjeqVMggy+uRQRaKffTEj3jpS196+E//6T9tdj+/oZgyWzknvrM/+RRiPvblax76NSfj0J37G5Yt38mKkePTD9t/vlExXXJfGQLnggxK9CnMXKdd4O7dQMzx5lwKyjm7nBSOOWe4fW8azFuSwdHkaLsvJ4tz6T7OZvvTFNwY+NvvgZO4Z2XbtJXTzbH0uwCBE2+A5xxzDnK0ZcFw7HRqs7iC/VKSC6DDoZR58pamrvNyRjnqpea3x0HMbtlFbTzqf2W31tQsI8zUsSBfwNgpTdMxh1/L20ohRwDIpIIZ48JZLCDsJCRyMkSuE0xEUHBuJzMtmHGEouwdzijHqMCidMhwaE+Tlolxnn/sx35sC8r3ZFAOm/ZGBCF5tFWnLrVXS3sbcNgiGTnxrocHedq0OIPM6deGAgQy+ePoa2/tLpBvL4c2NRWUCgA4nreflClIefjJ5s90irH3u0CQrLAUtKYb1UVbwG5u4owAgPUTnvDEwx3PumO7pyyiOWN6bHZxOsillyqPvnFy22S2JVLtaaJd1LcNMJsBnrOo03Gfz44k2QcsDUAto0ICwbbNVemNvwJh/Zl88O3kova8gCkZ9Q+kKb33vNJjI1xz0ss0KXjRdq5RHp3XdxFBHXnte6QIrAUO2rKT0/Yk2LRps3/DRL9pby/tDnt1EmCSmz6xPa5tc+kyLMisnekoGdiQlqeQuf1M6BFbqE70v+CCnRP0/9YJyfLRk80KT6amtk2j9Sn9Fn5lwQmaBMQCbf1V27NxXadNBDkyMrZ9xU5+cwQqvaidvXs2XHNk5kx77R4p1H3VHXmt39NL5ao7ohkZtO2ndVJ2QWd1VF91RDaz9+rU8iTyw18fbhzQru3FBL9k9g5vOukFgzaJluX3L/7Fv9gmEuCgDHjpy3SXjpHVdeTlhGmLSZKqu+/oF4LF/XTOHyLIBAddmERrZCj7BRPkNVLIGEjf1T3ditzRNgXyPrdXSW3ieQLVlj7D1rPpOZ1saZ16GY+MZerLXiOh2i+tzJ2CfPqI+FCvTrCi5yZNvGDeH6wjg9jhSQbpZ5MMck+TRG1Q3ab+bSQfsVMGkfaAbUfPw4xe03WZQZZ0RXK6h46w2Qgc2bHtSaau7cVHNyKO1FMfbWLE2IdggiVcyImce93rXrf1d+0OV+Mvgk6b+JsZhEjCTkWDKZtgkgIh1JLNMlHpRfrl2pz97HE+1LTJ6WI2rwwW9c62wk27uFZ/81z2la9lTNWefmsPsQihxlll58slS+NTMkYCGW+0Wxtlwy15j41j0+XNpkSm9VvPzPbzadgT/Z9+sgv6GL/Kq30PswFzWUW4NmHQ5IRry6rMh1KONm+pe9nTxhN2xHP1gfqYuru38XASWlfm2q+7rgUCiwy6FqjeumXeqU8nbthnlokhg8oMYnfzudnesm63jMkTm2PvUONS4232RqbR/U72brzPF93vgj9orGVb2Zmya6dtnXHUrdsat3bNzy0ZNJnL6UBz0jjBnEtp8EgIzhlnTkBD4Qv+minyzqlp7xnBiyCcI2g5EKc2Z7LlSJztlsI0w90M21wTTh4OUMu/OH9enDxy+J2sL3nJSzZnmwNoP5o2dfWMnAD1nJkznEHLZMirA3OIzfA24996cypcyja5IzoYCk4JI6Js6e4IGEGQewssIxFcU/phWQQcRPh12odMKljDuRlqzrsykRuRT64TgHSyF8epdiEvzH72Z3/28IY3vGHDqLpxNDmDHQ2vrSODPIMTzxF9/vOfv5FBM3CbpGH7h3Tke9kYHED4dGy74Fg9vDjyzXgL4jiJgm4GmTzty0QO1zZj6zo61Klt2pBDTdYyGwqCHv+4x28nMgnKBDzIMLOUri0DS/3N8OfYtkcG2cnXxtcM+xOf+J2H259x+0YitBRokjR7J7p+BTe6IQik8+okSNFPtJmgGBnWpsl0qP0jmsWchEczrzMTZxJD6fZc5pHeelcvGMFUUIVkUM82pzYYql8BU+3bck1OPtk9nx0Q9AsiPa9APBnpwtRzn8na5sv97nrlCma9WooFF0GZTBJBnPsikia+BQ/Vmey+Q8DJBmpJkD6mLfVtMrfBeSSKwEwbRbjSabiwXdodGUQ21/u/PqQd9ePqAzM2UFBK5+7++Xc/yVK7c7lqSzrL7GhDeu2hf2sT5QhykQ7pRXs70efvOJldf9S3PGqTg26VVaDec6b7WICaMzKDVjqBSGUDI4PgVNvql+HtvvZ88hkpI9NPu2kj9yFlkBz6PFsYyed/Os020/ECMvJrV7ZK2Z6l7bQXshv+sjRg5jfP0kbtvaQsGTBlUhYozn5BX+GLpHd/gbF7EELsz15/0ovIcvKwGYh37aHu6awxR7vRl0jcNq6PiNM/1NG9rqWDiEZjlLYOZ3pHVmMZW0j/YRoZxGYVPKsXe2Xsi/Bkx32n7wiEI/PgMZdbIbHoqWu1m/EUHm0EPQPm7CHbwZbpr+lSx5xrs5ZFtSxYm6sP3IwlxmTkRmO89ha0kwUZpL70iF00rpU11YbCZQVpe+Xqy/YiYivUzfPp3Gte85rND9DOXsbeiKt0uPE2+cniWn2OzhkrOffpfqSEdo10L0CYZEjOXmNmflX9VTn6vbrCyYtdyfa5jp9jrNN+dLNJMdmv7Iq6uz+SPNsTWaXtIoey/+rGVrUsv5NZI/Nr72PkT/aisuY41H2+q27qw59CamoXvkQniKkPfWoZHDkbSyO1Ip+rw574nhMt6u65cOxwD89tk3M+hrHKc9W9I58vRXzd2iHL9a39IoOuL/4329P/CRl0Eu+84mSyxZ5BbIfYon3q2Ah2kn1ombfxJxvL9hoD2Zr3vf/OVRuWizU5yjc01jQ+FnfOCdple242DTt7fc41GdQAP8kgys+R42ByrpA6lN0sLXKgdLqNPUW5nvw1y6yTmNk128xx4cTbOJJDoCMVwAsSDPZlROSMT0dXByKL6zxLIGHGHCGg07k3ggZxEBnEsZZZ45oc+LIecvLbvFKmBmfUi6MgsOBkckg5yQxDzmsdvIDI/5FWnBsOiYCDkeGMxDgLIBgWZU1HrRRwdVSW55sllk5tNpxj7je4mT3tBBjXmsHktLbJZs5YjlXr7u3Rg9ArM0hwMcmgSI/2eWjPIO31r//1v97aLcd21tvzOoHOvZx69RcUTIwLWBjTlsVxZAUfnN32oCrLyzV0yOwesoJTz+BqawFCGWQFJvTUqywBAc0jH3Ey2/6Z5RHKQIYJ3pRLDu2hHO85nN4L4CIuYEYHrAl+7ElA2uxyxER6Pxn/HOWCL+VqP30JOWH2sqCHDJ0wp36IGO8dnztnLvfPmM57fXCSQRFRritAbqNq7UWXEFOCV86yYJPutXyn2X7t2kbdgk73CQY514J+fUW/7GSYaexy6idh3KA4yYz2A9HW+iGslK8Py4poHyW4F8wVIMw6h5E6t3yQ/SJvmz231KdThZKHDAJpz2bvzGzDTYYhvWO34EAWs9uCKHrivvb8UBY9hJPg9s1vefPhQV/ywMMzn3HH4fGfWUK04WvZzmfIHH1I2QIYdUcWsBVtfMxJUS9kLl1kl77kZANpuun5nZRU1kNE4dSdPk8yKJLC8z0XGaR+Bc8yIwRw9HFmkNamns2Gy8JAYnmu/oTgYO/pGluIABW8e47f22w40o5MZeQ1++957BKcZQMK9l3D/ujPZQYhV/QVpJHnzs0blTvtdtk27ocVWdQR0QLjsizqv5MMCauyQugJHdEX9Gcv+mhcikz1P5mrC9vfHifk5IB2Ml/ZdhFPbL0xRJsbC8jITs5lcPXrTsSit22wzb7AhO6yL5EW8EBq0U/ya5eWiSGnBM7GnOQuY5Dc6brJE8G+9vG9dp7p9Nl5z6HL7eHnMAJkEH2KACRXG2DrL+6BgbYxHjRTS9f1Z/a7vQi1U9lMcFem5yGCZFWRseXTyuu5+Que3b5dPqsz++KZ21LMEzLG/ZFBZQCXlTpJn9mvcgt9F36T/FJOmUDqUjY1efU/MtEH+9S1WXlkkD6qr8JBGS2Zgn/Z2ck3swQjif1WVmcHVfh/jmPTre2+yK/qcczmptsdoJFN0T8Ra+pTtuPenuT7tXx/Bk7zc8T/1OfGlpZis6VsEv3mI7ALfKSW6HbgyRxPz+7Krys/FwgsMuhzgfLN+4zpg/6jn3GSPX0ytohWjSUve9nLtv1L2Tb+L1+nLTTueeIffPLEv7nHyZjNT2PH2awyVI1p7PWb3/ymk6Pl/2C7jg8s3jSG8lfyFbwfixNuXvRXzS6GwLklg2Zq8Zz9KT1+kkEG0+c973kbGWRA5YhEPBQgcFB0lPYB4NRyvGWw6CCd6tRSMsGNjohwaLZ4EkxANaA3a8epKwU/8qCZIeSL/SvI3D5FZC0DoOAg0qvZRsGBdGaz+Jw/AW4ZKJ3cNB2HnI/qnoNCVs4sR4Sh4ZircxvhtknyLEsZOdLu5wiqI6KnTJkc7o705exoH06+7CF1bN+b0t+TiaNvkzSZMZyl6taeFgJJ+LVpuCBBmyHWGMd/82/+zeZwJ3Ozo8pvCVGkAke2LJu5AXLt2sxty78EQ8ggjhpnvqN8ydNeHTBEEKgzGWCTkXUdHOihZ9AlmNGlh50sCXjAFz9gq7P2NaNKTkGSoIxT2hKY9L7Zyow3J9Qz/G+Jz7Zfx2cCmYLWnOKc5Ix+AUTfe65+Qe+b1VZH8sEFXsovG8Tn0lWVkUM8HeP63Az0PX8/0+q6AoRkMJCRRfBEFwQ/goOykib512an7ctlxhdRAm+EJf2AZ1kRU8aZdTUdvGkQ1b+9xOifLBUEAiyQCmRr8+yW3sBtkrstO6hvKp9OI4JkrpCd/VJXBIM+015H4dueTtqFjlpSJFgzwOuP7AUsDfqcBm2G9Iajz8oW+JBFxoXAjc59/dd9/eGHf+iHNpz87nkbaWGvtc84GNrFMlgvOq8vwaWMLc9sg3h1/8Rfn2QUfOIvtzEHTgItRF6zUA1G00ZN8mXaeu2LKGH/BJnKQDr8f/buxFu3rKrv/gNV9CC9ijQqIogJ2McGFaSLQhJNzDs0Y7xvkn8riWOEgcaMaEZE0qFJjBrslV4QBOnsItIIKG1Vvfuz7/keZ22ec+89t6tz6+5z66mn2XuvNdecc80152/NtZaMGbZZ3dnMGeh6DggEaNVOvO+0OXYJSCYVu4308YietLRwZhfQzwDxmcGpP2sXO5zNYd+BQUAJeuMaWoEm+nYnYE2alUmm/2U5QYSO4cu65G4BWSwLBgYVkB4L8uvX3tmETl1s+Rh56z/KI6fKKLuPnQLwZe+941XH0NIL/An4B4z81E/91FoOMGyCQYF+aKFL7FaZJcBdQFVZoMAg/CObXnSafRcso9vzeEGHWiaGvuSjD5O1fqHdbQxPz5ssQbv2oK0JHDqMHvaXfPkOJpPYtjJ2AoPI07hDZ8g08C07q36/KUdd9EKfLLvFd2Wqkw9AzvqUPm+cwYP2I1RGGWgd5KC9Xupoj7pmiLNhE8BItyZft/1rC6AEVuA/2toceTtualeng+ovbWKNZvcCtvGpZcZTVvgVkLcdBwJQ9BG80K/JDz8maDod2fR4yqOxIbBp+gZsaJt8N/GhPwAB6RfZpyPVE52+N242udHkU3YsHk/edq/f8AS4Rgfmxvb0IF8se9Zze+hy8Tiwg0EXTya3M0Wn+rTYd8eKrRtILzHaz/zMcrT88ptYQLzDnzWOP3YZywLCgUHFU60CMYFhnAV4v+Odv79OaBhHxTGWLZtwZ1uzkZ6fsfKMF25nvu60n58DFxYMOlX4k5PFcnhamsRxFhQJAA2o/88S1JjNDCRpuUPPtRExR11WkOCGw/vqV796dcpcF0Bx6DmkAA2OLmeeo4Cegjxl5oQU+HJccuDK2EErZ1tgYkaQA9pa8QIPNDT4e2+2VsDIuRWAAlvcJ6gQMGpvDmHBU4DSNtMh1Jgji1+cUQ66YAoNgs82Kd2CQTk2MwhphrtZTA5OGzVzBjn7gkDOtXILEJJnM2wMlE3SgEGuAYNaXoffHE0GjnEEUpALA8ehQ7PMoDaQzllTDse2U2ncT0/QxNEC6hS8eqcrrfUXbNq4jV7graUMgmRtabNk9HCUybNsDHXlCAYO5jia8aVHnGiOJwdavY942MPXIIYcOIbkzGirh1zwguG3jfhDF53AKwH6I5ZAfToj5HXX3css/8PMHD/yfkeju6+lOjnJBY4TmPBby+bwgAwBpsAYDrRn20C6zAl8Ix9BZEuwctzL9JkB75ydDpChl/Up723ASr4d18tJ1//KjtgCTgGMLX/SV+g4Gug2/Ws5ZuBiabWeRbt2tNxSOeie6bNlEbAbwAX6IQMGiCzzyPMFm4EC0xYUUBRs44Uy3/CGN6xLNvVLIKE+rb1oVubscy1xoAfsnWw6wIy+VWYSmRjwO2EPCIJW/ZUudeQ3vRMMvXW59pzF7v2//+//twJIZYfc7USxhS/3nYBBneomcAYw0H39SZvpNdvJLvlbl+z96Z+sfQPNcyP5wNKGqAkkFtwXwHaPeoAP7At99Aw7aIZL32Qn+is4w3v8FcTjE7tBzvoiOsmNTQHE1e86vrxMn+yw+soG3QKbfu/kNfQLgssM0q+zOcaQuZywvpdtVQaZ0ge2in62/xzdBypka7W1rLNszKQLz8usa9kSWZhAcFqWsmoPvVBuy3dnIN04N4ER7cE3Y9FP//RPr7alzCC620RIwBVa6Zp+I0sLb9hx7cMTYBDbGmCgfuUbIycYRDbZgZaJBR4EUHmGThu3y5Cje+1xQ/YtYesZoK62+P6jP/qjKyBUCn3jCJm6D8Dc5pyutaQV7T7jJdrauF2fYPezkXgBsDIZY7wzZpIFHW7ZZcvFt3YxRz1b3ng1AcL6wPQjGpPmNbTnDwQgt4ypzEx+Bx6272AAF5tHXngUP5sca6xRljFy67vV1yfQOwGP+r82tYH0tMHp+HRvJxiUjU2H0w914Ju2kiU50kVjDF2jI5by8TtaotVYkF8XnQVd6iqDyuc2u27D6/jemNd3dOhDbL4JIHZfZhA9AAbRmT0z6PwBzK1+YgeDbjXHb+/6ZoB9uZbcc8+ykfRyAzsMDGInPMt/5cvyNZvUExes/vViz+0d5DPbm59gnP2N3/yNw5uX7O8Pf+jD67hrPLIc2uqEskobQ6ZfvQPRt7e+XQ/1FxYMmoRNwKNNkjnOBlUzxwbU1ucXqApuclI4FjqZAEpAw/nmnHIW27+nE0HWQGl5cXosy2pvgzKA6nAcgYCRHHuCKDMgRwS96jIjhGYOo2CfA80ZaTlZnbDAjyPNyQUWoFcbAAUhxYCFNljMcalzt5TIMzm22odXlkcIkAKBOKQAJs7QBA1yQqdxyMEpEEErAAF92saJ9BujZZkYubSfRoFezign2gyzDAm8NfPL8AlcWyalnrI+BDf24zADLOC1gTQjGX3N+gpeGT/3yygA8HHUBBToEsAGAOSAoxHI89rXvnYNEBhLmR+CZE6w4EwZLSUzk8+5B5J4CXTbTDSwC11lBLVUiazXfR0Ww89B/dASKL1x4V0ZRtogcLMEiXN478lygfWkAVk4S5mrri16dvfiOK/yoHTLKOJz2VE50oElof05ydOxda/r7m2T3I6Y70Qx11oOoJ6y4PCyDIL2K6o8ZVZPDnH1u1bQ0Gy4oFG/o/Pk57ogWuAP5KgNDVzKbGZcuYIXgZag2p/+JdCi22VEuMeLjuCjATInnFwCg1qSp5zASHoHDGI/PANUICu80A/ph79mxZsFV882SxFf2S4Dvv6jPP0RGKGPTzBoGndlA3gAJJ0+h09sgTL0N23GD/cBQ9mfjicF5uG3Z4ElT1/a/2M/9uNrvXTU30MtIbLRsaViJynIaARwAILYo7KD2E/8BaiTywc/9MHDny7gg/tkGCgToMHGtPF4y+km2KXeaUPTHTZLfwQOADX86VMt7QAGTV2mm/jeXi+Cbzbfffoxh0oARqZAw064YvvQiFY2hfwD+5NdkwqBKQXtgfD6DgAOeADYxHftVx/QRB0BpRMQUp4g1QQF3RKMK5vT1kED6dIK/i731+ZAK7yLZvrdCV4d6a7dwA66VfZDgfw2cJ99NDrpmD4jgKU7lolpr8w4wA7dK4NogsFtlO4ZYw4ZsvvGP2A7+zHBI/1C/2e3555BgUFzfz20KatMKDpH7nRHfwCqts9YJ4ppW6cE4o2xh03/8R//8dPTxOhYh1R02qO+pN+sM7NLf2+8xXN9smwq9ehr9I2epuvsCtqA1fqucvVF8ggANuZMACEbmcyTe07/nMHdgv1roHDy1+fpX5ClPtySMJ/RVDZoS7yUq030uFPEyIAOJbc51qgysDL/p9+mvd6OR3N8yA5MsDidnLawdjUxV72V1Thh7Eqe+G+M0Uc8T55my9le7aDnTeQd45vrdK7tBtgncp6bs9avtiAS3qLDjD+Q2rOdKttph2UZ7gHZlPTFlWfuSgAAIABJREFU+ryDQRdLHrcbNVN/po0RE3DmP/6xjx5ev0xUtUxMvMc+iUXEi+yvv3VyQExwkinLNjXBw76JKwBCxke+NRvlBGY+TsvF2yMzmm43Xu703lgOXFgwaM58bsEgDnP7rVjyIMjnXAIJdBjOSkt2OGs6SUf/SvnmmApWOKOCfs6ywTnHEmjCoWsTTx1JGRyFUrbRlAOiI/o+lxEY0NvLgGNrzyDOvnIFuGhuSdTsjM3eCSYAGZxHQS4nlvMyj7XmpKmzoD8HTZs5Q3NTWw6g4FBZ6FCWlG8AjGCwWcwCgBkUzMAo9Qt8kcXRJsnt64FfAA3BaUsjKtfzgXM2kBYUc5QEeAIxDrLnuz+5tDmrWT2Bm30ecuJKefSO14IrvBMUabegADgFICigmDPs2kr2wCA84qgLxNQT4NHMNWdSdpXAht4ABIAN7ZmRfpCJtvcqUF2d1OWfkwDaYLoNVslc8EiXv15GwMleESvQc3Jqiwyh5Gwpz33LPwNCQWmBSgF1gEnPFHBMZ7Xf8MH9HF70eydT2QadhoKfzcTSHYEXPTJr3My98up/BdEFsPG9mWkDEvmTVxtHC6a1A3/bRLdgt3amhwXlzbwDbLRdMEg/Wo6pLfgMAAA2aR9ds/dFp9cVSMx+VNqtgBboaWBVNgBEMNxMfUv4Cq5nYFf/TqfpjoC3LL1OtGmp5DxCu8yJgh46w/bRw/bSaR8vQTngjN3By5ZBtQ+UoEMwq3+8+z3vPjzz6c9cT7hjNz23Lv87WSYmM6i2tHeQMu17Qlb4h24y0tfRvGZf/skfrzbLve1zBjAqc6JgGi+2Qc8MYl1Dt7LYbDxzXf8F0HOOAvnSsUAlOhvwjVby0nZAmefoAjCAfUBnuqbPuw+w15gzwY36VLo3A1eBNdAAyKZ+PNN+OmK5VydtzTZ7nqxaXgYUBoZot+fYAWBBS23T/TleqEdfwld/7fMClGqPK/w36UE/9NMAevcnh8Zb7zMLpawNPNPH6By7bTwSzBrLjLl4xgYG7qJRv+40Mf2GLPCGvgBTA/Pisb6m/Z3qqA7yJjMTMx2LGziG53RckM9+qxtoAUT2TNlwAQMtO0ZTp3T6zRHw/ICOuleuezjV9EPfVy6a8y/KNJpjI7rKCsyWtKmztgEgjb/8F76E8VH/0X/1n4CewOjKDhCqzHQoezL7UjrFbjQZVD/GB7plzGZj+UBk4ju90SY84Bt0cIJ+2zLCMsUCSGd/TZfqG9vxZUv79vs2IJk281iwUpuyi4FHs9wAKXqkrewtWdJlvhP/i9y1tUBqS3ff9TNgTv4IULwlmMYR40wHXzR+1I/Q6DkgEhronrLYhZaC8lHoQHzcA7QbG+jcqNJ2MOhGcfLBW84Mqret3OpPY/o9X7RMbDlYZ8lg5GNZNcFuGLvFIXw0vjYbYZL4C7YjWMa7dSxcfLGWeyuPPX/jr73x8DuLn9fJvHwlE+j86TIQA653m/Pg1cXztOzCgkGTsGNgkKDOzJ4AjWMF0AAmCPg5NJxvDoKB38DL6Snlm7NnwBYcdLxngzVnIYCCk8AZ50QbrNs7xiCvo3IkO00M08sSyLFwTydyWIIEhFGOOtsnhFMy05wLIjmGOrXggrMrIO80E45Hy8wKAnJaBAbaos05I+rU8XO0OdD+OHl4wKnXtrI7OFrKmctTtBOdLX1CCwPU6TUAIc4RWQEHZGqhs9nRCZihVXAH/S4zCPAmEGP0PF8Q3H4pAiZOlIBJ2x0HzEiSfYAHeXP6CoLcK0DlwFsmISicmxDLgAES4hVeyySYSwTxppM+OPmceKAUh17wIRgWXJGhzy2FaeazjbnR6PXIRy7vC89l9ZAN3rVHjgBdmerkILbk8fFLgLUGbyf6RiZ/feKU/s0i58c8btn49mQfn8BIsi3AKsiLpgkGbUHIZpjbt6K9JAQK+Ipen/GrPYv0M203UMm+aEld9TfQzKUAK7h1cty5tpEffdBHW/IBsAFQ6Nd4gsctIUB3G6B2ZDT6OOj6OHrwEFBn8KSzdFXZ5AdM4ZjTC2CQ95Z1RLf7BXCBip4ts6HN+AzUBV0T/MLHuYwjsCLeC6rZGfQqN5BDuXQaH/E1gLZZZeUKTrWBnnZMMfs0M6HUTa/YG+0kM2VZdy5gAbD81m/+1mIfH3L4xudfWiYqMF2BzyX4o6NobR06Hms7Wj2rn7MHZM0+CpJXAHeh75Of+uRqP9ktNgLAgk/qz77gxzYzZQ5a6aU6Otq7zc21raVX+manuWWL9XcOUMuA6Kp2txTPM2VrKpOtoDt0QFCOF/hQJg+5Kps9pA9sgOfZy5azopedIhv0kotnOGCcLzrcSV7or38VVOMt+4ZmgFL7ZaG7EzLbcDgQ3riGDu1F19zzpKxS9lJ5nD9llT3WnnZlmxTk4nfZhfpN+ocHrqFLlpaJDe0jV6BV/TMQszL0ee0yNpTxx+bat4nO4E8AG32gZ+7DQ7aQ3tIxgAnwtWNxG+uUBZxij+k7+6Dv43eHHLR0G4/0O7KmHy15VJaxIVCLndY2MmGD2GU6gr6yDPElW4+H+MPWd0JnE0fdQ99bLq48wBg69Ad6iVZ9XlnZOLzDD3qXjUMbHnTqXX6RvjOzbZocaQzVHvS3FyH9RAOapi6Wydrx7sl/ZnsGukz/bALg28mG8zij57k3IGr6huoOQCsjU9s7SdZ+ieTuGWMLf4PcjV3tobUtL13Dp/pbvqd3+kb/2W7lzImFlhbSYzrXJABfrs2rjVEdJLLd63Jmf52HN/u9N48DOxh083j7YCw529gkf/Zx+uPa/YXPLyc/n+xJagm7DEK6xr/iE5rcePbi5z1+GXvYuDXJ4eQUW8CQMdz960TGe993+LVf/7XDm5ZNpI177BD/zqRHEw8zIzg/pN8ejHLY23RlDlx4MEgTzgKDOIFm2yixdDqDu0G5PTI4ae0nwinlrAMIOGmCeM9wZs0QtRcRZwFAIeDh4HEaDPbKFiT4rdk3jrj7DPI6NyeqY99zQt0j+LQ8i6Nr4BcgdFpLSzcK4BMZJ2amzaPLdw4DetEuAFRnx7eXDt3pWb6jg8OpXsAHWgSinGcBDOCFsw0w4pAKOjh/bcypLM9pB6OhThkhHFmGRvtbWlfGAJ7ZM8h9eK08wUuOJJlwRi2d4/j748CTm+AHDzvdDI2CEPKzPIsMtV/5jCQ6lJsz12wufgmE0E5ugg8GsaVanDtOWbPVZqwFY9pLNxjfTtXxXdCJ/4LwssvwhHFHg5d7LoE+l/bS8Z3T5yUg42w/4csuLSvzHB6rl6OoTIGCa3hMvtpJHi0HxEPtWY+OXIIJ9X/VIr8XvPAFqx40gxsAky41c3y1s41lPKTnLREz0BR8kksn/qCPzNEtUEFHMx7NyqOlpZYBDcoPLMRbvOBgywygp8qhD+2rQXb4o8xmhJMhHtJDZaAD4Eqn3CuwF8yWVUPOAiJlCcTwWf+m//SojL4yEDuljB7rR23oRz/S6WbhA3bnDDO+T1CufXgCdvQFPO7Uh05P0yfR2DId8kc7HWRz8KyAuZluQAk+talupxzRP46AMgE6v7osS/rzpYwnPOHSXkPaggd0nb7q6+pFV5vKAkzxTd30ULs8A1Dz3JPWTMW7VvvZke5OjqLLdIQcAv+mXuQgbYcrMgM+oFebyQM9Mj8E5vVnPGqDVv2Zje/0KtdkXLFxgjX9iXNUdkRLhtHF/sSHACF0BvgH3gYwA7uViQ+ACfUqj+2h64GN6u6UyzJn0hN8LguUXZYx5nm673ltbElxgCi7oT5yIQvf0btuJL+0j91hl9kUYIm+6jpayUs76UiySI+U5cVOqZtNafmX+sq6lH2nfWhjJ8nXOJLeBAZ5Z7fLwsI/bZXxRC/0t7J98KGJE+ALeWsfGtl5GRwdXFCfKxvLZEmgqvbTDf06sEm/IW8v7VOuPkeX9duy/LK3TSKxLeRBB9VFdtOmBwDRMfbfextWk8Uca/BLveybtrH1bII6ta8TSAMh6Vx9V1+m+9qmr3biZkuSt2BQ3wP3W7oaf9lW/cRYxS60F1wgFxraC27a8caVmU2Wfzav9XmbOXRld/RL77gcuDQDrWOThwGneKe9Jp/wnwzbU84Ykd1XxgTu5zjqGn7rK8rgiwC80UD3O745HaIrdJ3u0TX2MDuqLHYmP1B/K+squ3i1Y/W18HR/5to5sINB1867O+XJrS3KhpXF7vvMyuFnAXQ+8zefWX1qk9LGWH9N/BePrPHO8vznTg54MQFn1QCf0ouNMa793mKb3v2eP1j82UdcOnV48VWMoXzXDjtpMmi3OXeKZl6+nRceDKojzSULBndOpv1BgEH+KHknHpmlLi0/MEggKGDkkHJ0ASQ6iECT46YeAY77BJUcJt85o8o1yHd0uPoCazgZyuzUHs42p72U7DY/5lB2jDRntZOqOBLN1LbUpBmusmIENgWwOrzOzZng3HdSEv4ICgQqHXHL+HD4OoEMzWjAO86ozwUdHFdOUcF8QIXguh3pO+qb8ypoFhxwbJWHbwwRh6nNt5tl91150ahMbeLEd9oPBFz9nDSOVY4/+QUG4SHZcIoFWO7zGe/L+OnUOLI2I43/rjOmZXcxhugMVGk/DLPRgh684HSTi0BM8NSSBuWhWcDGKaSL7aHTzPAEhXyep/M8cTHmT33KU0+PScYXAQrHUhAkCMDbAlPtSpc59erDZzzkaD5noe87v+s7D8981jMPj3n0Y04zqjL0dfAceO9nzQDM2YIGLrqurDIa6GQz1QIwdNBb8qL7yU29+kCDXs50ZVX+XM6pXPrUaVel89NxwWwz4gF/yiBnzjYdoffKZwsAFPS0zB0ypu/tfQOIwU9yphdlNpEhJ54c6AI99Qxa0NBeW+xBdmOCbZO38aAgAy/xQ/lt1g0A0Bfx0X0F7d7R1cAdACBA1c42KyePNsWmh/ScTWlT8K7RaX3MO5BUne95zx8e/nrhORuhj+pP+mBBfWAgnVMnnrAhZViwNfSzDXO/ainjsY//shWwxWt907JHfUgf7EStgsSyQgLOGqrSWfoguwXAQgbtYUW+ykSzcr1qL12gQ2hVDtst6MIXutlywxwnfY4M1FXmhbLbK4yOKcurEyfdy7axq9qOLu1lD9r3ynNkaJzp6OqA3cBM7W5WDo/1J3ae3cLbMl3UgR6yow9lnNIhL+UY08gdT9SDpjKNjFFldaIJT1rS4nd1dWoe+0a38Zj+BTD7XTlsH91hl5UFrA3ALyuC3sSv+jO5dNIUoAYw2UEI9C0ABh/pjzGFPdbvtF1/1v8DKto7Qbnshfv1BfzEC+NIJ3npAx2V7h6vxi7jQBlh2t2R8erRJ+uf2Vx0Bpq0BFi/Myan497RWuZYkwN0VL1tkj2XZul75KcselsWGtl4aYPy+A1ko23TRk+HPrBMfyqDGV9a4hSYjEZ14u/MLJtZjRPkmYHwFuye48utADIm0DTB9i14FKjGjtvrih3Rj8q6A2Rqe0vz6MPMfqr99dmyRfUBL/3PGIaXHRGv/5F5y8OMUWTeXnXqo5+dtNiSw+zhWXZxD1keeA7sYNADL4OLTsEEqSetMzuoDPQymj8l6/gjHz2874+WrJ7F3xEPsGX8Uy9+p3Gbv+VZz5VtX/Zjh510CMxf/OVHDl/5tK9cTjB+9uqvsHnsfT53E5iNHXtm0EXXrJtL34UFg5pJn7PGPnOoOOWcP8sRzH5yzjikAQIc1dLo21OhGR/BHmfK/TpZGwCXRq1DGeCV374BbaxYIJtICrg9y6HiDOiw6uLcl47unTPNGdYRC/ia5WuGuSC3gJ0D2Ix3oItgkFM3nZTS0tvoGD06PX5wNJoJ9gyHRBnADM697y17yyjMYEXZyuCkFvBrK+eYweK4ax/HluOlLEGVtqmXsyUVe87cCyg4ZRBsfCHrNtMW+DRrh0/K8qz7zNJ6aX+Od5t24nvBCBkLbgRD5NhJXeTV6Uvk0FKc9roQWOANHSiFvmyv9qNieLtPGwKD0N9eFjmqnTqTrO67797DI5dTv571zGedHo3dDCIwAz8ECz7jpWu90F5qaSnw9P65z3vupROzTrLW1DUBoJlVd6UZgC0YRJYBGDn7LXnohBY67T60CKTIpcFm0oKOlis0Yx1Y0n0tndPv8IKOKR8fW1pUH0ErnSQn5dITsuKUBwoHspbd0bLAMoToVAFVSzRaWoGmgAOfOfgCtpaMtpdGQVF9NrtVm7IRfvdX3wLu0FF9R3/QF9m1mVlEn5qhV4420t9OblLn3NCU3Wozc7x1vz4EIGAP0E4++MpheP8fvX9JKX7vqm94X+ZOwZB+5K/gFy3KUicAk67qW+wjma91P+pS5qS6BdeA7/ZcaxlEcj9r1j/91c9lGenz6A3YAtwJ6Py5R314ma0vcK7N7Al75A8f2+ydPgjS6Jv26Mt42Ibg6YZ3z7T/WWMIsBHP0Mietg8L+5EdRKdxgSPmfjzpcIPsAvoDepXRMh5gBD0pe4ZcPFu2ZctPyacs0cBxzymLXtF3/PNbWTvkVT+cOku/2Do2Rfn4Sy/pKF4pi40kI3bTWDAzquiYsvGjJVH4qww80U52gnMakIT2QBByBAKZjFGnuvyRX21n59VJr5RZsN1kT7advLSnd2N9fSfQiQ1wv2vshzLZD/RpY1kd9ML3MoPKqlJ/jnnAizbQbbYIf4zv5E73ctjxUv8hYzwmi/aqmr6KZ/yObnxjg7w6Hji7UgbPyqyTv/pXy8XRCRTrpLAyVtOZxq0tOJuebssug3T258tl8sznb8TnGZi3NC4gpbaUvU1vLW8kbzYRAEjP2xupzVS35UxwKHC8SQJ6WmY4GbbEb2b5NHY1MUK/6MKcyKPX28DsVgBqN0IGd1oZOxh0p0n8/O2dQfX0+/LF8wPZ408scdNHl9cfLX7Yu//g3asvYmww7rEZxXDGJmNAPlkTjDPjPH8lu2z/x2c/59mH5379paz3Ds/JnuebzsnMY7b//BzYn7gdOXBhwaBtQIu5fgsMagNpgAQlN0vLuWkmiGNvgF6P5V4cKg5PGQbtkVFAYSB2j85k8PcMp6H9XDiOLb3KUfNMy4PaM8Ugr8MGuOjYZhbbULS0bo5vs3Kc545570SiUOM22fWcMjj2ykSb9nlx8BkNZbaPhfdmqUrzz9lpBp1TqF2cXU40mjk5ysshUiaeeQmsODAcZXQCp6T/c/pn++KPgIoBEgzaN6QTVfC0E3fwuX0q3F9A3zIpmSZkhB/oldFg1hzdnDxlegb/gTHNjnuGoQUEdYoNXVAXY1cmURlfbZ5biiWeBN4pn6xaDkEPO5qWfOhkG29quza1rApAhqeCA+8f//iSafawR6xBueAQvQALdcQfdZOxl+fbr6SANACLTPD3Oc9ZMsSWwKhstAaCCfzMAeOszKDtTGuzrRm1WR5avNyDbp/bN2Omv04gqsFLOXPmeYK+6mqjWgFL+whxuAVj1VU/IucCRE52y6tmBlF0o9HzXvS1UxbIXN9ubXX06C/kWsYc3dcHysRzPXBuZi/OAF+b8cPfFtwuMKYXZV2UZei36ImObAY6WgarXu3xvKwUL7qmbIEJWgWigsfAUvToB3+zvNa9at71B6s+txdOAKb7BJwBuzkSeEx+eEgunJaOUr/vIfctevDw1R63bLDT2uhHfCp4vFJmkD5rX6U2ytauZsvwo6y6tT2L3UJzAAlbrN1lfq0bL54AcmVg4l1Haa/g2BLcsRftiaV/J0/P66tsDf3SLnW493Wve93pPlSByHP8cr/g0z5WaOqAg3Sz/dS0j/zoehlpZNTyTLKhD50OR6Z4HThiPJr71ZXF17jRsjK2FJ3pZGC/cUN5LSXT9vbOAczgT+BFY6a24EtLfI1lxgcAnqwuOtLyPu3V1nTTOCw7AvDUErj6J5000ZAdDBBTn77eGM4etidgYFUAdbYZX9DY+IVf+jwfItBZvehCBxm1cTc7pFw8K8Ozk8Lay6tlhGVY+e4zm8NmWLqZf9IYgSeNv/iKHuWRi3ftzY7pxx02UcZqy9XTzwkebCcAZhCS3QlcJ8cJDFZeQOHMADoWNMyyA6Ru1QzzscB82t+W+7ZPlBP78J3+tMy0jZsnUD3LyBeazr1ylVNGIF+IntM7sidDtLVcOqAx3Wrcp2/xPv92ZiXtgdnFC6l2MOjiyeSiUTSD6iZU83mjNd+tLTjetqx4ePPvLSeRLieyruPI4vs4aj47X1a157JJ2Vk2nP3KBzdOPelJy+QB4HmJDUp6CHSOvvyPY2PIRePpTs/N58CFBYNmADsD04JFIIS1lQACzpvlCAZ2HcUgzREu+KP0rY3nFLqvtOgZpAUG+a0NJznmHOCc4GbudW4BScuAmlXUEdWtk7c3gbJymurAnuXUzyUqGQxOQrNQddRAMM55S2IECdror6AxgEr7OD0dIxgKzJFpyVbHZrfvRDPHBWuMR7OHpb2jGT+BFmTQvjGBEL1rg+BCkNAJPm1CKnjET39lJTFk8RQvPceItUcMnrYkqD0u8ES7A60K1tCIDu0KyGNgyyJoOYigILCrWXB0eQaP8aOMEQ6cYIIsAZDagr/KKDspR1vdBXYFZPTo/e//wMGmz+hraUWBvXo+K+NiAScE2AFs2thm4M14B/ylx09YDD89DHSYIEQgz5XS+NPL5Jfe5aRuTVE6sg0G9A9/AZqzf1VHtPg+r+MB/WwpR7PoZBH453oz3fhO/mRH14BjyaNZ9m2QhD7l0yEymX2pfoF2+uud3RAgC+oEzb6rLyAovkwwLZ757diSi8mzlrCQN30NdA4kLTOgvUha1tFmvdqjHQEz+ORv8oSe0Lk21V/3AlqADjz44w//8arvLeHBg04jdH8ZgZ5Hgz6JJranLAPBrO/33Gdj6EuZj2Shf3iOLPAyMCC+TDBt6lcyIyf7BQUG0RVlAQLaeJ/8jAnpvOvazhYE3mlDQHt6W1/pgIHAccBJdrVMNjzWv+iYFx3oBEFyCtzOvtR36Lky6Gh7reGJflwQHkha4JfdIM9sVzakvV/IviO/8QFNZFzG0XQWW9anPLqVfhk30tnsPFtf4EqG6RbdwBd6VhvLZKALaAmcph9NFthDiY4ln/ZLIkd1XgKzn7Pa1TIK8QFPtV2d6G5vNteUbUxTT5u+a4d62M1A/AA29dRvOwKc/MhY+U2szIkCNsTLX6cp+hygikfsQ6B/GWnGhpZtGuPa1BoQaJ8rPG08a4KA/paNWmZRmXZlqLVsmXzaNy1Qf5sRlG2ZDn+6PsGcrX2f4OXsi9nnfttm/vR96vy0udtx40Z9P8veBjA3ttC9xpGWj5I/MJfOZhsmWF1b8jvnREhtI3OyBgo1WUGm7Kc61V+Altz00w6caLyubP3eM4FDt4KHN0oWd1I5Oxh0J0n72tp6DAxqvJz2k71nM9bY5gNLRvAy6WA88PzMyjceTBuEKqcKLzeuk2OtWHGPcelxxoklJlgP+1n81vYHbKzY2s78sOkbXVvL96duZw5cWDCoDJM5uGN0GxsDIuwXZI8GDqWjZ723l8AMan1uKVWOOCfRZ9da3pMDkYOuExbgtxwlh2rtkCdHeuekcjrbOLqMjjJFYnRZFS0BadPJlr8ot/XrBdY5fm1I2OxhM+XxKGOQQ8Fx5lBOh6760V5mTrPEEzjIIWpZhXflcmLQzvHlgJe9tA26u7/NNTnb/tTvcw5TfJyBISeqDWe3IJbn2ti22U3Ptl+PdzSipyyHltsVIATwlNbtveVBzc5GH977HD+AYDaPxPtOKQpYzKFTFpqitWU1ssQ+tGRhOVpeIMQxbG+OMrfc++mFP2g2M0B2U2fuBlKc7OHz6EWHLctpln6CK2U/FBielYWR8ZoDxNS7OVCUWdGgMge2HGc89szMiFHHrH8GENFcxpDvZKAcdBRolQ3kt+io3fjtc8sky47ovmZbC7YCINVR+dVZWdGoXDpcoN1yofim7LNsVe0+xqeZsUTW5N7S1to46Q9MaZljNiKbOLNZasMEHdq3pBn/jiO1aeFnl/p9v28pbOWNz4AsoNjJSUkrOGYp2GLj/OHdF05O2GELbIC4HFR+eMhdD7kEkj/q0csx9ZdAj+QUryYYFECozOlo4xknyfp5GYicJO1i3236L5hTT8swpjxaWhmvcpimTYvHTQDMwL5+3P3JN9njRQCXe8s6zL7UjrJN1Z8dDKRUdgGo5+pT6WZB5cyGm3pfVsHcpyzZxtP6ZIBy45n2bEGDysvet2yrTKdJz3Qquz+exxc6TS8aH+JluoNW8mlPtBzRdKRsr2x4dabbLWksE3HKIUdamelfs6fNsHZ/QPt0vvEHMNu+XgJ+YBt7D9BpDMxG1Tbf68P8EplRgDTAf5kobfSfLPC3bL4tgN440hLMqXfVPbN64mGynRMAyXw7KVC/mzrbb94nWD/LTdemLgRo1hdv9vtWz6vfe+1N31qWi98tuyvbLMBeefkB2e7qSC+nL9XYkT/WOJ39aBwM+G3Crn6vjnzI6M3O72DQzdaeayt/B4OujW930lMzqM6XnvZy9m22wljAD7NvUMtN+WL8/+kzLU7COm7bQDq7kd9+6r8v15wyxm976OqLPW4dr7Jr+fPTx8+GT1/sTpLX3tZLHLiwYFCD7gSDENvGxtL5LSEQYAsMnBZlSYTZv2Mz9zW2YHMOwmXizJmz6ZxeTlmmgzTryJmY4FHlFIjk7E0QqsA1MOtqaYqOOntBRXUk6BymbfpivxdAbJ29CSJFU3VdqTNpS7PagRSeCajYOpEZti1QMOvZgk/pyzSO8fJK9E2nNxnOtrV0w2y12W7p5v6ciGPpRzO+6UwAVoBSyxhsVmuPlnu/eO+6sZsZ8W+1p8oSYKzB2PJa611GgS987hIQue5TsvxmYPC+flhGCsdQrnwzQCz/5qAxgZV4nMM7gYnJlwaCCaK6PvVXC9X6AAAgAElEQVSi+6fTPZ3jrm8D/BmkVGa/BXblOCfz2X8mHdUxM8qS1QSraseUozpz1HO6lbcdKNOhqZcBAulH9KXHMyiKjnjeM1teTllcLpCaoFD9dkvbBOCmHDgang+QoT7rH91Z9Gjty8sR8yuN916aaVp1bPm794sLaHCiA9MO3XuS/bXOTq1lVejfvuNhNmOCMcnyWHvjR/cABACv9oUTnLMdZrk6oaxlvlMn1Ou+nJ0AGcGzv8CD7NzazoU/6o5HX9qa+/8y9WxrVy/3bDY6Hc82B+qjAZ1+79qx8mafi2enziA5Ljzor37QeHfMZjceZS8DdCt7Op6z7XNsq29lb2bAexZP4kfv3ReNVxpforu+dzndSs6zjmP93G9tXG55mOwhDnrHkMsQDYiaQT8ajHF01vOy2fgnslLsm2e/qDaJ3vonySgA/SyZTzswx8b4tG3PvD99n3ZqO4Zu5bntj+iaz8Tv+ftZ48uV+tR5r2/1vTGn+qeeTj2atnn2oznhMvno9/pjtnfSejkfY46D6V/jXeNfMp915ntdSf/Py7P9/uvnQPq/7X8yS2WIvuY1r1knmF760peupxSa8JtjxLb/XD9FewkXjQNbX/qYD72l+a6H3rX6Ifx6YM69sn687lp8/mv4u/eeZVL1C5cyiopH8gP91uRqY3tVXM4PvQYy9kduIw5km7yLWfk/DukSQ1g271TeJlDy6RcdveRtzodz6Owt8PrXv37NGrF0S8aOtOp577HgfzoelXW/AOQkQ8Jsoxk76/07whgYJEAwA2dpQJtGNgAXlE2jrOzplNeBA5+2zvQMOCddMyugds3AkWM9U39nudWFrjrlpMv1WdfkUfw/Njjl8G3b55kCJUBFy2GmIzKdrGkg5iA2DUn3NLs9M0Kmk57j6LcyNArIc5CmnCYoFg9y3nK80VQWyHaQLcCawWA8zjjOcqfj1rPN1HLyBaP2lwAGOdXMPdL/7QVh1tirpW6ew482tRVMyChaT41adJd+Wh5mYzebWD5lWZIA7X/IEgSK0AXba3z9kLvWmP2SHvtt+bf+sMA/uuCiH/4J5gFC0/n3THLCy7LgznIwt31561Sni1Pfpq4my2Y40+1kFs+3QYky0DkBrCmLqY/dmyNd4Dxn1KdzXhvqj9GQzs4gOF0tQ0gdpfmnr8k3u7INngOVJgBXoDf7ZDzM6e9+5UZToOkxmcar2hfQ4XeOaNkQXZ+yo1uM96pvNOkEFJIN9PnPf2HJ/lkyABcAcvFGLtnspczs8SmQsu6949pdK4BEN08KPdXDCWZs5TD79hasyz5oN1sPeC0zyL2W79iDRYDdaVGVke6pW5/Fw4D+grpkV9/f6qnr7RWkHG2e9mBrq5JvbTo2JmbXpv3aBgjqjZY5pniGThaQ1h+mTOtT/VY96VdlNx5sy2jcqj9zBMpU1PbtvibTNsyxOhrj8QyYZp/Z1qe96VbjxByTXG/pouvJZTv2TtuyHeu340M2YD5TP6d3bLzlj+2nJ6iTGWR5mqV5MtTmWNeG+sAfmUQyg/hC/mSydXKUpUJlGc6xfdq57Fs8yz9ID7cOfjyZsqgfTd+i8mr7Md8i2zt1ZOr0lM/Wjt1K8GIGXBPUmX0oWtPX+Jqez+/xrud7Bs+nn7LVq3i6Bb493/g0x6R4H21TD7f01k/mM/vnB5YD0/+ZMcMOBj2wcrlItW99gNmP57XTOHHBex56H4Bm2Yvzi5fixdWXWRp1unzVRN1yH9fL3N0ct3hy9y77NT7UDcvfartPgKTqbixunJ2xYX7CrbTfF0leOy2XODB18wEDg+aAuA0cIrK08za0tB6/GWNLbgQHMoPM3LVvSA7tHIynUzgdsGjYOgNbJ/Jyz9fxpiO7/bwd4LcO3GlnPiFoOmxbB2IKsKBxOnqz7O3vBaAZgPh+lgOyNXCTDzlX0TrbMMudTtnWkTzmrE9+bunbBsnH2h2/tnzY0jQD9kl7RpLu2WuDzlmeKBtN+r8AAajTniwFTQV/ngMECRDorT2kLKd5whOfsMw0P+90w+P16HibmJ+AfysvFkIeshj3lbfLv7UtKwQrc4OxvxR/BxABg6au1Y7J52M8PmYIt7KOj1Me236wldVWB2YfP0uP63tbWSavrZ3YBtfzuWO0TrnHq2M8Sx+2GREz02fWNXUxXZttnAHEtr9v7z9Gz7asKY/pFPh98mTSOOVxSs/yY+nI3s0mPXTxNNZMofsAjPTr5P8n69MvIUgnmScnQBLduwQtrTDlqUptbemWtrNsKxBVf5OJZyNiWaD2bnG/JZmW3HRCk+C6ZZ5TvhMQmW3f8mTapOk4bXnc960t2drBqatbWV6OjmO82AJVs+ytg7l9/thYtO2D2zZmx2fGpnKPjRFTb8/iQe0/ZmOOOcjxZ2vrtzruvmkrznK2j42d2/42wT33d+plp6fJDKJ7ZsQA95Z5tX9X+4oFVskK8qK7njMhxrbLCvIyTrSpcD6JOidod6ztx3R0tj8ZnWVbtuPy1MutTTxm169k97c0H5P3jf5t6tYcr7Z6P/vt1PcJIE292+rg1nZfzn5s+8G0dw8Ej240z/fy7r+UeQeDdo04LweO+darS+9/y1i7ZgStftWJd1+m9qmjlv9/ydO6NDd8aTL4frbvZLJv0ndsknWOndnH87Zpv//BwYGpmw8YGBQRDZ7TqfG5Y3dttOjEnI63lalhFs8sXccIC86dvGEGj+MmCyNndgYnZ4nvmGPxQIt60rSl5XqdjMuVPeu63nq2DtcMTLYG6bz8PubAXm0Z2yBq6wxy9NtHCJhjE0pZaXSRvnLuOx2oZ6t7zt5naO3F0ek7gMv1BKBHLMvDFuBne/86SFgGtswKXA61n8H41bZ7e99W78/iy60cMK6nL54ViF9Oj4+1+Vr5eSueu+j0nqVTBeAFwvM+12RkyKwAurLx9gsSZOuLgmvLMjvxScaFIDvg/7z6eaN5eEzvrlUXbjRt1zvmXU1/vJHtv1a+zefOGhui0/t0kmWC8CmA904yo4uAHeA/Wx3gP/fBOgbaKZNOdhy87GXPzwzg7H30nmcc3OrG1Xw/1jduR5ler17cqH51Hl2/Wj8rGd0oGq+XV/vz9+fAjFV2MGjXjmMcuJnx2t9O3+283zlwYzkw9fYBA4NmanKz8jlKAgCBgFM/BAYyM6xls1SM09bR6k6IsF+QbA0ntzhxxp4snX41B+4+H2PldqbsxrL72kq7mgD2cm2atc7Z5fM4HudxZs5q5ZVm7a6WO2e1YbbnWsvynLY2W5s+epfl4+SQjjA2A+y3Nv9tD4meMXMMqJS9AADyWXDQqTYdjX4sGw0dAKK1rSPb4qjOrvkbf5uRcSW9vhJvzpL1MfldTreuVM/2+uV087z6dzld29Yzg7FtPzrr3mPPXE4vj+nmlcq+Ev+u9/krlX8lXTObdTm9OyvrAI/nUtoZ+Og7jhS334qlOoJwS9/cHw/1K+C/DCHrmJ///OefLr3pnsvJ9Fp19mr4faU+ch6eX0195ynvcnb5avrX1YyNN7L912LPL2dTJj993vod6Zh3fgXwHxjE7+B/tOy3zca7v42dO9mwUy29Ay69VtD/5KCCmWm1peNq5Xkttqax7Zj+X07XriTTGzFRdLXt7r6r0dcr6ft56zymW8d4er3j7/XStT9/8ziwg0E3j7d3QsnXYrfysy5tEHElr+v8XHwg7Pf5qdyfuNkcuBBg0DYYmGutXWuZjkDcLJ1Zu07gcC+nruNjBd4dbdxysZyZq8kMutkM38u/+ByYgIDP6acgQOq/IEG2gs/00KvT0gIx6aRZ4I6xp5f2zqKTPgOGWjJQ+RnlMuTmMqXzzBpffA7vFN6JHNg6QvWzuc8UPbdPi804gUL1v+2yVn1JZp194rx3GqPn975yJ2rX+dq8tfFlq7Ufj++ASHYeEGTyKeC/0ykDg2QLBQR1gic7D/i3v5Bs0NMN3E/089gy511vzyfD/e6dA7eaAzsYdKs5vte3c2DnwK3gwIUAg7YzdNuN95qpE3SXDRQIlEPGGev45I4UFoi3kekM0veNsm6Fat2+dRwDg5oBbB8gM8fAoZaQeadX80SiQJ2OsKefdJJ+0te5vED5cwbW5x0Mun11aKf8SzlwDAyi522a3eaGgm5BeMfJzz2c2qRbn7JkTLBtImCexLQH1bv2XYkD+RzpVvad7pQVyqYD+QOBOs69zYKrwzNt2p6/0b5CbH4bEAdU6gcTDKq+3S+5ktT26zsHHlgO7GDQA8v/vfadAzsHbg4HLgQYNIloJrjguMC83+fxntORa0PGypq7ps+TbWYW0s1h6V7q7c6BbaAQqDPBm+nQu77N5in9fz6bTqer8Wmrk+n83ENoD3Bvd63a6Z97ws1geOp7QXmBt+8B/tnxxgDfZ0bQnvm569jVcuCs7M+e7yTG6YfMpY1b/yTdq9ztkb0T2G/sCPCfoNLV0r/ft3Ng58Ct58AOBt16nu817hzYOXDzOXAhwKDZzJkltJ1BOxYQ53x1rSPO53G+BdX72sibr1APhhpmoNASlmZ/C2ILBgJ9tlkP08GfS1cKKHquazMraOr0rrMPBo3a24ADE2QNyKfrLc1xT0BPv7k+wSD9gY2foP8WTN2B013frsSBY5lBZeZMcH8C93PfqkDLdC077fcyffJfZlZyk1rTJ9kzg64krf36zoGLwYEdDLoYctip2Dmwc+DGcuCmgUEf+9jHDi960YsOL3/5y9e9UmZFV+Os5zT13NbpKijfZl7MY3FnAJKjt2cG3VgFejCWVoA6A9a5fKCgYHsaTPo2AZyp6zMDYgtizv7R533ZwINRu/Y2xYGWh9W3WjI29d9vEyCqb9VHuz6zP3cO7xw4DweO2d70a+uHZLf7PTB/ewhAfkngkOv0uMmAXV/PI6H93p0DF4MD01YEKLMB9o+0z92//bf/dt3j9KUvfenhVa961Xqq8Yxh5kTjxWjRTsXOgZ0DOwcuHZyUf+1QJAclveENb1i3QnFq74tf/OJ1m5Pi3vV9eWg9umjrRPn+jne84/D6179+NY7AoJe97GXrSRpXAwZtZ+tmID0zJyK4YH0up5kB9w4G7Sp+LRyYA/bW6adzc5nKFmTcgo1zJgktW3Boq9ezX00AageGrkWS+zMXiQOzX80lY1ubHc2z70zHu+uNA+0xZyPf7rtI7d5puXgcOAYAbTd1nkBQerUFfbLpE6Tc6u+08dWxXUa2HRsuHsd2inYO7BzIbsxDD9iEj370o4e3vOUt9wODXv3qV6+nG08waB+fdh3aObBz4CJyYPpE5zpa/ljArIGBQWUGveIVr1hPTroaMGgyqPKnkzVTsbe/50zNZWLNNO/LxC6i6l1smrbBwnTWc+ibFZ6A0QRztkHuFii6EgeuJoPuSmXs13cOXBQOTHAHoLrdy22CPD7P7ArPBoh6dmYTHQOKLkqbdzouJgcuZ9+nrc+Gey+r55g/MYGjOTnVeHCW7Z9jyG7vL6au7FTtHIgD026wB4G6Jr/f9KY3HV7zmtccPvvZz66T4DKDgEHbcW36iDtndw7sHNg5cBE4cB4wqOXzp5lBx/b3mWDQd3/3dx9+4Ad+YD1KezpY289nMWISdzlmTUdr7smyBY+OGeWLIISdhovHgavVvcs5+3NGaNe9iyfjnaJby4HtnkFz0/9JyVl9b27g3hiybxp9a2X4YKntLB2bS3xn0Ob+7STAlhcBQpcDg9LX+ey2zgcLj/d27Bx4sHBgTmQci18+8YlPrJlB//pf/+u1yZZU/OAP/uDha7/2a++XGZRNmRMdDxYe7e3YObBz4PblwPSJANqWif3iL/7iukzshS984eH7vu/71pN7AeBNzq5g0HbGrFnb7TIxYJBlYhm/3fG5fZVlp3znwM6BnQM7B3YO7BzYObBzYOfAncKBgp/t/nXaL7YBBr3tbW87/Kt/9a/WDFZg0Ctf+coVDJqHjnR/ma3nzRa/U/i9t3PnwM6BW8uBCQbZM+jd7373CgZZbfWCF7xgtWmPe9zjTsGgNasZEtQs79wEFOm///u/f7pnECQJGGQD6bmx824Ab62Q99p2Duwc2Dmwc2DnwM6BnQM7B3YO7By4Mge2S0k7rMB7y8PKGCwz6N/8m39zuPvuuw/f//3fv4JBX/M1X7POok9AKGBpz2q9sgz2O3YO7By4NRyY2Y/2DAIG/cIv/MIKBskMCgxqb05U3S8zyA+lRzN4MoN+/ud//mDPoO/5nu9Zd9Vvz6CZPr2vj781At5r2Tmwc2DnwM6BnQM7B3YO7BzYObBz4Oo4sF0a1omAZfUUz5joFu/IDPqJn/iJFQwSONkv9au/+qvX+GgNnBYQqVhpnxC/Ohnsd+0c2DlwazgwbZJlYu973/tOwSCZQQDuMoM6vOtL9gyaR3C/853vXDOD/vzP//zwHd/xHes6M8vEMoa3pll7LTsHdg7sHNg5sHNg58DOgZ0DOwd2DuwcOB8HtmCQbKC5b1ilue+Tn/zkuiriJ3/yJ1fAx0S4VRHPeMYz1tsmINQqif2E2PPJY79758DOgZvPATZOZtAHP/jBw6/+6q+uNk9m0Pd+7/ceHvvYx37pMrGMG9I6btv7e97znsPP/dzPHd773vcenv3sZ6+FKCAjuiPiN1+Yew07B3YO7BzYObBzYOfAzoGdAzsHdg6cnwNbMGguj5hLv4BEgqcPfehDhze+8Y3r52/8xm88fNu3fdt6eI59huaeqb7LHtqXiZ1fJvsTOwd2DtwcDsxlsTaNtvT17W9/+7pp9Ld/+7evYJDPD3/4w/92U/x2j27fIMbNwwqzA/V//I//8fDWt7718NSnPnXdQC0juh+jenOEuJe6c2DnwM6BnQM7B3YO7BzYObBzYOfA9XPgGBikVHFPL98BO5/73OcOH/nIR9bZdMfM2yvoec973uFRj3rUGhvNbKD9MJ3rl81ews6BnQM3ngMzg9FeQewZHMfJ8FZ5PfKRj1zBoFMgGxg0M4MYOoBQYNDP/uzPrmDQU57ylNUoAoHcw2jup4ndeAHuJe4c2Dmwc2DnwM6BnQM7B3YO7BzYOXD9HDgGBhXLuCamCQwC+ACD/uRP/mTdP+hZz3rW4bnPfe4aPAUGiX+8enZfJXH9MtpL2Dmwc+DGciC7xG59+MMfPnzFV3zFmhUUGMSG9Xe/08Sg3IxiBcgMsmfQBz7wgRUZ/5Zv+ZYVHQcW7Wtkb6zQ9tJ2Duwc2Dmwc2DnwM6BnQM7B3YO7By4cRzYgkGCoDKCmhlXG4Do05/+9OH973//4Vd+5VcOjmW2PYbY58lPfvIaH3nOcrLAoH2VxI2T017SzoGdAzeOA7IcP/WpT62gdsvE7P9sA2lYDhsGz1lt3zYzqLRHxtOO+q973esOH/3oRw/f9V3fdXqaWCj6forYjRPaXtLOgZ0DOwd2Duwc2Dmwc2DnwM6BnQM3jgMTDPIZmFMQ5PPcY8P+GmKf1772teukt1n0l73sZYenP/3pX7LpdNtr7HsG3ThZ7SXtHNg5cH0cmPYOuC2h55d+6ZdWO/dN3/RNKxhk/+cA7VMwyIeMWpupeYckAYOsm/XwK1/5ytOj5fclYtcnrP3pnQM7B3YO7BzYObBzYOfAzoGdAzsHbh4HtmAQ8Mak9rGsHvHOm970pvVoeXERIOhVr3rV4ZnPfObfbra6ZBDNzKIdDLp5sttL3jmwc+B8HJjgtk3wrfJ6wxvesC5zlen44he/+PDoRz96BcXZQPbrSzKD2j/I+zve8Y51mRjj6HjFl7/85YfHP/7x90PR9+yg8wlpv3vnwM6BnQM7B3YO7BzYObBzYOfAzoFby4EmstXavkEzw8eSire85S2H17zmNesysZe+9KWHV7/61V8CBomR5hKzW9uKvbadAzsHdg4c58DlwCBLXl/ykpese6AFhq97QLd79HzY5zKDAoNe9KIXHV7xilfsYNCufTsHdg7sHNg5sHNg58DOgZ0DOwd2Dlx4Dsz4JmLnb4FBgiNg0Jvf/OYVDLLnxllgUFtqBCrtm0hfeDXYCdw5cEdw4HJgkGViwCB7Bq0ZQTMzCHeOgUEzMwgYtGcG3RF6tDdy58DOgZ0DOwd2Duwc2Dmwc2DnwIOSA3Pp2DYzKDDos5/97GUzg/aVEQ9K1dgbtXPgtubA5cCgb/7mbz7NDAoMWpeLXS4zaAeDbmt92InfObBzYOfAzoGdAzsHdg7sHNg5sHNgcGAHg3Z12Dmwc+DByIEdDHowSnVv086BnQM7B3YO7BzYObBzYOfAzoGdAzeEAzsYdEPYuBeyc2DnwAXjwA4GXTCB7OTsHNg5sHNg58DOgZ0DOwd2Duwc2DlwcTiwg0EXRxY7JTsHdg7cOA7sYNCN4+Ve0g3mwLEN/I5V0UkP+1rsGyyAW1jc1cr6PCRNvbgZ5U9a0r1OVnTtcnp5JXrm6SVXquda+8TV0KDsY226nBz2/ngeLd3vvRo9vNp+tXPzzuDAMZ3Z2sxjNvlK3NmeGrXVu6093Nrmef/V2Mhjz+9+zJWk9MBd38GgB473D8aazxr7Luf/Xc7GXM5+ncW/3V97MGrW+du0g0Hn59n+xM6BnQO3mAPnPXXjZt9fUPBgdtzPy8NbrBJ7dTsHdg7sHLhmDtxq+3ar67tmxuwPnsmBHQzalWPnwM6BByMHdjDowSjVB0GbrnaGTVN3ZPv2F/jlsgPOmuE9a/YknQiwudKMyNSh83DycvVfSS+vlA1xHjqO3XtWnzhPvcfad2z2fdtX9/54vdK7s54/j05eqV/dWZy7c1t7NZlBV7Lr580cutL9VzsenEXXbjcvvj7vYNDFl9HtROF5x77ZtivZm+29Z/nDu925nTTm5tG6g0E3j7d7ydfJgY7upKQ+e3es3TRqDNk0Zg/mTI3rZOeFfjxZe+9zBJN7sp8D4JxpDZBw3fP+HH3Yc7P87QB87JnKo28+33PPPavuzYAgutQz9VJdUy+7NgWwpWc7cFdvdXhfj3Jc2ucPPbOdtcFv3Tf7yzHhT8f2GKBTG+p7vk+6auc2QHfPVoYXWvl24h5QDpzV99PP9Kk+mA4e61cPaEP2ym8ZB47Z8/RkO1bkP0z7le2c/sK8nk2btm/a/mnf0tNpg9PNrQ2NtmlHq2u3m7dMfa65oh0MumbW7Q8e4cAxPzA/M9+veKffPXPMH81+Tf8z+1XVW/9Vmbvd2VUzHSu++pu/+ZvDH/7hHx7e8IY3HD7/+c8f9qPldx15wDiwDU6/+MUvrkH5wx72sJWmnLlpIGdAvoNCD5jovqTiy81+THDHZ4NcAx1QI3BogiGV5z7PdF8V+909j3jEI073u9nq0wwQqtf73XffvT4zA9FoCvTp2XTQM8dAqssNslugcztYTyZOemZwoU9Ec/V/4QtfWNsQT7YB85TFdDYaDI7xOYdCmQUu8TjHYwJlu3Nxcfre7UDJ7M/pH7rpcv3bd/pOt+j3DjbeDpK9eTRugewJvmfrp2+QvmQns189twX6s3P5GgVa2clsb98bG+b4VdmV4Zq/7DM6lVNd077WvpvHwb3ka+HADgZdC9f2Z87iQHYp27D1I3tu+nF0MN93/j7jn639yM5kY/Lb5sThHjPd2Xo6Y4MdDLqzdeFCtX6LmGf8ZrA+ZwAjfjdoF0qMV03MdLIEgQa2Bq4585oT38zqDAIaSCdIk7O+BYMupydz1vjYDO62UXNGuKBhO+O8fWYLymydgOid7ZuZEbXrmN5fru7Zr6aDMJ85xqttXwsgOqsP7sHMVav+HX/jNrCvz7EDZbrltF6pX93xzLxDGDB1JjAlUD+Qu1nvOQZs9Wdr6wJuvJdZWvmTtdsJgTlRMG13982gbmvT+159uw9zcZV4B4MurmxuR8qmPuVHlvW9Baq3PmF2KXuX3QgsyoZl/yY4vQXMd3/tdtSeG0vzDgbdWH7upd0gDkwnLYdqGrPp4M20ygkS3CBS9mKukQPTuJwFhgSCzEGxDIA505GMBYgBENPB3qbGNlCmD7P+7YxtdbvXQFwdD3/4w08zbAIjG3ALNBqIp75u9fSYc791AirnWOCyBYqmkzCDjX6/XMA86202arZF/QFuWx7O2fPpYMTbyo7ePai5xo5zhz22BYOmTZgZHVfTr+4w1t2xzU1nCpzmDPcMjqYuzWBqTjQcs+HTp5hBFobPCYIJPGU7C8I8dwxw344VCbF6dvt5cdV6B4MurmxuR8q2PvL0A7c+a77e9FfLws5nZjv6LT/5mD3ZwaDbUVtuLs07GHRz+buXfo0cOLYnQAHoTP/eZkuErm+Xx1wjGftjN4ADl1sSNQeqZNf9gTMzpXU6+oEV6UWO+nad9AQr5myx31uGNoOJYyBJ2UozIJ1ZSnMQnqDMWctZtjyZQcUMCuLPsftdQ/dc8pDen7VUaxr8HIJjwVP1Fvhsl1lMnk85TBnsffAGdJ47oIhtYO97Sy9n3512YF8mdgcoxmWaOHVGIFRmzha4OQtIn0D1tIPbMWUCN8dAm60dDPyxnF0d2Wb67M/1uey2bKBtcLbr98XU7x0MuphyuV2pakyboPYWiE7npr+anzWzaPNt87vmBGZ+7pxgrYzLTR7ernzd6T4/B3Yw6Pw825+4BRyYTlifBeQ2s+JA2Q8mR2wG3zsYdAuEc5VVHAMeWoLVgDdnbhVbZs5chpSDzaGemV+BGMfKTCfoytzTx7056M20VNexQbgB2HuZQs24TAd+PtsA38B7LENmBiDVf+x9slp58aCg5VhQMzN4tnVPmeQg4Mfcu2I6vBM8q+7pbHRvYFh07cHMVXaS/bbT/blmoJzeTmA43dqX0+xKsw3KJ0g/Z9Dbw+eYjc9/mDPtE4hn7+d4M7NMG3tmXT7zT1raGCCvHjq73Z/D9bmHxwzOZgC4S/vicGAHgy6OLB4MlDS+GfvYqnlISPZp6xdmc7IXXeYzydMAACAASURBVAdANza2xyqfra01skszbqq+3V97MGjT9bVhB4Ouj3/70zeJA1swiKH8q7/6q8NHP/rRNSh/6lOfenj0ox99GkhsMxmOBeA3idS92DM4sM1m6bbAlDmLG6Bj47L/+3//7yrnlmvleM/0/ACJBr0AEO+AQrrxqEc96vDEJz7x8JjHPGbVGeX89V//9apHn/zkJw+f/exn1zq8thvsTcMYEPRlX/Zla5nKU773wMdtW3L0zxpkp1MZGIMe9H36059eX5/73OdWmttwVLue/OQnH57whCccHvnIR651zyV18amMoWN1z3p9Voe68N0LDQU0ysG3xz3ucetL29XbrHdOSIHYBL/2YGY3C1fLgXRlLk/UD+gjXaT3j3/840/7wbT1V1vHft+DiwPHJhqyxWxido2t/9SnPrV+D6Sf2Zb5GX4L7PbO1n/5l3/5+j4zHOfkBX1VbrbTZ3rLhvorCGMv2U/jRXZ0e1BBAVrj2B6cXUx93cGgiymX25WqbZyzBZn5pvmFn/nMZ059VePinMDjpz32sY89jYncyz75zdhpDM0nzU4GJm3t2+3Ky53u6+PADgZdH//2p28SB3KGCjg5XB/4wAcOH/rQh1aH6hu+4RtWQKi/mQ7e5x0QuknCucpijzns0/neOtaK/chHPnJ4y1vecnjHO95x+NjHPrbWNGdrZ1bPzALjXJdqCwD6iq/4isNXfuVXHp73vOetTr1BkS795V/+5apHXn/2Z392GigYdBscJ8jhN7MnngfEPPOZzzw8/elPPy0/GrYzz1caYKcTYFAHyADA/uRP/mR9AcQAVv4EE0CYJz3pSYdnP/vZh6/7uq87POUpT1mDjQkGzVnss/rADLzRrN4//dM/XV/4gT8CGtc4GAIYbX7GM56xAmt44Dc01YY5s76DQFfZOfbbTjkwA6yC4j//8z9fbb0+QO+f85zn3E/vZibIzso7jwPboDx9YLeAMsaOD3/4w6ud/+M//uPDJz7xiXV8yMZ7L0s08LxZdADQs571rMPf/bt/d31ne2f2ac8KyNTDdtJX9vvjH//4alPVVQCmPPaTzfZOn00m+OvEvJkltPsvF1efdzDo4srmdqVsTprSr/xYvp24h03hm/3FX/zFasf4Z14B3HwxNobPy7awO2yQe8RIbBjbw47x6SYYlD0si3H6rbcrP3e6r40DFwoM2s7GX1uTLgWPs6yHHJbvy7/z/j1kecBTvfe88lan9RrKnDRMAOPY72ddP6XjpJ3nbde13n8McLnasq7Ulm052wBBkPqmN73p8J73vGc1eN/7vd97+Oqv/ur7pXFXxjE9upwOdO1q9ORy7dheu5J8LyfH8/LrSnLYOphn9bXz1BtIM4GNSccEBnKm52858Aa9loh88IMfPPzKr/zK4dd//dfXwY+DbrBrkAp0cX+zq8pxvYHSoAgsBAR927d92wpmyKbxrAAT2PT2t7/9oC6zxhMIQn/ZRrWv7BgD6jd+4zcevv7rv34t06tBtPbNvSvmIH+WfuOHAd9g/973vvfwh3/4h2twIbAwu9MfHgBi1P13/s7fOXzt137tCs7MpVvbJXRHZbkYNL/fc+89q7Og3ne/+91r3YInwY0gx586ZQMJYPS1p3/VVx2+ZqkXuCaYmcsmpi5cJBD2Svp8petbuV2pj1/p+uX66fXSciUbcDVjz9WUcaV+fzU8W8fPRfd7z0EtQNcP9FH6SPe+8zu/c9V3Ojn71bWOSdcjp6vh0Y2657w6sR1TrvT8la6f1Y7L6cCVZHI1dW7Hq2P20290gf1uGZbv7CkbakLB64/+6I9We6rMrX1OB1tOTL/Yt+c///mH7/iO71hBSDYw+96kA9ss64jNpKtAJ3WUJSSga9mGmfmnPe1pa7nsNn32WXA2wfwA9otkP2+UHj9YytnBoAeLJG9eO84Txzbu5Us1/rEvJkJMjvLR+K384cBmdmZms7MxJj/LGmebPBuobRKR/5jfpp4yJS+3rcDN49Je8kXjwIUAg2aAeCNmlu8HBC0OwLX+TSBoWwogKFDomstfnOFjA/+Nov9a6TrrueuR03nlOgddxopB/OVf/uU1kOdIvfrVr16D/YzpdIKPOZKXk1fXrkam523HMV5uyzhW5o2o56y6/X6Ws30j690Oir7329T7lmmZ6eC4/87v/M7h93//91cay0TJ8Y92AyGQpmcNnu973/vWIMBsyLd+67cevvmbv3l1vr9qATEMlsoHJr71rW9dwQ8DJoecsz/3A5qDZBuUl5kDGFEeQNIrMGi2qwBjLps6FsxoH+DFIC+goNsGfXWiCc3ukSZs8EcvoOvrnvN1h+d+/XMPX/M1X7MGyOveFnc99HDfvfedBsoTGJp133vfvZeWl33hi4f3v//9h3e9610r38yeq0fWjywoz+Mtnnn5XUaS2XLBjLYXGCnP66w6b7QdupHlXa++X6kvn6f889w7QZRr4cd565p1pN/XGrRun4+WlijSf3oJ/OcQA2Bf9KIXrbOf2z2zrmdM2rbpWttzLfy/2meuVU5X60NcT/nZ4rNs29X4EVdzzzEaZ+ZwgApAh81iJ2VXsqlsnIkk9rNZ86lDjUll5rjG1rHz9M5Y0j4c2XOz7jKB2MyylYGWTRoAdfw1w0+vvQLWn/vc566gPj8mcErZ6t6Xh11tz3hg7pt+abIiO/J/85vffHjNa16zyvqlL33p6qOaMNr6BhfRzjww3NxrbSzMDrEZ9Icfy7aYsPSZ/XKNjQDo0CF2Zh60QA/5k+xTWd5szbd/+7evtgxYZAxtywR1BgRdCXzfJfXg58D0Geib8fMNb3jDqlNiqZe85CVrvJTOrPtNLQ+tU3rz4ZTZTMzrX//6FcHkwL385S9fg5qrcU625c2gdQZoiWUu5ygo2wYla5nLv/XeAJw1eLlEv9/veuhdy+dLQZJ7ViP/kLuWRs8Mo9orU+iha7qQe+vM8SM6ol2Z7eo+sxtcx8zZhtq/neGfddT2ArD4Ph2z6WzXxu7f3nfWLN525m/WVxmT9mP3z9TqNQBdAnh/E4nunvn8/EwR8Y/j9Uu/9EtrwGyA/Sf/5J+sYND9+LF+WWRLbktgTEKXyroUrMarVfaXBLb+/pCHLIH0iZ7c95ATmd53SUfcee/JDHZ0/205s8xLdcQT93rNHf2nU3BMd+f1+9N7qdzZH6ZDMfm1dTyO6dSxvjv1dbZv3hsNWxl2f4NLz2x1bUtb1znwpcOSswGQ/QAEAR7YD39zFrWZV0CFgNHg9853vnMdQDnZBsBv+ZZvWQc/syUccYOsLJi3ve1t64yu34BFHH4BQH/JOflpd4Ow+zwnFbe9c2Z7fZ5ZQlu7N7+7V3YOAEzw+7u/+7vr7DLAx4w0sEddghvtkinx6OX7k578lMPXLtde8MIXLADNsw+PsH/Qoq9s2L2L3i9qt/SBh656TdEBQCc940TfH7ICPG9561sO//t//+/DBz/wwaVTHg5PfuKT13qf9lVPW9p718LXT630vHMB5j6+pCej50Xf86LDc5ZA5qlPffLCg0dd6mOMof/u18cu9Yetk1H7tzo4n93q4rw3Gc1ypw3s2caLArm+b+3d7LPRO0+Jm/Z89v85Hs3+si1vgoWzP9Rn59gweTD70qR92oFZ9jZLa0tTfJ90b+33dtyYNEwZTB5O3je+zXKmPCpv2qvo8Q7Q5cjq+/qpF/v/whe+8PD93//9ax8taD7LljTeZaOO6cZ27Jzf55h1uXG0QLB7tmP2sb5wTCbTpm/7xna82er+qcFaPmzHz23/mHoz5bfVz0nP7Idbm74dcyYftn1syuAY749d35Yx27q1t1NOxhL6A1RnM9lO19lqfkPB0LYvBwZVD10zjgTs9LvygUt003hjHKGz7Ew223jjufYQMp6ZhHAf8J4dBaoL0NBTHdo86Zpj/Lb9+/cHhgPTju5g0AMjg4te6/Txtv7f1pfpehtIsy8mB//gD/5gtTFshwwfE3T8QlsUyDIECNkuA7DDh+A/y4znB3tGIM93kxEkO74lr2UHzfGpWGWOPxedxzt9N54DU1cfMDBo66jm0DU4tsFqA3YO9/Y4Ph2pzVZXB0Ewv8RB7r9nASIuAT6XgnTB0j02jrW2ewmm7luWTaz3STv+/BcOD7fh1klwc6njXAqqFPnQZeBvidjsQCuwdDI7RVShthjbche/b9Oac4a8z93kZ3CS05wKHHMUp4M2Aw8O9TyJKcc1J2oaqOlYxWfX50kYlY2mGahMJ00dc0d719Ch/GTkt2QYryqzI7PNuDBqDNxv/dZvrQZSCveP/diPrYF8y4XW55fyyAmId+89gB4vkfFJXtcJ+Ne6v9OAQvS8/K13XUIJ13I8uspr0R28mDRO3kWDNmsj+QriJw9a3hDvPO++Usnjw3QIZ7A29ztohmDqgs/HHP7k06zjeR31aXKicfbD6o3WqScFf92DT9vNhwNE7ZEDCOLI6y9+l4EjzZUDHS/rEzli7vVcAydH3YBpAORsqy8e47csGHokWDD7CzRqo9DaOp3zLTDgnhn0zuBm2iWft7yo/NmvVrBlCSrQ9Xu/93trwGCJG7pk4hi8tQkI+tu/+VunQCcA63u/7/sO3/RN37TqGvBzgS1Xfb93sWX+7r572ddn+f2e++5Z37MZ6v/cAozJkPrJn3ztkiX1vsM3PP8blmyj5y08e/7hGc98xuHhD3v46QzTL//KLx/es/S7Jz7xSYd/+A//4TqrvW7gbu8ga9D1q5Osr5MVtKfg//bkp23Au+XJtD8TjHNfJ++kV7MPTlvkucaC+h05buUx7WtlrrwZG3eX/ZTca08gzllg08xWQJvv1de7MgGUaOTU+UNH91Z248UWnCyQb9yZAbnfavMEiibd0VV2wuT9FtCcdmALBFTmPLUkfnWve7Jbs/9EI54Dg+i6CSWBvM9AV46smXYO8TEebse92Wfn2JoOZWOzWXMs7dnaUruz19FOJmjbgo7TvlZ3elfZU4/n/XOMT6bVlzy34+Ts09uxuLEmOef0Z4/jAzqnbZ/yqfx0s/4774m2xvbaNG1jz0fTpCE+TZ1JphNkmzq49V2mD2lyAPgiINIu4AzdAcJ08ET1T3omv2rLrF9Z7bH227/922sGK7AJcGQJccvKjFfqa08hY5MsNz4MXslQ4sO8+MUvXse4DsJwrSXRjW+zzfvnB54DU892MOiBl8dFpCC9aHyZPk52cNp9NsbYx17wZ00Msi0ygtgbNgaQbXsAgLMMH/YlINlzbB4wqGWrxlDAUFsL8CmNo3zjJlUCoOYpZNndi8jXnaaby4Fsm/cHDAyq80zHzcC7RSy3weXsWDnxc3+RHJZYeO8XF4d0ccrvWoCDnG5R/90c8SVYklGSkwDwuQQuXAqigAT3LYP1Ci6cgATTwSkYyWF3LQBm66T1fTrv0+msrOmodG+O+5XUopOYCqJzIpUzA5qcnhyxrcMVuFFQPQ1bdOa45uRmUCZAcBa924BuAnw+Q8Ut6WnZgCBBxse//Jf/cjWO8+/e5f777llktMhulc1JNk113H2Svn0J6bmUbfPQ5CmYPskUWvMoTpfwLcfFLo7/5NNs1wTvoqUAJ12K575PUKeAMT3qvuloTx3ovqlPM4Co7Bl8dL39COpj0+hv9bD2zcCr3+oPyfq0bw1e50BXdzqIvjawa48g3+kYMIicgX+CLA48R7msnQCUGbgp33IAGTMcbn/SGIE8ssaAhZNe96vjN37jN1YAyayJ7MUChAbo+F/wVtAU/2fwOQf12Ye3/Qkd22BPPegQKLSsAS9e8IIXHL7ru75rpd/sz5opscwUvf1tb18dg7/8y48sv3/ZQvv3Lumb33R4/MKrNROIrTrJNlxB6+W3td6TzDb9IRq+sNTz6wsffuInfmINumVeAJYAPU8ToJxkUpmlkioKQCPzH/mRH1l5y8l47BIEPdJ+Gid9Za2vbLyTNbYzMJzOUfKcvN3q+rQ1W94mi2N2y2/sH3oClQOH4kkBcH0SHROw39ortFeXZ4EXnpkp1/E24LVxLX2pzbOc2WcnTdG+pcP3s06Qq28HEjWGzr4acDN1PHtRUD8BgGjOxmcTKme2aQtyTNpPx9vlx8nLxnigGFvfMlGOsN8E1pZ8AoPYhOQ37U72K11K56a/cIyPfpu2ru9bsChdSyaNe5Ov0562KTA9mH9+92wAY23vt2jxzg40oRBdW4Cx8ar2Tnsbjxvru7c+tvWvun/yrnsnqDP1Z47z6fTlgolJw1nyyObO8faYHOtbyWLaDoGR8QAgpP2AGnrUxILxpb42dX3a58kHsoiPbCXgviXrxht22lhCTwVbyve7P3bCUjXBHXosL1OP+1/2spcdLONoqW/8qf9u/dezeLb/fus4cOojnoyl9eF9mditk8FFrykdaTye/vocL6ffbazj2wFwfvM3f/Pwa7/2a2tAbszzkh3LP+MTsy9eTSB1eiI7ZXIRIGSbBTZQfTLrgUjAapn2nYI7ferd5lx0rbr59E29fcDAoG3nmYFTA+J0lKCoHYNsmYWOASXNoXeto5lXR2oBCO5enIKWdhh8OVorQBLQczJzmVOhPmXbYHY9xs8xokuHPQ3sl2hLIKTejr3NgWkWVFlo1Vk73lQHLtOhXeE9VzZEnVyZcy8TjqQy3MfBYDy2G93iVZu+Kgd6rAz3bR31UOjKKzhvWVZHZ6O347SnI55z1BGuHWWoza4JYkO80Y3e6YCSVe3jOJXyWNCALsEBw2ZZD8Mmm4OxE4z+g3/wD9aZvurDL8HpIx6+HCt+ctqRgLijGTmIHVVMtjnWOZqdnNQSIPxLP2SEbR1v5ZJfxz36nIOZjmiXV3rH2OOXcskmp7HgUZn4H7/QWQCBd8lWmR1zjtfJds6I58xuZ+2nk5uTn5lp8JqO9QQ74tvc46fNhtGkTWX+zKCgQSdeozc9a98fzpRAkJwMfgAaM6idXLUNUrQLz+kFoMKznHLOtQGz08QKFtJd6bf/5//8n1WX3Pt9S3aNYIHc4+MEnLZyr10z8J78i6db8GAGrAV3fhMcoAkoJEOI3ZLR9D3f8z2ny8TM+PzR+/5oBYQEI3iE5u/+7u9eZ5gfs/AdeLkGSAPEnrJfZbDwjB3TPtlub12yjV772teuack26AUECWaeYcPtpT+REefkV3/1V1fACr3/6B/9o8M3LiDskxfZyJ4k7/p12RQtn01mU88mH+JhPA0InkFZR4xn69De8fatj/de1mH2QP+Yxzh7bmZHphfqzEZ0hKvv9Ts00sHsYBs0zoA/2vRb9oAe6edoallh7VCHa8oDqCkvEKp+gTa2atqX6MluZlOynQUl2ywU/FBn41i8mjIrMymbr4yAjMbi9o9q/yrf47F7tLtxyT0TmFAWWWTjtSG75Vn3B4YC/b3ovDLKouAMq89z6DQ72rib3mgbOrzafyj6uwc/tLeZ1WZJm0RKP6O/8agNPSs7G5/PEVCUvNWvDXRjzuI2qRK/vJONcvIb8nUCCRrL50TQ7Ec9m91e+/cin0Ct2c+aaS6zqTGq/Sfyt6bdU25lTLtWvcpik4DW+TtzL4v6fxl3BR7Kzda6XzvJNj0MUNmOU9Ez6Zo2GB1sKbuqXcaSlhzTIeXGv/rN9EEn37IP7qNf2en/+T//51o+H0SQZWKKX9I+b7Ncfox7gUEyPNl89vvv//2//yWz9ckwem5+CLDXcB4OJJfpV5D1Dgadh4sP7nsnUD378fSlp72iP8YKPqlsRpOVtgzgk5oY7AXMbj/HGRfn5ymTjWX/+MNsIP+NbebX/cAP/MCadd7JuvkKW9v34JbO3rqzODD14EKAQQ3w21ku3yk9Zec8CWBkiXjv+LzWTxpsOZcF38AgM92cK86loEew+DjrtU9m73LEYog6lKGD6ly+51BzWh71mEevjjxnwKuTTlwrWOY86OQGCuWgh6NjVkhHVC762/m9IF97OBetDcUTwlEGx0J53msfmjlTHFHt4/h4lgHwfTq2OcdAFeXEq4Ap9fjzHIdbWcopnXkqUkCQNqCH0VEXYyM7g8HqxA1GiSPqekALGjlFXnjoOXxBC94XGEC5OWGBJGSHPxw7zjaeWlLznOX1VU/7qlUuflOXOjtmVhnoyaEPhPGuvYEIT13oedLSbsZ4zbg42TsqMIOuaCt5mMFWpswW/CjoIEtyjIfahQdkblDQ5gALQZLnOl5cufEr0M91/LGkSZmAD8+rZ+v0FxCjdwsGzWBnBg859rVxOtrTGW8fhNLl8bbZVzKng+Rb4DIzCKpPeYGP7ktO9EifCWDVtgLTCRjoX50Y094NnhUwcszxh/zbq6xlN+qZYJCBERjUOuoGx9p7FnBRYBSvCm76PoEwbS64m3zMntEjut7ssX5kFkfGEhlbrvWpT39qBYPesmxQSR/whWOwnpS28PxhJ8tV1kBtk/m3Bt5LQLSumAV4r9lwD1nBIMHJ61/3usOHFsCVTVqBoJOTw/BOP6SLgCDOBbm+6lWvOt3rQoZl8rufDtp36yTTbsp88nUOPPE5fc3RpgvsUw4NuQeikC/69Gk6GHhQUMmelFmmbwckFMzmmLVPDZAtOdDtQBP3lZatPxs7fC+IdZ1M0BatvgeO66/6N/vgeuMI+pVF1mgrSA2w1mb00Oue0ffw271sAb3VRi/flVkGYP1Le9XdRrr0Db/Q2Jihzxq/zBrSuQDsFUA8yYjCE7rZeOFadeMF/rneuNRJeJVFt9ho/EDruun5yVJi9AB0Oy1Su9GnDvcaJ/C+o7rXJZLLaZJ4h7cBNm3syyajg0402ZEdwh/8k3avvWUeqmcuc2vpb+C88ZK/of14GLBBvz3rhRa6oUxy07/cV9vZ/E5zMQ7gWXJu8qpylaeP013l4bXyW/Y4bU0ymn2tjLPsTxML6NcO7SHzxhP9PZlk32Z50+bNvo4/ZGXCxrJTbfJbS20DzfCWTvR9a0PJNj+ODcIz+t3f1qbOoHwGXNpNnwRCAqvAIHxk42rnttytrZ+2qvGDPhlvLMFw4qWJKoGaDB9LMNAd0FTfyZ+hk/qgfQ89774f/MEfXGf76SFZzGf3kOVicmAHgy6mXC4SVVvfJts17dS8xzhozLMBObvl3ZJS9oR/amKQjWh8nxP7+Ur5200kGX/4bmUIsX/AZz5yYNCc3O/z1s5eJL7utNxcDlwoMCinJsBizq5wkjpRhyOls9hjgzPFgTUrYzBt9sZAHYgjQHrUIy+dzmPQFURxJDkfnVCCzRwJAz+nxeDNmTP4c3BOZ9SW/YQAQY/9ssets+fKMTsf8KKjlTXS0YBo1cnRgwZBAKAh5xWtOq8O7XmO6ite8YoVxWUAOFueFciiCz2cuk7JwDeOXGBB60TVw4lsJh1f8adNa5WFNmnPgUEFCZ2WhEfayNnhlHPa/AVczAABPfjnGY6XelvHyhFyr/o5hl7kxnlm6KRYNxMq+OHICQ44Tm2G1qkcOd0cPbz2HX1/7+/9vcPXf91zTsEg5RS8aCca0FOwVjCCFjR3XDjav47juOjKXctGuiJppy8V1NND5QKrLDtS5hYMwqf2vFF2ARNHlRwAOdqtLrzuBAG6IPCO1tb14nkz4p4DhslsKcgtI6e+U1A40/q3DnQg4ZwhmIH5NjhXVumsADD9g0y1VeCiD2pLGV8GFvIuK0N9ZZQVDDQINZPfDPvMMJqBN37gv35PN+hwPMUTGS74re6c62bJ/aY/ywwSEAlOLcfSJwOwZpCQ/em9tdUBZYFuEwzaBlCBDhOE6Hn8LLWXvH/91399pYvetOTg7rvuPnz2c5dOl3jT7/7e6d4XwA7Ogv3O+luD4pN904CYeI3mRyy24TTLbZGB5WJ4ok9IR1Z32RuVi3f4TB9dZx/KRqJ/a/bLyfKJu06WowGaAKds0bENtpNtgGlynYFY4Io+xZ6oP9C/U83YWjLrBDl9kX1UbrpMtujUHp/1twLp5In36mi/qk5X027ySncFzPoe++dUBXY50JM+BoRzvjrGGq36QbTmnDUmoEUgSM6B0O6vrOxyoHAgNv6UqRTIwI76TO+NAU2a4A+54Z++0p5c7cuFD2yn8rRNuwS37LDXzODDI+W0Fwv54mvgkesBXnjK9qLDfWgmC8t7PUNvA1/wSZt/8Rd/cQWEyEB/DkzD9zJ560va+sM//MOrLIx19Mf9gV7K0FblBgY1W4seusPuerH5gfIt+csPUB++63ucdeMkffRbIIh78FCZ+ofy2EByowvqNX7iKx7rV9pMV5Tl3SuALhBMm/GW7imTj4HOTpKZoEo2fgYJ97MJi44WJNArAQIeoZfd9vI5G1jWVn2pfppt6z09w+P/9b/+17oZPT33fY4/AbQzM2jObGer9QPtNI6sy1UXfhWcnAUGZUsCqHxnOxqb1VMGG3424TTd6mjxTgfKICw7LttdwIZ/fE8y43MIstBtEir/iHza66vMKXbqP//n/7zaeWXy8dgANkpb9cNAvhk43twQYC/9PBzYwaDzcGu/9xho3TgWYMzuGFvYT0AQ22wc4M86gAkY1MSm8loeVjyCy/lWPjfuG4MB9Mo07lhqrUzjVc82jkxadqndmRy4UGBQgezMJihgD3TIgeKYAgk4tpwljiwlL0Wfk17g+PnPXgKSOMY6GafU/TmDBdQcPOWpQ5A/13iXgVH689987jPrST0cAM6psnJgAgs4pJXDMVR3zl0zxurkZHAsBAoFXf/0n/7T1VHgXHBy0QQM8tkzzVyFCM91o5wujg8HpUCBc4mvZbFwZvDQ94wTI1O6OGPR0ieOPABNGzmNrhU4eecAop/x8ece9+JN8gAecdKU2bIM1woq7FkCGEKn8vGOgcQ/dHLIy6xRrqU06kG7MjhUfpMpAfjDD/rBKeRst8RO+0o/p2/NyCoHPeqnGzJMnvGMZx4e/shLziGayx43FgAAIABJREFUS+kvY4x+oEk5BYfKqX3VVUDku/sKHjj3XurVPk6m9+lQny5nXMpVP94YGARV6KR7aFbmnMnPwd3OUuTYN6Mw9SiAZjr7dBnv2shb/6AzLWGJHsAUfasPNjNcEBZgUn3T3G7r7Xuz21vQIGD0f/yP/7HyRPCFD/RU0EU/plM902j1IYELvcA3dON/ywbLDgiYbcYfzwu2swHROWeRt6DPDHoCPfrNc+rFT/ouNRho7D72ocDidBnh5z6/6rngkh6RSUfCFwy1bG8Fd5YMiK88OYHiyUtfeeSjHrkumV33Dlrq+MjSb/Xf9teQLVAf9HzgOnrwVBCP1/jJHtNVnwWo6v3c5xcAZPlcJmEgSsHVDNjSy3Q2eZVBx4mxF1TAN9vhjxzwAJ3sVcBGy1DpJRtZAMgOAQg9U19qaSJ7Sx+89GPtV17gQ0tE0MROeN7MGh1TP11XH1rJYQb2ZcsZmwKDleFF9zzHXlnqhzaBML0g/8AM9MTf+lOTFXRGO8hDMM/J0//UhZedLMJ2lmmovckVL8sWQQt90iayK2PJvfhBz/DIGMbmscvuZ4PcSybk3/K6lpJlL/HWPfjmfnSWRag96LIhL3l3eko2sCxT7dJeNAOAOLb6AZmwUWwyPWbzyzDEz5bA+TyXsXmOnNFhbGMH6HGZboE9+Nfpgy2DKrtoLiX02V/ZO/RaHWgt66790YACyqSnLR9vLNS+lnUHiJOL8YieKI9dmKD9zHqaAUIASn1N+/EXn+lYdWo3Wr3r5/ptm+pne7JxM5Cpf5AzndYm/ZX80agd+Kge5Tcu1r65lExby06jz+RSZtBZY4bf0TDBZO0nJ2MpAJRuR3PZd3Qhnq1Z3gtt9Ezb+RRli82x0/30H5DTki/tkaEmw4eMW2oc35uEQFMZiP/pP/2ndfxBF59Hv9UntLmALx1snLgzQ5OL2eodDLqYcrlIVGWP0DRtSJOv056xK+wgW/W6JUvbhIixmz1i82UdApz5Yj0/7d3Wf/KdnW/peifVsiXiSf4IOzXBoOnPbkH3i8TXnZaby4ELBwYFCE2lNHByXgADnGUvDq7fOdcG8LJzOE4cmQZ0A/Jf/sWljSk5LBzZ0uFlk3AEOeLq5WB32pC6OBUcOAM1x1c9BuxPLPe96w/edbp/h47FGdBpOZU6s3JK+eNQcpJ0SPQBAIA0BfOcWY6hNgkq1OnUHvShn6HggLjOcW6pG+cwJxmt6swpw4M20TWDqs2cNLR0cpFgjpHhVHO80MVh0h7ONYfKOwcXnwRC6kQfh1KGhXs4+22o2lI3PDPbVRq6srUf/drKKdUmAQ/Hz+waHntOoNFywO7VrnbIZ9B+6Id+aA2m0NK+DOs+PMuyGs4UJxt9NmPDU+1CS9kCHE+8xbdOK8t5JBf0PHeZoXzs4x57uvt+S/VsBinoKBNKuXjcUjoGHk8KDts0Er14WLo6RxSvycEgAAyg04wzXtBp+oanaKWTXnRee+iQMukcPWhmeAu05AwXcJeNMwPyBpUAGNfIQCCoLXSmpSYth9OO9JkOCSTRrowCsYClGbzMmeYGpdnf5wA3aSdnfABEmO34L//lv6yOPoeafpJD66ort7YGvJAxZxyvBSr4W9ZhYIVnyUaf0Oe1scyn7MqcNZ6DfLyPtxOUm3LJISgYpud0CkhLb+ga3fQ8Gp+2LH/8piWYzs6h2b1e+mhLMAOjDPj6HOCbU/HsRZ8e+2WPPdz7xUsbIftbl6osvBTgv/GNb1ztVcEVXWrJi2ClpbWCGjZEv/eKRkvQbMouY5I82K7sm/6cw3FMtjku6a99NX7hF35hXYqBD17omsuZ9GP6JoDTlwNJ6CrbFLBDJ5qB97nNE+dmjXSJXRIMt0eNvoxmfE022oqndEG/0/9cf/3rX7/aXXJwD72iP2WK6CfoRav+ra+zCWwpu8H+6c9oYK+0X5vLRvK8e9hh7TQxUJYKG8Q+WFYIWCInNhEtQCq2ij4FpE0Ahw61nAnd+ha9MROpPAF640Wp62wpe4WP+IAH+gQZ4E1LodSnPXQEDcrWBmNCe6y0d55rxsw5AcDWsOHuASLRpzaQxtuybNRD1voBe2+c1358wN98AbqFV9rDhuI/Wbhu6SPetQeRMo2V7ke7PbPwCZ+1T9lsbplm7XdWNqc+4nqbwLMj+nGTREArGXnKJ+M2IC7z1vNsHFulTO02Q+y+AKH6Sv1Vv9pmXR4DUeJB2ch02290QfvJqKypwFz8bNJpgkFNKDTpRg7tf9TYVt9uQgUffPa7v5mF5Hf8aB+jJlEaQ46Na9m7rikXHXSfjWcP0KS/Ny65tyCsJcnaqu10mnx9V/YMlPQ5ukB+5MLGA4Ne/epXrzwLrFR+kx8+uy9w8Wd/9mdX26a/Aak75Ue/JOfZ1j0wmxK/GJ93MOhiyOEiU3FsAnbGtV3XBvaK3TC+/szP/Mw6hrnOt3GirBMH+QjZ+wkQZ9/nBML0r5TfRK7f2xszG9N4kd876brI/N1puzkcuBBgUNkDBXB9T2mb+SsbyGDss0Hfi7Ml6DEgc5g48jPz5uMf+/jhvUugpcO1MRcngEPPyTL4c4aUxamXss6J4OzplO4ThFUmx+IPF4fygx/64OpYcmLVqeNCX5uB45ii1XX0+r118YLnTu/RXg4lB97LH2CJc8hZYyCU4/mcR6ACB0LwolNzvNXHCXI/hwrtXpx793L6BEqlUAtkACvqQr97OxIVvWZrOaToAyzhAcec06/dghrXATuMDmUqrR9PC9iig3PXXkxo8LwAmBME/OJAk582NevXUpFSs9Wl7H/2z/7Zyj9tv2c5JW5dznWyTwl6yZIcBbk+0w081w7vHF9BCHo4ZgJi4EIbC//jf/yPD89fjtm2OS/6BEmCh/QDkNUmqujBQ+2lV/7IjfMomCATvLaBG5q1U6AdsNE+NniZfC0fQSdeBAapW1mCMc8y7oKklhS5bwv01IfIJjAoh35eax+egu+Zaoo/ghN8bBkhfghM2s+D/jSz2YxomS3TdAU2NbiRVU56NM4Z42h1Dx6WuUePyRa/BHKc8oAB9c6lHgUc+o8+Qq/NYpN9G6zPfYXc5y8QA1/1fY67gCFQOGBhZuNswZ/p0Mf/2tzygZbYeEcf+eJ/2TDqsWHzVz/rq1fdoct4RB/YBX2RvaKfLdEiC32bXVxnhICsj33MoSzJdQnYYpf+fHmObPV3ZZThkZMCgNBn1IsH6XYn/LUcpz2ynvLlTz21FWxO+57leBS8BQhul3ngF1BK0MU+tAeN58rmKAuT/pVdh7d4VtZFoDgbzsbXn9zfUmK2RD36Hb4FlJS5Qo/wSeCn3+FRQaRAX58nB8Ed+6E8faTlZfpuS4QCbNEI7NEu/GyZVRmiwCAyZUcC4bSTDSULOhNAQwb6gT4B8NIHPKPNaLERpT5ibGgvKDqMJn1lnSg5OR2p5YDGoZe85CUrGE7vGpPU4x4vZZMF/UKbstkz38nbGEKOpakD9dTjGe1CJ96RRQE0vqrbeIA/eK6/4yHZ6eMtXZuAQsss8Q3Iq+8I6DnSE6wmJzToX9rC5uIjWi05k93RuIP2gH+nRtksmN1rDDEG4mHZWspFtzK9G0P0OeXqO9rc0vP2nOGL0Fk6B8huP6WWkbEFZMdOua/xnvy0b6b6T9AnexPY0veADXS0VxGAq32ptJe+oxWfO47du7raF2lmD09bh0b6VL1lWM5xJzu/jtknB3a0vGGC9gUnlwtSZlBeHY0V/DOyIOeyr/SBnmlsYMvQ2TI2NrP9+OgyPrTHkLLJli6ToX4QGARM1O+UQx/9XlaXOnxXJx36D//hP6ynM5IBHaEfbHQTP40Re2B2cwKe6y11B4Oul4N3xvMzsM4G9Nu0ye2vJi796Z/+6dXmN/azC/wM483M/mxic9rHsi37bdqdslbzx/PP2fIJ7u82587QzbNaeSHAoC2Suk2n0xEM5hxtDgyHjyPMURJwc0Y5mDlKBvBO9RDYfWFZXtFMqTRfzgJHlSPrdBzIa8sLlMm5RwMH3CBtoOcIAp0M+Ous4UILMMi+NpxuDpOUPk6rupU3N7o2E4huZaiPE1Bwqf3o1MacFo4yGgQq//2///eVfsEDOtDkWY5LKeN4hDccFW3k3BU84Y2gg4ON1k5rQScwwSZlzeo2gydYAWQwUoKNluJw4s3844HyONecJI614JWjBxjgjDfDxrh1KhTjt56OtDxnM8WOrM5xRicetecAmQs4OzWK3NH8z//5P1/pmAbWsfKWwDgxiRPI6RL4q1NAweFulr0lMKt+nGTd/Lt/9+/WmWw0/PCiF9+wgEFPPNmQm+EUnLj+8z//82vwB4jgNKJDe8mjJWj4Tx7kbjmTAErA0Z4IgKMyyMgYnR13Tl4cRTxv2RWjjd8c3AJ3MscLICSaybvZ6mMpqYE/M0W0lHn0knnLctCOvrIcWkYgKNC/ChJa9tZeDORRPTn9zVo3g+H7DBYayDznngkU5bD7HX36O32jP4IuuiKLgQ63VK/AQrmVl6Me4MKZ17ZOvVMn3pUlhB90HLjgGX9lQtChAnRtoT8FAA3CDcrHMp/8pnyBGTraz6XsHroWsNZ9n7Fc75OfOl3WQu/QqoyWxwimm+kWlJdJsILYSx900t5nPvuZw58tdqhTcfQnfJibGONFwXDLpthCZerTbE5L29QtK8Px9t+8OC/Pe95zTwEawVSA2nZ54vyec1Qg1Ib7ZFzQrj7PAOI4R9nOloPhOzngoX7CLut3dMYMvGc68QfP9GN6xFayrWQLNHdPwGbBvr5LRgH77rdMCWCCLy0XVZ66yw7S/jKzlNmG93iPvwXYTQTQbfYWzeyEsUT/Vo57A4XZxDYCBmax52wLx5GM6AW9ApCw9/qua8acADRyoYdlPgWSaqd7ZV6yZwGdLc8G1AFryIp+tczFvYGkgbnaiGdoxMOyRIBNlsgYt7MDdIC9wUs2EzDpeW03XnpGn6CbTRSUbYF/ZfDgPVnjHZ63eTj9MLYag8kJnwEyyvqRH/mRw4/+6I+utqT+avwmD0CQvRzoPNAm3Ws/G893mIBylYkWE0iWeuOPNiivCQ3vbIoxN6CrsSOdUya+tfSKnQpYVLZJpYDV2X+yvVuAZGbF0H/9iezbnByvfVev33z2p15y7UAKPKI7TTxkaxtvsuFb0HdLTw5pQJbrlZFt6P1YkDKBnerM5rLbxgbjZKeb0ZWWAeLFuqx16Sfkkl+pzeQciKvvNq6ijS4Dg8iZDaCLxmpA7ASD0FOg1eSH39Bi9p9fos58S74DmbIPkx/7MrGLF5ztYNDFk8lFoygfeAsCTfuWvWty1Xj0Uz/1U+vYZyxgG4x7xpxWiJRtH/Du+5xUmz5VepoNmfY5YCnbXTkzCeOi8XSn5+Zz4EKAQTUzZayjTGeg2ZUcGQPyf/2v/3WdseXkvvKVr1w7j46UQ7Q6mku2iL+/OjkJAvggwODUcmw4goIFTgGHVafUIV3j+JmRKxuAQ46OL95rucoXV4dAeYFHgnJOq2CxzZA5WZx16cEcbYEZR1vZM/U/J7C2FyhyCP/bf/tvq+MCIChlXh1lJniGY+IZgYZAiNNbIC8tn2PcEhkON94G2nD+OX1tuJuxwSf80E6OvPoE3drIQSybinPrPgGFOgEd5IFWDnyzYursxBJO+7//9/9+dYw8IzOoWWtlt0laG1CjGWDCIWMc/8W/+Ber3JU9N0+22/M9Jyf7AJvQpqwyrZTdcc5kk87hGzCIPnF8ZfEwyF/z7K+9tDfR8u8Tf3VpY0qbQNKV9kaiI/GwWUfl4o9g8+d+7udW/rRcBV8EkRxWMgHwdKw4GQsyOYfa5aVMbQDUtGdHy/OagZZ50May07HezkZ0LQfadwOSALQsAE604I/Dqg+htU09O6GJXEuFb3ahfXeOZf2098Scwajfz98KIlwrEG3JARkJtPAML/BEH9J/vQIQ52CMdwWQLclqfyv36+dtsN4SNwHR3FtLfxK8tU9KG//SjwZU9M7PvpcNU0AwZ+3xlm6To+wD+qR+oAT9FkTiccD3u971B4c3L6ALerW1TEg6CNDBk05WbBmqQObRS5+9Z4BidL6AvswidLOd9DgghD1kBwX+PpMBXrNddEFghX7XZdSxdz/0Qz94eNH3f9/Bptfte1HbtS29mPqZ7hSEx8cAKVmOZE725Ic+QAJaW8qRc1MgRXaesT8H/rZRu36nn7KT7f0heG8fOWB+m/aXsUQ3OklK31OeNss2ahNj/IuvgLGyWsjKmEBe+DU3fmyM0qbKbC8Swbg2yjgg59nP6reAL2CFsYdtYa/oTHZC/0ULWtmzbEqZO/WVluNqG9DDeIZP7hfg0i9yb9Nj4JLJCbJXn2A4WQCdJq2eaQKCjrYvHp7gH11vuWVgEB4IuNkjbWSrla99guXpuLIPBfP/P3t34mzbdtV1/BBISAcJaUwgDQEijYJ0gpjQhcQgSawSEcRC/zGrKANWUVqipbEoUbRUbEBsCJLQhiRA+pCEdKQH92e9972OTNc+59zmvXvue+ve2rX32XutucYcc7S/OeaceGgsjQO9xHOxQP0MOAq4qWrKM/7O3/k720tf2+eGTKCZDyErHTzRRE4bV7ckuQMnAHD0mX/+W3/rb91aBui5Zn2118l8Ve61if2UffRqqz3vyGxVRBIENnmCQYEtydWstNlilpOczeQh4FUbnkVn2CB9Rh9fQA71r1NT+RiywL7kQ41b4HZVMXjasnHjGy2TxsD35KXKTHZm6ko2s/d8xpqU9712q7ilt8a/jbGr8pmxJLtO9vl9skeu0cLGiQ2Bde7znd/pSPxBp3iIbLK10/9MnxNtZFMcCGDkv/KpwCB2p2WQ2cQDDHrkE6DbfcIBBt0uxx5/15dTzEnX1Y7tgUH/6B/9o81HsLEd5iBvKc7MP3if9nwF5MUubKDv86/FweXU2ihXYbfmkrHH34gdPcaBGwEGTSKmsy+wSXFKXAEJQAHLgCRqgqQJsMz9KbZE4fQfGCT5BiI14yb4e93rXrc5ZbNC7ZMDdKBsAmeK2WlDbSL9uT99aNPCjz48Cy3gBRRV1qe9TodoaZEgQGAnQAWUVMXUhqzNdmY0zPxqVzLkRWEFgRLR9g0RfE8etexEPwSfASXbqUOnIEsADEBDB+UHAKGzTcVm2WAAQccha1sQiM8SBXRX/SIZkYwK4D1TH9vTxzNKYDKS+ihxNUsmOBZEttM9vpj1DBwTnBk3422sJUCu+Xt/7+9tychMsJ0a94QnnJaLnf4Zb6AGXpTM4pdx87yWw+iXQNtMtMRJwiLhFOAJ0l7wohec+vqcEz1ftPHU8/FRYCjgxQdBsqqC9stAE75tJ0CdaJZUowVPAHPkg0xJ2PwmkfG79vXd7H1HKTdz3r4M2z4vp0ASnQGE2o1vVSYVUAaM9Pdaqi8JIGftw9WG2tqR8HjNk+WaGZ77ORTkNzObLE8HtAbx6XxGaMpx4NA6qypwF4xLco0bPjVbjqdz0+qAgdWetDSwJVXrbKz7PL/KvgAAY0kOOVM6SF4lqSUaJWaBXvFiBebQQ/ZaVqJ9yYW+toyx/ba0vS2LI//A0F/+77c2eKe3s+KPfhi7lnNVAeL4d3rREg5yQ1/ZQDLaslXXe5HhElzJYfTRbX2THFWViBee+6snvfmyU9L+spe/7OI7T0l4CWI8wJu59G+VyTXRaxbLGAiO2OOqsyRMLcetejL70vPYDKCGpIue0ns2kO65F5/IkaoL/Ws5kgQeXwNtSsaqJDUW7ZmjEgeAzeZXLRp4LqHusICWRLWZ/gS98MG9QIyOnO4ULfIFMEFT1W1V2vnbeAZS4Y1xY7fIbhvvs8lAMUnrrDCqgi7Amjyyx2RS//BJtR1Amixql61nI42FykhAgb63T1Enc86gEl/xgn0rgWbjJNB8CJBu6otxcz2biA7j3zKxFQyquqMTJjvtTPtVxDZBUpXf3IdOX9sIGxCkige42MSFsaHzgCD04Hf7htF7n5M39pgeGH/vwH1A2o/+6I9uvGQz6Y9KNTLpuWjxPd+rrapWAkfyrZ2UZ6zoJ8DSZAw5nSBodnSC/+vnCR5NnSMzbXBMxvGyU0tbRt2eQsaD/otF6F/AT3ayo+Vbqpu/adN2dE5QOHnRb7YYP8iFGKLJrtWWz8BVn2bVU/a+5YN+48uqms32eF4bnNNvvpg9qBLR2NgLqAlG8R17SE+rENQn9kQ816mts9ItXxJNngOgbplYlYr0qAMx5oToahePlOX+c+AAg+7/GNx0CuZk5ArSFxsVF7KfbCU//VM/9VNbrseW8Ptsj7xCbFv8VEwyn5GdmM9i98r/Jqi8xl7FFnPy4Kbz96DvkeHAjQCDznVtElcgM49ZF1xJtimO4LwS/0CNJ3zBE04Hfp0AgtP7Rx8uEZd0C8gkRBJyAb3AjaOW7FXlUom64CdFLNkEBlGez50Cxo88fLKSwEiQ2LH1gjUBiCAK+PKzP/uzW8LdLK2krWNo61toLyVGS8dNS2wERmY7m0VqyVpJdAlRSyW0kXEQyKADv4BSQI9O0cADQVibRJaseO8I9oIts5ESFLxu740SLzNrkgXPF8wFUAhyVyDA34Jj6+eNhXsEuW06K7EI0Za84oMgzVhLKoBhf//v//1tBrsKhK2vJ5q/4FQI9menhP6TD++NIMmRNEksBIgFvf425pIH33kXEBoDY9M+I8//8udfbCcxnQJK10hSJFnGVMBctYIERzIRQKctQJQguUQdTxh4ST++SHw6TlKgKRA3Vm30VrJYwOvd84xlQSN56zQTMuH5nMPco2UGlbNcFN+NWRudS5CSe2ONTgmIdtFLZqqiScdqO7lp9jnZm9V9e8HtCgT7OxApx1XiSyfsCyLZ0s9OAUKnZF+fV8e3JkSBMXhIxqqGm2CUe1piZrw7SQkI1RIeCUCzxvN0n80u2Ez59G862MA4fJJg0UF6bdzRQgcljmSa/Fd5tdm7kw685ffeevEfTn03Xmjwu0ozgYI22tAUT7IrWzXO6eVoebKfjHuuoMMYBk62rxf52xIlm4ef9OYPTm23dwk62zdFAovmlnFue7D9xb9w8fUn3UxO8Zbc4OdMAEsI48kqF407WaQfbLUkU388RwKGT51sOIFFbdFtY+Ve9tzveMp2Gjd8UN0ChGFPjEd7HuFrOpIsGYP6BOBgL4ATbASbzzbjL11Ha8m+ZwrmzO6hu0SxZLaKP+Oh+rOT5IwLMEg/jaVnN3s3ZxvJKHrQh373tbl6Norsuoe97jj3PaASr1uKxw534qaKB7pFB4EEwBE+BI/5I6ARe8lPTltfZVcHKbSnUnunAYP0zXVVhQQGAZzYT88AorGZeBEP06uWnelPFT/Ak5b++k4bLb82zoG87TdIhn78x398qwLBI23pK7rIHFrIP9roeXsI8nFNDnkmf8B+tncXHpI18mFCxDUmYgAB7D6ZZMP0D+9W0FjfsvVV+OIXIAgvjEmB/B7wP7+bEwFkb1ZjJdf63CQJPuEZ35v/Qr92VEgBw9vQGq/JX8vp3KMtvEF/+1PgXZWe2cjoJ9uux3+y5GWCDyCUDu7ZiCYd8C4Qrc/e0ZbtMZ75xGx9ffa+7QP58PJBthFt8+h3vt3YAoPoKZurbX7fhGITalUpZ0OyZXQdT1UJq+ajp2SD/W7vILLYvwMIemQSnrtt9QCD7paDj/37Z0xbHBygnT3Ij7ORbKO4QWUQ29MJ1eIV9p4vKX7Kds148pytKG+bvqX7m1gqxwikOqoRH/vyeR28RTzIH7Zyp6X6LQ8vx/yCkwBta6/2hF4Q6nQVia1AUdDQ/hfngv8VLEhhZoKW8uyBQZLBwKCOHC4p3do4UdueQJy4wEV1hyBeKb5ZGYGfZFPwY4bI8zpitba2kucTsPS5PztVG0k8T8FRoIvAXwDjJTCg0O1BIiAHBgkYgUGCRABUSVv9LZBpo1vAleBbQKo9/BSA668As6UXMxAqQEqpC7QFeAZWNY7+VfGhXS+JRIarRDaeMxwMlj5KEiSc8zQuyYwEvUAcgGA8Wk5S/+YMn2AILQAqNAKD2o8B3wvcyJExwzvoueTCeAGDGMn+bf09LQncSiRP7envex+uzkGXQKxgN3rIhFfAl3GSrJj5JLfAxS//itOJaKcglRL4DbhkXAA8aJJUkCOBXafRaN91aPdyn/u1qe1OwhFUksW5rK9TebSZ/AcWTrBDf42JwBkooU3JEpnz2x4YNPXKNYJgdLYRLeXvVCXyIeHw6pjhjuCtjD99nvqb7CSTOar12nM6P51nDgv/WsKgogW9Egd6BBjUd7wPZKjvOcE5m1IiOWfVuy6HWyBPv/AH0OLV/izJNyBFIte+OJ7v3vSm5D87mcNla9pLih60J4cqEjJNtwP1Svjf9c53Xbzx4f1IAEn6YSkRW4DGTiZSqdGMvcTsyScZIb+eTRbJbnuBSWyzf8aY7AGOgKlkg0OgQ//xtGznf550D61tpt0m/e29hQfPee5zLr704WWh7teeZ7SpdfwJjDgXxMQvumnJTSAc2Sbj+h1oFq/jrXf2k04BDjshjY0DyuivxF51CzAIwIFW7fIdaJ5gHv6nhwGb/vZ8DrI9RQBEgUHkEw14uoJB6Ucl2ngDbAAUsD/oJ8vAJvLARyTXM6jLFrScrQobPoxvIyPaa7PnNuZvGU0y7nktRdVW+6AB/doQmt3HB3KG1n/8j//xBgBY3gSYYIM22TnJWjamaqn2OYsWY8rW8w9si3+VtFd5aXnUBIP4HGOOL8lOtiHQhKzju/6yF1VSxrN1Y3yybOzRrTLIpJDxio94Qk5aNt7m+QC19kfyGR/pFeAfDZ5HF/go9qENwvHO8mKgHx0kb2RSn5K5gItiq1llgrfow4tkPz3p+mRrJh7Z0yk7/d5ECv6n7/ymfrdUNtunb2SdPfeEAAAgAElEQVSVvfN8IAhALJ8qiREHuK8EJzAIXfg5dSmwnU4FBrGD+KVdYPNc8n8ODJqTEPoQDyfwk91Jj6cvyrfqhzEEIBsjPKB/dLyj3/GAPRI/4QsdJ5eWi9IXY5SvyQ/kbwLjHR/N52uLfIgH+DB2XP+LAefY3gpyjg/3nQONyxxfY2w8+ZPXv/71m20E5qssY0On/z/G9b4P4SNOwF5ePG1P9jognt3gr02O86++5xP4VzFu1cfT1k17WOyT782mzYnY+V02ZgJAR2XQIy4WN/4BU27vOxi0cmsSlzAHBgnygRsMMIeq6qLKoBLiTdhPwM2pOOjiYx956IhgwTKHLxmTcEkO3GfWp1O/AA6UsVPE2rhyWz7wBQ+BYI5RTqk9p5M4JHJeBcaSBIHwP/tn/+wWGGTGifMX8DQrOBN9A4EGQSPjILiXnAvAoMUCppauNWPcLKl2CnYKBPFMkGdWS0AqaMazAq+WkWUQAhMKorRZQtfSIc/tCFz0ddS6oEcCyIgBgzr1ZAaq6BKMm2E2Fu6BgBsHdElm5zIxFTh46DkSLtfZQFoQ9XlAyWkcPn3aLFy1lpOSOmkJGFSigx68E3gZI8+RAJkZFARqX7Jf1cULXviCi+c9vDG0JAPdEhVjgya0aVtwnzHGP2OobQmDoF9g2wavbVoMQBMYAlA9XxJBLlqGkxxPcCEn4DtjUn88p+quc2BQs7R+L+lpOSC90Bf9wy999awtyT/xypgCAAAv+tOseHI7QZbA0xUEzAlNPV91fAZOJYoSMfoOfAMM0GOy+2M/9mObDASMxpPp2NIBvzVTUiAX7f02/+6zZ+OLl7ECzOKFZBa4IFGO9/VryuR8bskXWyOpkBhInoy3oLFN8Nmlub/Mxz7+sdOyxw9ffPyjH9t0mN3DA0kK3Q28qPqFXLfEi2x3opHkRT9U8ZE9soaHgEwgDuDImNuA/bOnxOpPT3qqKsm1EqCWEeEv++jZHS2O3k/Ze+QjD21MS9b8LpDpFMYJEJbU4886G5UMsFmSTDwnl64z1gAINJPFKT9VHrCFknhA8wRYADNm8QFnZuhVDQEn8IjOs/fe56xZ1ZrRmV3S/8YeXcYxwHqCQcaU3nfKYBUK2q0yCMgIDGKv9IdP0EeJJv6m8wE/gUMTBCiwo8d0xHjpH1sVuF31Aj7pT76i9+QIP+g4mqsEzO/ym/Z6M74mJtBIDvGjKjB9IA/8Az/W5ttkkl1s823y4VptsUfGu2Vi6K5Kkc9zD3rSXe3joaSdPqnwYiPcpx9VvAa2dJIKHQDekAs80neVQeKHJiE8wzi7TnxB/jyHXE97gjfpN/6TTbZBO+TIy1iSD3aEf1EVgl5jYeLINXxDy5gmiD9BbW3gL5nXZvvTkIEmpAKzSwIC/CYQ5PNcVlVC0iljYiAy1PLq4go2zni1rJRcGo9kUjLMb9Anz8Bv95K1AJ+ZkExZzha4Bw87nKBKs6v8RjYgYLDEa97XNTM+il/xh40JsNMfcgf46jRF8kj+yQ1Zw7PAILY0GUsmqnBFF76QJ+2z/dqi48D/YkE6dIAFNztnOsCgmz0+N4G6FQwqdpiT4fkRtoEvY0/YBpP/xTrAYvmpOLMK9mxlMXb9zYblH2cc3ediFzZZO3NbkHMTczeBnwcNjw4HHmgwSAANUZUQUhqOVcJaqe4GZpwCQ9U8gjmBjuCUwkkWBDjQewmLJMlvAnKBJaCGo+ewtbkx6hSQWYoECNoAl9P/FLz3GYhR9E77AXwIQFsmVmWQAGBNiATegrGAK8GDAEkyowqkU7oYiDWQn8GO/heIABtszCmR1K52zOjimSRIIFMCOoOpAsoAppIZ74wKw2UmF4giQUW7oLHKoI4ZDhhIrCVkZpgDg/B5PSXNtc26MpYCMcmCRNAG0mifs3w2C//EJz558b73vmejRwWEBFaSIUAXgAvWAVoC2ao60ChA/8mf/MntHjOTD21o/Q0XL3zxC0+JjiqvJ20BHRBIcux6CaD+tj7X7/gdkCBwrrqmTX0Fu+QT7/RJ/zvdraVCKsAE2xMgnMBKVQWNReDOHro/x2+ClwF92tUHfaEjZrDpQftOuR9/0I+Hkit/S158roqlzWNLTKIl2Z6z3OfAoBxkuiRJRBteG5eWa/lOAP13/+7f3WQ44NWz5oalyQaaOiWsTWcD8ABdcz+bSRv+klO2AT8sLWJv2AbLXDhrYzwrgwI2evYEgwLgJE2BQeRbskHmgL10sSU/jfm2L8cnPnWSmU9tiamEsiVF27HzJ3mWULa0Dz8CJvTHrHXgpySE/AKE8A4P2QLjuIGJKsZUN9lw9tT/Tz28ka6E3ovdJCtkAM2qBNGMV+8+9eutb3vrxi/2hgyrcPEcNFZ9OIOibM0qE/6mT4FB5BI/0KlNM/ZkctqVKky8s/HGi/4HaAJlgLzG1KbXbD3bQI7ZElVVbdxe4jpt4QpU9pu+AwqMCTnlP2ZlEDnptL0JggUGsWvGlHzzF8avjWnxriCu502wv+AvMIhsAYGMsRcAxhgB/bR1Dpx3f7rrOXNTybm81vibwUSndvkkoIbxbYlhfHINXqCHTekUNbZedRB5DfDw/I6WB/pPMMhzTBbM/b3oGbpcp32y6RlsmOvQxPay8Z3Gpk9ko9PH2F7j9BM/8RNb/MC+1a7r+DY81Hayhd/G2isfaLz4Z3FCif1clodOzzTGAGXt0kl+jNwFpqUXgf9oCTTJr7Mhc7lh45ZcpUef5xcfKuT+vFPYWk5edSy7gHd8OPrQy5e1lI2us1PGmQwBajbg+OHKObRWCRT4k1903dxceerU6rPqxwS29gCS9H76jMAn/qHT0ui+sdEPbWbrA0OnT9Rne/qIK90vCQusIU+exW4Cg+gBm0Q223eyLQVmUK0/2+mzD/sRgCAb4R8A0hIx/iRgefLmSNCmV7gZnw8w6GaMw02mYgWDpv1Kp/suwJifFOuwK3IXtpi9tZrApMucdCymjwdrXDKBJn5KjOm57Wna/TPuzV8cNucmS9YjS9sDDQYJ9s2CCsBUoqgYEWDO5EzQ88TT6TZm5iQGJUIUjnIAg8wAcdYU0u8SPsmVgFzQWjn7LYU5BT5f8IQTGPTwBqB9PytrSkADgywTCwwClAQGCVQKTAr+WsMueBY8eglmOklMgCI4E5A1295AztmujIL2JD1moG26rZ945iWp0v9mJmcwOROiwAPvVZ4IpAVEgneJlURE4Gu2U7LMmEkQuncaIfz+mZ/5ma3SQRAn2F/BINd37LL2JU3GEB+AQd5LgjwDPX/8gQ9dvOvd77q1ZEMSr2+CLslpQboAPqBKoCqB/emf/uktUBOc3VrK95UvvpUoM6zGEB/JU4mGcZBQzmVo6JKUkLESpSrGGGF9JoNK6yXuxto9AlAOQOIWyDMD+4LXFTgJhOz7kqyWQwVS9Lv3WSkTWNIyAc5IQCxZEMy2lMB9+IV/xrnT2Tir9ktKRnrWrBRanc2e44xW9HVUOCATnzg2YAlZ+eEf/uFNDwIxtZU+RAMZqkS/RMfY+Y5ea6clnauc6qdr27+r/T4kBkAFetP+ThMszQ40VvG579FBhgASdKYKG23S7ZaITSf/mU+fAKHTONADQIeKhSrejAN56ch7tAAmyJYxrDqiJbQSGkGH+2ycCwzfAoVT4kQ2nT62Pftk58iFvYMsi5AEtfG0vqC7ZVB49f4Pnpba/v4fbLRJ0j2vfXV8brPtEtu9qqCZnJFFOg9s1tcVDNLmBDACA9lcYJvECxgCgHetfgJaybbf8dJYkB98V8XDTsxNjbXp9xL0qoaS4+wPOa1yjby0uTwAipy0B9RaBeXvNvQ2ZujxDHSyifyE56dD2d70evILfyTy+mWsjINx0ycnW5F1wEigw7QZyX5JtmvqK93vFE9gZGCQfhn/lrhMMEjbbIfnA1PYOjLBlugX/8BXz390m30nt3gIoGA7+Si+WPvkLGABKOl6/tp7y7TogWqowGvxQPZQm01gAIP0C1AmDiAnxt53nWIJaGLzfR9og0ftK8SO+I0PYN/5F7o094giC/SQzHkmn+lZZA4QK26psnRW+WQvps1uv5986Wrvkodp/+bMdOOofy2Vw7dO1gww0R98847vxiFbV7XY1IXo6FmTrqkr9SV9CvxZfcW0oXsJSs+JX/7eQPMTr8UWJo34VD66pfv06NYhICffkp73bHwwO2+bA7anQwLYyfa36uTGDoUQ45g0BCIXezZJU1Whtsi+e9lP8mS8gUh0k20qNkgnz9nGRzYdOFq/igMHGHQVh47f090J6k8bPCdo+96Ep7iMr2wvQzE1sLmJ+zbVn7ZhtaMT1GELOzSJLRIjZqOKAcjzVfHYMaKPDw48sGCQwFtyJjg1IyfAFABKDmeCts3Mf/Zz28z+/3k4CZIgcPwdlSyo5bAFD4JoCK3EhRIKQgUDErSt+uEELD3hBAQBgygYhRMQBgy5L8Q1EEagasZJQNxpYuueQVWBNLumTQkQsMRyB20JIAU2gmOBvQBtVkUU0Au4V5paOiGpRodAT3sAFQCEhFjgF+36o402WcxotIkweltiJDk1Huj1HDQCUxifwCD3+61ZQgGbo9z1z28CL+MnqMKjAjXXMZRo9hzv+m6ZmJnVGTR+/GMf3/Y46XQs+4YIwgOngEHtbVH7guBmmI2R8bdP0Pd89/dswf/XvPRrLp7+cDWP5IbBBkIKpPVTmy2jwpMMdaAJnlbpEYgSGETetId3AkS06pMEWh8Fr2QuWjdZfvjYSHJXZYFrjEuOIFlMHvp+0jbNWwlgS1eMeRVl9ETyQn9aBuBetNE7wbb+07v23PB7AfEENPq8PnvSF6AT7ZJsya3EnqP0r83agSed/jSTbG0EDHgvQQCC0kXVXZIiSaNqEHYg2Z8gmjb1mcy5DygBHCKn5JV9SJ48ZyZCs6/xt0Rt7hkkSaCLZL6Kl5bhldDhDzDoMyd9RDu5lgCrhGC3yKHEsioD40eeBBV0x1hKPuijsXI/XWI/OpIcANreWE4fKwH72EnmPVe/ySp9RUOnIQEtVHqg+ZMnmXz/H73/1sbNnllCNROltRLrHEBo7CVdaBXU0FPjhOY2yp6BTPJLNyXe7CZe06V4xN4Ze5MI6Z2+SOrYeu0ajwlgotc17gtcpHOuay8UwAT51C7+GAP8BQaxr+RkBV8CXExAGBP0kDV2hk8CTnXyYEta6y9a/GMD2kAaLW0Sri3yCsxgo9hjtpXuoLukOLuc32kCoGXBVaGwk3hpLID4LRNDY5VfVYtk+9wjAZ5L1oxhhxC0TCw5B1Dov8kFPHQ/+wLEqzKoypgmCsikfnYiX3tDSbLXiiD2VR/YXaC/vqDnR37kR7ZKVjrQ8jZ6T7/oGZDO92SdL2ncA6Wiyfjyd8aqOKAxIsvotOybLTWOnodOdsS4TF+WrOSDAz0au9WGTruZ7ZlgXj4Ejz2fXQA84gcQzngaP/aBHaeveE+Hk725DDn6oiNAZSYZ5+z9BIrcv85KT1t+bsY6m5qtxx+8CnghQ2SfDlaB5TP50B/ygz8BnfQGT8RHJt/8XtU4P8c+G2+ywx8VR+GX9vkEuopn+LQtm33YR/Of9LFXJ5ZqHxBY1WQ+85ilv7nJ1wEG3dyxuSmUzaR6fs7W7cW/HU5TnMnvsEHssNiFDzTpwlbMPCL7570VA+IBtqe9NrXJtsgb299vTg5PQP6oDLopUvTo03EjwKBVYSYbZqLo+/Yu4FiVXUsWzLoKuiXvEjwKNI/y/WMzjr/zu1syI+juJCFKJsjkzAUFobM2HhVsC9YoUEcOV1ViL41PfuqTW7DaMd9oQ0dLjwQclLOKI1UAlFKgJUHSpgQa+luAX+BYUuNeQY3Aw2f/BB9oEkDqZyeBVYkUfwS+vkNHexIIbiUrAm4Jk4BFECPIRRfaW+4TGNBeCfhhnCTfnqvdkuzW0QsuPdM4CPi9oy+QZC4hEmybYTZT6p9xEExJ3DqmtYBfwiwAA/wZd+Nmn4eO9q7i4BN/8omtwue3TtdU/cAgSoJUkbiPXAiM8UnSVUm85EOiK+kEBn3XX/mujZav+4av35KKNpDWrs1nAYrkAS86/amZ1JbcFRS6t98E3Iw5XkiwO5JYu0AsM5BkWZLQxs1zv4vK+QXw+oC/xgSNzRpPEGHqUtUEBewZ/glWzEC0ihqyZ7zoB3no+Gvjqo8cVMBYSxf1cS4NK9G5rDIIfdNhGn9OUjKmsk5wT8fIFR0A5OB9a59XJxs/ktOqCLSD95JRvG7muD1S0Oi5JbOSdclmVRsCeMAB3WnZX8s5ZjKUk42nXUM36aHk0Jj7G7+MuX6xC51GWEL3iZOt+cSffPJEx+993hHI5MC1eAIMsiQJ3yQt+ksfJB/opC9sgUoUgLd/7VuiL4KNkqWWJnX6kr4HMNAV/CHTwBPgDFvJdnzkYx/dkinBjN/xqb3c/F1CuVYLNHbxyt/4n/0DKnim383EK51GezPqVbbNE6kk/HiueqVAiH6R647C7th6NkdfWn4WOB5YYozwsRMI8XHqXRuIqmoJDGKr2VYvtrV/6Vt23/X652Vs2AR9AwixQXhLx+KfPqEDfzyXDPi9qh9jxma2qS8eaasTLKO75araodO11Z5B2ou/2mQDtGnJM/9gDPbAIP2ke9rFZ6Bk+xfxs0DcNpDOLuCFPrVnUEu+ot09nTJZIKvfxpjd9hzfB6qibfpG17JfLb8my/TaPXwDGaZ3eKxv/EKnS5FldPMjbAbZCBBim9vjSx/mJvtzuSdbDRQjH/qGl/pG79A69wEk4000kWfjgv94auz4Hc+ZiWmf9WdWIjZ5QO9acovH7Fl23Hj5vX2wOjij5WAtu5+2O1vt3uR5AkRzxnra5b2Z7JmYTJDnqiqZObnRpFWngrFBZAM4R4eMnRc9LybRHzwA1vD7xoWckg1+JjAo/47/xoK+FvMYJ/wyfhI28YBndoJrPoSdodf+Jhf0m8wVk1TRnc84KoOm1NyczwcYdHPG4kGgZOa2U6enHNF5MYlchV8QF4oD+Cv3sFcmsSogKA/tIJeqIvmI/AU7JWYDjrP74gPxpcmMlqwXf+yB9g8Cbw8a7y0HbgQYdK5LMzDoM8Em6Ga+VQYBSgQyEh0OmXMVPDcTy9mrFvm9t/ze5uQ55OeegvSvODltgRgH/tWne05ad/He973/FAy8aWtTgKBdwZf2XvrSP396f9EWJHzqM1DXh06iElx6CQoFipINyitYE6BIxgQalmcJLiUIncQBEBKczGqikF4KTpEFJwAsbQjwBUjolvgFRAjaBGfz2Nw2cRXAuF5A054MElDGBi8FwIClNodsVhztDIuk2btgGk2eK7nTvzZU7ujp9vXAA8F7yxICawpwBUT6otpDcuFZkgrGruSngE1wV2IruAOaMIb29EELeo2JAOtznzstKzsBFwEsbTxr/NDjHf+NK15spfKncX7f6Z4/PPEXr32v/W85GU7HZH/t13/dNqYMaFUqqg4AFPhtPNpvpSAQLb7TB/T5XjLo1X47riGbZEdwKeEAEKCNDDP+nQDUcraAIOAMQ483LTcI8CuZbjlJM7ZzycFMvH0OpFhnC6p2afmb/nomWUg22oC3PSU60SwwqMSkipsVDMpBliQEBjXTCwAw5hJQCZ+xwBsvcsvJBTq5p6qTnlO7dAmAh8+SUzyvWkabZElQT1bxQTKojy0tNU4tA+nobToTuDErgxqDZuujhfxXqaRdctrRzeTOWAJEgTJkgA3DR/cAgz70wQ9tCUsgD/r0iy7qywZunRLLZ5ySVePSMfTGTAL70GbOz92SpF/6pV/extE/97KfkqX20xJoBDBr5/ff/vsX73jnQ5vL0nNt6p9xBzSg97kn/n32c5/ddFq/PJOt0ye8xSvjU3J5rnIgvtE31Ru1xxaxFQCvQPp0bFsi+vC+cOw8+2LM2AbgO6An8Bw/6Q8atS05RhP+CZa8fO70KnSQw6oU8UOfttMGT2Pmn/Ejp5J9clZlECDKi/0NKE3GC8bw0/1o5nu00abWbBb77b1THwNJ0eMe78bBK7Db+EhYtUUW8mMtSTQe+swGdaw8O+vFJ+UP8IANa4NgfsOeKvhtDIwFeZ0AUz7MeBgLfMFjvpDPUUmmUqlKnJbB4TP5Ip90owoafGa/0VwAjHZ0axvPXM9O0VGVWC3NC1Skzy2LKvnnB8mjJWsAmSaR6JO28ILvRY97jZfnBxr7G398FwjUaWNVJc3JEH3jN/CCDcInsqZ/AcAdVmH8vMi8Z3v3DIAeH8mXtD/dBFADkrL/JQotf2P30MCO4FWVQG0YPic0tFUFTTY2H8E2rJMLs5quCrNZDae9qk6jb06E5auyC5cBI3MCI9uLHjJhXDsx1viTGz6dDSg2bPPv9mfMDjfZwSewG53uWOVth2aQC7JHRlsSShc6SbbTVqt249uNOz+Nho6Uz2/PiZOjMujeJjn3srUDDLqX3HxstjWT6ssKHWYczpY3Aa/C2EQFe8G+8Iv8AxvGvvABnUTJjvk3J275N74WsFRc6H75JrvUUuAA6OKR+f7YHJmjV5dx4EaAQdepDGomivPmYAU0ABaVJRxp+wVxru1fQrk+amPcD502xn3/SUHe+e6LPzoFVhL8b1DWa5+NUxLznFOw8AWnwGwDKbYS8l/Zkp8Snqc9/WkXL3zBQydpbOW/p41cVQehSZDsJYjrdK72mJBASAwotLXighRBnCRWQEA5W7pUqfBMJAtIzeK1EacEjkIXfDd7OwOtZhHxBS2SPNcLWhgI9ABw0C3IQRNDow/tv6JvAh+GCF/wEo2ScMG/Z5Q8QLIFl64V5DFAwB3XCrDn5rUh1gxdAZX2JaoCY0GSxDJ6MnKSHokhgEe/BF4MHGPIMArCBeV/egKEgH+SvV89Jf7ue+LpejwIkHGdoFR11yc/+altL5YPf/gjF+88jf37P6AC688unv1lJ56cZOmFJwAQSKUf+ibxInuSD2OLD4J0stEGp3jH0DZ7jF6f/S4ARwc5RUf7U2hT3zravf2IjG8AXdUPbfrpbzwjT50UVADvfSL/Gfp1xrbEze9r4D6ByQnGlhyTI0mK5+gPubi1EfHDp9p5HlpmsDsN0p7jdI9xJxfk3Yy60/jogMRYokdOBOr4Q2abAW/jW88oEUJfm513ihD5IwMBdPjXXmNorbKuvUPwvCOPt+WDD1eZTYcaiNGzS2biXaCb36u0ojftsYN2ukKWvMhHQDG5/txnP3PxgQ3E/PAms2wQkCheGb+vPfEFT+gr/m37/5ye9+XP//KLb/22b7l49rOefWtftHe9y3KR91x85tTuV774ITABD57y1Kecnn2qkPiME68e2gT/E5/8xOmZn9p4hhfG3dhUjfG8P/e8i+d9+Ummn/bUDQCgJ+27VtVDQN1MAGcim4zGL3IGrKH3VSOR+ZZ9sUeeb/z115gJgtilEkvAhsoc/qEJAvfwI65lg9pI2vd47p6W6pVEx2P2S9/YK8ml64yh7yWUAjnt4lMzeoC27H02Ag/SN/zUL0m//uJfy8CaZGh5V/egR5/Jp8/sG3/SXjX61xKn9urppCZtFRTWDhraO6YK28DIltHqF8Cc7/Bs+t4JbO2r0h54bfzv+vaTE6Rm640Jeo1he/Wko50ciK/sITli7zshTD/aP8hYewZb7Jn4xlZXlUq+AjXnZER7Kbi+verwhd51+h350zYwiD9xPx1t03zy2kmGPlf1ySd56Zs2qxbG4wJ1IB16+Y42Zc4WGWMgb0BdwApZIMfsHj7jVwBMgDO5b6+agORAI+3pNzllf/SVrE/fP+1n9qzqxAk+6e+0dwFDgf4tCac/aKwP6fasDJy0T5DH9+eAkSYRigtr33ONVbPr5Cdda0l3fjlAKxCZ/hk3cpZfdU97uOlzG2/jIX8kpsNTdAfgGyd6iBZjrF02w9jzX1VhsgmzWnImh0facjM5cIBBN3NcbipV62TnnADrM/vIrmS7+TT+TIzKB/LfxdUdVLBWbbq3GIWfYffYH/adnzW50wbS5QbFqS1PPaoRb6oUPTp03QgwaJb7rjPsExyprFfQ2jIxVRqCKLOBnPiW5J8CYS/Bz6dtfnlSDu0+5RToP/t0rVOivvZrHcv8oovnPPc5D5Vcn06i+sxnHI38kYt3bEeH//6mhO9+z7u25OvP/uy0xvwJX7QdLV8A0jIg93PsggGBaPv9UOg2BxY0CDraq0cAJpgWiJZczqNUS2YotkBCWwyDd+1IHgpOW9NfECIQEUBTfgF9+3VUPYR/le0LVAS9+FPlQkKhf2hq2UDH4aKdwTJL3OagErH2KUKHawWuZo8lTtp0TTOTAv7ABM9thpLhgny3/5MxRZv7LBmRvOFHdOG9e/WX4Xvuc567AQ/49ubfOJV8/8ZDexk96UlPPAV69n168pZgP+Upp+OTT6eEPfvZz7l45olfpyPnTkDhQydHvfu0AfUHT0GcQ1ie/exnbX0BuBgv8oUWLxUCeCeA9mxj2x4E7ReAJ63hrYqIrFSyjv4CWMElvmpXMlCAW+DtXd8KWMk9fpGhDH3BeBU566xxba0VOiXimZ0ZlCeLJVbtL1LyWBJtrKoCm0sGtHmuMmh9Ts+QNFZ5ZgZWFRmekymVFhIi44IHD1WFfe7Wnj1rVdBsU6JAF72MdTPBARUlONozrtomaxI2z8PvNvysomHtW+NWMrOOo2foGxkx3nSIXtNFcttsPL55/rZP1xef6HjaUy6e+YxnnuT2tHzn6Q+d/kVObJguIVHl9oWnPc2e9MVP2u4hj3QVkP2Sr1Lxctps+4lffPGe02l773zHO0/PfPvFW3/vrRfvef97Lz59Anqe8IQvfChx+sInbHLm2qc+7bTE8alPP1UbnZbAnp777JOuoZ+uoPkd7/zD7QQ///Cr/ataOtgSsbm5cDyeyV42Z7av3gMAACAASURBVI6dvgGCvOhEyRtd6xRGyZbvs/n0TRv0wXVsMuAQ4IAfyTkZFjCRAf1g66vQmYBpYF+gE76S85I6v/NBksOqpugFmjwPnVVfWpIoKGsD3mgpCMw+bnw9yQXagG7pfUltm/sKCL3wms3U3/gc2EXe8xv4Sb5K6rMF5KhKPr5D3/gkbQcg8GPaoYN45Z/AlHx5bpVS9AP/27OqTbrx2vOrmNI+G6h03aRBp5zRi3QivXBPYLvrfO4wAM/CI/rMfgbEVYHZ/j3dRy78ZqzMvupLEyB+Y5sBAeQGn7uOzzGmxs79VZYYu/aTquol++j+/GAHPjS5oW/aJr9snXFZl3ehK1sfUMUHday756wAwtSjGTsFjOMvm+d59QVvqlpL3gPxA7TRturo9BnTR0x/VSXR/O4ykOe6YW9+o/foRWf7b0im8JgO0MkqEvMV9U2f/Ub28dlYVRnXZEN2qUkyPBRX0Aey5/Mc/+lPtE1mWhZYRbi/S8SiZcbCez76uvw5rntkOHCAQY8MXx+rrc4Ee8a6s7/0vLzXe5OtbAr7JR6Ye7vlr4qrsyHZ8075nct+xQjtiznt+IzF1hzgsTomR7/2OXAjwKBVYXLsLW1JUXRBMMWxCzJVBplJFXApPefMOyVDkBXI8YWnxOZLHj4em6MXTLVBooA9ZSwo/+gpYHr3KRAXKL7tbW/flkc4UUfQxuFXcUO5KF4b6KLDZ9e1Br3y+JL7LbF7eBmR6wV3AmmBsYBhDwBoyYegBk1ePutrM3AFM4Ei+tkGv4KOAkPXC/AZGkG3ABqtAqhmqDMy+tcGwdrFt5IqAZDZNwG1JBbvStYYJ31sdg1QJ2Buc1OBML4YnwxkFUWCMcESnng3S6sttKqgkHT5jJ+eV2UTutC37elwSsBUROjbb/7Wb168/TSGVS3VN/1qWQg+qYbYNtc8JcnuY4Dby8W1ZqYBEJ5ZgEkW6iu624NjVlShUzt45N31nqtaoIoj4y55M6b6VhDb0fUF/eQuYA7NZFjyor02Lm2fnGZq06EM/bmZ1j3zMPWyZKDr0pWcSeBPgX7vVz13nTkpacAPY8YJtqmeRE/Suy3tfLiqIADKfTOBKaGfy+P0oTa1RY+8e4aE0jP1xxhxuJ2iQ0/pEx1ovXazK+vM/ASze/YKzJWYeScTQFF0SCy8G/cNyH545p+Mo4UutIypJW0tf9sS9U1mTzbhVNFDZyTNL3nJV5106Wu3+8gxmlqf7nnuewgAfQiATIfxE7CDvxugdJKxF7zwBRcv+IoXbHKOX28/gUlv+d23bPdWSUU+ySVdbP+2NlUlm3QmsGtWrvkuGZsVM4AglSjslfvd01Jcdhbt7FZjp9/ptuezr1VZtQ9SiWsbzrZsiO4Zi5bfGYNkoaT8IZ6+ZNM7dLBr9oNj0/il9iLDPzLkWegBBKmWJEfz5MaSwOyyMWAr2J9AKvIQuOz6QCY2IP1n/1oui39VEeoDW81u6qdX1UTpS0EkOudMIrnrhK82Xmej4kv2qBOb+DD66Xu2uuXNxqnJi+yF4JT9o8tsIb/pPtdVZdWSKvzwLxCMHgLA8VKfs8lVa7o/UBCvAoLSHfKszQCuEnvX6X9+GdjlOvZYH8QXVXeiteo78ud3Y1cgj89kXXv2NtNPz22vPXpnXOiOa9mggDpjrH06H0AR+KW9DshIjs8F940v3k29zlc3FiUTrpvgzZoc3CtwIp+/+qK9ZOmcvzqXZAXEGQ98TYfILZsVCI83xXH4jKdsXPLPvgYSBcJGX6APvdRuS72zHZ6d7WYD2lNI2/kRclu1bHyO97fjo4/E5tHlwAEGPbr8fjw8bcbAxY/FaGxWW43MDf+LB7JR7Az/xda0ryt71jJ6vnNW/s+4vPx3tf2PB94fffx/HLhRYNAKhOQUVzBI8Cbwsy5cssDB2lNAkOgeATmH7N3fFKXTXyjH3PC3gH0aeYrWEduUUXBZEDEBAPc2Aw+FbUlPAW1JprZ8518zsAIBtAiK0SOBWo+UnsGHwMNL39tPQPBYeSGjEFAg0OjkjDaxTNFvAV4PgxSVL3d8eCACWgv2BUsCY0F/G8wyTIJkwSw6SuxmAOraqimqjimAcv8MZj0PL1tGhSfN4voe/zsFZW5ibHzRFyhnDPBB2xIZSaQ+Mq4FxE94OKF61sO8r7qkDVmrEPA3vnk+A+s52iJ7+tE+HJ26og8Fo/XXuOMPOgT/5El7klQvs/DtO9Lmb57fkgd05yySnRJTfe3Zc2Y3vha8T8ANjcn6VYZwDbhrp/anQ5mOZAJQK7C7JhQzAWjGliy5L1ANzwMs27i3xGzuwxKf5oz4DKz9jp9ttFfS39/GzL8cbKBtst8G68Zhgl8lUfVlAnF+myBV/HdNSYV+tjdIACC5CTip4kafOfv29Ql8bINv7yXd+pAudU/L4Dw7UD1Z67mNQfof2NoGxe1p8icf/5MTzae9qx4GF/AQr+lee2R1D7uWfVgBn+RhDwzSF/veeAUGaQsoK7Fin6YtyL7qp2frNxvSMsvkubFDi2e0OTSd83lWlqLbc9ooOCCmqkttWI7FNqWr3pMJY4hmlSb0nQwFak39CSDcluQ9fLR5s4Hbcr+H92hpXKqIREfLp9rvKv3LFpGt9hhrnANLV/BTe15kx7+q81oW2IaUAQj5v5a+dqIgoBWo7nnJcfYGfeh3D9vXaX5T79sXDRijjegk8/rb8mPt+GfcAlaatHFPlUH5Wn2jz9nkqvH4+Fn1o108px9AQu10Gl96ZJzTN330OTCIb2Tv28+wpbwtxcbPeKp/7fE3bbW+em4VWO0N1hK5PTsfwJNeFehnh6a9nWBQdjL71PuMG+4UDJptJwN3C3jMeG36M5+z81VBsRF4HFg7J9DicbETmWQ7qrCbviyd9k42tEMfivPIIN0tlkILXTfm9KIDRuhWexBNfvSsO+XzVf78+P3uOXCAQXfPw8dTCzOG3uv3tIMzvp6xKrtSrMqOtQoje9RejE0asjNyg5a6t9VA8caU4WKhYufH09gcff18DtwIMChBzJGnFM2aTiUpcZKQO/XL2nuzZq95zWtuBdvuK6mZe5Vw/JVep0CzciAwyvNy9gV5gS6TRveWKBR0Cmib5RUUtCdDCeGcDY+eTiNpff2eASmBQ0c0ec4Eb5rFLsBp/f+s0kBziUdtlTRUgTINVMuSWhITICGYDrAo6CmY97e2q1ZilGYJdUn+BJAybPFz7pdSIFs5vnevguHAvpY7eNeHlmx1aspMOD27Kq2WbZQcBiS6Xh/qj/6SO8mfNu1do2IIQKGNZAO9eFlS2HKgTgxrLS+5tYymk5hc37rfluz1ni54n7TPcdkLIkv60DRl7zoB55TD5HcmIP0+25qfpx5fNsObSZo66/r4UZUDXpCLAKCcXAlPdmQNqmeykAyUyDXDUr8aw/hNHlsuti6Bm+1OR7sCYCsYNBOz6GlZqz5GQ/0JkPC3RFT/qwDTFlmcVX2rLqUX2pnP9pxsVUlt8pKcTZtSO/jrvkCTdLvkci4Xy87Gn2zsVfLgd3oICFKBKCnXriCH3qkqqSpkLm+dNrkldvXZdfjWEo7kbi7l1CdyGL3ZzoKm5CHb7boAAJ/93v3u0Z73QOqAoFX/kuHuncudA1OmXEXH9Gd7euiexqpEdeplMjxBr1lOjjdVqU1/EUgQcIofLd31nSS5JXz40nOmblb90gEIU59WPzdjgIDO9FG/q9Jpf7vGr8q9/Eq643rj1oQR/UlWtQE8q+pDP4BIbH2nRbk2uY/vAf/e+Qhyiw9AQJVB7LxJDoBD/mlOGqQbyeVq65OdCSbOcC4bNmeA90CeNQheZXHagOzgTUsWomdWrM54MduWD/FuvALhp33Dj2xWscAEwabPW8Gx9CO7ga7Jv+xNPnv6rOzSjM/6vPqWdcyOv+8PBxqXxjn7AmhUDfn6179+syk2H3cancnQGScd43p/xu2mPnXG2Pm4/KX37NXMJbNtxVvFgmRxxqrZwzlRO33/9DN7n28qzw66HhkOTFkUA6kGd0gXH2e7Fyd+84/FF1s+ebrJnqS3jNxMpJTLv+ENb9gCQZtEOmJc0D4ftAYf87faXRM711CMyugDg5SiWw4ADLL3AONbtY+2SoBSnDXIn8Z5KuNUyDVIy4l7nxUCKV2OojbmM/aSgL7rfdIxA5yZ2EfD2vZMsvpc3ycKHI0FHxMI6r76HUg1k1ptTocYX6NdeyVmgURzbNu3YvZ58iEnOw1fwF7yVnv1KxqmbK58WnnbM+fYTXl2P2Ugz5bVAHRsKCpBclISGW8PmQkgaCMQiiF3r+RABYHr3GPZQhuwSvID9tZxXgOI6CupXQPIxrvx6/rLwKA9pzTbzfzsOaz4vvJwJn5TLqcp67nROhPewKEpd1N/kpGcZvq40nouSa4v830mT5PmVcambvW8+jsda3qy52xXnseDANvomno76cAfY7rK69Sjte+r/E/9mHq1JijRP8Gcyefa7b50YV6z2r7525SdABEJuo337RUmMW/JRRtCm23X5pSZc/a9cYjnyU73T/nrmnO2acpFPGtZSMuH6n9AVU403Z7jOHk3/c4cj8n3VfZa/jb90vR7tTP90vQr2YtpV5LlPVs05XbqXG16nxVmU98bn9qdEyBTNqc/WW3OlM05nmsivtrF1Z5Nv147AIM2rbfvkaog9hsI1BHws/p08q7THoFM4hJAJhlm4+1z1klWJkemrUDHnNRZbeXU5+nz4n2x0qrbjedsL3lfx7zvV7Bjz3au43k//t7zV3v+f9rG7MT0J1PfZsyx2uuVl9NGTN1cfcoE5rSZve65Ky2rrb8fvD2eeZ4DjfsBBh1Sci84kP5PH50dW0GcfOb0r+zJ9NX54BlfrLZm/jZjp/zIvejX0caDx4HpU+8bGLQmDAXu03n6LjBIeTXUyp5BwCcl+ECnjuM2+zID35LglGJ12DMwnkFoyjeDxplEzBnkNXhenXoJXjP/KXEB/JoczACjtjMYM2Cbyy5KAKYYznsKhrtnBtV7wU/8KpicicE0Qhmn+CHAj/6ZlBTw1t5q9GbyNccooKrlOWtC6j5BvPeAp4zc3t+rkV2Tm8YkGTLTqzLBvhtOtnJMLKBHUmo/iI58bNav9iUVzZCTV0kt2TUT3sa2bW7r3gL0KbvRoh+zsmMCB1Me4ltB53QgMzBdE/McwRzjvevXIHwGs1NOV53ut73nznGfMlffPbPZj2Q3XnTvlK0pr1PGpuOLT11b8jrpjK8zgZoJ77RTK696ludrO/3v/rWf8+9omlVhfTer6TzjKoCv/q865/u5F1V0zvGs39mJ/p5troHGHggxbcscmzX5mu1rh445LVJSbQmQ3y0rMkNhnxlVFv7Rz/Rj8n2PzuidcpGN7LvZp1XPpq5NXs3n7iWb3TflLFlYdXTaMtfkM+JXehFfJ89XuVpt20xip371ve88J7u56kl/J8+u79rZtzbrnbydbU07s6dTq41vbKZ963nub6Jg+rZ44Z41aJ5+fNIlCAIAsfFiC+C98TDJZM+nTrrsZLqeATBi2/kJ96gS4Cv8s2feq1/96q2CuaqrxnjavqnLq5xO/e23c/Z8jvlMNqa8JTvn3mujcZ4+86p779fva6I+7c70TTM2ia/JabKQvE3wZsrT5M9qZ/LfU1dW+Y22npuNvcxH3y++Hs/9fxxYZSw7clQGHVJyJxwo7p6x5Iw51nhx+un5OV8+/cmaN2ZjZgywtrHG53fSp+OeB5MDM264b2DQZQlmCYLEwHrJjma1Jt9R3DZitH+EEu5O5ZIkbEckP7xXxQwKUoiC0TXhy2l3zxq0onUCPf29Bhsz+C8QnUHCGtifAyimAq9JxmzPdRP0msHHDHZn8JPiz4Bx7f9qLNa24tMMzGfCNHk16d9rZxqy+Xkm8Rm9GYBpq0qkNTFKfhrHmRQ0ZlN1u34mFe5tI2MbZqsOAvS074/KN0lqy/JKjuYeAu4ns5IGFQ1mi8lrm+FGi/eZVM2gcQ/UnPIxg8/Lkocc0Oz3Hhg0k4d1bGaSFw2rzEXD6oTmc6fuN7aBJ/o7lwEkV5P+qc+TDu3WzuogC+onb+d3Kx+jq+fOgH21LdO5J0trgtGz9nRx1fcVZNjT8eibtmnq1+r8sxszAdHG1OF+i4ezz/NzfI7OQLspH1NX6/OshPB7SZe224cDAKTCgs6x+9psmRj9kVy30esKisWLeB09K//i05qU9feUzz3wqiBuyuEKqE15mnyZdnJeM32Tdue47AH+0/dMXu/J2RqmrOPU2E7fsPrn1W9M4Dn5n+Mx5X9tCz0r0DBt9vyt76e81F6gxZygmWM/x276k6mDrg/4B96rDLIBMZBHLEHm2HmVPR3KED+BO+3nwDcAhOxHBPz59m//9q0yqEMGonXq+uRDNE3d79p4P23XtLPTHk2ZvsyPr/dMGdlre5Whm/L36sPWpGra8Xzb7F+6POOC+L3H95VP08+kw+t9Uz/3dOEycP+m8PnxTEdjlg89wKDHszTcfd+nPK2+KJ+w+uLp16Z9WW3NtEfZnel78g8HAH334/hYaGH6o/sGBq1OfCYyBFoJvsTAppTAH4Fap+AIuARmnVwjQffZptIdqT4d85rIzL8LHtbAawaza4A2g7IUbn43E7S95G8OQMHuTN5mwFhiNn8/F/Cv18y+zYBkJoYr31ejcy7pWPu1F2DNoGoNMPeShTXYnc+YidMMnGdiMPu/JnbTIK59rL2+j1cd1Uz23vzmN2+zx3gXuBRwsfK2/YwkExIGskouyalEVmLRvkQZ/9m/GZj2/SozaF7BuDXhWAP+y5KKy5KBc4nhTDb2kpD6sRccTxnGU3xy/ZpkzkQ+XSmoX5OdNaGedMeblZ9roD5lqPamPvc5+7XKzurE17Hc05vVge/ZlynzgQMz8Vl5sfarvcbmEp09+ZjjOO3QtBMlWHtJzp4OJ6u1Edg390ACmlqKCXSlZ4Agy238c12b0qsOsnSnU5omDT27cZsyNkGYdC67vifHqz50z57eaWeCkMmp71vWOfV72r69gCJ6oi+gebXFK/2N17Rv6xj19ypjq47P+6Z8BujN6ok9uztt/+zjave7t/amfu6NX75rjsfa/uT17Ofe940dQAgAZANssmiJr5n/9n9pHJMt9nsu1WsvOkCQiSkbT1si1qbBbfS9Z2fj9dSx+jnlZ9qAaeunndXGBCbXNqcerD572oPVX+/J6aP93So7e/5syszav2mb573TJp8DdacOJLOrTVnpm7o2benqi4pH8ymPNl+P513OgWmPGyNjdlQGHZJzNxzYi6unvZ5yV1y2xp3TLvm8N3E0Y7o+HwD03YzcY+feKYP3DQyaREwHnrBKBMzQCczM1jkSVpIgqRG4McadqiLoEnw5pQkoZCY5Bz9nPWt7DZDXYHYGXRM4aVmC+88limswsQYEl80ezWsnf2Zys87ium5WUhR0lJDMYHsmrmsAfS6wct26xKxkfC/wQp/r20x6DchmQrMGt7WH5hkgTWPW99G/Vjasv9f/Geg2po1V9xSkdXqc8SaHQEknW0kQnBYjUW1D7PYI0pc2dgX+kEEJKxm1T5DTc9bjrmditQbiyUJjnxOYNK98WROBq8CYOzFpk44Z/O7J00xi937v/qljewCEe6fc7I1x7a+ysyZKU6+Ms38z4Zq2YMrn1KspUzORmI580rOnW/O7xnGO50w6ZxLj+1l12G/J0tT3dXz6e9pB/FnlZE0mk6t4OwGuOV5rP/fsuu/Y8PYP0xfjAARyUqRllW0I3PPaRJz+WBbsFEnAaieGrfKQ7Zs6tNqqErn5fYDZarOzd7Ovk0d7ehTP4m/PmTSt4M6UpZ417cJsY+r6lLvZ5pTTFQRYk9v6s8rtautd598EbSets98rH1efVtuT/ilryWl+N1/XcquAzdmXltcVGO+N8/q8+NoEFDsPFPLuiN+ODW9DYm130lwn6bH3JqNUrgH+vewZNfk1/W99r6opXk1dT/5XGVjlbdqsqfOT36vvn7/V/9lOcjT5dyf+4l7eM33PlNOVd6sd7u/8+6qDU+9mldmqj6sOTb5N3YzOvcrFdawa7xkn3UueHW3dPQcas+KUbPoBBt09bx+PLUy/vGejV1+8+uTVdu/ZjmxVMrs+c05u3CQb/3iUh/vZ5ylL9w0MOhfQFAACfGwgKhiTjHtXil01BgEuGXAsqJljoJBNeiXla6I/Hfv8bXXiawDb7wV17VPg+xK2Pac/g7qSlRmonROANVGbzy/hmwncpHfuB7IG+yl8wc4M5hOI6HRvANBeErE6x5ksoeccGFQiu9I2/z6XXE6hjUcz+Zz8jifTyGUU51itAeUcE89wbcdQW8biqEfVacAg/zqRqOBPJVCn3ZBBCQKZ7BhoRx2jqWQ+Hq+J1RzfFTyc/Ek2ZmIxk9T6fy7QXJ1K/V+vP3fdVUbs3HPjV+O4FyD3W/2ZlQPxwPsKlO7RNOVk9iWdnrIz+Vf7Uy/2eBQN0bwCAPP5c8xW27LqGvmg050et947g9M9vfH7rFgpwZs8W/WhsVmT0pm0pOPZo/aKiV+TlvjpXV/aA2zuo6a99lyxPKwxCgRoOSjdAqpaHjwrg6asrGO12pYpH1N+pm2O/mkfVhn1d8lltiK+RMNqryffJ12ua0avvsyKuBkcTtu3jnm/zSWXU2ZWXanPe+2ku6tNnH4w+XPNObApHk+9mW1PmZwyFm2TxvrS+3zmDHZrf03+Vx/SdY2ld3Zekif2eM973rPZ/PXo8MZbLMDmO5JcLAIAsny9UzHnKRxorvpxtQ/TDq22yrOmTs5YIvrn75MPU6Y9f/qSPXux6sZs6ypb/2j8vtefeBdPJ09W/zj1ebXJXXvOF82Ycfqtrl9jvFWWG8fGatqpm8bnR2MsH6RnND7T3xq/Awx6kEbx5tE6/dHqZ6d9KnYqb5h+cI1V9nqZ7Zq2zXXn4vObx6mDokeKA1MG7xsYtCrC3t8dwVrSHdgRYwqY5xGhArBVWQo4ZyB9lQMuQFyDi73Ebi9Am4nGDLz2UNgChBmszSCjQKKArufNoNgzAnrW37VblcZl/Z7GYgZZq9GYznEG6/UtpzkN1bnr4vPat5XOKR9rcjSTgjXgm8lGBrDv5tjOcZ1JrWd1PC3+OjWmyrTkKXrmDLY2JAuShL5vaVjjM/ux0h3vVpmY906ezsRm9jPZeqSMyZ20u8q7Nma/ZhI3+7jnBBuDy/o8ZWfPAc/k9LLnRde0JxMQmAm+z/P6yadz+r7aEdddJ7FPVqaeTrmZSdH8PG3MnpxNe7mOczapfs7gYn5e9XZWNc3nB7rag6X753syAhCyzLJlN5OOPRqjb7UnM0Baf1vt1mV6OuVllZ3J66mf5+zptAGrnl/X76zjcplMrP5jjtU523gn+r62O/XnnN06Z++nbMWTOZZ7OnSZz1v1oYkMMQeZbEP3WR077/G8jn0Xe7QsDG3J+srLqa/rfkeX8Xf65z2blr2JL/mx1Uater8Xk9zJOD8a9+zZzsv0bJXxaeemfe77PV90mY05p0O+n3ZjtSHrWM6Y5NHg4/GM63OgsTrAoOvz7Ljy9jiwZ9cuy6dmrLAXa67tTVs3/cLtUXlc/VjjwIwj7hsYdC5wL6C+10yfCd+5tmcydz+ef6+feVk/zyUud0vDTD4eqbG8isbrjPVVbfT7vWzrqmfOZ92uLO7RuSadVz3/Or/vgSlXydleInsv+HpZG+f6fl36r6LvnJxfdd91eHwvr7kXcnRdelb5fbT1/276eq/G7RwP7lX71x2LR+q6lce3y/OVrscKX+6E39ft+x7PLwO1LxuT23nmVSDanfT5bu7ZsyfneLPnv8/1/bo82ZNd311m5/Z8+rznkfDRd8Pj497/nwMHGHRIxSPNgevGpbdDx1V27bA9t8PNx+a1NxIMemyy+ujVwYGDAwcHDg4cHDg4cHDg4MDBgYMDDxoHDjDoQRuxg96DAwcHrsOBGwkGPRLI6JwdumoG5xzjrkJX5zP2yuz3fl+fdVnfb/f55/p83Xb2+LAiyOfove4s8VXX7SHWdyofe/0+V9VxHeV5tK653dndq/r5aNF9nedcJj+3M8530ufbaX/ty3X14Cqdv46+r32b8nDVDPft6vrtXn8dW3lZm3t9u5MqouvSfSf25CobdR05n9dcl9bbvecqW3bV79f1X7fb38uuX6sl1rG/Ls1XyeGd8Pxe9vOqtu6UvnP8uV0537v+Kprv9+9X2e87sTtX+ZHr2qbb9Q94+SCOwf2WgUf7+QcY9Ghz/PH3vHOVntfNW2/H9hw25/EnX+d6fCPBoGN4Dg4cHDg4cHDg4MDBgYMDBwcODhwcODhwEzhwgEE3YRQOGg4OHBy41xw4wKB7zdGjvYMDBwcODhwcODhwcODgwMGBgwMHBx4zHDjAoMfMUB4dOThwcGBw4ACDDnE4OHBw4ODAwYGDAwcHDg4cHDg4cHDg4MAZDhxg0CEaBwcODjwWOXDPwaBf//Vfv3jDG95w8aEPfeji5S9/+cWrXvWqi2c84xnbKQvH+sTHoggdfTo4cHDg4MDBgYMDBwcODhwcODjw2OXAdcCgT33qUxeveMUrLl772tdevOhFL7qV+xz5z2NXLo6eHRx40DlwGRj0rd/6rRff933fd/GUpzzl4glPeMKG5Wzvp5v8u9X3Pv/pn/7pxZvf/OYDDHrQpeKg/+DAwYGDAwcHDg4cHDg4cHDg4MDBgY0D1wGDPvGJT1y88pWvPMCgQ2YODhwceGA4cN3KoICgL/zCL3wIDNJD4A90yJ+9jsqgB2bsD0IPDhwcODhwcODgwMGBgwMHBw4OHBy4ggPXAYOOyqBDjA4OHBx40DhwXTAICOTfLTBoPWLT38AhYNC/+lf/6uK9733vhdKi7/qu79qWifl3lEk+aOJxbSvUTAAAIABJREFU0Htw4ODAwYGDAwcHDg4cHDg4cHDg8cmBCQLFgXIgE+If/vCHL37jN37j4p/+03+6/fyd3/mdF9/93d998cIXvnCbMJcblQN99rOffSiROi21qN3HJ1ePXh8cODhw0zjAVqlu/MM//MOLX/zFX9zsV8vEnvrUp262K1u2VQZVFeQ9o/i5z31uA4P+xb/4Fxdve9vbtvWyL33pSy80MP8xgse/gwMHBw4OHBw4OHBw4ODAwYGDAwcHDg7cZA7IWwA5/kmIyn0kS5Knd7zjHRe//Mu/fPHEJz7x4qu/+qu33Oc5z3nOxRd90RddfOYzn9nu81nlUPtuHGDQTR7xg7aDA48/DrBrsJyPfvSjF7/5m7958WVf9mUX3/Ed33Hxvd/7vRdPe9rTbtm+DRCaewa50Svj+MY3vvHin/yTf3Lxpje96eJZz3rWxfOe97wNLGJEGdMDDX/8CdfR44MDBwcODhwcODhwcODgwMGBgwMPEgfkL8AbL3lMn9siQ+7zJ3/yJxcf+MAHLj74wQ9uwI+85/nPf/7Fk570pO2eT3/60xsQ9OQnP3nLlwBC3o+J8QdJEg5aDw48djlQUQ+bxKaxb+9///svXvCCF2xAkEpH9owd698tMChgJ6PWMrGf/dmfvfid3/mdrUTyq77qq24BRUdp5GNXkI6eHRw4OHBw4ODAwYGDAwcHDg4cHHjQOTD30AgQKteZuYzPH//4xy/e/e53bzPpZtVf/OIXX3zN13zNNpPu75aGSabmaooHnUcH/QcHDg48NjgQMA24Bmh7vf3tb7947nOfu23387KXvWw7TUzlY0D451UGzc2jGTnrZv/lv/yXF+985zsvvvEbv/Hi277t27Y9g1YU/EDEHxsCdPTi4MDBgYMDBwcODhwcODhwcODgwGOFA3OfoAkGtRJCP7sGGPS7v/u7236pvrPHhqUVqoPkOgChWV3U7PuxTOyxIi1HPw4OPNgcyBaxVZ/85Cc3cPtXfuVXtmog9uzlL3/5xZd8yZdsf9+qIlr3DGqNmQt+67d+6+Lnfu7nLv7oj/5oQ5Ne8YpXXDz72c/eDGKI+AEEPdhCc1B/cODgwMGBgwMHBw4OHBw4OHBw4LHIgXXT6LkRdEBQk+Ef+chHtv1S/8E/+AdbrmNJxatf/ept76A2XC2BMuMeMHSAQY9FyTn6dHDgweNAtoj9sgfab//2b1/8/M///Lak9Zu/+Zu3pWJf+qVfui0Ty+59XmWQLgfyuEAD0PH3ve99Gxj0qle96uKZz3zm5x1Df4BBD56gHBQfHDg4cHDg4MDBgYMDBwcODhwceLxxoLxlTmyX//zxH//xBgb95E/+5FYFJHH663/9r1+85CUv+bzcZ+7Lceyf+niToKO/BwduLgfmslh7oNnq51//63+9LXEFBinsefrTn76B22zcdr3KoIwghLsfAoOcJuZoeWVFP/iDP7jtRt0G0qHrByB0c4XioOzgwMGBgwMHBw4OHBw4OHBw4ODA450Dc9YcL5oZjy+BQa9//eu3WfXv//7vv/ihH/qh7URl+VH5Tu0cp4k93iXq6P/BgZvFgVkJ+bGPfWxb9voLv/ALt8AgADcwSGWQAiD//r/KIMZO6eMEg1QGuZlBVBk0DeLNYsFBzcGBgwMHBw4OHBw4OHBw4ODAwYGDAwcH/t9+QE12lwStwBBeAYN+7dd+7eIf/sN/uJ0s9spXvvLida973XaITrlPm65uSdRpKcbx7+DAwYGDAzeFA2tl0Fve8pYNDLKhtP2fLX3d3TNIB7q5oxN999a3vvVCZdB73vOei+/5nu/ZwCANdCTjURp5U4b+oOPgwMGBgwMHBw4OHBw4OHBw4ODAwYHJgbmhKkDHKTq39so4gTlymZaMfehDH9rAoJ/6qZ+6+OhHP7qtiPgbf+NvbMcyl/vMvYM6UKd86OD8wYGDAwcH7icHJsjdhvj/5t/8mw0M+qZv+qYNz4HlsIOfVxk0wSCGMuOmtAgYpDLIMjGbqAUGHUfL38+hPp59cODgwMGBgwMHBw4OHBw4OHBw4ODAZRyYYJDPLe3qnjmTPsEgSyz+2l/7a1tlUGCQ3OfWccwnEOnYOPqQvYMDBwduEgemPQMG2f8ZGGTV17d8y7dsS1+f+tSnbnsGnQWD5gbSb37zm7ej5RlHYNDcQHqWRh5lkjdJDA5aDg4cHDg4cHDg4MDBgYMDBwcODhwcmMnRCt7IeTpiXi7zwQ9+8OKNb3zjtkzMscyWib3mNa+5ePGLX3xronyCQQd3Dw4cHDg4cJM4sIJBCnucJqYyKDDoyU9+8q2TEDdwvA2kV2PpbzvqO00MGPSyl71sQ8gdR+ZfJZVz7exNYsZBy8GBgwMHBw4OHBw4OHBw4ODAwYGDA49fDuxtaQEA6hCcPvsbGPSrv/qrFzaQBgb9wA/8wMVrX/vabQPpufyi08Qev1w9en5w4ODATeTABLzte3YZGIR+e6j9f2DQWhn0hje8YTOONhxSGfSMZzzjFjoeE47KoJsoDgdNBwcODhwcODhwcODgwMGBgwMHBx6/HJiT3SsX/BYYNCuDOk1MZVBgUFtoHJVBj19ZOnp+cOCmc+A6lUFPecpTbi2XvbIy6E1vetMFMGguEwMGzQcdQNBNF4uDvoMDBwcODhwcODhwcODgwMGBgwMHB3BgHr98p5VBR/5zyNLBgYMDN40D62lil1UGsWHbHtCXLRM7wKCbNsQHPQcHDg4cHDg4cHDg4MDBgYMDBwcODtwpBw4w6E45d9x3cODgwE3mwAEG3eTROWg7OHBw4ODAwYGDAwcHDg4cHDg4cHDgvnLgAIPuK/uPhx8cODjwCHHgAIMeIcYezR4cODhwcODgwMGBgwMHBw4OHBw4OPDgc+AAgx78MTx6cHDg4MD/z4EbBwZdtmnbZQPYzv/XGeR57VX3XXXt3okDaLjTfrj3Mppab3zZqQTnaIo352i7ihd7vL2KP+s9V11/1e+1N/u415/19+vIxbm2z/XhTvh1O3Rc59rLxvqqcZ6ydLt9uUrGrkP7vOZe6st1ZegqGm9H167S26uedS9/v2psbofXV+nZns6c68tlz92j+XbovIyOq/TgqrG7jhzczvjdrq7Ntu8FLdcd0/hylT+7HZoebX951diucnOd6/fG7278zaThHK9Xvt2uLl1nDOdpIte9/k5jgnM6cJXtWp93HRvxSNiWNf66XZ9zVYy3jsXt2Jfj2keOAwcY9Mjx9rHS8lW2Odu6Z/fP8eAyH3s38cT0dz3jsTIORz9ujwM3Cgy6m02mHw3nufeMqxKN+6lg5wCjqwLy2xGhyZPrjMFV11/1+zSke0nN7dB+p9fejZze6TPv5X2rzN5uAH4vabluW5cF3+eSqTtt+1yCc1V715H/q9pYA4X1+uvYk8voOCe78Xe2f47nezSs7d4NL65jA87x8V7S0TP2eHOdcXykrrkb3u7RdJW8XCdgvC5Ne/5yBaUfKb5d1u516b+KtrtpZ8rZ3bRzFY1X/X4d/btb+u7l/deR36v6fB2bf5XtvOwZq8282/7fSX+Oe+6eA42bzaOPDaTvnp+PtxZWvV9jrL1479w1Kwj0IMTxj7fxfpD6O/3bVUfLk7VHfAPpSdCe800xZuCEsBRhDdz3Apu9WZw9JZ3tzoB4ffY5OudzXLPeV+LX/QUMsy9roDz/XtuMxstmEVcAZa8ve2MQrZMnK3/OJU/RuR1Fdxqr1bjt0TCViNOdz9dO//b6s9LY869KpOc4XCaH6zOjLf5f9fcct9mPKWNrW+eCycscwNqHVT4mj6fMTV1Y5W+PR/fC4M0ga0+H1/GedKz6fE6/z8n6uXGbfV/HaT7/c5/73CbXHR17lT04x9OpF6uOTNlYn3Ou/+fkfZWL1Ub27Kmv0zalj6tOrjZ0lYvr6tS0I6tc+i39X/V61ftz7ezpwWXyX9/1e47LfN452z7HYNWdSf9q12sbrfE7GZt+Y/Udez5l1afVfk35mbZpfd7k0Wxjj/ZzY7/q0WVjNO2oMe+I5tW+rvqwtom+OXaTt+uYTD3b8xtzzNdx2dOrKWvn+lqb5+zWnlzPZ638OOcT7lT/Vv+7yv3qL/b6cY7G1Vaeo/2cjznHh5Wm1TatvFj9y2r7p8xEY3yZ9miVnz0fm15N+drzTefs973wt0cbd8aB5OYAg+6Mf4+Hu87FV+fihXgy46rpK4rDpm/v854tmb9Nfs+4btqu27W5j4cxfDz2ccrtfQODVoe+Cn0OdirIGojNQHVevyZVUyEvc9wziJuO2ufrKNIa5EgYC2YpdwGE7738DWm7KpiYQUoBrmdlMPYC3VWw9wKh1VCtAfQMlqJhj5erk4xf0VjgvtfPc2MTjxqHL/qiL7rwWgPMnrUmsfFp8mbK0hq8TuM4k6NVJuZ9je2aGEVLfDHG0alftdl1K38ah8mvSV+fu28GkM1c9Tx/b2juw4DcpHXqz+zL3jVznNbPd2pEozU9qb/xrefo52c/+9lNZ8jACjDWv+kQZ/9rx/vUyfrZd0984hNvta0tz9T2HM8csd9Wpzz1Zcrpapv29Dna6qt79HXSXp/meO6N75SHlQ5t6G+66X2Pt1PfS8rr32c+85mLeJVdWeWraxvjqY/dU7tTjmdwNMcqXvi97/FhT7ZXOdhLuqZurbZi2gzPwp/4lTzs2bi9MV/7Gv21455pJ1aZdJ2+Z5P2aK2NaatW27Tat9WOzaBxJrrTRqw2qP7Wx3M+Z+/Z08a5L3A1XviOjM1+1Pf8ZmMwx6txiifJ+uT3KrOuTRbXNqefTVe8J3vxLV4km8Ysuz/lonEsHph+eeX1tPP1Z+ri5M3UpTkOd6p/01ZGa/Sc05epZ33ei5uibx2HPX82+zJ5NXkaPcVUye+0Jclbz0jOtLna2XS0mGP261Of+tQmk2Rz2vHoyWf0vGRgyuy0jdPHNVarHh1/318OJHdrnPvBD37w4ld/9VcvXv/611988pOfvPiBH/iBi9e+9rUXL3rRi25tGXHOL97fHh1Pv9ccmHZ2lZN0PF80Y4/ynHy82Iq8ffEXf/HnFTvUvt+196QnPWnrQvFfNotdmu1nj9ihNc497M29loIHr73pU+8bGDQd4nTQ08GmRAVQ0ylPhz8DthRkJkSznakoe8HLvLZgawZ8Of01iJvJ0wy0u36dSZoB0Uxu12etgW40TbHrmoKi+LUGk3t9m3ycPNsT6zXoL3COp/WjMYjW2XfGqetL5GYQPI2j+zncj3zkI5vxe85znnPxlKc85VaCPIPh2bcCsUnvGrid4/8MeGfAuefUG6sAvcn3VQZWfq6B7Ro09+x1TNZ+ru1m4NexiSeBUTOJnnqgvfRx0riCbXdj9vb6njMjHx/+8Icv/uiP/mh7//SnP31rvOOzd/LwtKc97eJZz3rWxZd92Zdtf89kov5Pvuq7Nj/wgQ9cfOxjH7v4+Mc/vrWfk37yk5+8desZz3jGxXOf+9yLL/mSL7l4+tOffiupm8lLfEy2k/mpA9GwglfJf/L9oQ996OKjH/3oJueuFVj6R9YFBeTe66lPfeoWKJTYRvcESSc9q431PPzV50984hMbD+iX9wCP2tf/nokH0y557gRFyNbdJqNTbgMGzvmCeJ3db1xWPk+7Mn3EavennZ9jPG3E6k+mbajtvkvm0tXVPs9+TRAiPta/aVcLMGef0tX1+pVvq+7W/+xVz5l/9920Q3OMp52c/J/6Nv3RbG9PH7RB7uknvaSLf+7P/bnP0/05btNGzf54ZoBxz5++efZnz15Pn5H+Juu1tzcu08edk5U5dl2zNzkw/eYM2GfCMW3oZfo3r5s6vOcv42mARyBQ7+6fFZGTr9PfTdnweYK38Wn60z3fuudfVj1dxyqbRobYtT/+4z++tawnOuLVBJrJmjF+9rOfffGVX/mVm19JRl0nAZv2Dn/Yaz7KM9jT/Be62WxtsJt8CT/iGTNRm33pWUdydjdRxSN3b3KWDU4fDjDokeP5g9bynm2uD9MfsBXk5p3vfOeF5Jtt8V2AdBNz7I3f/POZTXGNa7MxbIrvv/RLv3R7FS/mn5rIYndqD539Pe3ng8bvg957w4EZH9w3MOg6QcoMuGfXZxJQgDaT273gdg2i9wKznjGD20nDuTam0q+J9PqcGdDO563Axt5z69cMntaAfg2AZ3KzAmgFhHtiNe/b64PvCvzXIHPyPyM5A8TZj5nAR7t34ylJ/e3f/u2LP/zDP7x45jOfefEN3/ANW5JeQDeBpRmMan8GnWugOvk3+zCD8Dk2a+B9Gf+n4V8Ty5UHqw7M8VjHZiYuyf9eED3bnHJZYjNBjBWgnLSv/Ugeo+u6Afw5kzX1AE2cnBdg5O1vf/vF7/3e7138wR/8wQaQcIqBFRxeYM0LXvCCiz//5//8xfOf//wt8M6heuYMrN3vGYJ4Tvgtb3nLxfve976Ld73rXRswVKWLtjnKr/qqr7r4+q//+q1dgIjAfrZdYjHlbE0s49eU/+hKztFDtt/2trddvOMd77gVIEiKPYODf97znrfR8tKXvnRLjgUAc9zmbHhjNsdu2pESFknTe9/73ou3vvWtF//n//yfjRfJhX547ld/9VdvLzx44QtfuIFttTt56/pz1TlTZqaNWOVy1UfjMRPRc7ZjJufTpvTcZH4ms6u9TJ4nKLPq7aqnaxKaPZrPTTZmW+uz48O02RPMW+lolm8+pzGZ+rQ3/qsNn3LR+JXs7LV1lS1b7cI5Gie/s9/67PN73vOeTRck2Oz8N37jN96S92nPJ53aCyTu+5m4r/52xguNxxo7JEu11/jujd+aIM7x6Nm959fWMev3WUm02uI9/Zm29Zw93vMx0yb1ebbf7HQgxQRG8pFXycz0XysYtPJo9XXn+rImXFMP2Ux2jPyw73wI25p9wquArPicH2Xf2Ty+5Lu+67u2yg7fZeezsf4mp3zG7//+72/Peve73739DRxCAzvJF7Hb2jFZwY7yIxI3vOz5s99360/P+dnj+7vnQHJ2gEF3z8vHagtr3J0+z6piMaSEW2z7v//3/95sFGCI7Ui2ihvYCfFh9kJ7xWDshzgQeM2+fPmXf/lma8TDbE9gT21WpRpovU6cPlbH5OjX1RyYcnvfwKDVsa+J1RpYz2Bz/lYQswaLM7jZC9D2guNYF4NKImZSs16zl1zM4L7nzGGZQUwJ4gy2zwVLa2JxnT6cS2xmP9bkpmB4vnf9XvJRf9ckYqVvBjzzt/V5ycb73//+i1/+5V+++M3f/M2Lr/iKr7j43u/93s3gFcStwNdMcPbAoGhfA68JQs1kZV63GvvkdVZUZLj3xnRN4LtmyvXKn5mUJGddM4PxvQSy69exnWO0gkFrAjeD1VWmS57ns682PQ9dMYMrnzk9hsiMLoBGMC/YFtwLsIEXXpIUgI2ZVuAgoOIv/IW/sDlCQImAnpPUZjKEPs5W24AmATyAsYoziacxnIE68AMgpE1tv/jFL96Sg5JMfCkpWvWoxGnKYuMYXfqhv+j53d/93e0lqUBTs0Xu0RfAl6QYEIoOAUCAUFV06GnZygRqVlvlev2VdEuUAoPQUTUFGvVVMkPXPPNbv/VbN94WREzb7RmXgUHXlYnarE/pV/yMdzNJnsD71M9pW0rkZgK42qn5jNUuTXmdOjXHN/6n04331OfKtFf9m8DGTL6nvrl3JiLruK52atrq2c5qL9Pv7GlyvWfH1+evtn3akj0fMfkYfRMMouf04Nd+7dc2GaV/3/3d373peuMc6BO40JivlTuen31KT6NpgkHRtDf+9W8CAatNnfyaY5esTpnsuwLzPbnqmbW1p8vX1aeuW+OsPf2pH3s8m/HDnvz4fV3+MH3a1JP6Nfk22+/50+/M/iaXq59Cl0kDydVv/MZvbPadbWNT2ayWXCQL63hXYQp0BwaRPXI35di9ZJSNNknRZEW+xfP97lnssySNDfX5W77lW7aKIzZUdSeatOefxG366Nsd3+P6R54DM16ZccVRGfTI8/5BecK09ek2+1F1DpvDNpjgFt8Cg970pjdtE4Di3FkRy3awE/7lL/hKdqPlYdoTA3uJEeVHX/M1X7PFh/4uXptV3OJOtM0lzNMfPCi8Pui8dxyYcnvfwKA1UFod73T4BdeBM2uCO4O6GZzMxH4GyJc530lXz72K9TN4nsHP/LwG7JOGGZRfdt2kY/JrOivXFDSvz5/o89yHoiB3DeLq/wwoZ6B2bhyicyZr5wCLNemZQbPqhX/37/7dti77JS95ycVrXvOaLTl3T2v2zyWBc+wan+hZ+TKv1fZabTHHd+XVBJImGDQD13VMV2ClsVwN8yqL8XUmb6ssN1bxca9yZO3PBDZW2lawp+fdDRg0n8dBCaSV3AMoVMj4bBaD8+QUfa58VsANvOA8tcMBCt69m4EVgE8HjKcAJsmBIB7I5G86Akxq2SF5koQK7vvnGkDMt3/7t2/toiW5m8ll8jMTm+Rk8ineCggkKl6SX3RprxnqSnpdh9bAKTqgn2hpP5V0OjAo2Zi2IrrwWqL0P//n/7xVhWRJjucKKtgEoBun4Nn+pm/f933ftwFDAgzfeWY2ZsrinSava5I3gYZ423f+jo9rcnmZ/syxWcGKVR/m72ubq93ds52rXZz2ffqqqc99v9K22tueN23sns9Y7d+erU42CxhnZcrqLyetK01T/id9059c5ivIJTl885vfvAXJ7AGQ95WvfOWtpHxvHKaOTf71/RzzPX1Y5WzV4z2/cVUsMOV0tQdVvF2nkm62s/J+bXele6+vU8fm2K4yOH1jPmQvLlhBttUPTZrW5+3JwpTh+Xnty6S3dgK5qyhlM/kItkyFWcu+VhvQ3wAb15hh50ssO+Z75j82UeIGBPLiq8hsiVdLddHOV/mNj3Lft33bt1187dd+7ZawseX8SDas5O5cn6+St+P3R54DyckExNnOAwx65Hn/oDwhe0hWAseL0dpf0t8mPmcFo3i0uNQknQpCE3/sELskPi3mYiP4DnaNj/RMsbFYTdtsiwnM4kSg0oxt1lUBdxqvPShjctB5NQeybd7vGxh0LmDJSc6gpGCkZD7kdSYiaxA2A46ZbF/ldCdz1hnIOfs5g+2+v06COAPQGVSvAf163QzMSoLmjNwEOubvGakC/XOzePVn8nFNTNaAew32/V77BbyuKTmPt+gLjFrbbE8TwZhk+ed+7ucu/sf/+B+bgfvbf/tvbwm/PrXOf46XZ81EcS8x6XnTSM5xmGBI8jVlco77TDp8H1gZz1d5nTO+M7mJ5ysQs47JDOjX2c0ZJE/ZicYcSW0kT3NM4t+abNe3OVZX6dFlZmj2w2fgj+VKv/7rv74FWAJzQI3ZVAG6se55An0JI5ngSAX7ZMPs63d+53dupf5znwfypN3//t//+1Zhpn0BuIoXQTpwBRCifU5ZkO86M8wcruqEZos9qz2E4tVMdKZMTfvVOBZMShIkLoCZ//Jf/suFCjhyDXSSBAsAAFNmkP7rf/2v2yM8FzCD5r/4F//ixqN1zJO3KVtzzAQigKB//s//+QaOxTvBBx7iM9o8FwArOHHNq1/96ltLNF2Dv7OSKP3ZSwinfq4ysSdD8/r45bop78luwU1A2J7P6LsCn6nrq/6SlYCuvaVG0TBtyGoj598FhtmFfsuvTJsxdXbqfTxY9XTq0JTBaUMmP87RPp+bH1uDxj253lv6g3/r/iqT37Nf+QXgbntX0Qd65zv6DIRsrxXjof18x5xoiN7Vh06w8JzvSgYmQD39/Azyk8Mpo9OeTn+4ZyuLWwLhpkyuNnf68+nX+jz14ZzeX2aDJ31dFz2TJxP0mTK0+sT526zua3ltupBPdX0xibYaw/bV6brZh+jr2Y2De9nqJhMkS9phR/kD9n22u+pstHufk0zR0BJGPspsPr/DPgN1vvmbv/nim77pmzaw3N+ebdkYH8JHAY74GC+VR9/xHd+xgU3Jqjhnz25eNXbH748eBxqfAwx69Hj+oD1p2qYZ/+vHmpOU4wCXVcOyESYF+T8gkHjrZS972WYnsp/8atsliGHFwSbLxay/8zu/s8Vq7J2YWRwpFvaZfZkTd6s/zic/aPw+6L03HJixzH0Dg/aShDWQnYK6Btkz8LssMV0N+Qycp6KmdGsguBfURddMtOfQ9MzLkqS13ZlgzAC0hGG9fgaIM8iegXtlgfokAS6JmsnipLU+1K/VUJxLMuN/NK6JV050TQYmz+qPRMCsmpk9Sel//s//eQusBFI/8RM/sSWl6CtZWxOrAu4ZmK/yMYOvGcwXkM6Ti+LFHvgyeb1+nmM/f9uT25mUxuNVdtak5dzs8pT32pp6NeV76uBMdOb4z6D8ujp3lZmKH8mJ4BoowiHivVnUqnwqrddfsyCCcPIAJHnjG9+4ybVgX/JoGSGwxDi6FvgB3ABs/Lf/9t82Z8s5kiHP8BLEm931j0N1vaD/F3/xF7eg/y/9pb+0ATT27PEyuztla88GzAR7jmfLYswM6YMgADijGslzXv7yl2+0SYABRL/1W7+1/Y4muqwiSJDwl//yX741273q0F5i0Xd0S3s//dM/vekWncI37y2Fcw26/uN//I9bYi7B+aEf+qEt6QHMNasdGLSO9TkbsdqeKd9rG8lH9mTajWkn9+xsNn3a+T27t+rZbHdvfGfym67sASzTN0yAYQZh2cO9RHvPVlylp7Odtd8rj2Y/V7+BxhJ5n2ciP31B/JxVhxP4vszv1T/Xt/+KoBg46mUCgI4KaL//+7//Fvg6ffW0VdPer+MxeT71dOrnBF0m7/q8gkHJzfQb0/+tz9ybHJl9mfZ4HY85dvN5M9m4jNczZpg6dU7f9uzWbGOVgalrK1A0ZXLlWe3sAXr5tfms6N2zC34jR8AgiRWb7e+WfrHxZsirwJk8ncn9pHH1fwAe7f7SL/3S5kv/gGneAAAgAElEQVTYY4mXmXj28+u+7uu2yQty69oAdRMQJiIATBI71/3gD/7gdm1LfWdF0Z7tXsfq+PvR58CMqYpZyO5RGfToj8VNfeJqm8pnip+nzU6G+DpAjrj0V37lV7bYDHht0vsVr3jFFtdmV93TZJWkHeDsVRsm90yqukYsaQJTXKfSaE5g7k0crDHbTeXxQde958CMLe8bGDSDrTlTFnFzVq/KkhL/AtUZOISc5shnO62RnEH+fL5r11mqWRU0g5ZmJgMjVvBoKv9K7wy2182PtTc39irQqrRcuxLcNWCI9ma+1lnyaYTiY32PvhlQd/+6DGsGSwVRk0d43MZl+iYRn7vhzwAQz5oZnMGz/gnqAEESYYFUqLdqiB/90R/dqiL88+z2efH3TE7xpOqQ+jYDvCkH0VJQpq29/UX6Tt8yynMs4knjWOVTgFzPTH56bkZ+AnclEPG8e2bgeFUSEL/jxZqktOxq9sE16J+8mMnpXuK0Z55KKs45mZmYoQP4ANwBUAAcADrAifZtoBfoSqbs+wMkFJzjH7kDVlhWAijxnaC8/R2AO2ZpJZ1mXhwBC9gRlAObyJF7Os0LCPIf/sN/2JatoIFD5VirPIqXaJoJxeTP7GPfVy5sKRyazO4IBPTL7PJf/at/daNPosHR0wEAWevJJTUAI4ly+2BMXp/je2MM6JGgOAoX8IVXeB0vJFDk0Az7L/zCL2yJD1kIDGqp3LTNa8K6jvl0NnvgyJp4Ja8rIJ6tz+Z4nzYpgCA7kF1eE9wZ2M+2omOOoWeSrcq0Z2KcDEzflM5NoFa7bWDud+1ltyZvCh7n6Xbr2CZvvo+uaOrZkyfNQK72JB+ljcYye+S3mfDURlU57mliYW7s3nPTh3y06/NN+bRsMh2lC+SczpFJAYkgmFyqyvO5f/RipbP+R3fPn7zNhuFfFaXJT3IyffyUwdlu98zYIntJRuJVPnke/xvd8SzZi//RmF+cdM04J3qmb4gHK7B0Wei4x5/kbe6DN0EdfcyvBY7W566bs9DJZOM+x2rqSnFDPIruc7akZ9cGXrKRbClf4u8236/ys2Vf017VTmMwY8JitQ410PZ/+k//aYtJyKF22WwAD7vIT+hH1XHZeJVEEjZyrbLzb/7Nv7nN2JPrKl5nwtcYXjZ2x2+PLgemzzjAoEeX9w/K07Lf0x9PXzhtoWvZUTGeWFaOI/41IQq8/vEf//GtKrb98rIJ+eDyK5PmYlZxLTBIrAgQF9e2z6TJRTF18WJ+rngpeX5Q+HzQeW85MOOA+w4GrcnCDD4Irr8FUHMvC99BOzlTSsX5m133klg1u+k3CQ6lanPZeazeqrgcP4ZQMi/JU9UiBdBmxj1bm20GWCBfgq1dpe+dhNQx2FU3pMSu9x1F1aYAoZOLtNER0G2iu9LkmvroPkGKVwFv/Cu4xRtt4KU28dV7wV9HonakdscZTnCkqou5sa/xwIsCojZa1P/6mEHTz0lrib7rBHQCJ8mo5J2R7OhrwderXvWqLQjzz/WSdDNunt1Mm+e0Qa/nx7M5NiVTjUvHwFZS2Xgmm6lf63PJGTnpCPCCXXxo35eOAScHHQc5n1cg6DftJXMljrNsPt4GXDRjfxnoMpPpNQCOP+SATJS46f+Un9rPkcWXqwLWybeVh1PnfEaLWVdBs7JXgbKZDQF2AFDBMl65nuMDBgE2At84P7MpZmrxzvgoodWuRNPLdwCd173udVuFj832SvRL2vWfQ1VJpPJIguo3NAGbbKbsXwBdujXBvRzuBGKTWd8BgVQGqf7xLOPAaf+Vv/JXNrroEdl1DRqMEVlDr2tUKgXYBRDMpPJcEqUNG7L/zM/8zFZhhReSGTrVcrxOGlMZBQzSvr260Eff5hHJ01ZfBUStSWxgSt8n7/Q0nW2vKDY7m9b+MsYyu5U+Tz0JWF9lONAHL6atz290PX6yVR3bmi2MXu+e33HW2psgAJr1Kb3WvjHTnnEs0Ot5yWw2S7uBOMlaG0jihfvnKXf1qwQ3YJ1tYYMCsMlhoIj7s33xK1vvOs93L1lBlz55rpe++E3/2vTcs6N5Hnnr+k5CCTxzbUAQ0FWSjVZ9rYqCzqnawyP3S6b5SJ/z8fqNt2hxfzYiPmR/0K4tL3IyQZcJBBXAV1mYv8xW5gv0vz0d2Ayy0owtXhvn9CVeoqW4IB88QU1toq1xSeabzMp2TtteUL9nZy8LG8+BQdrOt9VnMoGu/E+20qQN2Uhf8yPTf2afSpbib3JY3FMFaMBh9mH2YSbltRdogw7xAt+Ap2SILTWpEN3xb9qefFs+fP6dbxaT8CP2L9S+JbVm3i350v7cSy7gzix9+wtZ1ow2emBCy+y/ilR/50tmknbZuB2/PfocOMCgR5/nD9oTA1UmUJ3dz0Znf8olOzBFDAgMEnMBg37sx35si806Gay9h+YEhjabWOD32CXV3CqM2BJ+kp1RXSte1FbPzf5dlj88aPw/6L0zDtxoMGgmrgUdAigvDpZTFXwEBAiYOG2JVcs8BOZegjTXcbwcuARTMOj7gvpmsrQvuOnIaW35u8BIAGpm3kuQITBtRqhZwZJsyjmPivY896DVb5JBaK5gS7vtBm+GvoBXQCnAQYNrJcoFX/rG6BQ8Cny8JNJt9FrAW/BVpQQ02vOV5BfIBwigA6qMVn3zKmEmaoFlEgMgjfFoI1/34g3DNfuPr40pXrcPjI3OJKDua2M1ybukwCycBEEQFvAioJO4Gs8CSX8zdB2pKIgOGMQvoJK+4iM65lGNxkKb9RctaNrbiwX9LVHSHrrIG3pD60sEtYF/eOEfPnn5HS+VlntmS5OMh/Elb9EaIOQeNNYmGW7fmrmEY03+MwsZ+2bi+xtPjR1ZJ1P+dUxlwOmsXihAPvec1Qxd5WSSB2NFJsgTfUELJxYgwqlVDWfs0I2XgB1AkEqiTthSuaNihkxol7yTI9VD3smC9lQFqXTB/yqPSgxzlh39mRzilVlgIJIkoOq5CZKuANlMVuJPiTC9I590EOjksyAA0GOM8YDM6uf/+l//a9NzNoQ+AqPoUA49Gq4DBuGlwOMNb3jD9myySE7xTuCQfSLfKpdcU2UQ21RSX8JW4j8ryc4BURMM6prkJGAlcMVzsy1tJE4+W4aBX15sj989H210WJ/IBDuBZ2ulQrJB1uiwvtK7QBjt4SX72Wlyliy2RE570Uke6S89IpfuZc9L6MksG9GG6GwL+oBvJYPaq7IBPfqFHu2RkypD5ya37mUH0Bcwk50P3O+Yds/Wrv7Vt06p0wZeNbZzogRN7tEO3USX8XKPl7Ego77Xf5/5Svfpf6f9kWf0tlQHnVX4qbRQGs+n02V8jX8dmRuIpK+q4lSG8nX40uRGthid6IgHBej1Fx1tsqn9AL4mTVzf2LbcB23aJ2uBaq4nW+jQjr6SN2NmplcbbDy9IjfkM8AKr8hcfKvNJoRc796OCq4Sa8rxBH7SpXsFBhk/tOlzcoN/6GJ39BmfyCbbZTaanNAFNFRtNkGfbNXkczzULhk0LsbHOGdL92zJTKjqM37TZ/Ya//2bRy53sk6AT8D9tNF7vtKY0Z8mFf79v//3G2+AlKrW+Bv0BpBPe0Ze+HU8LEnz+w//8A9vvoQNaO+gWUl4XR97Z6H/cdedcOAAg+6Ea4+ve9bJ1wm8rLa539gGIA7fJ55lT8WBP/IjP7JVxjZxMZe4ss/Zx57JTolZgdVAazEJ/8X3qkQEWrOHrs+P3OkkwuNrVB/7vb2xYNBEPglum0tyyG2WJUmhRIIHQXozhyXTnLDApGM+q0KhEKoHCuopVLOhFKcj/iSNFMvzmpHXVlUdgjYJp+RJWwEazRALCAWlbewlSBGMmFlHq+APrdrXL/0UWAqEVDYINEoGA40kRx0/WAJEmUtKWx+PJi+88Sy04mn78DA6gVTaZjRK0qpq8WyGg1Gy9Ebg39KGShL1saOp0SPYlawJFvXFdQLeADW8CcCR6JdkMXgCX7yVSOin5EBA52VM8E8SI8GYs2n6jleSY/1tbaw+6aNqE+/62QynZ0zDWoIt8JYQ6TPaJnKOf+QgoFC1BgNuHD0rMKikLsDHu3urbMJD9JNZPDBm+ITOZhH1twqDlj0ax4Aa49GGmMa2zScngFoClMPw29Qr40A/jF9y5Xf0CE49y7u/q5TCs5al4E1VBgXVBegTNMrh7SUpObGC86rNvDcLPislOnq+5BPd5MOY0MX2AOL8Ahf1UWWL5V54LHmhh4J4FT4ltJn7EgPj2MZ+beDsWRI7FTJmbCTgld26PyBmnR2a3zdjhH/6Q3aSd+9mbiwRIx9kHb10XoLjN/1sXx/PNgZVu6G9JRzoJ9fxYfaLHukLG4on7UWkbc/WBvkLQKA3nm2fIvzKlgSIlLhUnYiulgUFGPX87Ew8SVaSE+NVoowfdBd9nqkttgXf8a5EuhOD6Ap5pV9eEi26TJbxMrA+XdY/Y0wH0gPttsSDvOuL52mPfAGdtSfxcx27gkYvdk6b7EunErGhnRqXb9EeHwTQwO/Kt9sMsqrIbBb+t9Q2cD8Ah6yze2xJVYjGIz6SXX4MbZ2SRwYbH2PoXvYkcCrgXz/wo/LzTk8yVuwk2vHI+JBj4xF4hTfJL9sO4PSMJmLwT5/c+2//7b/dZjKNt763RA6NASwFr9qysab22KdssvFDJ3+Lb4H+Aa/pJ5rwC9+aNNH/fGT+CQ14Rj/0DXhKLo2FvlUNWhUa/QiYy/ejn67yT/kT92nTK9/verz2LxtrDPAKjfQSvX7LZrZMK/+fXZl6FRAz/UJARfwI+MrP4GfVUAFB3lu2Z8zbfwcf+C5gngTGdfjuGQGKPmsvGzETkWhgp4yrfiZXdOIcGJR9DYQOKHU9W8CukVX9rqrPmDf5hxb6WZVeYGDVsPEWfZ7heWQL4GVySmyi32SQLKpC7aSy5DSfFpiILuA7PmnPTD170vKNuVSs/j32U5AHq4cHGPRgjdf9oHYm1XsTgRPk7fcmD9omQdU2XwzAEacWZ7JLs3q1tlp1EYCvitxkOkBI3Mj2WXJWnhVoHaDUROIBQN8PibkZz7wRYNAkIrbMJLGkJBAogEDgKJAUNAgiquYQeJRIS6SqKGkzYsG8ZFrQUfWMIKvkQpLP8QsoBTdoEdBTIP8EHgIBTr6qGSBClSkC7oJ5bQlS0SxIEtjOtZvaKlEoIRMEtjeHZwoaBaLaEZxS4JbFoZuBiCZt6btEss1gm/V3DaODj4yFoFmAV8AlQfa5xLKSb/dLAgWBIdR4r+RZAhTY47ktWwiowK8C+5ZJeGYzx2gXLNvwF81oYJAkVIKukiygizHpCFe8FjwWeDGcxhMQJCgzZniG/2htmVpLBTOqeN5vaPU7Warsey6zSw61F0iAl2iYy7bw0DhU7eJvn0vMJTBVQzHyftM//RUwGmP0u6bgvwQ1MMfYNtvcjDQ92puFKEmoTH/OBKCzyinvyU8zu/pFZslk4JDgull6slJA32xvNBQMz2Rlr2rG71UsrTO0dKyj5sk//lQd2FKQkk4JFzmgiyXr+myMLTX8+Z//+U1WPeP/snfnv/YtRf3/zzdREQdwQFRAQZxwViYBQQQuXOSCJAZ/0BCHf8sYRI1RBJnVC0aM0eAMAgKiguIAAuIADjh/fKz7fb4tFvtM7+me8z59kp29z95r9aqurqquenV1NTmR2cMhD+Tcg0Fo9Wz6Z8ytBhsjQdlzn/vcTUa009aA2e+9QxCoWHA2/9cfz+gUiY4HpWtzi5PgCq10yxh0bLLrC1ADVgIwCvJnNkY6LrAldxyQANMAR/oRiNO2ELLKFtBn95LT5DIwsIw/z8WbttDOzCk0zuC0Me/7uaUvcITulRlBzwPwAnXKFiuD0/PwzlgB7dgutrotWwEI7ANnqWBX31o0yDEqa5ItYKvonQAdDa7nuOFjmT+BEHSnbSABp+TP8/zPzgCE0MiWkY3omdlAbWvGpwJ2/dRGWVDmFG2Re38VumUDzT3kuOxT/Sjw9B2go+wnPGJbBft4WHFKWTHa0k96iI8Bh/iVPLfdGF+y9+5BpzmXfrLzZb2WCcVxlf3mWrLYllp04g2++4wH7KcgnBy0eMAeA3wDhtHjenrQvI0e7Zp7mqfIqUWETuXLhrrfvGCsWnTKF2iLWfOkcQtAQU+Odgsz0e+3MsjQiuay2fB6guyB3sbSmKjpZVyyCc17e2d+2v/sbzZnZgxmJ/QzYLdtgHQ7UGdutTN/kXmy70Uuu1etJ7aR3JKB9LtMF98lI1P/u07fyS5/zFjrc75AtE6XeQLLPpfplsziL3ky5s1PFU8NaPF/2Wtkyv9lQJPXeFwNP/pt1V5f6SndUduNr0b3krPZP5/LMOMXvuIVr9i2gLiXDKe3bIDnR2t8mX1en+9/Diww6P4fg8tKwaE4N3vNbvIx+WKVPeCzAIMkBphLivWyL9NGBLD7TlsVo+b38k/4f7alAq3ZVz59C8gzO3KBQZdVum6c7gsBBs0gbAaGOSqcFKBABbY4aAFBJntBcwALx4tTUc0dkz2HlgPbcbUmfo6kFN2Ug0KYrDm8tpOY+DmDgiKOqwCAI1QWh+sEKp7PETGZS13nsJXyx7Hl5GpLEMApoJQcKU4xZUc7GgVWpRJzKmQscMg5hUCXimr6n8PCEefIVjcBjzyHkwINdg2nm3MlSPYsTjAeop2zhE5BAFrassUB8gwBtHY4eK6BTnOYc+LbN894tRJuHHO+0efZbVvDO21zhttuYDzci1Y1gIyH8WuLV6uSxi5n03faFYwbk+q8cBzLgGIYXccI2lpDdrSJX3hirNBF+AP9yAh6GFKyYbUP//FX/6O9U5/w0T2BNpx1wW8BdBlTZTUZY+Ogj9UuMM4BkFYa0ZrTXL0c8kI2y1jrpAD064dgM1AoPZrZTAWQnh+A08qw3wo6WtUvyDcuZEq/2w6J78aqbKG2p5WJkuPbqvB00vHlJAd3GiJ6EmCVXHfcfIAVut1TPQ4ghVT9nHmyUPBIlsmCVVn9K8DkjNNZ4zZXc5ugW2Wm5wJUhZTpIvC5AtVlA2qzICP+9h6A10S772vZWXSXbpbBYczRUMZBq+b6Chwp+A0UIjsBfvgSSA60IivpFTpdC1AIDKIjnt2qftutjDUZozd0wffsDF2RcULP0FkwS1fYVHLunrmVMcBvH5TiR7/hFVsnYJIpon12Ge/woWxM/THW2WRtlq1obig7xO9lWbpHkOd5ZKKT68gWedJX9o3utRWtOlb0Hr/0jx2hy/TOfa973es2J84z0dp2Ru0JEo0bHSJn9AwQ7zr0szGeqW/a57wZV3wINHYNuygYZ8PpgOexXewM2SPLbDSeu5dMkFXPIvP4Y/z8bi7wmZ7hL8cRXWVJAEm98Nq8hU8BNdkztLCTbRfC5+ajCvTqY6fg4UlbXIFCZKRMmeo1VUTdnINm9JBj/Xd9mb9sSacw0QP6QxaBtfiCH4HCyYj+6yue6Y9+4Z1xEcw/7WlP29oP0MZD15JBmRyu1S/t8TW0n65ptzaTVzpjgQOPqvdgfMkIneNj+J+cBRhWV6htyOTStWSOnSojMKAbjWXEREtgQqvH2eSChUDJ/KwWzlooI1tlytERfW6bH/uP78a6YGL6aMbbmBWsoM/fBIKn7ge8RXPbAvWXfM0541CQkr2d84y2jBVg3YscVT+yumLd1za2DgYw/vTD/Mx2tjgWGMSudBIledMOMMipYPw+9Dd31LfGoa3+P/dzP7fJKV5Zpe8UxxbPFgh040HNrWxhgUG3krt3RtuHQB89m37hPuYtO9z8pXj0zAxSQDowaL9NLL+15Il81hYwgdcy4tm67/me79n8FjaOHTcvZVcP0XZnjMbqxVk5cCHAoOMQ05wKzqIAKUfKRMwp9Z2Jn4PGwTSJt2rV6UAm8kAeATdnm8Ni4jeBqxvineMiAAbeCPo4RZxKAQQF4pC20s1xqiCgAI7Dy3kAUFiFLrjjcLqOQ8eREDRxPgVzgJUyGShi+8oBHxRcYMvp878UbH1ui1SZKwU3rucU4wlAAbJcEI+u0pE5qn7n2HfShkAEzYIWfAwgwDMBmWfjDWe8bCOOsP54Dro48WVpeK4gRjDY9ofqd3AsBZuu93xt4x3nj0NlhdYYFsjnQJUpgHZGzlg4Wt6Yz0yTUsYZRnz7pV/6pWuOfFvd8L1VTfRUo8f1MkeMPxrs1dW+gKUg1BhxMG1pEDgbNzJhPASc1YTAQ4GpcWfYOf74UzaJAAGP0EtGOh5dEMTRRqvx4CC2dc7YC9rIsGeXIYVngkC8ngFAgBBaChradjUDngxFNRHolFc1hDzXRFK2REU+Wx2viGwrqQE5BQBtnZtbGg4Zp72ThX5t0H1ABd6Q2zI4yLt+oY38kF0yKiA1DgXznmXcFOWzKmvSpYN0h461hzpgK5tTgEJeA3fJB/4bI4Ge+2cWUn3Yg0EFBgFc5BPtXvSMfLdNKRDOc8mQayrASxY9k/5pEyDj3oAI17dlED/IMdnMNrYtosyqgm/jXdYbOZ11qgqs2cgKpLZliO6TSe0YK7qAH57nejJpHDr5aQZIk0dlruWYaJPOsNXaxhN/FdOlG3SEHrcN1vPLcguwZS/IOvtHT/ANXzxHu2wPRykbhFdkqAzDtuBpD6hCn+mdZwEPBILkRht+Y38DMQJzPBc/BNJkkzzTd31qO1tb3thU/UZP23PRJGDUT3Lu/rYMAuTRBVTgMAKwXUvn2Aj2Gw/9737jIQDFO22hkcwEtFekny3rOFvzK151VDdeGHc80A5eJWs5mRWzdq8xoHvaCLzFO/qDJ/7QgY9txUJzWav4kI0jS4EezXltBWcfgHL0CM+AWXS8mndl+eGx/gLc2Hry/QM/8APbtk/PSi7pgD6r8SJ4J1vaTUbY5rZzsU/GFG8qUm9xwBxFnjzD3N/ikOcDetCEh2jFx+YPumhcPLfxK4PM89sS3/Yu7ezBoBls4Hv2rCwmMtHWPuMUH8va9Z6/Qa/x0it99ryyfrSfvQ90alz9NuuIneSYunZuO679Aql5b33KXreIghf6Yuzw2fzaCYyunbZG/zyvjCxt0pG2l7IXAKHuqTCrdsuOA9JZGDAuZfHu5+HmYLbj5S9/+eY/0P/sGPlmL1ug6v61Sn/WMOb2XbfAoNvH66vwpOTpUGYQOy8ziP8yM4MC8udW0kBoPJvZ/sDrN7zhDZst5x+Iy9oxUtH6/NIFRF8FiTu+jxcCDJorPCGc04ExYRPwnBeOpYlZYMYBE6SYlKuR02qxSZ5jxVHgsHH+OGGCGc4WB1mAzkEWDHMcONece/dwfjh1VgK1yYH2qk5EqekCfkHys5/97C0wF0S04sZx5yhCegVdVtQoJFCi7J6UuyLRhgsIwIHktL7pTW/aHP6AJI6Dl+Awh6lsmBxdvOJUuAfgJXDiIKFVEImfAnp0WFUWxLVlSVuezRHlyAsQA9cENgJof3jfKTCcbEGzP3wDMHGmqt/TiTlt58ALYA3k2lgzVMahLW2MX2CQIAsP8UIgou8vfvGLN2cqh0lf247G+SQj2rc67ntOuXGcKZKCVP3UP/S/5jWv2Z6hry984Qu3ICT6janryM8v/MIvbHSQBXzDQ/0t+wkP0A5QBHhx/jiPZM3YV2OKbOoXuWzLHUMtUCqbgIMY4FVR7bYMeobxELjljLZSmwM9s4Ay+vuMlRxqAUAFtlutJ0devq9GFZnDD+OMV3gk6GoldTqx6XPBwt7BnU59Zqp76ku1T9rqgm8FL21RJFfoIed4mCNPFtwvMLYqS4/Q7HfAijHG4wKWyRs0kw9yTQaNu3EyzrZNklfPbEV/BhoBbo1DmS/abGtMp5yRuQoXV+g+fUG7vrZ9kPyQ+7ZIalcQT+/RWZ0vck42K/I7Mwhb+ae/nWDGTrAHBfKBcOyXIMf4Cljp0OQLcJROCHjR1elvnkse9KeMNGMdjwpOC2KbiFrZCnASXFeXyxhpk/1BRzIXkNfWJDS3IsbJoiOuryYOGgLxgRV4i1fkAf3aDcAKOKKj+FwmIfCFkyZw9Dzfs6toLcsGP9Fa1qA5wrM7dan++J/9MRbmH3Ie4F/Gq3vbDkwm2ZZAZLIJUDAHsp9+r/YA2TL2+tb4kdfAYu90SP8AUdrUjjlDWwWmZXMaa7ylb2QRb/EOkFEWWOns5lggjXkEX8ixOVnbXmR4goLGAd3mSvwQPNNNeobfZHRm8JXB2nPMk3hJDgF11ZVrG1vF2vEZTcbe8wH/Vk3RTw7bisfGs9/apbMVrcbH9I/ct5VUH7WLP+YoJ8GQJ2NHNuNdGXXaMC8ZG58DAwIpLLa4hzwZQzzWrjZdH/Cejdn7THt773c80F61wCpgzc7gLV5lQybQH/hPL9pind8S4F+drTJuJkAzV6Cbb6ZbOueFwK250HPSvBGIlE1JP+YiFdrahlVbFbsO8De/6h8esBVkKBAWb4ybuZytbbHQPCCr2fX6fch/JTttFXvlK1+5FXd1fzYpMAjQVlC3ArOLGZgtMOhijstlpeq8YFA7D9iU4uYJPuMD/5iNt3AufvvFX/zFbREJaN1CHb912sPj/PPLytdF9/k5cCHAoElEDs0MCFtZCRTiyHDogDacXYGdzBJBeUU0C+7aS146vOwCjq/7OcX33HPP5khzkiiPYA+aSsEgs5RHgNlWofZZFiBzdimc7zm4wCCOWie7VHdAIMmJ8ExKGTrbNiAOiv5xcPW97JaZneMeziAngjKXNp8z2ElMbWnQFroFIxxN4JnVRn3XPuejNOXqUtSWe6uX0FYE13CQ9LPC1oIEAaG+CYg4gJxlq78CmsCMDFbBIMf/53/+5zfHyBgFygli279v3Bm1quwbazThwQ/+4A9utLcqqf3SuY29AK2UbtdYge3ENwa1YKiaBwKqthm4DrDXtiNjyelnUI23DJG2I3DQjdipP14AACAASURBVEfXltqOFjLHoedACm44jRz5QMC2heAfuSTXZFnQUT0Mzmm6UCppgTJ6tEf2BUCdiJW+5FTnfNfn/k/vco7JX4GIZ5pUjH2n6nWqU6fqCZ6MlXcrqoJCMlJwPgOAwJHp4KOjCW0CKQWI/e63AjTvBYGtAFfjyxiR6VlM3Hig1zhMMAh/BZkc8RlkngUMAsLSg5PAoNo5tHqDx8ZQQEAXjb++CKIrYE4GBSX4zy6RN4Fh9Ufwm9yhRRt+Mz4BQGxXBVNN9NlDwTJ+BYqTQb+1dbUTcQRIdFoARO6Mm2eTTe/sinHQDhCBHLB9bA2eV5PGs9OJvZ1vy8g+OMwOog0wUM0W9xsrYCl577QhOhyo5F52EE2cIHpd38wP6CNDbDbghd4ZD/wsA1Rf/JV5ho7SrttuDIA1d6ADXa6ZfKU7aCUngOJqimXny2I05m2lqiA9+gD0ABC2LmAwMA1tbZ8sU7AVP/aCvuo3UIK9MueUxdaWtJxJY6+tQBj8QC+gS4CbjpfRqU0gu4Cb/Js7A/2b8/QxwFDfyDc5Ajx4LjtoDiTj/nJE6QBbb8wF5p6Jb3S0TKUyDLMX5m33aR+4gy59ZGPZggDl7Bn5N5bGnlyRze/93u/dVmDLjNWG69HSMb94r6/mHLIywSB2nn33CmTyfKdFkQ/ztDbJJJ+FvuID/Ww+55i3GEOv8MR817ZgfNIv8kumqjGVTQ9szubOLVruJeNllek/OQ5QR5v+odN4a7vsylkgv8xStDWfe05tsz9ApcY/Xy7QqC3dyd7Ue21Wx8mYs30FPnPemi7uXEQMGAsYYgOqwRg92kzefFf/0V3WVt8ZY/MqG1uWaWAQPaVjbGBgkPnkLGDQq171qi3znN80waDqfS0Q6PxBzO28Y4FBt5Pbd/6zbgUYZP4IDLL4HxgkbptgUFvmZ2bp3j+/80dg9TAOXAgw6BAxHIYcm7lawnERIHEyBe9zbyVBr0hojgaHwSRdUMURcw/Qh/MjPZyDVZpeWRqcC4BHhQxb3U5Z2ubBweVwUyzOO0etlUPORyCTQJQDqj3OZ6dVVU9gOjyezUHhdHRKB0eJk47WTmSZ2y/QxQhwgqrjERBWOj5giWHAO8/jzHD8WgHWxxxzbWmnPff46TpOvGO13ZdzyWktIPedQJTD36lpgRONs2ej82d/9me3wELgFBhUKjrajF3HuRo3zv4EgzjSgUE5nP73EkgIiATcpbuXOYS/xgUNgQsynARC5KuC1gKo6vvgNTplBxiTttkZP9dwCr0DBdEtONQmWQNK6YcAS5sCCg6mlUttCZaqvUTmAq7iV45up5KgvRpU2jMeAtmKBAdEpDcTlMlB77eCXu/Jdr9V3DzgE7/0A92d1qOv1VpAAx7MACK5jqaTVnhngFoQFy0BB62ykk9jXJFw/KvoqaDfxCdY1U6BGPCRnguOOft45xUYNO1NcoXXZQbRHTLofmCn9ju6vPpE+DiBxoCK2tYPARMd9CrLi40S7FWPpMLUeE6OyaZAkwxqA8AhQCZL+s4GubaMmeqRubYV+7LVBPTAsbatAlXYlAJoNkC/O4XKs8my7wE+rnUPWXeNuirsGnpkOhSIxotscTYdTfvMqa6dQS360Knf5N1v1QACfuBRwd90YvBIH1//+tdv23bIZzWl2CXtGkt0sycBN66pmHiAvAA2uwpIqJg5sFiwzybjg2vYQM8VbPsffYArwE4nme1dD3S7R/YJWtgNsuA+Mmx8Z/ZUfOrAALIBODHeaCcDZCp7yV5V+JptaQuu/rUlBw/phYBYkEqugX4C1OrOudYYAEfoER7Kegq41tf9fJS9JJvkBABhfggMMof4C6hM1tnLDgtgS9gV8w6QYL8dCV2zjpLP2gtE3x9a4BnmBGPkGXgig0dmEADEX/XIpv3Wl0BF847PzZczO5a86SveAZjQjm6yY+HDopAxMe7Govk3MCTQW9to7JQxY8SvIBP0zKJXejZt6h4Mal6cJ8vRZ3LjNz6KuQgddLpDAqq5SHbmQs6054H0+MUHYBvpR7XLujYdDUzKHgRuap8OdQppJ7zNrNiT5o3mNO2iCV/Q1Glv9KnX9BfIhusCe8lpdln/X/CCF2zBE16b54F9fE7jR0+MkXmfLZiZQXOlvnkvn4Pu2LZhTiFHbG4FzM1D09fd93mFLfc/BxYYdP+PwZ1EwXnBoBZa80/2PjveFJeZb83XxVjVZW3+Mi/lT2Szls25k6TrfH25sGBQ2RA5Dk2qCXpBOccRgCDVuwChY7BTFPea8CsECy0VCHA0FY80IXN0OXWtwFe8VVudEJLixLQAGI4eRwpQw3komHcvejmdgA9BP4cTrZxs93Tsc0GQZ3CmqudBmaNVANrJODn1M9Cfzln8qh4Dx4cjYysUwKt6B4IUjk5OUkFaGSLTccNnBsWKmcCjI685grOgNmeOgxQYNA1NYA0nF09kzXDItNkJbwKLjvnt6GfjDVjxLtj/4R/+4W28945wK5UVyG17k+d1+pFr/N+2I45axT055egWjAlsK7ZawCfwanui+/GJE2vVGDAgCGkboeCKc+kedAqcyIiVdE623wUIbROC5ns+3pLNarcEjBRMt8qtDWBGwBvnGZ2tqOYk77PsJkgUULcH1Yx7IELBkXc8FOx4tX1HQBG4kux3zG7ByAwMjjNRBadNeNPJ7555TXrCSUcP/SLbaLHNjwzqO7qBv8AB9KOtWlkCdU74fOYEoABh7vEMsmrsAz6MpUChkwZbqZ4BWTWXsh1+I3vakSkg4DOunWpEpjtFrpOvBA7sElCkoJr+G3cTO/uCPs+v7lYFXtuyUdDsWgCkDAW6D7yuvg/QmF0oW4486js60UtHOkGqWj2BrnSgejv67I8sekYyEDjt+75LNtv+U4DofvYFGCTInKfAAVUF2/RkgvPuCbzBK+NFHvy5lo4C/9GsmLhr8NX/FcqlUxO0yo6mi/pgbmCLAdj0r3sEk40pfuNJYFDb72o7vfNcfZQtwIZqv4UF97K5/QWIlhWjLeCGV9kL5jCyjhZ2Rf/8sQ0F9mVt6ZOAucK3ncDJ/hnL5MKcVaaj+VbdE//re/Vu2k47i/6a+9hr4AO5JevG1PjZFkyGGjPvZfjgB8DG/XhBJ8wPZL75KH0qGxTYwc7SrYpK+2xsO1HUZ9e1Hdvz9M2Ru/wAOoh+Y2d80EDuzTvZZte31TddoXuAPHM2faEn5jJgAjk19uSX/VHXCE/aSmfuZT/qT89uW3LgN7mme3Se7LFBc8HM/clHc2xy01zYQQx0AnBZzSogk7b1bdqNtoNVHygaa9/zkyHgKhnGJ/ynN5Mecl2WYNldZce1PQ3/gZ+Albb8T/9mzhv7jNL6n/2Ib77vuT5nbwKomkvLqmYbLZoZBzLKnpJT8m1s+Y7Gj6z5q4B027Qnjya92iNv1Qwim3TMfcDXsqjRE/i7VuknBy/G5wUGXYxxuMhUzKD6JDrzgej5voC0BaJqBlVAOt8+v7iFxmnXtMXO8APYe/4Iu+wec5zFiWxrZR2i9yLzdNF26zlwIcCgvfIk7HOlPieQgygI53wp7ggsoTQvetGLNkeCYyUg70ST2qYgnZThPkrCGaIggnPOWkGV1b1OHOIIVBy3idpknRNasMCJAoJwaLrHs9HLIX/Zy162OcUCLgGJZ3ba1gQ0PEOwwfEQHHC+GQaK2wlG1b2psvx0BAOV4qH3VpGBQa9+9au3QEEwLEDAL4FETvzemZmredU7aktS6Yic5VKnOX3aDqAIfS7AznAZQ9lSwBD0uR7IU8ZUAUonwABVjBleuu6HfuiHNsOWXMTDtjpVxJvTZtw5e4IC/SQf6ClTyHeuF3QKFHK6BUXxiTyhU1sV4C6bp0Lj5KmgVjsFJniIxxxLMtr2CAGSVUJBmwDC2FXc2Dv6fBcQpY+lopsIBBJkP+PeZNFK+3RcprPc9wE0E4icQXrp/wWcgQPzuG/91beKi3eiUIFn4OJxju3U/YKMPcCXA99qSMCVNvGY3lZ0mLMuqJEtxZkvU4tOAwdMktq3Es6Rl+ky5T99LojoJMJWhQFO9E/bwKAKjCevBUEFJWRmr1tz+6DPHdcMmCLTbf/UFv6yIWUgyi4EYrARni+QI2te5EGArj33oB1d+IEGwTBesSd0Fg9kL1TTpoKC8Zl+V38HIB2oiV/a1Pf023izD97pmbFJllvhJ0/6lG1Od7M5/Z/t0o7gTJ/ZQ3+Csk429PwCy4Jo/a3eWcWhjQGeAmOBCnRNhoZtQtpFE52sXllgC94nD9r3So+ANOyQd8/0WzVh2i7rmTIHvNpCNbOm2sZLZq3esff67j4OoH6yP+np1KEZkGuzuYCcAjAK+P2P/xWoLUAPoMcbY+avhQN8mCdHuR9P2WyyI6BFe1uWZm24MnfaJhYY5B0YRC6BQYA0z5m63pZq87NnARXItPnGPE2+ko0y3sruZAfoON43TvoWyBuwrR/uoU+cZeMCDDL/sF1tA8ePTqUy75SJic9tpXINmQ5c8gy/d9KazCnANN1jM4FBthizQXRDO2QYfwOWsnVtqZq22rVAJvNTW8oCDqYPMMEg/EUX3S/gMFcbD9+jrdPCqv/WCaB4TzbKgJrzRPN48y3ekznzaPzPfW2s+n/acd/pK757boXWjYX/k/0pJ9Nu7OeMve/Ys6YuN8d17QQU+Ud0kb9ofjBns7HoYjfYQfzjA+jnPFp++mOTjsD1jpZnl/CJfFQDyvyZLV2r9Lc+8LneJyww6Ho5t+7bcyAb4Xu2xVwtpjjtaPlpv7KPExgyb3XQAz9PjCw2sSOlsifmkrbNzthgb2fXqF0dDlwIMKhVngKo6QA1MbaKxEGkOMAg4AZHGoAg20agzYEIDAoIqS6CQJ4jBoBwH2UQNLqfo9TxysASkz9n14QtAKkQdfUwOBCcAfS18tQ+94q1+p3TzHEAfAA0BJJAnXksr+sK4FupEqRw2KxSUWYBQgGoNuZpSQEtBS45gCl52xwCg/BO0Ngxw9VEyrFCS1kJBUbarCZL2Uxl2AjYOIOMkDYEMG1xqGjqDOB95uzLDEKT/nd9K5Rlt5QZhIcCEQZTEKaAtBXaHPJAGOPC4ee8d2KMgFZ7aCEfpcK3dcO4cf5kC3D0BHiyStAyT4tCp+Bd0MbY4iOZijedcJXMoonskCU8xm9Obo68zBrBATo5h/hKFo2NQKlshOqzeI6xKbDxffUV3NvkMrNcpnGPrulAN5kUDBasugYf6VrHSwue/C+gIxf6JogWRLSdZBYYTabPYk5ngDBXjBvXmXUT/X4T5KDPWJhE6YsgS3Ans6K6Mp0cJSBtW5AVdoFpGVXpT3zUfsd4d5IMAI/uCk7ZhjIuCoILtrVVltqsmVObtgXJ0jPuwDw6DQwi04EyU3/xnewJRqz0tDWoQrLa9ZnsCKzIJ50xHuwiORG4sisFbuTciUdWpskS/S7gK8jUf/YQ0FGBZL8JZsl1taJ8V9ZFp3+R9ZkJN4PDabPm2Mc/15I/gZNMl4rTt0VPEDVBvCkT5FMAj8fGy294aryBQWy9TAb9QmvHl+cozeC1rAhjmcOFv/jqPu2iH28BhWwUHtNd9qYj32dx9Zy5gBj2s+1DfjMWtgKRTfydgf5+rvRboCG7QL7JSIW36Sz5MnewQfvMJ/cLYtuelJ10nRfbqL8VHta2uQyPyT+ear/jztMhuk/P8B8tZVNUyBI95Cde4HlgkDEPSMdDY20BBQ/nHGVeI5+deGbMzQ8BNq6vMHpb2MqSoRsVkKYDnQZZ1hQ+mxPQbkw7DQ39gShlz6Idj9jgtpLpG9vj+XjKRskK4nsABcwr9JLdBKwmR547fYH+Tw61yb+YgEFz9AT69lvImhfNhWSEjLYNHN+1z5ax52jTjwqCl2nd2E4dTXf1Sdtl//k+fdF2Nn3ON/l5ybBxq3ZSmXTzmXMemY5r9jpaJlg09SOgbc6J7s2PI68/8zM/s9kGNgIQxJ5Wo9HYs0Vkguz4HxgE2ATi09sZWEVHh2aw4WoG8eeMB3Ba2+S7QtVzG8jKDDqL53B7r1lg0O3l92V82rRNp9GfHzQzgwKDLLLIcOcHdJpYcVG2JfuYrS224tuwU2KLDj2x6MHXMzeZq1rADCjPtziN5vX7ncmBCwEG7Sf2Gazm9OTwmFg5fwITjhXkU1DDWbSCSNBnfQaTLoXhrLRNjLKZkDmw3//93/9JmUHVWmhLFCdRAFJRR8o4CyHOVGgigs6Cv9KoKSYHGs2dYMbJb/WLMs7tDtVFEoByjL04SRzvUtT1sxVd95aBEbA0V7dbvbTiKuhQL4CjA+zoZLMKZOesFQziXwZL/2Zg6xn4ip8VQHY9I2ZlW9CMbm1N/mmHI2qFWWDrHg5VRxVzQjnvaDHW6J3HqjNowCD0+3N/Bk3QAtTz4sQziPipbU63sTTuBXKdnoKel7zkJds9HGJBI95wiitEylkUfHAEjU2ZOzmT1SAwFgytto0xWdIOh78Tm9zTaTVo5Ejrc8GjACvZLxuocWirVONOHr3mWAVOTGB170z3m3bKHgOulPpfEU5BkaCZMxuvyYs+tZrsXd+Sw5zinpnDnnOe415mBznyvFaa0d8Y6X9AmPbbAuB7Y0uvyR85BC6iiz3odDrP6HSl6qK4FygL1DFO+jMn2vRHMF0tCROrIAoYWeH5AqVAq8YoOsl9Wx795hlkSJaSo+4FFNqjz2UGVQg8XSyQQxObR48FvW1pEcR1dDg5RwtgghNADo2NABI/PU+mDX64R70UQT09TecmGFc9DXzrqG0ygl/uFwShG20Aqk4q8xy/y25hlz27DINkoKAsez/tjN/aJgaAaJsYGWOTqw+XzZ0ADhmixwIv4K6AvOLXxjz+l9mHLrrOZnVaWuOffM7ANb1rIaAtIAEMxsaYea5tvV5syD5Y9wxjZWGC3Jof6AC7jk5gpnlC+21X3uvTDK7JmjHQDvDTOKPF+H7f933fBtoEGs/+5Fj6rrlozh/oNhZ0FF9luXqWQNn4krlqzCT32nQN2w1I7CQ2cmH8gEFsY2PuuewM2oFj7A1e0E3yBZyfwXbjTS7L1CSfxhbf0WTM2fJO+ytDg63HG+CRcZJVrH3zDj4b87ZAo53e60sLG+YBtr/tUAGDZfjRZ/zwZyy1pz8yg+ivfpkjzV+AgDKapz32eWaRxaeZqZssTKBl749MHcuuG0d2DE3eqwuobbanBRM6mw3W9+obpsez7Qno9v0ewI/eZPZQ0DR1a/6+X7Hut3ysQJTG2JzAdhkH4x9gV+YXnQoYTQ/J30//9E9vCzTGn94YGzbOeBlzemU+IKMCOHMMee5USnI8M3P1GUhOLvFZ1pHMPdfwecgKP6mtwfo5gb47M+y4vL1aYNDlHbvbRXl2by6kN8cG3qTn7BV9Z0vMleawMrfZheoSlnWdP6I9Niy/uC3D/ucDWAiTqcl/5ZOZa8W6nXpczNC8Mum6XXxaz7lYHLiQYNBUnAkG+V7wR3FMyiZtAY/VtYJ3q1oFNXNlxUQs+O6Icg4ecMCpVJwyDiIlEpi3hYJDLsOgbT2Cr4LshrEgcDrUKSplrYimwoGezUFta1rHyVaculUqjienmXEQ+FFsfwE33gNa6mOZCKX6R6fvOTEc0E624kALMjg4nJgyA0pzngDCDND6vi0ZnEtj0aldeIj2TuLQfpkibREp4A4MMoZ+E1wLxIxlxXM9r8Lexs72GI6YbINOE9O/AArXc24FB8aSI88pFABB14EygjJBRQ5tmV7AI2CQZ3DMOp1ubuULhBS4CU71ryPMOdD4klHWvrHxLL+19aesK3wS+HAMvQva0C8A7KjaHOO9ydivrrbiWVDt+rl9pokHfTPYc10r822/xD8TiP51RHYp/AEKAgSBgf8FDxNMmWCQ9vf/R3uAVlkJJqyCObSQG7wlD7OmT+3hs7Hj8HcSjOBOZhA5UhAWYEDHPUP7AkBBqRe9xGvXdWxyoM20P3SQTLAz+ML+dIKbYKEgpQAgMPYQGKRdNOMxnbYlgUwBr7wqSl3mmLbT4wIWjgKZYf/Qw64JWOiwwFJ/0cC+FcR6rvGil3jBvpE5+mCbGD7hsefObYieTTcFM+SB/ZLNRKf0j10UqLcdD4/xC698rmYOG1MdrGxMQeuh1ajsjOcCSowrnvkejfSj0/umw1X2DpoBtm3NLXsJj4w5uQbGkRs8RAubIjgDXO0BzRYUpiOW3qR7AuxOBWOr0NCpc2WQHQpoPYt86WP1xTxPgIkeY9r2o56fAzmD8cbK2BgDY8UusyvGiJwXdAb0z/v3GQkTjHCdscA3sgPE9EduZDeQPzrUIkwgBh3zfMAk3a4oNNCNfeWgZiO80+W2RtMLzzPeACf2u1pTzSFASfO1fupzdf7M5+qxmEfQxZboM77OU9EE9OxwNYPY6ebzikx34hybZxzn1sSZaYJ/ntOJXI1V7QEabAk2d+gX2jrdjj1hS3Pum9Pn3DtXfieQN0H2PmdjJ+iC1uZtbRlPdrZsvsB4/1dbCb/wP5CrjOQyoNPhAokJRO1l/bxu70lAkLayG4FBZKIMaGPH9tFt80eHK+BxhcXL7gpI06Zx4acB7eivbGVzkHHSd8+UVUVPgXpkDuhIPgVZ1VxrYarxI9dsAl1gz8g4OaGT5ir3lU2+B2nPy7d1/a3lwAKDbi1/74TWp+069Dn71bu5om1ifFOLX5IVLN7Y2mXeyT64tvkhv4RPVSYme8avscuBr1jcxddjb/hNLQg1R+3B+TthDFYfzs+BCwkGTacmMGg6mBMM4khbga6YaqcZzX3uFIVjACnlJAj8BReAI8GQyZ7S+F6gZcK2aiR4MNELJto/PwMFdFLICux6ZiuLhoLDwcmyAi3wA1IIkKxCeia6c0BTyFbYONIcD44up5Wx4Ih2+gQnohT0gn33lh2CX/73l9ILkLTFmeEUAaMEP22Fq9hrTkzgVOnwntP2AW3qN1CH4RJ8+OxaTj4jhtZZgyGnEV2cfcEaBxmfZs0gAW2FmKsZhIcCJmMIDAMGeed4zbR9wZDgg1EFHHFsGUJgk2CoE7fwBY8FEGjmqL3yla/c7kG/oLHtO63aVVBUIEkGq5PTST6tCgb4FMz7n2y0quv7AqXqN3g3xsYiMIiDW7p8QFNGv22K2mzbSpNEwME+oCugmGCSdgQFnq1/XiYTwb/VUddW+6VMoLZi6m+ZcgFXBef4O4MS/+8Dl+QM/+kn8K7aU+4lm4J0/CWb01FOvgWYbWPicBt3walg08Qn6Gqy1S/tAyv0kw7RRTaj2j/xDF/0SXvsgXv8JihElzownjOzPRqbtnS0na90XPeXJUBnBIZASzyki8CggAPtxlu8K+gpuKYHbXPSD32lD2ya58STTlhjv/zOqaggtGcKsukFnfOq7lW62kp728voK5rpfpkvwCD8axxdU4FagLo+CSjLDtrLxX7aapzpLgAbvfTamJADNJfunE4V7JYpZrwEbMaZrSVDFWsl7wVlbLK+CBgFf8a2LUXJ9AyiXTszdQr26bMx4YDhDzroCVrJSnqcfZ8gImDOvGTM8A2vjSe+ep/Bd/IZ+O85XvG2WmnaqeB+mZrsGR2uuLv+tYWn05eM4R4sdx0wA/CoTXMZucAzfaseUVkw6bU22e3sMR1nU4BBgC56N+dTNig7T27ZWLTaioOP1e4LIPW7OY2MVM+KTLpecN4pgRMkbHHBvOo+Y2nF1AJNJ5H6TnuCfWCQcalmH5rR1CLHBGuzxcaGzlc3zfP5AZz8TkojL/SObgCu6Ec2s+zbato1D5OdahIVAARI5SfVRjqVnGWXWzBo3qRTFdiWKVTtRHbVmLsOH/kq5tGya/FjFoLPB5m+2/nd0U+9Izt0CEhtTsmeWPAio2wkOaXb7GEnsLJ37OD0Dcu6xAM2xuIbu4yfgidgTwtUnkMuzQnA/Pw5esAe0bMKcLcYgB94CrTkd7kXnfgpe5UMNJ8GlB/X55vBz9XGjXFggUE3xr+rcPceANrb5HyA4jP23vzAP+UL8He8zNfKn5gvZ7b4XBTK3pqzAva1wz6JZavDxvcxV7M3JUs0zyww6CpI5el9vJBg0Jzk95lBnKg5IZu8OSWcKk4/oTfp5zhyqDg1VmM4pQLOnDbKJuinIBRTuxx6ikQ5OYcc3UABgWWFHjGuAqucd3QCeirM1XUcVkGq7VmcB6isAIkDwbmirAU006HjpHAi0MyxoeAUHg2COvdzzDjuFQ52D4MgOPCOV9rGDw4dJ4nzzLnlNHH0ckg5TR0XrW/4IWiqOKbAzPWeiW4Osfa1ExiEXjwBpjBixoJDXDYKo1OqOsff1jnjp1/GQSDmHvdrHw34p1085Ejjh2uk9uNDgQ1+a8dYNM7e9UEf1YbKWUMHOvVN+5wzzj9aAILVi2pVMHpcK2jjLHIcPdN4VsehsTAeXu3z9ZkT2ip1Th8elBEjiOQschJlUnREeGOC3l4dcW1MKt7svdX9CZoULMzgIMdakKKNam7oE13pVKH60Gq3gKXtIMdNJE1wE3DqecnVnHwC5SoCLYj10kf8l9XQkecBatpJxgVsHG2TqLH2orMdLa8P9Mr3+km/ySunXEDDiSfPwAJ6EgjpWs/QtuvJX6fcCBACc+tbQW1Zasai7Wz7lWLyRo46HQxgoW/AJWMvYC+bTDvkOnltyyR6yKy2jEuFxNuSVR0l74I8Y8hG0l+OBjCk47I9T5/0r5P8CmbYT7ygF53YZqzIDV55HsBckIxmbVqVwjcyz9bhcXWZsnUzQy0QMxmdYBBaBe1AAn3FbydY4VMn/aEjYJeOejYbZ6xdD2RjL11Pt42R+YA9rA6Zfst0ITvkgGxo17jgffWz2Bd9d02ZEtk0Y8pW0yPyVkYi21YQOoPlwEHjj7fmh04qNPfgrZfnsN8BdQGD6GB/9bmixmgu6SdptAAAIABJREFUq9QYs/d0oO0oxhkPAjPSv+rHmDc8Cz/m8eLsgn6RWXOZ4FmbgBfvrg+0yuYYk4Au7+SmjDxgUMWV0UAGPDs7T7bJLtqNN33WxzIuyY9+A/1kA3ZqmmvQ5B79QEs1W8ixNs2lBeeeCxAGBrEDxonMGBO6ZjwAQv6MQ9lGbD0emt+af33uu7ImswPkR9/IpHdtu7YacXSvWodt/zQ/4LOXsUar/pmryVb2BW3TxmSTAmgajxnIBjhkk+l5daHIFHmgb80FrtfnCq3jRTWc3Ov5AVTT9p/ugt7YFXN+6xQ5vLW1vkW9tp+bR9Af+OLe5r85/5gbXKdeR0B5293xqAwfY0n3tUd2zNlsaYt05E77ExBFIz6iiW10Xz5SiwZ74OvGOLTuvpkcWGDQzeTmndlWWYuHFkab/6cvzHaab8yRXhYNzNtsj0V1c1/ZPLXdAkG+SduaJRCwN+Y383Ung/It2T/zV2UXWsi4mRmdd+aIXo1eXTowqG1iJmwTvj3YvuM0c+S9t9piUjX5ziNVKYmA2zWuFVSYkCkEZ1EgChTgMFI8yiPQqoggpeT8dCqJ6zgfJnLtaLf9nZgbcAVAKAAVPAlOtFvhzbmtq8CyomKcjk5K4XxwotHt/lbciSvnzfME0t4FBRw2zjoHkrMtCMpB5+BzegRrnJh5chq+CSIZlBxDji2jYqUN2OY5nGvGK2efcRLEW9Xm8OBXDrbxwLeKTdpy4l5OLRrwuKLNeIgnjJzx077ADZiHzrKr8E8Q4mVcOLL6WPE0DrXgx8ryPLEDHa6tkCZn0D2ehxdkyfUAp8BF96ADKMXg6ns1PnL+Cw44fJzCtlSF0McPAQRetRoOcBDY4DHwCS/wuhpYZfC0ZYfMeTZZEOS7p4yGlHo6lTn/06zhewESHuMFHhpbcqFN8q/dAraZCdQq8ww+JvATuDmNTM578q5dzzQZcrIF8SZCk1rHleNDWXRo0x7dcA+dIhP44beC+oLUaAy8NcYABkAhR931+ml1vi1/ZQZUi4j+kVky1AlBbfGcPN5nBvX/nGwDpgSEZAgAiBZyUAFxOkD29Bm/G3v66Hr3GSuyWiZgNZwEwWhrpbvaK+RPH/1G5wAs+I1G35Fz9hAv6Cs5rCZWpyziRzqD/+6lK0AUvCuwkZGDTjppNaqMpLYRFaROgHLK5R4MEuxrT1/QJFumZ7J/+EYv6EOnpZFndguYWuH9QBDji9+ukSkp4NcufpM1upctrHgyPSGT5I3dNEbsoHEyBmgjt17Ghm7TfXIIjGILKk5c4J5OkUO0komyH9HjHnxtrqj2DduMBs9BkzEB8rG36Kavbd81zj6X3aFvrmvrJRoClciDNvHMWLaIQB60gV9slLnM3IIHMnDYSuMwC7FnW9hL91Rsn8zYWmYbHNvV1sSyj9BAPs2rZfuQW9e3Bdy1+kgn6b4+ah/P2GHyYX7syHa04i/57cjd7J12jA+amo/JqXtcD9wzJvpPp6oPFPBTTZ35Xo2qDnkI7GyrejbOOHZUvXFpK2Xznus7BdW4kHM8p6fGqGzR7GyZbDOzZH7er1gXkESfMcPD6iF5n9lCdEw/8SkatFHG6X4b5a10oQuqPGOujpNlOkEm+IfGrNMP2SL2qlMQ5wEJ5Iedx28ySqbLGiVTZfvS9bah5ZOxO+SCn4UvFYNO7viUAEWyR6fQ0NZe9rY5ZGUG3UqJuTltLzDo5vDxTm5l2tns0wTffTf9ZDaF3xIYZE6zMMTOWjTJf3AP29QCYYv/5ib+DPvCTyo2MEeZC/kgnfjZ7o/5/EMLCXfy+Ky+HebApQODAikqIM0xJditoApiK3RYzR6KUvDIqeJ4CSZMyG3xaWWSI0EZKy7Kqa9YKmeNgvmOInqVzs5R1x6lK4Ar46Si1BSe88u5BxoV8HEIK1KsL5Sd0nNk0F4tI33mIHIaOBE54Bw0Co03HBBOnL9qvZRtMzOZWsEmAJzXMhFaMdY39HdULP5wRjsK1bMYnla0OdcFa5wdAaCgo7ovHEbPF1S5Fn85/XjjWa4zFvjiM4cqnnRUousrvqhtPEB7K9kVhES3Z3DACii0mbMdfxtHvBZYCEQ4g8a7+jiCIjJVtgY54jSiW9/97/q2GVXPwji2NQTvjIX+aBcdbcnBF2OqTROA8fYdXndMe/JkrAoE0et7K8qCpYL4AgPP3xv5fWaO5wQgFniQG/qjP/qNjvhV1s/elExApMAiEKbtnftV6gKHVk9K8cdXvCAffsOz+EZ38Fqbxsk9AZaCALJTLSzyYfW6YMXz3UcuOOd0yWfyTZ/cV5aePuAHudMunuO1gBGvy/5rm0STe1vX3I/3+6ws//uevNc+GQIgoKUitWUYkpO5tZBeG3c0t4XEs6v34dqyZWYtjbaEVttF3wFQAm42CV3ksZPuymhrO5T+V1gcH/C+mlL6WvAr0KGDbCga0c8ZCWRDx8woa5VrL09NStUMApRycDxXv9kzelmQZhzQV+F9PDXenuc6AFlbmTzLc8tqZCMEdey45+5tveu163ryRibcXxYXvhm7sj6ARWQS/+lR23rJJnnsFI+2l+Ffwbe5iX0DFgAiyIM+6oP5hfwXMLLz5gfv6DbuZL7MLjLGPstWYtfK7DRWjXO2oq2AZaKwvWWJZVPxv2LQwB1/geZlTwBryIB29YV8dbQ8GvDPb+Y/8y+a23paMXh6QT8rDE22tWn8mtvNd/iuLXLIXjQ3ktmK9jcv5ge0XQxfOc5sjM/Jk/bJbPMqHgYeAwDIH35oF71ec2t49ed8V+Fi4102Cjq0w8YZZ/ymsx3l3uECZLdsoGhHC7r4OUAH9/gu25PdDXje69YeuN8HLId0EL/I8gSA6Zr+0Gl2cG/7J/h0q53uuUruM17hGx534hfaA6vaJh6fySPdDgwNcNOv9DsAds5frqcL5MdYsnf0EF/IZfLhua3Yo4mskXu6RVdcS04am7LeCvr2GZO3mp+r/dM5sMCg03m0rvhkDkyZqS4cu89+l3VtfmRTzHv5ZewJf7PTYAP7vbMt7AS7Y17SVtm7bI75wbxprqiWZLXz5tyQTxrFKyvx6krvpQWDOLpOogJqlA2Qg9TWHw48R1snOXGcc84+Z5SCdaRr6bkU1UQvQOKMc/I5jRS2oLb6ORQrlLWsoNpspbc6RdrTTitIlLTVV45BGTFlYJQ1EeBU3aG2hnAiPaPiYBw0/UOPgIEzMp0NzxPglWHAARIMoqs6MYyC3zMUOZUdJ88wWVkXmHC2S5Wu6ClDxDAVBAloBSdWzwWE2tYPz+Tsc9Y6oYqTVAAsOOC0tVe/wsscNWCQ8XZfGSr63MqfIEZffSeQ7BQo9/pzT1u46ldBMJ63atxxxfjEWZtbtxhLTiDDrS8FbJ2Ahn/uwwufvRsrBtof2gSFFaV0X9vb8BR4RfYKKDP8rkGzPqCVrBgP8sMxNz7tBZ6ZQfvPARQ57dWMQKfPnldQU/CO7uRhv8IxwZ+52pBDG9gTONXzZyDqs2cXzHOuvcpq6ZS2tkWk0/QOP/GF7tNrcl+WFtkp+I82cirwF0QawwBAbRZYkxH8xmfylL6WeRHINzM89kCbPu2DlQI319YnslkxaHaLjvitACYgMSCsTCZ9LPOIHLIN3uOz+9g7slbQTbeMaav9ZUxWjyfAtlVw9OJhYDEe46/nVptDG+yRP+PhVYZW2+kC0Seo2JbGeDKn4JkZJHNHRmDBFBrbokL38CwQvDaMnWvYqgDmConX9gwcO32w09Bc0/gFqhlzvOi0pYrHu04mKSC3LB12Pl03TnjGBgKl0FWGlOcEGvrMZrEtxoND2JyhrbK08Lf6QMbFPEIm0ENOA9u8G2dtkHEvPPSMgKjsfSeVlc1okYINzo4WXKcvxtz46Ztn4m3AEHvktzIz3dMc2nxVfSrPEByXOaafbKXr3depjc0p6CHT1bozD+F/J04G8Fb3aNp6Y+e5HatLV8yB+JJtrVhyx77jM1r0xZgao+bXtn+VTRMwlw/hezLDLusfwEl7AcFlPnWSl3GZtpqOGUP62uKBeQ7P8JrN00/9n3Wz9s78ocwgbQfs+71rssmBE4Gm1ZOiZ4GsbaOciw9Tl291UDEzg/C6eTIfJ/tEJ9nYMrvc1xxK1vKbsl2VBCAnxi5bPx1lfG+BUftsbza0eaz5g65po8yxtiX737h1Ql10HQfmXd0Q5WL1fIFBF2s8LiI101Zkp/KHA4PYG3OG+d6CTadtdgqi+aBF5nZJzEVG/Ta/+dNmNW39z7bkD7BjbeGe21Cn/ZxA9wKgL6JE3R6aLi0YxPFTyJfDyMGu4roJXqDHQeS8mJwJO0dKUM/R41D5PFcO5yr+3EfOKS3gaf8+plG+HENtF3BxOtt6w1HgSHIc0EJpq1dE0Tm1BUycEE7DDBj7XJ2kijtyUDmznfaUg9YqJOexPnaCRqmFHCf0c4I5TAIgjqk+C0Q9awIC7ud047H3jmW3ImbFXjv6y2HMwdS+5wnGpOsDhKp5gnZgkADYX8GW6/FTcMPZxY8KN3LYAneMd8WN0Vr2U/e5l/HTbts69LGsJX1rdVd/ylwiC/jRnlv3lH0Tws6h59y5Bg1kK1CprJJSN6vd1JHMAipygDeeC7ioBo1xL7BthcC766sXg7dth/NuHAp4C3Dw0F/B7B6gmP/PbVqtmLu3yWBmFc0JbQYPc0KZn/cTyh6AavLpuQWnrsvRNhbJO2feWASyuYZDXy0jY18AV12RfWZUupSzLrgr6Gzl27t+lB2Hz2SQjJSJ17aWzPOhYGu/Oj75131t70KHfnICyEhbsQKE8CgAoCyRTqDxHO2wUcAIeuw+MuMeYAH623rZ1qAAwLbZkXU67OX+QArjiMfkS/+90y9to5uMssP0ocyhsqzoPtsWAFWNoLa2FJAdyg5qUqJDtnuoUwPASz71ydgE3BeIk39jZ4zYPy80d1JacjmBUDZkZisK7KqVgk9le+E9MKHsEf3SNhqciFiWYAsQnhHghYcVW8aX6pxlJ9OPtq9VlyRAqMwvNoK9q5aPOQwvAlfYsBYtXIcWbQUWkvdsp76VXdZCCd1hU/St4s7NEWx2jqo+61tzGdvneoshbBoZkK3TlrkyuvAEfW2x8py2/CWbZY+iWYZu44E3ZeKwx0Ak91dLoZoLnGrjGfCE180reF+mp/lAnzrlzHNdqy/4SXbwk9yRc2Plf7/PeoTuqwB/CyLstvZ973pp+kCAtvK2PTjQu0UZ1+unP32tzpxxrt5d2bBkeQIO0x4dl52TXiXT/R8A0dyxD2D2IP+cJwKOsunHPftmu7PZjQDx5hD04EtZlPGY7JPf7FtzjTEt85QMtiW5QtBkfAJetU9/jCP5YH/zMcgeOfBb9oi8mp/YDvrhnY7kP8Tv5u/bxcObPSZXob0FBl2FUb6xPk7btPf9mp/Zd/Oo+U12srneXGvuCKzPhyh2m3bXZ3M8u+fFXjU3mb/YmWK1agSVWdQ8XHsTuL/VIP6NcXbdfSs5cKnAIMTObWLAICnrnEJFOk24FIdT5bqcHo6BIIFyVByUQ8cpDS2djlAZHSZ1Tp1X20XmPv2caIpYEWHfcTg4Be4TyAawzFUfSle6O/pb7c25KniNrrZq5Gh6L5Oha1uV50QyDG2Lmm31uQBDO2jVliAoJ7rMGw5y27A6QQQvOVbVz+D4zPTHACf85nwzTJ1602kuDF8OJJo4Rp5pXNzHYer0D9fpP4ef01UKPVobg46M1/dOZmn1rq18jYN7ChJc29aKCmZXdykZakW67Sj6TR446cauwsroRNMELVopFoRZBUAT/rkPbwT2nXhVMEhuqtOELwUIrXSjJye27X3GPieyYD7HNWBkOu4zeJgGJue6iajJbL+S7Hd0TRCo5+eYT+Co31rFdU36GfBUZkr627acnOuy11xXlpd+G3MyOk+smoF/tE/At9pjZRF6ljEtQEcTW6Jdski+KvDaFrd0qQl+BiQZ1vQ3WW8M+j3wiz5mb9CRQ1E6sGcXHLJzxr22q4WijXhYMEm2OAdtT3JPfAS20Me2nuFBepytImfuZeNmUVx0451ANuDdve4rYPXsAPdWtfChvp0WtNLzMoPYiwBjAHPbkehT26w8owK++22OBXXJOv6nW4H/+lHh/TJAo5fu6Qu70TZK/KjIOJ31ufGdmW9ktK2mbaVzXUBf+l2AH/ifHWJfoycAxjt6yHz1iNiFxtcz0y/9YjsrmK/9CdwnK/qlf9lE11SPgIyRj7Ym5aDqh+cmZ8beswEoE8jJBrU4g073AAzJ85wbKw5Ptoy7/nu1jaaMt+Zw9LMZ+uh6ctPiC9q8AnoK/NtOFI/dX5ZIGTl4jga2mw4AiNoOTNcbE+/NSc3TbL15An8sVAGDylp0r/4kd2UETjAou4amstHQYMwb5z0Q7VnxMftyCKxu7KcuZEv2mZtdWyAx541sfzbqdtaemPPOtOt0qXmp+XTq0dzi777GnHzga1v2fd7bqcmjMgfZi0oQ5EcFIrumbO22DbLbsxB8c8mco1dAditDnhtre4FBN8a/q3D3DKqnb5jNyk63Vb2FZ3OIuY/tzz/OH5sLp2UETdvO72m3Sgsa5o0AZrasuIBdmvP49MmuwvisPh7mwIUEg2bQmlOdUxIYJLMEGCTFDtjgNJCKMJb1UDCaIhUs+J+SFEAXoM5gOke6e9GUQk3l0WZp2gU8BeE5JjlL+0m+gJtDkrPVMwo0e1b911ZO6HSgG8hoKaj1P8VvlXo6gGXlFMQF4uyfjYZOvEAHZ5lTxXi14l+mw/45/ucQFQR4RkFTfNFeYxAPA6NmlklAS0FTxg29BQp9jvc5ioe2wMX/aC5AK8spwMPvHHcBUYWstW/Ft+LNOY8TeMjoc/KtUFa/gwxzDq2mOy3Le7VAygSaE0dOaWPcakC8L9DNCY6HeNFkMjOBkqkZPPTdlNXkdV6fbMwJJTmc+tO9PSPn2TgEtLQCMuW479I39O/1bk5q9a8aHnP1o7GfOlTAUlAQzYfGLdnDX+33/wSa3N/E2hadgobpOO7BINfEkwBmNMygP7pd2xi7plpF+lBNlwIQ9zSGZW90b7b0EG+zWdmHQMFpm/SvrYRzPGemge/L+sk2xo94MO1LPJrTU7JP55wIpIAvUN3YAT4A/1bwfZ7OUnzK7mdDanv2f8on+pOzxmDKWHKUY+W3VuWmDZ1ZHcmxZ6en3t0XkLIHg2aG3J6mbHM2qz41xgGkyXN9zQZkn+tfwee8PjvYGOpP+to2tQkyzP5mc3JkyeYeHENLeua5ZfqkC42b/+c85/+yAZONttdkGwNn4tMEMRpr18yMtHRNm2Vy+AxgBACx2RXjlIHF1lsA2J+ali2sPfZdVhQgE1Agi6lMprYe1cfonXYumzn9GHydgGY2c9qYeNPYp2/7+cP/e9B36uj0v/Ztzt+mDvWs5Gnv60z9vhmfp+M656zsVvxpoSoZm3rVPDrnuTmP5CfW53jkGcaitpoD0rE5p8y5Oj+n+W9v++a8csgu3gy+rTZujANT39Ir4wYI5N+99KUv3YBoJ0Ddc889GwA8beYa1xvj/2W4O7mYfuu0r9OO5D9kS9jl5lDzSdmD3dO8Mf2TvV/aPJdN9ns+WvZogkGTp7fabl+G8buqNM45Vcwqa1rWOzlUu8oBOsUD1/zH/73pfw45D762LcrRwhwqBVfvuuuua6ncxzkKk4icj77LsUmxOJidquMIeFsIpFA7Otze/OpTFJjlYDahpxg56fuAtH7N5/vuNCVxfUHDdMTrc21kKKZjfMhQzGfGk/qSozuDh66Z30XPHuzaB6YzSNsrQs5qBqc25/P2zk9t5JjNgKPfQr6Pe3b8jA8FnznKteP+GWBE1zTEBXH7vk2wYMrgDCRKOZe1IZVTJprglDF1OgkZl+FT0fKcUAqkTfdbkbdK7F6rAP44CVbFO8Gpej/TmT1E93QmDk029d+9yfbUgb0Dv3dU4m98nc+bPGpM5/1zjPZyP2UkQzLpPyQjxxnlQzxIPqf92Pdt6hS5zgZ0b887jsfxZNoxnwtGJg1TZ6ct2Y/ZlONDerRvZ+oF2Sq4nbzaj1ltTPqiI3k9ZKf2torOBuq6Lzs3QZZkIF7PPvXdId5M+5pempBsRbVVDBAbGMTRrpD31H3tz/niuOdNm3JIppONaZvSi6lT2e2Z2ZZMed/b3Wlvphzs7fvkXeN6iKb6nkycJMfxZspwPN/zcNrQ+nNo/tv3bwbl8WYPWsy+uiZgInmafZ909awpy/EwGqfc7+mtrUNyafxaEAEeyDCy7VLNOVvE+RwyOZ0CytaX3TGfQS8q6s3eKxBNdgGagCBzRcXdO4p+9mXa5Sm306eIp/vxOmQn9zYnvex9tjHtwiEb3hjG70Pyeuh5x9nvm/F9tunQHOK7vU5OOazv+0zOvd2c88W0E/Pz1I+9bPt/PwdNEO5QO9Pm3gw+rTZuLgcas+aB7NYCg24uny9za8fZikP2JbvUXEiu8vsDcPh4/WkjX2DOmf3efDHt4vSJpi2fftCyO5dZ4m4O7VNuLwwYNCfQlKQ92lLVrRLL0OiIaKnpd9999wYGST3PWZsO8KGA+HpYOAPBnLMZSE1H7nravz/v2QeEOTe3m6Y9P2/G809qc47pdOB85rzJgCJ3Voqt+AIgKQt5E5QKEKTwV60fvdXjcJ3V4U4e4TRYWVbhv9ovbUHaB7L7QGry4TQenfb7nqc3Q4bPwuOee9zzDgWd6dnNkIPj2jgvvw71Yx/Qncbj8/5+Gu2njeFp9N0K/k6apiM9bUt09U532rL55je/eSscb/sPp0hGnaNW1eBRs6csKfcW3J21H3u9P+2+65WR6x3nm/W80/p1lt9vBy33x/yTHAb2lXlsUUvdo7Ylk7snPvGJWxZn2x+nvW57WFs9gUlsPpkkq2QWoJS8lsm6ByNP0vHrsYN7GT80jtMuHDfOZx3/vX90Ftm6nmv2QMohv+usNF/P8897z1louV28Oy/t6/r/48ACg5Y0nIcDh+zUofvPYh9Oeu55fO/j/JHjfO/z9Hdde3k5cCHBoP1Ku4CckyXbCBBUkV8Om2wN+/httxFcdzpUGUKzlkrO2/UI/XHAyKEJfI8AH+dsXQ8dU9T2K1H9Np9/HtE81Mez0HgI8c45O+75J91ziP7j+nTWvu77Nvu1d8jntRBzganaAIpQKmoqHZgsVhiywm0zS6MV1o6u7eQ0/OiktY67l1XUFgB0zVXbvXztZek843uea8/K1708nkVeDtFx1klz7/Rf7/P2NOzBieN06zQeXg/fDunteZ6/590+qJ7tn6aXfj9vH46zd/u2DoFB0dpv/q+umLozTnySVQeMrSaa4FpRbFt3BOdlWgi8z7PCdUjvT5Knk/iy/+2sPDlJnvYyeZrsnff388rYISfyLPKy53P3nCSL55XBvQ6d1rdJ03wWIJKvAcgB6NgmVn07mT2AILUYZhFw97e9l72XGaROjSwjcwO/xKJBp73Vb7I2V2r9P+375M9p/Tnv2B/nR9zoPHsjdNzovSfp4CGZu14ZO43OQ2N1q551Gi3r95vLgTmHNdfQ4ZUZdHP5fJlbux6/4iRbf5IfcBYfYdmeyyxNt4/2Kbf3W2ZQRhUxpbnNyRthCjkKDuxjExx0ZCjHS0aGbTedgqLQo0DbyrHAu8A8Z2sq0FlZfdyqzT4QS6mv5xlnpeW0664XZd4HkWftw/55e4f2rPROHu+ffb196tkn9W3/3ACZCejITDPhCxKAkICh6mhUR6X/3T9rPFQrpKOGySV5ldEWEJTc7FP2Jy17w3/S+JyXX4fG8Kzjf4jHhwLHk+g/Tr+OC/Jutp4dktmz8PAQ8HIc305r77Tfj9Oj4/TmRvXyNL09y++Thmkrs/l+n/VwtMm+22IjI0hmBuBVkO0ewI+6LbLxgEK2aQqyO+HpLDTt5fUkuzPbu97xOU0XThrXOQ+ep283+9qz2M/zPvMkft4MXp+l/Tn2bVnrlCgLTew9X4Ptn8Wv9XWC9h1NXs0Ztr6i2p3QxtaXvda2t7lN4CT+nXdOPY+Mz7aP49lZx+M0O35eGTnu+rP4XTdjTrtZ9J6Ff7eLdzerT1exnQUGXcVRv/4+H7JTh/yB/Tx/Ht/ttLnhNNuz7M71j++ddOeFAIMOKUygkN8EAoJvjpmX1Torb0AiguzFGZMN1AlPAKG278xCjHfS4K2+3BoOzGCeHFYYEthjlZj8qSXRKTAdB+m6CrMJWsnkPLZZBptXp/XYWtZ+4FkbYtb+WIb61ozxavX2cyAAqKKJFeWmb/NlC3BHyleEuCPbZdB14pV6W4ratV1snsxz+3u3nnhZOTADPJ/JJ7lj6y1CASRlJMsYsmV4nu6mz/yL7DxQkl1n42UpKxit0DkgqKLjLXp177Lxl1VyFt1XjQMLDLpqI776uzhwNThwIcEgRM1TkDp+2QkfnDJbbjhlAm+BgT/XdOSv1OwCb05afzeyTexqiMPqJQ7si1POomzkjvwBggQHto95uUYQUXG3MoM6pphMqjvhaGBy6kU2D2VGzOK8of5rZBYHLjsHmmzSk062mECQPrLz7373u7ejyf3RpYDWDgagO7LrFOelV7PY+tKZyy4pt57+6fgE/rewlP9hsQnQDxTy3pH1nVA1Fw3Inwxldt3Jkh0lDhjKzneqXOCP+0+qC3frubCesDiwOHAeDiww6DzcWtcuDiwOXBYOXAgwaG4TKzAA7nCUBAK+q6ioFbsCA98BgzhZVo5dWyp2zlnp2J0ucZ6aEpdlEBedN58De5kMJKo2RAHBzBxyTc79HtDpCGgy2pHXgZMpofvnKvEMTlaAe/PHeLV4/3DgUCCOkoJjthzQ6iQm+hUA1DYxuuevDKGpd+nQ/dOz9dTLwoGZeRyoU82pZHH6HW0BDshkj8vgbJtjNj7Ffs0SAAAgAElEQVS/BShUoei2lCX72fNl4y+LxCw6Fwf+r57eOk1sScPiwOLAncSBmwIGdYydxhzH6mh5e+zVc3j2s5+9ZUPMgHfvsO+3ifm//fml/s9aKhwoz+Sgtbo8i7kJ2AsQBA4F3903t+HcSYO5+nJzODBXfAMn52ruHrApeEiu5++1VT2KKa9RW0AwwaC1anxzxnK1cnE4MFdV9/rU/wXNh+y93wrYp850LDg7v8D+izPeF5mSffZn4E4ZnsnXlLPmgr2dn98fyvTZg59zS/ACgy6ylCzarjIH9nFJft6cq9L3Ckj/xE/8xLbF9JnPfObR85///C17dc5Jxy38XWU+r74vDiwO3P8cmPZOFrT6zPfee++GszgAQ0kG2c8z4eH/+9+b/mdvGHOIHMcKDFLYGRh01113bXvoZyBwHBgziZknivne/wUDgTo5cNMZm3TNbWHL6br/he2yUDADBYFmRT/3E3lbwpLnAtnA0bKD9oHtBJumXO75028rwL0skrPoPIkDs2ZQujKD7uz81LPqvc0AGsDv+zKGZnDe5zUSiwMncWAP+Hdt3xfw+X7a7/yLbPyUvT2ANOeB2f7e/ndQwVqkWjK7OHCxOTDjmLkAvU4Tu9jjtqhbHFgcOJkD58kM0pJEnU8Bg/aZQa95zWs2MOgpT3nKp4BBkTO3vRxaMQ4MKjNoBt6uLziovemwTSO9soGWCpyXA9NZT86S8blS3HebUvxvtlqg5Mwm2mcRFQTPoubzvoKLgMxV5+q8o7euv6gcmHY+HZtAfjoxA3LyX1H2tvpaeaVzZQnts0Mvav8XXReLA/kJ+RPZ+gn+993epgcKTTDI59rMv5lzSddOYGgtUl0smVjULA7s9XMPHOfTzRMBJxhkseIZz3jG0T333HPkJMGVGbRkanFgceCic+BQZtAb3vCG7cCMMoPUP5xJDp8CBpW1o7N/9Ed/dAQMUmRXZtBznvOc7djfCdDsgZxDTJqZQTlZM5V7Oml+nw5cnZqA00UfiEXfxeHAXBWeKcF7uSpAKEidGQ31Zq4gtwLst8DLPYhUwBAI1P/7oOLicGtRsjhwNg6cpFfZ8P0WS/+37TcbXz05OmKeCIw9GxXrqsWBT+XAXGDag0GungDlPptt2ugCxAnyTCfrEPgzf19jsziwOHAxODD1cq/DxST5cYFBP/mTP7mdcmyb2Ate8IJtm1g24ZAdOeQzXozeLyoWBxYHrhIH9mDQH//xHx8Bg+Y2MXUQZ+y6gUHTOeKsV7fBCTDAoA984ANHT33qU4+e97znbadrMIjS+qezf5UYvfp6OTlw3sn6pJXgy8mBRfXiwM3nwHF6dcjpvvlPXy0uDtw4B847N9z4E1cLiwOLA7eLA+m32GaWqNgvCvoNGPQHf/AHRz/1Uz919LGPfWyrlfrCF77w6OEPf/i1hfCZgThP0lyL1rdrRNdzFgcWB47jwB4Mktjzxje+ccvMd2rv05/+9O3QFouvHZrxSZlBIeRt44ImvepVrzr60Ic+dPS0pz3t6LnPfe5WM2jWiFhO1BLIxYHFgcWBxYHFgcWBxYHFgcWBxYGLxoHiFLFLGahzsW+eBuv0y7e85S1HP/ZjP7YVkL777ru3zKA9GDSBpLUwftFGfNGzOHB1OTDBINmN73vf+zYwyDaxr//6r9+Se5zW/oAHPOAak65lBrmZQSwziHEDBr361a8++vCHP7zVDGIUP+/zPu9ajZ9lAK+usK2eLw4sDiwOLA4sDiwOLA4sDiwOXGQOTDCoWGe/XdT/XsCgt73tbUc//uM/vgVPz3rWs7ZdEcCgebpxWUCVDFhZQRdZAhZtiwNXhwP7zCC7vIBB7Nc3fMM3bMk9Sv58xmd8xv9tm7dHbNb9cXH7YoFBr3vd67bMoCc/+clbumRg0KFjV68Oq1dPFwcWBxYHFgcWBxYHFgcWBxYHFgcuMgf2YNChmnfod50Dc/7wD//w6CUveckWC9lSYVeEAtLio8CkeXDIRe77om1xYHHganFg2ruOllcziP36xm/8xs2mPehBD9rqM18DxQODQrev7R/738yg97znPUevf/3rjz760Y8ePfGJT9wKqQGDMppri9jVErDV28WBxYHFgcWBxYHFgcWBxYHFgcvCgRkcoXmCQcUzvcsMAgb96I/+6BYoCZwshD/60Y/+pPuqG7QWxi+LFCw6FweuBgfmFlbbxP7kT/7k6N57790KSH/zN3/zZtNkBn0KGDT3zpYq6f2d73znVkD6gx/84NbAk570pKPP//zP3wzkPJ77arB39XJxYHFgcWBxYHFgcWBxYHFgcWBx4LJwYG6bQLPCqXPL19wy9vGPf/zo3e9+99HLX/7yLdZ5/OMfv52m7DQx91Uz1W/zNMy1OH5ZpGHRuThwZ3Ng2iI26i//8i+PfuM3fmMrBaSAtG1iagZ9yjaxPRiETQzeO97xjs0gQpUe9ahHHX3t137tdvP+aPmOJ7uz2bt6tziwOLA4sDiwOLA4sDiwOLA4sDhwWThQjNO7FfFOTfbZn998tq1C8OREMdfICHrMYx6z7YqQUeQ77651Oo+/ClCvukGXRSIWnYsDdz4H2Co2quygL/iCL9h2eQG3nQwP3M5mbQWkA3e8Vz/I+9vf/vajl73sZUfvete7jh760IcePexhD9sMpq1kDOEqIH3nC9Pq4eLA4sDiwOLA4sDiwOLA4sDiwGXkwD4zqMNyxDACov4Cgz7ykY9sB+coIP3FX/zFR494xCO2k3fEPoIr17UwPmuuXkbeLJoXBxYH7kwOsFXZPju82DFZQd/5nd959Omf/unXbN92zXFgEKNn3+wrXvGKI5WoNfLIRz5yM4gzkwgLFxp+ZwrS6tXiwOLA4sDiwOLA4sDiwOLA4sBl5cCMWcQrZfjoT3UzWhR3nLzAyc4Iv4l77IxQY8N9tl14/8zP/MxPKii9toldVulYdC8O3FkcmDXSYDkyg9773vcePeQhD9lOhlcziP0ChF+rEw0MOrRNTHoRMOi1r33t0d/8zd9sNYMe+9jHbqmSbQtbxu/OEqDVm8WBxYHFgcWBxYHFgcWBxYHFgTuRA4FBgqD++uy3f/qnfzpykrISGRa/H/e4xx094QlP2I6Wb3tZIJKV91VA+k6UktWnxYHLy4GJzchufP/733/05je/eQN/4Djf9V3fdfTZn/3Zmz1j+zabGBIUKj6LQwcG/d3f/d12tLwGgEF7lP3ysmxRvjiwOLA4sDiwOLA4sDiwOLA4sDhwJ3NgBklz9XzWQRXvvO1tbzv6qZ/6qS0LyCr63XffvR0tPwtN49NaEL+TpWX1bXHgcnJgbouV6Wh31xvf+MYtk/Fbv/VbNyxHZlD10rayP8dlBmksMOjv//7vt4JDjld0Nn1/yxBeTkFZVC8OLA4sDiwOLA4sDiwOLA4sDlxFDsyAKTDICjkw6K1vfevRS1/60iOB1LOe9ayj5z//+VupjO5Z9VKvosSsPi8OXA4OTGxGQfx5tPwEg9gxmY3XwKCJcGuk7KA9GHTXXXcdPfjBD75mEBcYdDkEY1G5OLA4sDiwOLA4sDiwOLA4sDiwOPB/WT0dnCMo8ppgkC0Wz3jGM47uueee7Wj5BQYtyVkcWBy46ByYQHcnid17771bpmNg0AMf+MBrJX9OBIMOZQYtMOiii8Cib3FgcWBxYHFgcWBxYHFgcWBxYHHgOA6ctE2szKBPfOITR8985jMXGLTEaHFgceDScOAsYJBtYtU7W2DQpRnaRejiwOLA4sDiwOLA4sDiwOLA4sDiwI1yYIFBN8rBdf/iwOLAReTAAoMu4qgsmhYHFgcWBxYHFgcWBxYHFgcWBxYHLgQHFhh0IYZhEbE4sDhwkzmwwKCbzNDV3OLA4sDiwOLA4sDiwOLA4sDiwOLAncOBBQbdOWO5erI4sDjwfxxYYNCShgvLgSmc5yFyndpwHm7dmmuPG7v92Jx0Hco6ltXn7o3i2dZJsrLk4daM8Wp1cWBxYHFgcWBx4KpwYIFB9430IX+Ln7X32Q7JxXmu2x84dN6YYPl+V0UzVz9vlAMLDLpRDq77FwcWBxYHFgcWBxYHFgcWBxYHFgfuWA4sMOiOHdrVscWBK82BBQZd6eG/2J2fwlmGyH5V4dD/azXg/h/Xk8buEHX7DKB5zf5o1v1q0UntJR9n4ciSm7NwaV2zOLA4sDiwOLA4cPU4sMCg+8Z879/t/Sy/T5/9ON/qNL/es47LAD/JD9z7jOfxA6+eVK8eLw58sk4fd7T8Ok1sScpt50CTSRNBk4Zj7fz913/91zbZON6uyamJwzX//d//vR2Bt/7uHw7Ef+9zwjcmcxKfn//zP//z2pg2dtOpaFy7Z7Y1nRPP9PJHPvbPvH84sp66OLA4sDiwOLA4sDhwWTmwwKD7Rm7v33XcdL44X841/Hev/Ln9dflpgTXd03XTjz8uJphAz95fnEDSWuy7rFq36L4dHFiZQbeDy+sZ18WBJgJCCvzxN8Gggv1ZS6bJ5yzZI9dF1LrpTBw4LasrgGhO3o3vHvAzpkAd74GA01nYOwA5JNN5SC6mfEwaa2/JzZmGd120OLA4sDiwOLA4cKU4sMCg+4Z779/tM3ECdQ75Uy3OTbBogkGzLc/qt32GUPcfEkBtLJ/uSqnm6uwNcmCBQTfIwHX7reFAYMEM7JsYZvAPJJjXLjDo1ozHeVs9NH5zS9/M+JpGqDH2+1w1mhlgjX9OhXvKQJqgzwSDZrtTpqJDWyuj7LyjvK5fHFgcWBxYHFgcuBocWGDQfeO8zwzK38v/yseaYM68puztudDn9z3AMxf9pt/W9/tsnzk+Xb/3CdeWsauhq6uX5+PAAoPOx6919W3iwJxsAgX22SB7Iz8nnv3n20T2esz/z4FDzsJMFw7smYCNrJ/9atGc9Lsn4GfvEPR9q0JTBvZA1ByotYq0xHZxYHFgcWBxYHFgceAkDiww6D7u7Bfw9uCOa8rizu+b2T9z8a6FOPf8x3/8x7VtZfstXrXn2W3/nwDRPh7YLxCuxb6l24sDx3NggUFLOi4kB2ZmiQnC36d/+qd/Ur2ZJqB9Ougy+vf/kB7KDJq1e5roG0MT/Vwlmlv/JqgzV5fq5XEZRzkKh+oWTZnJCK7aQve/3CwKFgcWBxYHFgcWBy4iBxYY9KlgUAt6LQDmj00wqG3+h7aNzSC07KC54Ne9hxb0uq5nV2JgZp6j+FANoosoX4umxYH7iwMLDLq/OL+eeyIH9pNugACj36oAkEihOv9/2qd92tbeTAFd6aD3r5DNmk9za18rRfO7Q2nG7i9bqHGfK0J6N2sITYBn9nwauf02wsCoVWj6/pWV9fTFgcWBxYHFgcWBi8yBBQbdNzr7zO89GJM/N/26DgiZGTza2vtn+fH7zKBD1+VD9pzjFvT2ft9FlrFF2+LA/cGBBQbdH1xfzzyVA1Mw2zr07//+70f/9E//tAE/n/VZn7UBPyYY/5dq2laiVghOfdC64JZwYJ8ZZAyBd71myu+c0I2f8XzAAx5w9Bmf8RnXQL65lWufNdSzyAIZ+bd/+7ft5X/ZZK0sadf/fTcLGfqt+lMLRLwlIrEaXRxYHFgcWBxYHLi0HFhg0H1DN/3zDneprmODy+fjg/3rv/7r0Sc+8YlrtT1nLcg9mBNoE+Dk9xbq8vHz4XqPnilUs9zAyvi+tOq2CL+NHLhQYNAkJh7sA7/r4c1pW07O2ubNoGU+ayLfM3g+7vtDdJ712plieVx/z9PWobE6iY8zwJ59Pe6effsmnI9+9KNHH/zgBzeQ4Mu+7Ms2QKiMkdq/3kD+kIzsVyLOQve+P2eRmbNccxpvo7XrjpOn/UR+HL2Htl6dR0/mypH7OAUf//jHj/7+7//+6B/+4R82UA9gA7wxtn43aT/wgQ/cxvXzPu/zjh760IcePfjBDz76zM/8zGsZX/u6QO5xv3a0/3d/93fb6x//8R+P/vmf/3lzJMoc0+7nfu7nbm16fc7nfM4GNulrgNFZ+jj15CzXr2sWBxYHFgcWBxYHFgcuNwcWGHTf+B1arG0h1u8+88v4YH/zN39z9OEPf/joX/7lX64t1lUWYPqZc8Fv1vuxMDhfD3rQgzb/kC/32Z/92de2gAX6aGe2f7PBoH2cdKP++1l9++NirrPEdj3jrDHeWWjat3nc/2fR+L1Pve/rSTyevx133XnH6Cr6+BcKDDqL0FzPNccFyucFDvbtXA8t855DaY97Q3sajce1sactcOCk9s7T1nmVZQ9OnMa7Oen6bFJ5z3vec/Qnf/In2wTw+Mc//uhLv/RLt0mntrvnZhj/Q0DQaWNxqE9nkZmzXHMSv44DUbvnOMN6Wn/OKg8n9buJmSPwoQ996Ogv/uIvthcHATCUgyBjCBD0+Z//+RtQ87CHPezo0Y9+9NGjHvWooy/4gi/YAEB/Ewxqa6BVJ2194AMf2Nr2/pGPfOToYx/72LYi5Y8zwXkAMAESvR7+8IdvTsXMHgrEOk0+1++LA4sDiwOLA4sDiwNXhwMLDLpvrPdgkO8CgwJ1ADJ/+7d/e/Tud7/76F3vetfmm1nQtWhn8c71fK+ysmtjLuz6zWKghTx+P/+Q38b3/5Iv+ZKjL/zCL9x+n7sDKi+gnbKJbtTHPs3HPc2Xvl4NOWscctb+3YhPv48njuvTWWmZ9x+KUQ79flqMddyzz0vTzeDT9Y75/XXfhQKDDgW1N4Mxe+T0PEjqfP550cXTaD8OpT0PenvWa8/S5/O0dd6xmsZyAkOnGZTSPU0qv/3bv3309re/fZsQ7rrrrqOv/MqvvJYxUu2gtoedV/n3dNws9P8sMnOWa06SpUPA3B58m/w469idVR4O8a5x8yyZQDK6AoP++q//enMSAHxtF5uOAOAGSGN8v/qrv/roEY94xNEXfdEXbYDOPE5eNg8wSVscjT/7sz87ev/73785HFKTS0cOQHI92QEIffmXf/nRV3zFV2yOhZUmQNRZtxaeFwg9zQ6s3xcHFgcWBxYHFgcWBy42BxYYdN/4zHqQZeH0fSCM7y3K/cEf/MHRW9/61qP3ve99mw/YIiB/zMIfX49vV3b2BHDmQq/PAKEv/uIv3hbzvuqrvurokY985LUMIcBSh8dMf/dmLA4fksrr9Y/PI+FnjUPOGkOcRvNZ2tlfc9r/Z+nv3qfex4gn0TV/O+66s/TrUKx/q0C+s/Dkdl9zocCgubWkYJKBCOkNcU6593tV/b83JIdODTLAXgCE6opM4zGr4s+q9rPGyB5sqM0MYr/3HPdWkyQ6Z40S18975sDM37Q/r9srd0rkefrmWRlJ9/rfC5I++SrzYhrNnnmIL/vr6rP3AuoC8b6bStVe4rnHeA9W9X/jYxL55V/+5aPf+73f28CB7/me79kmg0CECSaguefH4/g2+TPpnvzYryYccgCSzwk+TVrm8/Fb5gseT5md9Y4qZDzlqPZ6fvdOQGTK9x5wOyRPU36mXHVtk+lMuU3Gun7yevI1vcHLZM9WMECNrC6OAQDIddV9aguY7wE4tnjJ7PFZVtDXfM3XbBO+d4AQHta2z4Cld77znVv77pVxpG0rR+QksEmGkK1jtqdZmZIl9LVf+7VH3/iN37hdBxCaOjB5Vx/r9+TR7TbY63mLA4sDiwOLA4sDiwO3nwMLDLqP5/v4hI84t3YVa/C3+GR/9Vd/tWUHWbArg1sbj3nMY46+6Zu+afO/+IIBQvnPruEL8h0t8vHhLP5ZyHOvGMB72eN7fzh/f9I3Y5J9nOO6wK38PDTxOf02DxrZ82HWKUoyJ0+Oi3Gmnz/pLRaYvN774tFUP/Y0oLv29ye6RduMtfe+brHUfhHW9/ME4GLJ4twOftnHeLN/0dyY7bW5sXBdcVxy4Tcx1az1OflYP4pJ9iDhno59nD7j6qsCCE05s8huF8699967ZfF967d+69F3fdd3bTraeG3y9L83/c8hg+DrP/zDPzx67Wtfu6G/3/Ed37FlcEB/9wJ9yIzPa6ZCJnhTiRNk3wUY+W4ak4CEjiafJxE1+G1PmUY+sGQqXsak73rW5EPCO+n0eWateI5nTsWcSjGN2SFAZQbwU1kyHAluv+mLIDfh9x5f4qHvAkPiwwRRjutz19ZH11WDZdI+FXgCeceBQXMsyh4xmfzKr/zK0dve9rYtY+RFL3rRBhDUrwx2fakNz5uGSd8DI+oX+icYNJU/emc7rg2YaatSBjVZjY6M0ATgMm5TLjKmtTeN2ZS1ZKvnZHynHE7dqi/7Scn9AVmH7t3L1pwMpiHt3r0M6y8gCPDCCXjHO96xAUEycEzcgB0pvmyDZ9nSJYMIcGQl6b3vfe92na1iJv4nPOEJ27jH+3gCCHrzm9+8ZYxFIyDoG77hG46+7uu+7to4aZ8TInMIcMTAAZu+5Vu+Zcs+stLEIdlPwHsbsP/9kB1b3y0OLA4sDiwOLA4sDtxZHJi+6Qw0LUTJfnnpS1+6bU1/5jOfeXTPPfdsfkX3zADzsnNlxmr1ZcYmvsMfsU4LcZV5+OM//uPNJ3T9k5/85I1Xsn1sBbNwPX1ffiTf7S//8i83IEkbb3nLWzb/kW8ICHrqU5+6LejJGjoEPszYZ/qp0//PH97HefnqfFn+JfryqTsdbcZsaJ8+4iFffPrPxWN7kKln+L3YorYm3S1ct5g8457isvpQ36YM97n4J5mez/RZDDmBpuj2/Hzy6n7OmAe/Zn/3taL2QNDUlWRoxi6zf3z4xqN4LP6HCRwXB3Zd/I1mPCqOiBczJrvsensS/VOn7zcwaG9YCnQbmKkECfQEfqayp4gF14SFQSpDhpD4v3YIsBTFvfJN4Kjn7xHjGQjvAZMZaCd4XT8VYoIm9TfaymqYCrPnyT7In3RMw7d/ZiDCBD7iWaBO9O7fpwJF20TOuz6lmr/tn7c3yO6Nd5QdqCgrCEppm9if//mfbyDQD/zAD2wB/6SlcW48kyt9R0OgWLKzH6P4laHzniHYG7jGbT/5+H4axWQnXuzHp/EMsApM676M/B706Tmuy+BOPYrPjc8c237r2dPI97yuOQTkzb7MsZ6GRn84AcZONhfQxmRtWxYHyVYt4Isiznho9ccqEhDoN3/zN49+//d/f+Oj64A1T3/607cVpDKDyIZ7OAa/9mu/toFN9pBbKfIqo6gxBkoBgzgTnDZ0yQ4CMMkQ+rZv+7Ytm6jrcw72YOICg+7k6XD1bXFgcWBxYHFgceAwB2YgfZXBoPo+wYrpy0//kS9oIdBCHz/egi6/TRv8OqAZMCdfcC4Y8wHdKyvoT//0T49+93d/9+g3fuM3tsGxWMg3/O7v/u7N31MCIBBgxnMTEJjxx4xrJlCS7zd98nzkedBIvvL8LqmJL3twY0pV/GpRuAX47pnXznZmvDv98wm6xMPZ9+LqgJN4UT3O+uveYphioTJCJuiyj6P2CRzxsfjP//z2+DXjzPoxgbUpQ8nbjKVLqqhffnOdGKq4LR4X202d3cfsc+yKGdEaQHmn28QLAQbNQWiAAmxmMLs3MO7rugCAwJG2kkxFnUBRW6cMeoH+zNZJsBJS1/Wsgm/fJSx7hLP7oifjoN35nK5LkRN218wsm7a0zQB+f4979/zSTlkz87cMWbzfg0pT6fbA2FTcDGrZVxkSBqbnTgOQUY2/GYTGpv7prxUBk4CVBMG+QnRSRK0GfN/3fd8GDsyxm9vhokt72kLfBH8y/q7LwHWU+aRl0hmvurcso4xd98W7jBQ+kM9OzmqcvM+tSVN2p2GfgFfgU2MyZXo+dwI+9WE/MU1gYwJn+/TLKbvJUIbftX6fRZjjvdUUGV0ydzgBQCDZOjJ9AEHaqv/awx9gn+t/67d+a0sJdh1wx+qRVEWAEhAImGOLGLlwrVUjv3MuOAhAJM5C8oQWmUfocD2ZAlbJTkLT0572tO05FSKck8YEyOYYTx250yeK1b/FgcWBxYHFgcWBq8yBBQbdN/ozcMwXnNkY0zfiM/G1+Gv8L4DO7/zO72w+Ob/rec973uYb8u2KefI58829y+r+9V//9e1lkdif2o9iARne/L1oiKbipnx/tLTIvvel879dOxeyi2UCSya4USyUTvSc2Y/84+lHT7Bqxl6BFvP3+D35Ho31pdhnxjUBOXsApHZ61vT9fS5mnLzMTy8basawaIjfM96NF4FGaIyWgK/Zt2iPzxP0ChdIruJP28Tm7/WruGcmVczFXr8Xw/le/KE9sdrMBtonDdyp9u9CgEHTwE60dBqUAjIDK7CTRSA1E2rMiDAEZQG15cQ1CQRhdp131z7kIQ/ZtqwkqDOo9gwBp2DUiyGTWaA9tGqnKvjakeLoO38T1Y7OMlzQStAEoJ5XNoSUrE49Qp+MBUg5Ol1foOz5+uaFHvennLPqPoS9I7R9DqBBXyl92vBc/cNHnyegAwl2r34JyKHu1XfJyLhe39yrPZ/LYNFHn/XZfl+86BUPO967oyJnIA4EAgxID60mDABAe2rImERs88koSBuV2dHpUCksGqtFo68+l0GEnkCVxkU7eOf/iZiHctcuOoALXsbCK+Ol36WsSn3FO23qS+mm2tfvxtg4+g0v8Qut+OmV0eo0BW2i0/jMtNWMabRO8HRPf7/NiaG+pY9T/+aEQVbR6aXf/tCinwFqTST2i//RH/3Rtm9c5o7UXu/JdRNkbVk9khUkewdPjKnMnac85SkbWEMGyRrHgFxwLryTYTLx/Oc/f3MQXIcW/YwWvAROcUaASMbD78Cju+++e8s0c08rARMsaxKbduKqTBJ36uS3+rU4sDiwOLA4sDhwVg4sMOg+Th0Cg1qYneBGPlK+F3+Nb8fH44fb4sX3KjNo+rP5hgEU4oE3velNW2aQLG9t8vV+8Ad/8Oixj33s5vtPH1b7/FPAEX/dZz52dSv5357nvuIbPna1i8oOEZegobiytsQS2itJoEVf92tPDOQZc6dCQJ/kQFAAACAASURBVEUxprYscONZ2+TQVFyFZv72TG7ogBULnuKKAIzGpbhMm+IoMUrti3lbpC9uKfYMeHONuFZswq/nEwcGFTsFRpW1hcfaEaMWs+iH+/QLL7yKD/bbAbWHl8XceF1byUHAj3v1uzIT8zQ5PPD8+CWuEBsYK8/uEBrXRa8+eIa+kQUyFZ4QMHZW+3CZr7sQYFCB1lT+MnYmutjWEEICGChTpOryhM7gMxRQaEF1ipRAUiCZAIAEAiW4S0B8Djwg3IJFwSllnaBJdU8qQitTJWPSViTtdNIRhWQEtcnYCGoJmTajlbB6PuVjGB2dLoPC9RkwQo0mL/3Xrv6FPKMHSOClf0ATnz1rouH46HQn/fJ8WRWC9Y75pnSMgUAcbylHxrqq/9qgRPr04Q9/eGuP0fFHoTyb0qLR1h/0BjoZU+1r03jYOmS7jr76TZ+cPGDSwDfjLIiPvmrJGFNKzxgADL75m79567fn+85vDB4atGcy0WftZAAyVoApdKDbseboK3sluQxAQZ825zHmPpf547omGG1p17gCRYy5P/Ki/57nOWWuBIKh1We0ZuTRZAXFmOAXUKUJpIydiYoHXMz0zSbqvdEKxAw08h5Cr50McQbbWANk6Jh7A3oC0prU6apr8duY6AOaWxnwDPx0TdsB1f/BK9dJ/wXS0Ad8RIeJwnjaHka2yIaxfvazn330ghe8YLtuD9o0dsZf++oSqW9GJgFUUpXLPEKnvwn2lNG2MoMu83S3aF8cWBxYHFgcWBy4Pg4sMOg+vs3AcfpG+Z8tjLqWz9RBIrZ62SbWYp+aQcCgfOQW8HrGBAL4xA6RUS5C3MJvdN+P/MiPHD3ucY/bfO6eiyZ+oriEn9pptvxMMYvr+OB8bz44f7pscj5sh70Um/JfPZOvqQ39KFFA7KY994gNi3+0KXYCWgQoTX6Im7RpMVO8yK+vdII20ex5LaajpdhT7CDuFF+gV3wRmMMXdr/YQWzHR8Yr/fXSRu17hvZnxo72+MToF28U2/KHA8gCwPjTxgWP+dLawxdjzn/Xn07vFZv5XFJGi7TJTzGV+FY8qi18b2dHC/ToE2+IDdAnHtSnsrHIWliBdtCH12KSCpUbL7EJ+vXfZ3RYGH7iE5+4xej665nFA9dnMS7PXRcCDJqZCAZkpm4FrhQwGjhBowFmVPxPIAwioa3yfNXnEybPMKgEx2ADhCgfwepY6bJ1tE8gAREUifGgBGVDEGKC7kUhtUU5tYeGCqYRNO0QaoEnYfe74JbyopWQ6gsF0m8CyzjZB2sblOvcR6i1Rel8pngEuJRFIude13uhyXO0BegIEKIknsWYBWbUXoiyttxTBhXeai9j4jmdEhBNjBaa8LDibugAxqBZP8vkMsYMQkWEGZ4nPelJ106LwhfBvgyOxsD9xtLLmDGClBXN/scrqwOUmMExNvHf87WH1lYFQsP1tawxQIXJRX+Nq/EsO6h0UIYmo4U2bfo/GXEdWSkDjdHSDhkjByaowBPGVt/xIqCvIsf46dr27k6eac/Y6iuaM677bJ8mniaJZGACQoFI897u82zygsdlLgXumBDJrX7rm34YAzLT/uJWILTXM32nPe2E/JdllYyTS/prLLTZeJRtRqZs83rNa16zybD/0fCc5zxne+H5dNrqj3fXqhsEECJfJku6K1U5h4I8Tb4c2ibWKtjKDro8k92idHFgcWBxYHFgceB6ObDAoOPBoLkFZ4IyLfAWU83MINncYp0KQLc9Z2aiFw/y4X/1V39122LG/3SN+1784hdvC8EdVMTf5VO2LY2vWLa92KIF9HZTaKMak+IKi+DiB+337BYqA4HEFNriG4oJyl7CHb5obfJdAUIAohZcPR89gSgWJn3nuWIXPr0+uIZPXOzjOzSLq/i4FsABLO4T57VdS1vFPsVPlUQom8a1eOgZxqVSHvrhGfx5MV/0i/3K5uG/l23lXvzFjxbJ2yUhBirmRmMnv+EN/gYuuc/z+eIW/r13apzv0YTHbYVDH3os3mpTnNBOCdd6ficLawt9+Iie+l/ZjgAsskJmxBvASQfWoL3X9dqLy3TfhQKDQpXnHj/BI0EIACLcXoEiBpBiEFzvpaEFIlFWwmGwvQTYjpP++q//+k2ZBOQC2LafUQ6BIkV1vUBfW4xEKX+BONoi1JSX8gjQZfNQFIYLkAT1pZjoFfxSds8NONK26wmrZ1NQ9Hzv937vJuwEX1syJfTb73jCIIQiuwYfCLZneRVIM3JoQmN8pMD6mEFrKxhF0Xbpc+hCM74CaxgGSgc4cC8wDl3awwtGorRLRsq1lM5f1erLJtKPwCzG8lnPetY2FgXi2usYSs/qxTCiB6CnTxlfgCCDw0iYFIyRPtZPQJ6+oSmQh2zoI1rapmQ8yJKT8BjY9jGTTYYJj00IGcAAMNd6dtvwtKtNPA/QQW+AGjmoiDKe4CPAMBnw3E5YYJCmzDGi+EveyF2g5gQmyvAJiAkQmSs3xnFmFLkmg+C3WbepDLayuwK88MtEZ+zIms8h/m35LJumzDuyzuh7xad4hQYyZAwZZrrSik2pqiYKvHr5y1++6U3gmrpCtpOR4wkA5Zi0GgBAwm+1iZxqoX3yJ/uIfMyJL2O+MoMu07S2aF0cWBxYHFgcWBy4uRxYYNCngkFzsTH/cnK9zCA+pBjGgSIAHfdVQLqaQdXxKSOIzy0W4CdaxHO4iEU8v/PVxHGyusUmYqKuFy+0q8Bz+Y58yko2uJ8vW3kLfrsYDwjQYn0gRJlASgvw/cviaQdCNAeG5JMG0lhYrh6la8RL2kIff198p03xAV/UfXzYYg+8bGtaIEc04Bt6v/3bv32Ly8S6FpK1z0f2mb+MRnFl29fa+YAvlSlxbwCUuK3DW8ShfPu2z+mD2MxLH/BEG+I4Y9C2ON+J8VwvDjJe+Ku+k8/89pI3xKzoNcbFwGLrsp7KDgq8MW7i2rK60CcuNP7GW2yhvXYOoAU/9btdKcaPX69NYyCm0wcnoJPLsqhWAenbeLT8fhW/4K1gkkCl3MAVARwh9z0hM7ht/Wp7E4WC0Kb07oFICwIJokGHJgM5BNahnQQC+kyhfUcBACsUDqIJgKFcrqMMbUXzG4BCdgHDRUlcA/V1DXopBQUjxB2LSJkJsOcJUl1HmWQqCLAJPaEOfCC86AnJpuAMGV64H39U6qeUDBAjKajWRwYFXdprix1lwzv8cA2eURxZLMAe7TEY9vbKvGmrDj7au+saoBllDWlndLXnxcCWAUS5KT9lDSjz2ZhBY9HJCLYPFp/bjuR5ngWk03dgGaCAjFDWsrvay4p++4tNPAA9NBkjkweeVNMnkIOBLtNMu8997nO39t3XtqaynExk5Mk46zMjZIWjFQU04UmoOZ679zu/8zu3U6uMPUPkXrzGi45HL9MJnWSOQfJ8cm7MjIf+6K/xwjPXzT2uJo+2WR6XLRS4EQBETzx71uYKYATE0j/9MSalq3o+IMr4tuUv8G+izAEzaCHr2pLq6wXcK6XVdfqLn9qmS8aqMQhUw3d69YpXvGK731jSqfiLF63C1L/ek23GXyFCe9fJnPFLvsljGWH71a4JbM2Mxpvrcq7WFgcWBxYHFgcWBxYHLhIHFhh032i0rSh/MR8vMKiFxr7nv5apw3cD6PD7gBiC7+quVqOlxdfqfbqXn9yiKR+Pjwyo0Abfm+/JZxVD8esAC2Iizw408C6G8ec3cQJfEKDBJ1dqwNY1Pqc//qL2LCqLD/jAfO9nPOMZmx8vHuSf6287LsSZ4jltoAv4gc62Z4nlgFpiCEAEOvzxe8WHaAzo8J14SB9KMsA7dIgf8E1MIV7xf4ekVBdTfIMnlf7QHl+9LWwtUGu/uEw/0c/fFsPxq71mHCSuAjgZEz6438TSrvcMcTNaimv1lawYKwvt/Hs+tri1ciziVmMhnsOvSnbwz8kDWRA7VOIBX9AvHhR765Pxwk/jhUaxF/rEHeKEypLUPjqLSYqbtWVRubEtFrhIduhW0HIhM4PaUlJgT1Db+xkiacDbp0ghZPsAPyjf/2vv/l517ar6j6/vQVpaiRCiB5VQh5FaHiSZPUWdKFRUdFBp/5f2+CPzR8Ljj8dMDSsRAg9CorJQKoLIAw2CMNMSyte1v+/9Hc7vtfZa+/HZe6+99lxwc9/rvq9r/hhzzHGNz2eOOaaJZMIbRAQMJepYQhNV+RSO8ogIMFkpfvlE/uiP/ugA74wDssakV74yGRwEDVKCYaK8jAUQazIAlZE72lzkDMNE8Sm29mGLTWJtLkG1iaMshoVCMh7uM7EB8k5Xci9lNqE6jlEZDKZJ8OlPf/rQFUSM9hdhwfCYSF6FBmqLyUmGyQwpgHBAevz5n//5IRuGNxbaPQguBld9bdXpxK4IL0DetSU6YzDIxr2RbsgNfZD4lzy0g9xN3LbbkTUipMmtP7/zO79zyLAImMA/2SFC9O+Tn/zkQYwxENpeNI02taVOP8mWUfvjP/7jY7y0+5d+6ZeOPtd21xt37fiTP/mTg1AjF+0tkqgtW67ttCsyQpqR0a//+q8fBAd9oi/kxVAp6zOf+cxhuOiHeumk9rZfVz/JTH/0jS6REZl5eGln+2ZbVVkfyGu+IL+3LdO4mGclTqcr9K2ke2RYWOxM4Ga+Mf4RKM3ZSKgZieQ3MqPnHg7GXh0lzlaHh1aRauTkpQ66XJioMSMHkUGRQeaRuYfgbY92BrOVK/Wrwz1sB9IXCcexYPyNjYcZWa77hOvH3D62yaAH8UjaZW4JbAlsCWwJbAncPAlsMujOmEzg2OJ9qRRaaGwhrW1ifGA4DImADOHHAfJ82BaAO6WqLU+l5yiCH7EBV/G5+cl8ef464A7v8Vf56DCQutwHX8BvFk3hAP4q/1R7tIEvamFSP+AufmS7TPim8Acf3XWu5x8ijeBHWCUySF18Wj6le2BFfjGfVERMi5RIFzjUtR2wAgvAX6U84feWeoQ/XDLsTtDl//LR+ctkKFdm6UC0I9KMDGBKcuRDk5frvfjV5Eb2bRvTtoIAyIfsBAIgm2ARYwm/8Z3JmTzIjbz40PnPsEi5feEW4wFfkwNiqROF6QpfnLzgO5+1yRiQrzYXwQM7uC5cSg/JBg586qmnjvEtjQeeoOAPMiOTdvgo1zi3XY0uhP2NmfKUpa9tdXsSfP0bQQZNlnlu6TBIJZotXw+20cABzogKE4piUQaRHJTHpCsZcac3UbKYTPf4H/P4G7/xG8dkpbiUBlECmFMERqboBBOVUhbdwOikmCIMKBEFNnE64pDyAp4Io0996lPHO+Ng0ijby4SMXe+UJkpezhttQT4wBk1m7WUMJ+g1mdvC5Ojskjmb6NhYk79oiBKWuV//sNwmvf61vc4kN5kQUQxWYYYmEdJL+xiFtovFEMfCI5hMKv0FrAPy+loo34c//OFD1v6EejLYxqScP8oqlw7DwwgwbogSZJDxng+eyI+MhmRzyCp/hToytvrdXtASYSv3fe9732GQEDzIKZEixqeEcsgg5X3sYx872qEcRjtmum1idMdDy/XKcz1SCMFk7Bgj0TSuYShLqKevfrfdCeFVPqtOPPMQLDKO/tNZspAnp9xDzZfmVNF1qzGbWzH9luEuoTjCie6WYZ/cGE/tpic9vBl9ukBvcgbm6k7f5dYVept8OjWhROQeXB5C6i7Zu3niwU/e5hndJNf3vOc9R7s9BLUPKeZhQ+dmZNCMgkJotZ+afpi7yrVFzKtEgvPkvPIDrdveIiJvnsu6W7QlsCWwJbAlsCWwJfB8SmCTQefSbAEyf28uRLqDL1/uTjiM3w+wl2aAz1iKhVJK8D1LvMwfa5sXrAKH8AlbgM1H40PDLR/96EcPfMI3tVDIT3Y9/zXyphOrYD74jF/Ij+YHloNWu/no/H340P8ID2QQf7ikxh0IxC+Hv5AxfE11qRs+LWKmRW6+NoJJ7ktt0b5yvSqbnz1P/yIP1/GPtRnpxBeGf2EGPrC28c0jzfi3/Fz/awfMFIkWeVS0u/LhRuMC98HXcDeMqHxtMl5wCEyjj+QOsykbXmpRGt4jk8g2C+1kqIz6aLGb/Pj8yupUYGNEXq7TxqlLrkWEIe+UTd/gTBjI9aWoKK1GRB/8SIeMLxnACRF+YXp9p2/IKPwBnU4vn08bclPLuhFk0LqlZBXWDD3s1CWD+4lPfOJQCoP7y7/8y4eSA+/r8YQGlBKZqBQZS0mhSj7mvk5xwgAjHdzDICAROkmraIGANMPjWiypSU+BESUmZ4SDSWhyiWJAJCAaEB9AZwTTTJqWUQuwKttE0h6TDVmANDHpMxTkZVKYuCJSGC/gGmGlPJNZvSb4xz/+8SPayKQ2cZEOfi8TfvsjC0ks8kk/lIHwYhh8Zjy0k/EzkREI2qD/mGqTUxu1rUmqrdpE3mQieseYSiIXY430ch+iwHUZC/UgncjgzW9+81G+vyZteqI+BBbdYID8j+k1+ZMZI6T95fRRBwNHNnTItjUrFu5hkFyPeKAfxoNcGA3joL8eIORZSGFJkZEW9BTho0xGk16RHxkbE4adMVQ+XUQW0o9IoPpYSKU2qt/4Ko8+MYhtPYtQLYqliKCidYoI6mQARtCDDrnpAdWJAO6j12Sgj14+d+Rk7ZoEbgRJxMlKBs3ImuZ5surUvRh9/Tf3PMwRmkXCiSYyf9/+9rffPSXBXEIGeWnfdEomGdRRk8bbQ5JT4uFjrM2DEpC33a32rjZpEkM31bjvdm0JbAlsCWwJbAlsCTw/Ethk0B05rphtRoCvW+n9xtdGBnWaGCIDXuBn8a87Car8QMB8wBz5g+hAOvA/YSuYz/8dJ8+X7VAbC68f/OAHj4Vk15Yuw/WIEn/5b6Vf0B7X8zfhq7YR8UH5xZ3qhcjhL/pdWR21rkz1u64kyHxN/jPchqyITAmv8Hvhg7e+9a0HFuB/wikwGX925gyywO0+cukk7Q996EOHTGEQfi/M4H74yZ+2wjTvfe97D6wgUIHcYAW+fLJoLNWhTRZiYadnn332INRgEri2HKrqR7bBfPBi+XLhmsaD3GCtgiaUp63GWjnwEuyiDeqA62AQbdZvWLBTgfW5P9gEjoeB3Ef+xktaFXiww2tKTm0sYF5yVpc2Klv9dCnsnU5UTykpZpqImXLj+bEmN6uUG0EGXSaSs32plMWkNciIBGDa4Latx0SItAmkUswSUFM423aQOCVqNjk6Sh6T6DdEBNZZeU3KomYigygi5WTglGWyYRxL6tseUYr+zDPPHJOHAiI+GCjGQTRJ4Dxl00flAubYWYBV3RSYYdHekjNHfJGV9pjMQLX2lwm/sEhHcYvG0cfIH+UgP2JAM+TuJWdyaTKShW11SA1llhXfRDMe2utahtvkZEQYw8axcVaHNn7gAx84xlC7lclQmayRQW3dM2bIksggxvItb3nLIYdk1uSPBNAOJFxZ4o2h8kpm5r3olBIlI3o8jJRrH3NHN9KDwh6NJf1wLUPHwDDCxr19z4VSetghelxP/8iEAaSvHlLkRRcRGwg88lZX28PmQ4sudxJcib0jCD1olGksI6Ni05sDPcDLJRQ5ZxzIdiYUd0/RNiWz8z8Z6q93D/FJOs1InHTI72Q7/1aCyjUdL2/MSi5NHuRnnOiT8aBPHjauI/+3ve1td7dOesBI+mbFyJzKmKtb+cmjyCCrK8ggTgC5uc/8IntjEBlUX6YDtImgm/UQ263ZEtgS2BLYEtgSeNAS2GTQuYTbip/Pmo/U1UiXcmjyd+E25Am/tYTNfDZ+MjLHeycO88n4fpE/fMii00uNwDcOw1lMFG2jDPiIPwif8bn936lcEVjIDySOP74mHAJnIRf4gjABPxkms/jNN0QidHx5uWvhiRIwu6c8PbCBSCJlhyH53xZh9fXpp58+6rAgqW7kRvlpW5zPTy56h/+LDII981+TpXvJCD5BhFh09xlhVJR927TWCHrjZLEVZoFZ+cnwrD50jD2cgmSCZ+EtY+FFxkVdGX9tN6bqNvbe4UZ4iXyRX/7viHfycA0SLWwRpu2EMvKHm7wXOUZuv/Irv3LIjXzz2Y0PXGrxvnxA7cip7kjIGXAy8fjEKxFDD9rGPKrybwQZdK/IoIxKxgY4bE+kQY4Msq2nyKASRyfUwtVMeOSA0DkgEOMMoFMQikhhESUAPEWi4AxJE7GJE6Cm7CYDRTUhgcmO/EYMIKUotglrQprAJpRIjo7EU35AM2WLTaX0CBCEEBBu6xXQWgJi9UcGRVAFfmuzyWiCMDYiVExwE0R5bZUqWiYiRTvILNZbWcpgZOz3LDIIsGYkjQFCQXsD7wgvZMoZGaR8k7nIILJGaEwyyIPA964zZpjgyCCTHhlkvGe0y1yd6GjGDIdxMMYMts+RXGQdSYQ8imm2dU7727ZW1n0PBERFWw5dTy4iVyIRtKME0saeQSVbRBrDxRjSPQy38FSGyuqD9ul3SaOLsmlcIle0V79da4XCmEwSY7LdMyqmfdjGVn+Uo52ilhB6nWpA7/XJvOiUNDpCX4xnD8MMdmOQ/KcBnRE6dDMd1xa/1dZWPjyISr5OLsg3DxlzRl/NK/eap+985zsP/dCmTqRrb3bRaM2DZBnhZFxE3em3B5K55V6rEW2/PFvhmkTXJIoelQHf9W4JbAlsCWwJbAlsCTx4CWwy6FzGRZ8nn+knuYMvD3/xnflcXu7hN/Nf+c5d0xYyfirfzuJvuEc0vr9wj3pcB3cgdcoVA+sgg/iqHWPO59a+6Xe6l0+IBFE2fMbnhS28OqEKfrJQCU/wP9XlO/dOMqhDb7SHz2wxVVQNfIMM0p5808ig3/3d3z3KQlAgdOx8cG2pGMKH3vnJ6kPEwHL8YNe5V3vJyr3kA9tYbHfQivIjg2ZkUOMUftQ2fTI+Ioo6YavF7g5Q+sM//MOjbn++a1tY6UAmcaIOmMsf+XaQjzZra7t9YDL+PLLJSztKI+F7fSdf15X+hTzh7l/7tV87yKDIM3W6Fy7FEyAIjT/5wjXlp51kkPaFZcJNYZn0+sFbmEdXw40ggy7r/mxcoHKSQYA0IgKx0lYZkxdI7i8yqczmJjMyCMEC3IpIcX/bkQBRSt5pTUDmZHMjSSJZmtzqpNi2ClH48scgHwBPUTAIhMggCtk2sdlWnztWHVBHWnkBqEU+MFYiNZqA2jRzwEy2N9BtAkmMjU0GsItKArRL/pus3K/sNfJjJmJjgDpKEYuMYEKUlDMoMoiMM76TbCJvRgpzbdLOyCByYcARLZ3EVs4gbY8M8j7JIOUXZaJtSBgEB5KPTLUtAi1yoKgRvzMY9AQpVUIyskb0dfIXOXqo0REkSpn0Me3piTHsuHrl+56MPdCQNggN7UAOik6hFx1RT386QcA4zDBF4+yvSKt0rjw30yh33TRqPbAj+7SNkRW+yWjSfe1wnbI6hpHu+azd5ePKiKYz5NlpZMr3e3o4DWyEUbqQ8Y5gNV+MsbGTZBAhZC7Sj5Kmk0MPQw9o5ZMZss2DV3tn3qKIJtd1MmGn4RlH+obgbLWgsOUeDnOVayWDHp3p3jVvCWwJbAlsCWwJbAk8LAlsMuhc0vmW02fyOQzBx+80MdEwMIPfpERAlLS1iT/Hr+af+czfBtxLKAxXlQ92Lkby6+APZJDFfCcJ8yXb+QC7RCSFR9xfhA9/UdkFAPAnETnwCx+/Q0f4yoiNmYokifB/kRURRZWJSOG/RtK43m987SKDEDf6CRfaPdCWtun/t/tB/TCDrXAwBKzUFjNEUrmMJhnkM99Y+fBNkUHhoHaRaJux0q7f//3fP3AODOxesiFDckUGwVblTfUbmcA65XlqV0BBE76Hb4xFJwbDkeXrVR4dIcOit8JAlRFhpD8wnvbrMzIIERZGch+8J4gAIUan2iZ2v2RQehyOeVi25mHX89iSQcgBZBCjgswRGYTxnEcUzm1mwH5bxWyXsoeRUiItTI5IB8QNBaKsWGsAHhAmqABmuVYoR8nOKF8RNoxVyovdBLKRQW0TQ1ytZNDMTWKyMzoAsbZiyk060SoAcQmITbyMxQT6q/KWKR7xIHzSpDOBGAR9x5YyevqXQgTk58NPuRnMJpvJSZa2GTHe6mL01sigys74MIQigzD4KxnUEe2dakYOxhvxp+1nkUH1uSMYi3hxn3EvUZ2Hg/EE+BkHhlTfZ1I0DyZhnYxyCcmRfiUlM54eOsaI3qizk+sYwHL9KJ8eldgNEWQc6Qc5Mehl5Wfc6KNxKXF1W5tWVnqubtC5kjjHymdEiopp9aT5UBhkelyEl/54kV0RU/SbodePjo2kA+m633vVruqPnEs3yaU2pgfpfdu6PBjItqi48nc1HnTfeFmxMP/phrlNdraSWWXywDmLjtJv+urecoMhCs0D5XsYNz5to2sM5pyKHLrtD4eH/TDa9W0JbAlsCWwJbAncVAlsMui5k0EtziJrRPnz+5FBTqriW/KxEQF8MhiMj8Z/5z/ziWEm18EH/M+JfUqPoQ44Adbxu2gZRIl7+IUtcucDuybfMwzkmsrXHovELVDCCa63hUx5fHlYgv/pD64JG8Bx+gSzIYM6jToyii+KdJHuoG1i/NtOmYZN/BVJ5DOfnb9Ohhb2YUptQNYgQ9odoy/tBoGzfHbNTCBdm8mioAH6jWQRGYQMMg52ooictxBcZJB0IxbFjYnflNtR7GG9dvOQcYvSyZVcSr0Bc8CPCEBBAq5v8VmZXvCH7/3eUfRwnXE3Fh3OExnE/9ePMzIIX1A+2OtEBm0y6L8OHRYgUU6mMOX/+ZbC/M8UUKv93k1giacoOiUB0EyWyTpdF0RdFhlkwhlk4V+ICBMIGUQpgPfCAidzXBZ2TKfIIO2kcIgZW7tSMgoJpDMeOl+W9vkQWEF6IDgA2WRoTymCSRSMOim1rWnaXMb4NRSNsWF0TBIMt9PETHiGE0GB9GIgTaaMWuMxLuI3BAAAIABJREFUjVuEjomo/8qS+Et7SkRtkPWfzGJ0ldUYJcNJEvldG012xlIEB+OEGFGXfjHwbRM7k93ZNrESSM/IIOMSGdRWJgbvt3/7tw/jV/8zaIwDIsE4IhIYcW1i0HqQlACZkWEQKbg63v/+9x8PEuQH4+0B1NGGjFfJwD3IsP/GuXrJmvGJDPJAoff0KBKlYxwRRyWuQ/RFWBlPY2zO0A9/M8orAqWHwiQqZsTKOm+6rofejObpc0cyMrCMvPGhM/rkGjLqwYfkmq8Mdvt1O6Gto+k9vPQDidRpDuna1FH1tEWS7ouIM+bqRi4y4EXqaaOxYgeMnT5bYRIdRP8ig9Lj+mncPHisFJiP7JQHWpFHbZ/M5ZlybV5sMuimuuq7XVsCWwJbAlsCWwIPRgKbDHpuZFCniUmHgFyBGfijIn4ig2AQvqKo+k5/LoLIIj+fuJybnfDLF1MOn7MIE/45nMMHRwTBofzGsGGLpHoSVjtLZ8Df1w6LjnAE39R18IEF6Q6XiSRRLv8S9oAz4SHl81sjg9opUWSQyHcJpPna8Iw+tl0ssmYGNeindiCRROfActqjj2QzD0CJDBKIwM8V2IC06UTjyg87qkf57uNbu0//3aP8TlYOuyFl+M5F1efbF80zfWcL++QzTx1WL5wLw9upA3uUZ0lklDGzONtJ1zCYuo0FzKRt2hoZZEzy+7VBXyKDyHkmkIbt6NQmg/7ffH5sI4PaC8ioUBxgkVJQIOB0BZmUiGJQCsQFMIl0QCKZHIBrx6QDoCYYYC4aB5HQlqy2FZWIjCjbHlOkTkxoybMwxcigIoMYP2UidDqGvnIC7ggvbRQ5ggwyUU1KxE2TnnJHSETaNKEzdLWXMTbhROKQHTmRl7JMoo6Vd99ZBEkqM7cqKdtkBNqBa8bPH6OB8JpkUAYnIH1ZzqCyyHswkB8jBuxrMwPF+JHDb/3Wbx3jFpGm3E4fc315cLSJQTGWDBc2n0EumiX5uYfxUwf9QSowynTL/8aWjijXqoMHlkgffS0ENVKwMaQj7lV/RySqW1naKspJffTCZ98x2PTD2OhbCaHnFjufyxuU4U0OMwpntmfVr0n2uY4Oq5+eeNj00k9jXHI31+lXp4yRp4dAW9vKrUTunU5mDLWPzneSGuJrEi7a7aUeshC946HO6NNNp9MZj6J+6I/fELcevNqIvDVuxkX5a6RUSQzNb0SQ+a7vdM7D2jzoqNDp8kzCcT7grktqPxi3dJe6JbAlsCWwJbAlsCXwsCSwyaDnRgbxLflbgDwyCGYgS/gKduugntI88BnLEypSXZQNH5MfjzSJJAiH8R35d8gYBJItVMriR8spI/qb/8kfL2JdT9rZEVkx8QR/n49pN4U28Cm1oROptKGdBfxGC6cWovmWXi0YRwbBXJMMmpFBPsNLfFft7bCU6WPmmyuXDGFDZArZIdX4rzAlf1k9fHgBExa5+eMIEGRRR8x3tHw4oQNqlI9ssr2Knw1nIYPgZVgHaQPPdlS8iCN9nEmv20UT3kPylTIjrErWsLFUIQI03KOOxoq8OiHZWBlrbYMNYCb3RgZJIE0vInfaudJBU5FB+t9pYqXrqI3qSN4zvcbErg/LzjyKem4UGTQbs5IHRR+VM4ihwNiKrBDhg500mTCrBjkGMnIEMEUCmUS2M5lYlK7jvikrQiBDRZkYkthUdcyj/pSrLYwUo6F9Jpd6I4UYmPL/COkDWrVNndpp4pbhnhJqkz/3Y6VNdIDYVjGTWWQFY1E0DxA+wyXdiyQAqAPXJqAJrD8MlNOrTBDfu59h0Ecgm6GcW8U6ep2RKOoFAVVumrZkIZmA8iKDECRFapW/qfGLrIgMQqwoZyaQZlS0WV+QYgys8Ub8eTehf/M3f/MwUpF0+ldUECOBtDHexpWsyZwRKJeTfrreaoJrPKgYJbIxJk6GU34PEPV0FLzcS0WUaIsx7XQ3xqhtYvpcyCmZJYOMD3npT3mq6GX5iugyg14SucYz0qbxiJghr6Jt1DNJuzW6pXkWydHDsesKGe2EBsaffKwEGDd1+zNOhd/6XL6uSBf6pm9ITXXoE90lUyToJGtyAug8mTD2CEBy9oBAkCGDOrrSnPOApndWFtShbA8m5dPnSbTqSxGFRZiZu/TBg9f2MmPZ2J09DHpY7MigR/Go2nVuCWwJbAlsCWwJPDoJbDLojuzPsFogf/pJLWIWGYQMQjQgg/xZvOPblUumXJOu5/eL4o5c4ZvxAYF+REH35LOVVsL1CBy7CviL/LoSQhcNki/OB+UHIk78KUsbfA+7qd8iMR/YvcpBqsBN+aLq7YAaGBLOQ1jAYXxFOALhZWEZXiMT5fudL/r2t7/9wKRFLyGDkCstfBZcUBJri6Xq4PvyxZFTFkLLHdohL7ANMuh973vf4SsLJNAGpBEZ8tfLeVu+IzIvKguBov0STyPh+NNF5xSVpC7+Nt8eXg4DuK+dMp3WbExhGrJXjlf5dOmD/mqjckqjkrxKaQGDwGj67zN8ANchg/j/sHP6QDauFQARGURGyoYTkGgFA6yEz8RIT4q/f6PIoNXEr9td/N7R8gCjiBlkAgVoP6SBRvIgZvoDAhkIRsgEogDAMwU2iUzwtmaVx4WSUX7lUSAK317VSBcGRNkmGmVlLNTbsYe+Y5CQE/ZYUkzXFBlk8s9jrE0Witc2ora0IFs66QqpYMIwigB4EzQwjdjQJm2LXHIdgiPwTHYMir8mhraUb4ncy1rf8fIZNsaELJA8ykdoIOQYTe11n2sig8rgT+Z+K6kYudjLGhlUAmlkiPaWV6ejBLWZwTCOjLvIIAaZrEpchtxhtBkYRhax57vIIEaGHBhXcjLGjLC2MICIMqQCko4+kTMdMUaMGONKPxgX8vNdR667xtgwXoxcEUCMpWsiocijqBjlKaf26htSyYOAsWastBch5E+bO+ZSm42x8afvDKl6I3SKjJtGLYNXmOyMAJvsuOvabkh+iBd6oG4v//te/eSvjQib9Nm99EJ/EDretde46ZdxMMbk0sOoeU0WiDz6pA7X6B9yzniYW3TJ9dqBNPr0pz99jDXZeTDQz3JhaUvbGUv8rWztKWyUHmkT/Y9EI6OirnIcppOTXB+dW7pr3hLYEtgS2BLYEtgSeFgS2GTQuaQ7wCb/c/Uni4Tn3wHmMA1ZWsT3QiJ0NDkfrIVIi4MWFC2Iwy/8TP45X5CvF/ngnk6lsvCPBOHT8xP5ee2o4Bvmi6vDC2bg38ImSJEigPjH6hZZgyTh4/MTkTsW0PmmbdviT5aTthOE+ev8f+SRnRIW8ssDNMmgd7zjHUfEFN+WH+96+WpLl4Gc0i5YCF6AI0u2XPlk2CK66/nV8AWs8p73vOfAj2FYeBdxwl9vEZmcyFo7YC1kFvnxqeFVkUftROHbw20IGT46rGMckFjGBG7xXTsNyIFs4K0IIrLTXt8jq2Av4wJvaR8MpL30yH36AoNqn7YhgsgcCeceCaRhYvW2MyMyyCI/PKivMAjMqz/qnyla8u+978igrx26X07fh5YzaGWZG4x1cALEhRCKDEIIGVCADmj0MomQCZSCkSoCg5IDhAFoBqLwNmVTLoom0oBBMQFNUJPGRDZRi8QpAgeZgAQx+VwXQdPpU+oGiAFWk4vCyy5PISl7J4qVcDpFLqrIPcC0iWeyUlKTraPpi1giQ8ofSDd5XGsCtJ2pCBhyQGroL1lgitvu05aomO6IJeUC/iYeY8gI6ZvJKSyTAez4P31CspFvSdaKbNFGk9o4CENE0JElQwLAkwkyqRPO1KtcMvQAIQdtlldHWyJXjDcZdKoAwI8gcK/ryZzMEBdkTBbIDLrkVZ6hSEDtQCJFBmmPMdVfhoue6L9xYiTpSYw8g9RR7N61LYLQe9fSOfJl2MgQCUKX1UU/CvksEsuYuL7jF/XBNcajh2LRQRE9za1JDkVuTKJo3VbZ3InA00+f1VkuIA8k46P/HhrGrSR9ZBvRZRysmNB9c8QcbYuk9iq3k+k8tOgSvSdH4+ABwxi5h4x7oLjHtbbacTBKwm1+kJ9XpJY2G+OSU5OPuWr+r7nGIs0ixVYyqJUa7/tvS2BLYEtgS2BLYEvg9ktgk0F3xnhithkR1ELjjNbhI/Jb+YD8NdjDIl64DbHCd+TDtsVJHeWvyT+GAZQFK8EK/DY+YQuvMBh/Ul18Qr6ee9sFMrGF63zPp4aD+Ifq034+LMykHn4oYonf738BAW214pfDlzCHOuEBvrkXXGjh1D3aaTGzU6BhArjF7/APsgYmgxP40a4vJ5Hr+OJThq6FobSVr4s8gm/aneB69XaamETQ5M73do32wzXknT/Nry8qiNxgWuXDQJ1i7Vrf6atdF8axw2b0SbvD3/6PDCIfstGedjLAOORB/oglAQVwAPkqA3aMrHE/XEYG6oODya5T25TjABj3wCIdbuOeuRsmjG5skW2d2Ebu7YhZo9tm+o3b7u/fqMigmSirTOSRIxrq9yI6sFYmKZLF4FOEjr6mtOVVaZ+lCWrCBwIB6BIxt42KspnEyjbhKB2F9jsmsyTL7TN1vUlJiU0ySkzRKBfFx3oWNojNpZzaSgkLVzMx2y5Wfpj6qm7lM2jtkWS4/KmjxL0z+XP3Uu5AeuWTpYnMsCkPIaMO15koyuwktLbA+d0k0GdgvqMJjQ/jzCjoWxOTLNp6w6CRMSOkHLKPcGOckAT61piQSWQBAoBR1mZtQb7YV6rdyiJDpFOngnVCWCsEymWsyJ8OMHxeMeGtYEQsMDjGi54oX3+RSCUx8/BheBk1RJNyGU3j4zqvxq8QyaJMMs4lYKYrkwwxJvpFjj4zkK4lx7aZGZ+itfxunLXReNDlSDdtaJvX3P8csTqN3XTd5kpORmGeBpADYCzaWkd/6Ll2lCy7IyZdRydcQ0/IquTa9NZ1hYBOoimj71pjSu5e5lVRQUXtuC9CUh3mrbaRAdkh/mp3Kzh+d7/2mnt01Bi3f/o67uyTEjZ6HVnsa7YEtgS2BLYEtgSeBAlsMujOKE+slj/GL+pgmbbfwEgW1i0M8pl95vvzDfmNfPKiuOEn//PdyvvKd+eX8x873Mf/fDs+NB9Rvfzv8rDye9VTXXAcwqjcngUK5He24Kk9c/Gf760uOMUiNF+/g2FmFE6YQ3nJBo5AXPBn9QVRAq/w/eEIpIe+KfsP/uAPDvmo2++uy58vSorfOqP0tQPebQsc2emf7/25D2GCaHnve997yAJmIlv1lzs18q70K9rLp3e/64xNia3b4hVONh7azcfXFz60vkaupA9+81Kma8JiZED28JQUIMbJ2JGDvoVLS2ehb/C/srS7E97giLB8Sb3dg9yCAbXTOCqb3rjG9QVktBOlgIXwW35+C+X+v81/N4IMmgY2YZ+FaUUGmZSAn9wtojTaWkN5ijxxjQkEBBpEYJqimmjtSaTshb414CUho2gZMIZLWSY7gOxailkECEMErHpRNHVGKolYwC4zDhTZPZRd3cgPpEcTTlsm0CQX7UEQmMwducjImJDlbmHEAGDGQFuUb+IzlmTjZYKSn/v0pwgJBtpkVpbXJABqqzK1t0gm9bjHti1kkDL0LeNaRngTTugeFtZ3HetNJmRLJsgh9RY2WFSHiA33+568O11KfeTgz5giwkxw/S0yRV8RJnQEwdLqQPuRO2aewSEjRklZxoxcaptxZGi0yb5ZRpFB8zsZMjb0TBsQChluY0YeZN1Le5RHB8lRJFshq8ZFefrY8ZsMo3uLSmmlhd7pX5FcrZAYI+NVhNncAhYBFAHWfJuGrXqaBz3UuicyqZxF3vVRn/z1sC1MM12ju/qmP+TrPcIrncsIlyOJjIwN+RTaSqeNUVE5OSCdgkZuCFzzRH1kp41e+mDsjaW5YLw9AIqYm0diJrfbbPR337YEtgS2BLYEtgS2BO5PApsMuiOvs8igQHugOb/WFh1+O3+cz1yKA9fBPDBZOIhPhuDIJ58BAPw7ET/Ka0FUO/iFsBScwU9XXpHgbSvie0aotDCtH/xCeEY7+NT86U7/5dfzI5WBDPJu8TFfnq/d1i7thf2UAV8gHyxgIyPgHKRVi8AdBMSn9/u73/3uuwfSlJNVv9u5gNQpvUapKdQXiaa9SJ6ZJ1S/3CdgQrJnbUB+KL/gBzIyFmHbMBUsAUsZhwg6OEzdjX2EUJH8/G/ltTuFjMknbEqWZANv8en532Ri/OApuyLIN99df0v/wT93PRyWrw4HkB0sqQ98+xZ49VGfWrBXJqxCPq5ThroFkIhKg8XgjbBFWCc9flIWf28EGTS3tPhco+Z+vvakRo6YaFhPhASFlZXexDQBKH77DA2scgBoA+7akkz7rtCvDFn7SMsnU+LcAGygOUOWMaDk5QxqogCm2mmSaLc+lPBY3Sb0jBJqP+kE7eqjyBTeCxHkxSgpN7BbHiQTTjs6Rt0EKWyObEsKXVgjUkcfGZ6OEi/BmTaaNJXJyJbwujw3DLz7ys2i/JJ4MY72fzLSDEnHAjKs5RdiWBkQfSfLIkwQdoxRKwTuVSd5muTaW6RJbDdZdhR8zLD2MTZFcGlnkSPk5J5Y/kJZXc+YMyj+yEA/PKiMod8LeSyiSl+Nlb4Ya/caH2PX+JE1+bi2E+HUXSI6Omds23OckW7FoSgh/dX2GPZY9JLfxfbPEMd06l6GbRqDXKS+6/7mZxFok2hqNWg6A+RBP+irB7L+dWz9JJPcS5bGn7zNp7YLFq0WIaYNxqGHX3Uomy57N34lBeyhn+NhHJXf6khyu+4KwJPycLg/N3lfvSWwJbAlsCWwJXB7JbDJoHMyKD9wYjf+OV/PVh2LsvnU/DU4iw8XGcNvb2cF36yo+HCZstyPAEAGKTe/mN8GS1lALp1A+YP4gvzuuY0L5lBui/r8QgQIfxpRAePwOWEWbeSX8yvhOeXBYfmfsBV/tQVGvjgso61FrmgrucAyfE74s8NKYCE5g2BGmAdhpC18XJjFvfzYubsgskZbI0ha6M4/LzJIvhwnqykD5nCvdri+8juMhjz81olp/OSOi8+3n5hCmUVAwWT8e7IiX+OVfMnIeOo7vFPkEzmVC8kYeSELYQVtCxMUPNE2t06+hgWRSBaYO+WYbNUXGWjcCwgJ6+u7F30rTYQxDMPOhfSJe/Y2saeOOZEOHDrxLcX+nzN22Ncm/rPPPnsohePo5HYB8CbQXMOtZqRC27sMVqAr8Of/IgGwxH/6p3965JGhAI6epmj+KGInYLXFSXnlbjEhsKNzW5ay216jjLaX6QfFjA3uMafcEgWXJJhRIazudZ9Xx+rp59w6VCQP42OyzPbMSA3tKtJEO0riW2RQ8sywmiwmdfl02g9Z1E+kBQNUUmBlqSMGWpnaoz9tH2u7HFLChC2JV0a9sQtUkwvjaFy0oTxE7o1oKdqq7PJFXDFCJW4uQiqij0x7mBiPQjfJMAZb+7t+noAV8C+qqITf+qr/yo74Iwt16wcD4zMjL6zRGFvNoHvGbx5ZSR5FB5GJtiK/PMgYLuOE6GCMsPXkQ87qJxcPG20vsqVxm21vm2A6V0ROc6bImfSInDLoc75Nt21+38N9kkKT+Ennpp76Lpn53BY8skjXPEAigchlPtBLfNd2urZmGt/qyyDP9pX4r22b6XRbHDPuRQea/5U9H3L1dbVPt9e13T3bEtgS2BLYEtgS2BK4jgQ2GfTtZBDfavqIYbUAI1zB3/cqWjuclQ/nWtiC/+5V3qAVfPONEQ5tS+p+dfLPETKRI+oon0+LsuW6bFG+NvI7+c98ePUrq6iWsBKfEhb0zn+dmKsF4Zk7dObJyd9VByzhOvXwfeHld73rXQd5IWVBB/SEJ9xLhpFBYTLYSBmlCMm/n/hUmcigZ5555pC9KBhETNvV9M33jUdBAMYCpuEntxCr3HbrtBBcrs+JIyOCurZ2lzuV36187Sbj2gAXkBn5Ki8ZhwtdX399Rw7GA54q9YM6w38tEBdBli5F4vk/AhDWbAvcJNMm5rgMM13HZjwu10yOpp01jyyBdIZlKlKDQ6CRQcA9plm+INvEMKS/+qu/egDraUgMfKB0hoB1AhUj4C9AG1vsf/cGMr3PiIiuC0gqI7axBL6AaPdFeNSWiCf3mxAlPpsRFVMGyq89GdtA94yeigBQXlEUtdF9lTmjeOpXbU3OU/mbSN4zPvpk0rpPu/V7kmnKiRkuj00GJbIu0khdAf7GzD1tC8ro+y0CYe23fhaRFCHS+GlrsnHfjACJYGlM2j+cHBoThtVDqATjynTcIgNb8uYp3x4i3rXZisJnP/vZY4VBHUWp9QAo+756G9vGfSVh1FO7G+fI08Yz+STzxiPZXEbITpJlEkpn+p/Mmg+RQZEvkZBzPk09TKfTtfoy51crHnNuzL40H3pApYO9d5/3ym2urpFMjfnjYrx3O7cEtgS2BLYEtgS2BB6OBDYZdEfOyWH6WWGAFpTzr0ot4J4VZ+SP8lfDQ957TWymHCC/3RD58aXuiChRZj6ytpa+onffwRthwvpSG/RjRqG3yD1Jk7QtvzJfOdzinnaDhCn8Vpu9I0Bsn3vnO995EBuimiwwywHaAnEYwPvEm7BRmGm2f8pT+R/96EcvPvCBDxyEiS10Fq9L9Fxu3cYzHz88FyGW3zyvm4EF+d7JKRw/fe9kG/6qzLBoybtrQ2U0DuqYOLJ0GKWpCHtoY1io8Z7YoXFK15QZZl/HNCwaT/BwLMyjq+VGkEGBx6mMAesAWkqOMZxkkJO/RFi86U1vOnLMlAxqMoEpYGzxJIiUvxIlGaBZd5+nIWzYJnEy2dMp3L6fEU/T0E0VWMF/yry2a7ZltuHs8/rd7Fv9n0al32vLSjJMomD2YxIt84FR2GATK4Z27Vv1TTJjyiNioTFMBslvGpNJLnTdmWwy6Os11eW9HFCYfFsTGZo3vOENByHUiXDzYeIextgDAdstZBQZpByGzD32/Ard9JlclBn5kfwnGbpGxcwHUeMx59Ak2yqvB+C66rLq7Xp9YzDl15x0beOVEZ9tnXN5GtxV/ydRdfZA8TsZ+a151D21a5bhu/QuYmqSYPOebNDs36Mzy7vmLYEtgS2BLYEtgS2BmySB/IN85rCFaHLJgAF7hIWjvmESW57OfJOb1Kfn0pbp2/PJAtf50BE0qz/mvvzBSW7ka+e/5rvnRybv6fvlP07MEZ4rhcQkhibWqJ1zUTl82Jjm155hp/qw3u/afM0Vk8wFW7/ZAeA0saeffvrACE4Fg2G9w7TImunDrzhlYriJDSPClPmxj33sOK3MYjas0mnQpeCYPvjEE8lt9YenDOf1Ey9ODLCO/4qx5viu9U/MMYm/dGtdzI2Mcu0keGrDWbtmeybm9P0MdHgScEF99P7II4OmQk8D2gQHrCm1rToigxxHJ1JDZNDP/MzPHKxqGdPLqp4RSVmnAZpGMCMVKEz5um9OvIxGxmIq0dwmM8uY11wGYOeEmkB7JUwmoF1JmpR7tnsavmQ5DV2/r6D9TAYx+5O08N26lamJtE6w+bBYxyIm9sy4uy8j67oMxdq3SJHep+wyIo1x4x9LPQ1D+tB4Cke0NZHeOQaeLmLyJZUuubZQyAghdbSdj6Mgz1DJ5ISJSl6GDGKUO7Y+Iz5lmQFb+zN1d+pKfajfqx5N4zzLSCaTTDojTrpnOkWzbWdk0LoaNB+gazuTQQ+j2jvJpjOjPnV1GrXGfI71GYmVPs0+T/nsz1sCWwJbAlsCWwJbAk+uBDYZdGfsz+Swki39H0j3fyB9+n2zvIkB54LlinNWHzn/dQJ/97eToBPEwj9FLxUFNPFE10wMWrlhvxmxPn8Ld7k3Qko73DfJIP/DsRJi/97v/d6xcCwiyO4WZBBMa6tYqUMqd868lWQkg6LtXSfaCEaWM0gAxWtf+9qDDOp0sA7nmalB8rNXoucMF6w4dCVIZxnTJ+/76ZNPfSoCa/rk6c4kx8IByaZyww61pyiz2b4wZOM49W4lpZ4UTHAjyKAVYAbEG2SDKJcLJlWeGq+OJpeLpSgLbCpCyN5R+wHtMTTYK3icyhIRMI3BOvh+y/is168KmFL1/TRSGY36N++9DHhPMos8VnJlnRCrMZ0geRqqVebTIM/f5vfJbbaj+taJW9IuE3E1ZMqZ8uwBMcmgDFv9a0LXnlnmSgytD5oz/ZoPjXXMJlmREWRMy5xvBYg+InG8GO2OJp+rCiUjF83WyQDaYouY7WFl1LcC0LYvv88H3Ryz2a/0In2sP1PHuveM1JsPlSnTPt/LeE+dyKhOfU8/1rFaH16zb/Nhn/x78DaHMtzpxjp/JhE45ZDczubd1KMpw1U++/8tgS2BLYEtgS2BLYEnVwKbDLoz9tM/nBig7yNyJlHi84ya6b4WoVscnv749Ed9H6HS9qB2GsyDdNLOcAY/svw0q586fcN+ywevHdOnz4ec/TgrY+1DC+ba3YEqFojlH/2zP/uzI5pMgmQLyzAsUsj/sAIcuy529v/Eh/opokPABLziSHUL0I5th1eUK1INTrYILXBCigupVeYC/PTTk384bPrI9XsSNPPeibHy7/O3p6wnpj3TJfekI3Ox/QyjhAW9t5Af4TfJoTO8P9s4dXGSkrfZ8t0IMmg2YipfyiYKQ7ZyBBAF77QlzKrJVcJZJFCsZwl6JavqbzU2Kdg0bga+7ye4nMxoyjEBrLID8StLneJfRpxU3wpG52SqD3PiTXJgAt2psBmyCdrXCJvaN/u1kguzD9NAB/ynQdSWZDGNzJzQAf3CS7unB0YTt0kbqVQ/MwrTUDQecyveHNuuXUmJlSRIDtOgI3Qw7YhIW8VkvWd0S5jWcZXJTXtLflay6hKzMfKMMSNfdvbGqQeYtq5htH6bOjvluY7XJNv8ll7P8VgN22UP+GnAVwM850DtSyfWeZWcG9P5QJhjkH6mE83DdGDOxUkIzQfB1NEUudYwAAAO+UlEQVT1YbP2e5bR3L3NRn/3bUtgS2BLYEtgS2BL4P4kkP+Tf5rf9qRuE5t++sQjq9+dD5m0863nddPvS875q3OBVD1Fs8yFw0n0TLyijeUzqh0rnuj76l39x/5f8czq6852hzciUmAEGAIJBEM4ScxnuUj9lVhZIAN8YOeBRWPE0JTNxAaRTNqFEJOGwqlnn//85y+kUJG4G1aR37VThyWHFnkkRYXyfRaBdEauTDnMsZuYIBlMvBQe6f589hV7zYX3rq288ETl5puHz3pPN2pfYz8xaLhKWSsPMMdwkl6Vl67cn6V4/K6+EWRQYmuwJzD0WfIriXdt0UEGyb9Cyf3WJDfYGE5hcCaSRFleAHdGqkGf9TRhp5KuhmwlQlLSCUovM2QTpE/mcRqxte7kccbWroC6h5Gy2xIT8A9ENxHq92xryr8C5kkerH1IZrO+SVLNSdm1vUf2tHUoMqiHygTm06Ak8zVMs3Jn/dPArMZ7HbMz0isZz7J7AIlOY8DnUZNY95Jpdy+9ZNw7oYAhdrQiIqhs/raVzbFIT6dB6rvVUK+kzjTEfY4cWeVxZqZWIqjxX8me+UBIdquB7UEx53HX1rdpaGc5s21zXkzZTMLmjFCac3oSSclsnfO1d+r842fKd4u3BLYEtgS2BLYEtgQelAQ2GXRHsvlg3mfC6PzZ/MYVc0xstRI+E1flk/mOXzbJH//PVBET3LfFqPvmAvHESO1GyEeePqvP02eepMT8be5kyNedC7TTz9TGThWGY//iL/7iwLLh2LaDRVyJ4EEG2TIm4bNF4xXjJcv8b9FFiCXpLOxe+NznPnc3xyb5WZTWF7hD+baleYkY6jSt2b/pZ6/4YJXb9OEnXo6wWcd94s4zf33innz4OebhXvfO7/3fLpLZ5mTn9zVh9MQvtXPilE0G/dehi0899RCPlk/BJhj2nUlkmw0g7oWFF6kxrzPAFLrj2rGryCGKn2JNUmg+LFKaswfIdX6b16ygfS2zPq4g/7rtOTOm3bu2dYLpSRasE3eWea/yr6pnLedMnmf9XNvzXGU+659E0lmdV9XRw2EaBcw7YpIulg/I/4xwD4PeGSuhqfSPXnZcZcfQ+63Tz2rfmUG9jAxaZbuSWqsezt8vG5d5z2Vj/VznyFU619gl97P/1zadjeFV392rHdeR0VU6vX/fEtgS2BLYEtgS2BK4fRLYZNCdMV3Jgem3XRcHXOaDX4ahzvDMd1rvVf7iih1W/3RiyrN2zwh9WAJesIULCQTHtrOgcpUHG0g7YfHYS0BDOXCnD6y8SYS1Ba1tYnYxTNIuUgUppMxSqagDFpl4+l4z9wzvXkYG3Qtr3EuWV1mOszbcS++uwnsrNzBx+mW8wVVtfNx+n/r7yBJITwayBFgxf63W+76j4ooqWQ1SbC5iyOTp+MBY4hjeyVZ+pwN2LyX7Tst+GPev5NT91Hm/987rryLNrmuM7qe905Dea4Knj0UhuS/dimEuPHMmO5sGsRUCujiTzSmr/EAzqivZ1MYHqbP3K7PHUcenPM8e2Pcrg339lsCWwJbAlsCWwJbAkyuBTQbd39g/Ct9xxRnfCelwf729Q5JFusAAMKv/OwY+fFti6zVSPtwAI3RMfXmRunbdTTB3RaivXKUrpphR/uHjsHKY+FETH1eRNhMfzbG5Dha9zjX3O9636fobQQatpE4TYkZFrATOGvnRJJyDs670T0W/LHLkssGd19/PvWvExv0oz3rvZfVe1Z7196uuX9v4nfThOv29Tr++0zZfVcdZH9OpjPuZ/qzGa+phv82653d9n5GufO/z85kMV912zZxH9xrDq8bkXuXc6957zZF7jd91xnbagrO+1f+r2nev685kepWs9u9bAlsCWwJbAlsCWwK3XwKbDLozxpf5iNfx5e4XX1wHvzyXeq/S1nvhnuviwbYwza1G673asWKEiROSd9gifLDi5r4PT8wTtevrJIjOTtSauGNim6swwWVjNDHTVWVcNR738/tzwayXYYzZh/tpw+N27Y0ig87C1OYE8DmiaILuOYgz980K3jfYe9zU82a0d06SyeRPHZx7jM/Y7WncIzbT52mgM+g7f83NGPvdii2BLYEtgS2BLYEtgS2BTQZtHbgfCUx9KcfQ2SLxmmtoJSbmAvHEFxE/EyevUT5nJNLEHu2gmTt07qeP+9rbIYEbRQaltIHjMwY05T9jp+d9sa3KCKhvMuh2KO2D7sXKuK/kzjSusy0zQfFZG88eAisRNPX2jFR60H3f5W8JbAlsCWwJbAlsCWwJbAl8uwQ2GbQ14ioJrPghrFokzopH10XluVgcPjhbbA7Pdv/cUbOSR5dh47UvT0oUzFVj+CT+fiPIoLOcQZRyHq3dhGqQzsLPuqZJ0bWbDHoSVfu593kmXTs7on0SOGstk9BcDetKBs2QzMv0eROYz30c951bAlsCWwJbAlsCWwJbAs+HBDYZ9HxI8XaXMfHDmgJiTXcySZr18wyG6LfwxdwBcxmh0y6GtQ1nuPgMV9/uUdq9O8Ou4c1HlkB6ZVInwzlZz7l1ZmVTiwC6LGpDx4vc2Oznngj3ksAZsz+vL8TSd3N/7kzk5rd1b/BKIvl/EpUz5HNvF9s6uiWwJbAlsCWwJbAlsCVwMySwyaCbMQ43uRUTP0wiZs3pc3ZU+kyVMo9Pn2TQxBZzgTl8HO5YcfSMJJrkT9h5bxO7yVr14Nv2vEQGTRD7+c9//uLZZ589js376Z/+6Ytf/MVfvPj+7//+uwnHrsNAnk2mOQEmyA5QR/Z4n0SRthVhtKMsHrxC3dYaVp2cepYOTtZ/Gt41xHOSQjOcU5k9IGZkXHXfVtnufm0JbAlsCWwJbAlsCWwJ3DQJTN+vts2Tmfhq8M5f/uVfXrzjHe+4+MY3vnHx8z//8xdvfOMbL37oh37obp7TvRh900b2wbRn6svcGrYuFs/8o2sUUP/P3EHh2k4Xm1ghfDxx8jyZbCWQzjDIxNIPRjK71JssgTMy6OMf//hxOt2rX/3qi6eeeurie77ne+4GMBy49ls3/U9geN23+Nd//dcHGfRv//ZvBxn0C7/wCxcveclLvi37/GXbZypzbvOaxE+/p9iXhdHNezYZdJPV72a37cwJWKN7MvDr1sR6thKXq3GfEUAz4sj9k0Ta0Ww3W1d267YEtgS2BLYEtgS2BG6vBK6KDHrXu9518Z//+Z8HGfSmN73p4gd/8AfvYp+9GH179WL27CyYYSZ1ntE8E0/M7yfW9Rm+WHMCrVjkMlzd994joNb8pls3nwzdvFcvz8igT37yk99GBn33d3/3sePFCyn5/5FBKaqK/vZv//biIx/5yGlk0LpfsobNRgSIZ8TEGt42M69PpZ7JpQt920q+lfy5SmDVyzOCZxKS0xjPkMtpyJsDa/jo1OOts891xPZ9WwJbAlsCWwJbAlsCWwLPvwQC4DMySC0ig/7qr/7q4umnn7747//+74uf+7mf25FBz7/4H7sS05dJxEz/fiV0dPAsSmgljVx3ncXiMwxzGWZ57IS7G/y8SuBekUGvetWr7kYGtdPqNDLom9/85mEAXfSFL3zh4sMf/vDFV77ylYvXve51R2TQ933f9x3bXypk3Zt4FoFx3V6ukUPrfRtYX1eS+7pVAmd6eWbIz3TsfnV66+nWvy2BLYEtgS2BLYEtgS2BmyOBGQ3ET2t7TnjGNop///d/v/i7v/u7i7e97W1Hw3/2Z3/2SJFhm5jfraK7fm/5vznj+rBachUWuBemuKqNV+GGy+q+6r6r6t2/3z4JrGTQP/7jP1584hOfOOzdj//4jx827Xu/93sPW3Y3t9XcJkYkyCAvxk7OoA996EMXX/rSly5+7Md+7Ngq9uIXv/ggi/zt7S63T4l2j7YEtgS2BLYEtgS2BLYEtgS2BG6TBOb2nbkL4ru+67uO6Iyvf/3rF1/96lcv/umf/ulIkeH6n/iJnzgWw1/+8pcfv3ctnLQx0G3Sjt2XLYHbIYFJBiGwv/zlL1989rOfvXjBC15w8ZrXvObiDW94w5EzCBnEjh3XI4N88GIMMUcxRZ/73OcunnnmmYu///u/v/iBH/iBix/5kR85DKFr5tav2yG+3YstgS2BLYEtgS2BLYEtgS2BLYEtgdsmgbnVpzQWcI/Fby/A6D/+4z8u/vVf//Xii1/84hEJJFfQj/7ojx67IiyEA1DuLUpoRwjdNi3Z/dkSuB0SwNV4sWv//M//fPGyl73s4qd+6qcuXv/61x+BPUUG3SWDdDsj2bsC/uZv/ubiU5/61MU//MM/HIbSSWLe17/Njt8Oxdm92BLYEtgS2BLYEtgS2BLYEtgSuC0SmNvDWvhek/C29csJYl/72tcOUkgkEBLopS996V3gBEAFsF74whcei+ebELotmrL7sSVweyTATvkTEWT76yte8Yoj0vEnf/In70YGFdhzNzJoTYrFwP3Lv/zLsVVMziC/M5ZH1un/m8l8zRd0e0S4e7IlsCWwJbAlsCWwJbAlsCWwJbAl8DhLYJJBcMsZjimJr1X0dkj4bDdEK+hFEIkQcs2LXvSi493rskN1Hme57bZvCWwJPJ4SaMcX24UMcjKi0+Bf+cpXXvzwD//w3WhIdutuAulO9OrmIn3cbP9s28L8rtCZeG1HBT2eirJbvSWwJbAlsCWwJbAlsCWwJbAlcJslMMkg/ZwH4Ezc00mwfeda35VfyH3+RwbBPvJu+ByGus0y3H3bEtgSeHwk0C4vZJCXaEe2y/YwJLa/eZr7t0UGrWRQuYMypFjyMunv0MjHRyl2S7cEtgS2BLYEtgS2BLYEtgS2BJ5UCcwE0slg4p6ZeLVoHwRQWKh7+l/U0MZCT6o27X5vCdxsCWSnygcdud2W2EvJoIyaG6bR7Oi6jOM+yu5mK8Bu3ZbAlsCWwJbAlsCWwJbAlsCWwJbAHQlMXDOJn/m5NBjwTpFA67XJs3wbO2fQ1rAtgS2BmyaBOJ0iHrNX/X/3WPlvRTkekUHl/mH8ZgLp9sfOkMl9ithNG+7dni2BLYEtgS2BLYEtgS2BLYEtgS2BqySwkj9dvyaaLg3GJH0m8RN22ukyrpL4/n1LYEvgYUsgPicifJLYPk+y6H8BNgyWJgsyFGcAAAAASUVORK5CYII=)"
      ]
    },
    {
      "cell_type": "code",
      "execution_count": null,
      "metadata": {},
      "outputs": [],
      "source": [
        "def calculate_grade(percentage):\n",
        "    # Determine grade based on percentage using conditional statements\n",
        "    if percentage > 85:\n",
        "        return \"Grade A\"\n",
        "    elif percentage >= 75:\n",
        "        return \"Grade B\"\n",
        "    elif percentage >= 50:\n",
        "        return \"Grade C\"\n",
        "    elif percentage >= 30:\n",
        "        return \"Grade D\"\n",
        "    else:\n",
        "        return \"Reappear\"\n",
        "\n",
        "def main():\n",
        "    # Accept marks for five subjects\n",
        "    marks = []\n",
        "    for i in range(1, 6):\n",
        "        mark = float(input(f\"Enter marks for subject {i}: \"))\n",
        "        marks.append(mark)\n",
        "    \n",
        "    # Calculate total marks and percentage\n",
        "    total_marks = sum(marks)\n",
        "    percentage = (total_marks / 5)\n",
        "    \n",
        "    # Display marks\n",
        "    print(f\"Marks obtained in five subjects: {marks}\")\n",
        "    \n",
        "    # Display total marks and percentage\n",
        "    print(f\"Total marks obtained: {total_marks}\")\n",
        "    print(f\"Percentage: {percentage}%\")\n",
        "    \n",
        "    # Calculate and display grade\n",
        "    grade = calculate_grade(percentage)\n",
        "    print(f\"Grade: {grade}\")\n",
        "\n",
        "\n",
        "main()\n"
      ]
    },
    {
      "cell_type": "markdown",
      "metadata": {},
      "source": []
    },
    {
      "cell_type": "markdown",
      "metadata": {
        "id": "acaj3ubTBRam"
      },
      "source": [
        "## 1.13. Write a program for VIBGYOR Spectrum based on their Wavelength using.\n",
        "Wavelength Range:\n",
        "- mass_earth = 5.972e24 # Mass of Earth in kilograms\n",
        "- mass_moon = 7.34767309e22 # Mass of Moon in kilograms\n",
        "- mass_sun = .989e30 # Mass of Sun in kilograms\n",
        "- distance_earth_sun = .496e # Average distance between Earth and Sun in meters\n",
        "- distance_moon_earth = 3.844e8 # Average distance between Moon and Earth in meters\n",
        "\n",
        "Tasks:\n",
        "\n",
        "- Calculate the gravitational force between the Earth and the Sun\n",
        "- Calculate the gravitational force between the Moon and the Earth\n",
        "- Compare the ealulated forces to determine whi0h gravitational force is stronger\n",
        "- Explain which celestial body Earth or Moon is more attracted to the other based on the comparison."
      ]
    },
    {
      "cell_type": "markdown",
      "metadata": {},
      "source": [
        "To calculate the gravitational forces between celestial bodies and compare them, we can use Newton's law of universal gravitation formula:\n",
        "\n",
        "${F}=\\frac{{G}.{M}_{1}.{M}_{2}}{r^2}$\n",
        "\n",
        "where:\n",
        "\n",
        "${F}$ is the gravitational force,\n",
        "\n",
        "${G}$ is the gravitational constant $ (6.67430×10^{−11} m^3 kg^{−1} s^{−2} )$,\n",
        "​\n",
        "  and \n",
        "\n",
        "$ 𝑀_2 $ and  $M_2 $   are the masses of the two bodies,\n",
        "\n",
        "$r$ is the distance between the centers of the two bodies.\n"
      ]
    },
    {
      "cell_type": "markdown",
      "metadata": {},
      "source": [
        "Gravitational Force between Earth and Sun:\n",
        "\n",
        "${F}_{Earth-Sun} = \\frac{𝐺⋅_{{mass\\_earth}⋅{mass\\_sun}}}{(distance\\_earth\\_sun)^2}$\n",
        "\n",
        "\n",
        "Gravitational Force between Moon and Earth:\n",
        " \n",
        "${F}_{Moon-Earth} = \\frac{𝐺⋅_{{mass\\_earth}⋅{mass\\_moon}}}{(distance\\_moon\\_earth)^2}$\n"
      ]
    },
    {
      "cell_type": "code",
      "execution_count": 3,
      "metadata": {},
      "outputs": [
        {
          "name": "stdout",
          "output_type": "stream",
          "text": [
            "Gravitational force between Earth and Sun: 3.54e+22 Newtons\n",
            "Gravitational force between Moon and Earth: 1.98e+20 Newtons\n",
            "Comparison: Earth is more attracted to the Sun.\n"
          ]
        }
      ],
      "source": [
        "# Given data\n",
        "mass_earth = 5.972e24  # Mass of Earth in kilograms\n",
        "mass_moon = 7.34767309e22  # Mass of Moon in kilograms\n",
        "mass_sun = 1.989e30  # Mass of Sun in kilograms\n",
        "distance_earth_sun = 1.496e11  # Average distance between Earth and Sun in meters\n",
        "distance_moon_earth = 3.844e8  # Average distance between Moon and Earth in meters\n",
        "G = 6.67430e-11  # Gravitational constant in m^3 kg^-1 s^-2\n",
        "\n",
        "# Calculate gravitational forces\n",
        "force_earth_sun = G * mass_earth * mass_sun / (distance_earth_sun ** 2)\n",
        "force_moon_earth = G * mass_earth * mass_moon / (distance_moon_earth ** 2)\n",
        "\n",
        "# Compare forces\n",
        "if force_earth_sun > force_moon_earth:\n",
        "    stronger_gravity = \"Earth is more attracted to the Sun.\"\n",
        "else:\n",
        "    stronger_gravity = \"Moon is more attracted to the Earth.\"\n",
        "\n",
        "# Print results\n",
        "print(f\"Gravitational force between Earth and Sun: {force_earth_sun:.2e} Newtons\")\n",
        "print(f\"Gravitational force between Moon and Earth: {force_moon_earth:.2e} Newtons\")\n",
        "print(f\"Comparison: {stronger_gravity}\")\n"
      ]
    },
    {
      "cell_type": "markdown",
      "metadata": {},
      "source": []
    },
    {
      "cell_type": "code",
      "execution_count": null,
      "metadata": {},
      "outputs": [],
      "source": [
        "class Student:\n",
        "    def __init__(self, name, age, roll_number):\n",
        "        self.__name = name\n",
        "        self.__age = age\n",
        "        self.__roll_number = roll_number\n",
        "\n",
        "    # Getter methods\n",
        "    def get_name(self):\n",
        "        return self.__name\n",
        "\n",
        "    def get_age(self):\n",
        "        return self.__age\n",
        "\n",
        "    def get_roll_number(self):\n",
        "        return self.__roll_number\n",
        "\n",
        "    # Setter methods\n",
        "    def set_name(self, name):\n",
        "        self.__name = name\n",
        "\n",
        "    def set_age(self, age):\n",
        "        if age > 0:\n",
        "            self.__age = age\n",
        "        else:\n",
        "            print(\"Invalid age! Age must be positive.\")\n",
        "\n",
        "    def set_roll_number(self, roll_number):\n",
        "        self.__roll_number = roll_number\n",
        "\n",
        "    # Method to display student information\n",
        "    def display_info(self):\n",
        "        print(f\"Student Name: {self.__name}\")\n",
        "        print(f\"Age: {self.__age}\")\n",
        "        print(f\"Roll Number: {self.__roll_number}\")\n",
        "\n",
        "    # Method to update student details\n",
        "    def update_details(self, name=None, age=None, roll_number=None):\n",
        "        if name is not None:\n",
        "            self.set_name(name)\n",
        "        if age is not None:\n",
        "            self.set_age(age)\n",
        "        if roll_number is not None:\n",
        "            self.set_roll_number(roll_number)\n",
        "        print(\"Details updated successfully.\")\n",
        "\n",
        "# Testing the implemented functionality\n",
        "if __name__ == \"__main__\":\n",
        "    # Create instances of the Student class\n",
        "    student1 = Student(\"Alice\", 20, \"S1001\")\n",
        "    student2 = Student(\"Bob\", 22, \"S1002\")\n",
        "\n",
        "    # Display student information\n",
        "    print(\"Student 1 Information:\")\n",
        "    student1.display_info()\n",
        "\n",
        "    print(\"\\nStudent 2 Information:\")\n",
        "    student2.display_info()\n",
        "\n",
        "    # Update student details\n",
        "    print(\"\\nUpdating Student 1 Information...\")\n",
        "    student1.update_details(name=\"Alicia\", age=21)\n",
        "\n",
        "    print(\"\\nUpdated Student 1 Information:\")\n",
        "    student1.display_info()\n"
      ]
    },
    {
      "cell_type": "markdown",
      "metadata": {
        "id": "u2ox5N-yBRfq"
      },
      "source": [
        "\n",
        "\n"
      ]
    },
    {
      "cell_type": "markdown",
      "metadata": {
        "id": "YOnQbbwNBRh-"
      },
      "source": [
        "4.Create a simple baning system using object-oriented concepts in Python. Design classes representing different types of ban accounts such as savings and checing. Implement methods for deposit, withdraw,\n",
        "and balance inquiry. Utilize inheritance to manage different account types efficiently.\n",
        "\n",
        "Tasks\n",
        "\n",
        "- Define base class(es) for bank accounts with common attributes and methods\n",
        "- Implement subclasses for specific account types (e.g., SavingsAccount, CheckingAccount)\n",
        "- Provide methods for deposit, withdraw, and balance inquiry in each subclass\n",
        "- Test the banking system by creating instances of different account types and performing transactions.\n",
        "\n"
      ]
    },
    {
      "cell_type": "markdown",
      "metadata": {
        "id": "Fw4QrHaiBRkf"
      },
      "source": []
    },
    {
      "cell_type": "markdown",
      "metadata": {
        "id": "0yTz35hABRnM"
      },
      "source": []
    },
    {
      "cell_type": "markdown",
      "metadata": {
        "id": "a1YlBBNtBRpy"
      },
      "source": [
        "5.Write a Python program that models different animals and their sounds. Design a base class called\n",
        "`Animal` with a method `mae_sound()`. Create subclasses lie `Dog` and `Cat` that override the\n",
        "`mae_sound()` method to produce appropriate sounds.\n",
        "Tasks\n",
        "- Define the `Animal` class with a method `make_sound()`\n",
        "- Create subclasses `Dog` and `Cat` that override the `make_sound()` method\n",
        "- Implement the sound generation logic for each subclass\n",
        "- Test the program by creating instances of `Dog` and `Cat` and calling the `make_sound()` method.\n"
      ]
    },
    {
      "cell_type": "markdown",
      "metadata": {
        "id": "MLiRmZkUBRsR"
      },
      "source": [
        "6.Write a code for Restaurant Management System Using OO4S3\n",
        "- Create a Menu Item class that has attributes such as name, description, price, and category\n",
        "- Implement methods to add a new menu item, update menu item information, and remove a menu item from the menu.\n",
        "- Use en'apsulation to hide the menu item's unique identification number\n",
        "- Inherit from the MenuItem class to create a FoodItem class and a BeverageItem class, each with their own\n",
        "specific attributes and methods.\n",
        "\n"
      ]
    },
    {
      "cell_type": "markdown",
      "metadata": {
        "id": "E3-VpVbXBRu6"
      },
      "source": [
        "7 Write a code for Hotel Management System using OOPS:\n",
        "- Create a Room class that has attributes such as room number, room type, rate, and availability (private)\n",
        "- Implement methods to book a room, check in a guest, and check out a guest\n",
        "- Use encapsulation to hide the room's unique identification number\n",
        "- Inherit from the Room class to create a SuiteRoom class and a StandardRoom class, each with their own\n",
        "specific attributes and methods.\n",
        "\n"
      ]
    },
    {
      "cell_type": "markdown",
      "metadata": {
        "id": "fRZmQxPJBRxf"
      },
      "source": [
        "8.Write a code for Fitness Club Management System using OOPS\n",
        "-Create a Member class that has attributes su'h as name, age, membership type, and membership status\n",
        "(private)\n",
        "- Implement methods to register a new member, renew a membership, and cancel a membership\n",
        "- Use encapsulation to hide the member's unique identification number\n",
        "- Inherit from the Member class to create a FamilyMember class and an IndividualMember class, each with\n",
        "their own specific attributes and methods\n",
        "\n"
      ]
    },
    {
      "cell_type": "markdown",
      "metadata": {
        "id": "vuqkfu_ZkIfb"
      },
      "source": [
        "9.Write a code for Event Management System using OOPS\n",
        "- Create an Event class that has attributes such as name, date, time, location, and list of attendees (private)\n",
        "- Implement methods to create a new event, add or remove attendees, and get the total number of attendees\n",
        "- Use encapsulation to hide the event's unique identification number\n",
        "- Inherit from the Event class to create a PrivateEvent class and a PublicEvent class, each with their own specific attributes and methods.\n",
        "\n"
      ]
    },
    {
      "cell_type": "markdown",
      "metadata": {
        "id": "F93a7e5YkIie"
      },
      "source": [
        "10.Write a code for Airline Reservation System using OOPS\n",
        "- Create a Flight class that has attributes such as flight number, departure and arrival airports, departure and arrival times, and available seats (private)\n",
        "- Implement methods to book a seat, cancel a reservation, and get the remaining available seats\n",
        "- Use encapsulation to hide the flight's unique identification number\n",
        "- Inherit from the Flight class to create a DomesticFlight class and an InternationalFlight class, each with their own specific attributes and methods."
      ]
    },
    {
      "cell_type": "markdown",
      "metadata": {
        "id": "ogNI2-yQkIqz"
      },
      "source": [
        "11. Define a Python module named constants.py containing constants like pi and the speed of light.\n"
      ]
    },
    {
      "cell_type": "markdown",
      "metadata": {
        "id": "pNH6ixzvp2BO"
      },
      "source": [
        "12. Write a Python module named calculator.py containing functions for addition, subtraction,\n",
        "multiplication, and division.\n"
      ]
    },
    {
      "cell_type": "markdown",
      "metadata": {
        "id": "aJxBVr3mp2OS"
      },
      "source": [
        "13. Implement a Python package structure for a project named ecommerce, containing modules for product\n",
        "management and order processing.\n"
      ]
    },
    {
      "cell_type": "markdown",
      "metadata": {
        "id": "qYSQIbtmp2Q_"
      },
      "source": [
        "14. Implement a Python module named string_utils.py containing functions for string manipulation, such as\n",
        "reversing and capitalizing strings.\n"
      ]
    },
    {
      "cell_type": "markdown",
      "metadata": {
        "id": "khHjw3z2p2Th"
      },
      "source": [
        "15. Write a Python module named file_operations.py with functions for reading, writing, and appending\n",
        "data to a file.\n"
      ]
    },
    {
      "cell_type": "markdown",
      "metadata": {
        "id": "LPulO93Ep2WE"
      },
      "source": [
        "16. Write a Python program to create a text file named \"employees.txt\" and write the details of employees,\n",
        "including their name, age, and salary, into the file.\n"
      ]
    },
    {
      "cell_type": "markdown",
      "metadata": {
        "id": "Lfvjb5AEp2YU"
      },
      "source": []
    },
    {
      "cell_type": "markdown",
      "metadata": {
        "id": "Adp9TYc3p2a-"
      },
      "source": [
        "17. Develop a Python script that opens an existing text file named \"inventory.txt\" in read mode and displays\n",
        "the contents of the file line by line.\n"
      ]
    },
    {
      "cell_type": "markdown",
      "metadata": {
        "id": "q-6qe8WEp2ds"
      },
      "source": [
        "18. Create a Python script that reads a text file named \"expenses.txt\" and calculates the total amount spent\n",
        "on various expenses listed in the file.\n"
      ]
    },
    {
      "cell_type": "markdown",
      "metadata": {
        "id": "U_Z160SLp2gX"
      },
      "source": [
        "19. Create a Python program that reads a text file named \"paragraph.txt\" and counts the occurrences of\n",
        "each word in the paragraph, displaying the results in alphabetical order.\n"
      ]
    },
    {
      "cell_type": "markdown",
      "metadata": {
        "id": "Sg1sukM0p2iz"
      },
      "source": [
        "20. What do you mean by Measure of Central Tendency and Measures of Dispersion .How it can be\n",
        "calculated.\n"
      ]
    },
    {
      "cell_type": "markdown",
      "metadata": {
        "id": "ysuHtJWap2lc"
      },
      "source": [
        "21. What do you mean by skewness.Explain its types.Use graph to show.\n"
      ]
    },
    {
      "cell_type": "markdown",
      "metadata": {
        "id": "j9ekt4M7p2oQ"
      },
      "source": [
        "22. Explain PROBABILITY MASS FUNCTION (PMF) and PROBABILITY DENSITY FUNCTION (PDF). and what is the difference between them?\n"
      ]
    },
    {
      "cell_type": "markdown",
      "metadata": {
        "id": "AN1DDJ36p2rB"
      },
      "source": [
        "23. What is correlation. Explain its type in details.what are the methods of determining correlation"
      ]
    },
    {
      "cell_type": "markdown",
      "metadata": {
        "id": "WOWWcH11p2tx"
      },
      "source": [
        "24. Calculate coefficient of correlation between the marks obtained by 10 students in Accountancy and\n",
        "statistics:\n",
        "![image.png](data:image/png;base64,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)\n",
        "\n",
        "Use Karl Pearson’s Coefficient of Correlation Method to find it."
      ]
    },
    {
      "cell_type": "markdown",
      "metadata": {
        "id": "_QVM31xEp2wW"
      },
      "source": [
        "25. Discuss the 4 differences between correlation and regression.\n"
      ]
    },
    {
      "cell_type": "markdown",
      "metadata": {
        "id": "5_bKGC-Xp2zF"
      },
      "source": [
        "26. Find the most likely price at Delhi corresponding to the price of Rs. 70 at Agra from the following data:\n",
        "Coefficient of correlation between the prices of the two places +0.8.\n"
      ]
    },
    {
      "cell_type": "markdown",
      "metadata": {
        "id": "ESPv_qaPq4Ve"
      },
      "source": []
    },
    {
      "cell_type": "markdown",
      "metadata": {
        "id": "EW8AS-gLq4Yn"
      },
      "source": []
    },
    {
      "cell_type": "markdown",
      "metadata": {
        "id": "8wEPsXZ-q4bo"
      },
      "source": [
        "27. In a partially destroyed laboratory record of an analysis of correlation data, the following results only are\n",
        "legible: Variance of x = 9, Regression equations are: (i) 8x−10y = −66; (ii) 40x − 18y = 214. What are (a) the\n",
        "mean values of x and y, (b) the coefficient of correlation between x and y, (c) the σ of y.\n"
      ]
    },
    {
      "cell_type": "markdown",
      "metadata": {
        "id": "hbuKo-qCq4eV"
      },
      "source": [
        "28. What is Normal Distribution? What are the four Assumptions of Normal Distribution? Explain in detail.\n"
      ]
    },
    {
      "cell_type": "markdown",
      "metadata": {
        "id": "7WBI8VA6q4hE"
      },
      "source": [
        "29.Write all the characteristics or Properties of the Normal Distribution Curve.\n"
      ]
    },
    {
      "cell_type": "markdown",
      "metadata": {
        "id": "YXItDL-pq4ji"
      },
      "source": [
        "30.Which of the following options are correct about Normal Distribution Curve.\n",
        "- (a) Within a range 0.6745 of σ on both sides the middle 50% of the observations occur i,e. mean ±0.6745σ\n",
        "covers 50% area 25% on each side.\n",
        "- (b) Mean ±1S.D. (i,e.μ ± 1σ) covers 68.268% area, 34.134 % area lies on either side of the mean.\n",
        "- (c) Mean ±2S.D. (i,e. μ ± 2σ) covers 95.45% area, 47.725% area lies on either side of the mean.\n",
        "- (d) Mean ±3 S.D. (i,e. μ ±3σ) covers 99.73% area, 49.856% area lies on the either side of the mean.\n",
        "- (e) Only 0.27% area is outside the range μ ±3σ."
      ]
    },
    {
      "cell_type": "markdown",
      "metadata": {
        "id": "sACYdoGFq4mG"
      },
      "source": [
        "31. The mean of a distribution is 60 with a standard deviation of 10. Assuming that the distribution is normal,\n",
        "what percentage of items be (i) between 60 and 72, (ii) between 50 and 60, (iii) beyond 72 and (iv) between\n",
        "70 and 80?\n"
      ]
    },
    {
      "cell_type": "markdown",
      "metadata": {
        "id": "DRIKR-Umq4od"
      },
      "source": [
        "32. 15000 students sat for an  examination. The mean marks was 49 and the distribution of marks had a standard deviation of 6. Assuming that the marks were normally distributed what proportion of students scored (a) more than 55 marks, (b) more than 70 marks\n"
      ]
    },
    {
      "cell_type": "markdown",
      "metadata": {
        "id": "Q1_UOa4sq4r3"
      },
      "source": [
        "33. If the height of 500 students are normally distributed with mean 65 inch and standard deviation 5 inch.\n",
        "How many students have height : a) greater than 70 inch. b) between 60 and 70 inch.\n"
      ]
    },
    {
      "cell_type": "markdown",
      "metadata": {
        "id": "Wpy5MCWKrqoq"
      },
      "source": [
        "34. What is the statistical hypothesis? Explain the errors in hypothesis testing.b)Explain the Sample. What\n",
        "are Large Samples & Small Samples?\n"
      ]
    },
    {
      "cell_type": "markdown",
      "metadata": {
        "id": "R6vtGabPrqrc"
      },
      "source": [
        "35.A random sample of size 25 from a population gives the sample standard derivation to be 9.0. Test the\n",
        "hypothesis that the population standard derivation is 10.5.\n",
        "Hint(Use chi-square distribution)."
      ]
    },
    {
      "cell_type": "markdown",
      "metadata": {
        "id": "XNSOe1d6rquF"
      },
      "source": [
        "37.100 students of a PW IOI obtained the following grades in Data Science paper :\n",
        "- Grade :[A, B, C, D, E]\n",
        "- Total Frequency :[15, 17, 30, 22, 16, 100]\n",
        "Using the χ 2 test , examine the hypothesis that the distribution of grades is uniform."
      ]
    },
    {
      "cell_type": "markdown",
      "metadata": {
        "id": "H6JWYPIArqwk"
      },
      "source": [
        "38.Anova Test:\n",
        "![image.png](data:image/png;base64,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)"
      ]
    },
    {
      "cell_type": "markdown",
      "metadata": {
        "id": "udMgLpw2rqzJ"
      },
      "source": [
        "39.How would you create a basic Flask route that displays \"Hello, World!\" on the homepage?\n"
      ]
    },
    {
      "cell_type": "markdown",
      "metadata": {
        "id": "D5pmbm8Lrq12"
      },
      "source": [
        "40.Explain how to set up a Flask application to handle form submissions using POST requests.\n"
      ]
    },
    {
      "cell_type": "markdown",
      "metadata": {
        "id": "OcFIoP15rq4l"
      },
      "source": [
        "41.Write a Flask route that accepts a parameter in the URL and displays it on the page.\n"
      ]
    },
    {
      "cell_type": "markdown",
      "metadata": {
        "id": "x8tKNqFkrq6y"
      },
      "source": [
        "42.How can you implement user authentication in a Flask application?\n"
      ]
    },
    {
      "cell_type": "markdown",
      "metadata": {
        "id": "nqmxwvUlrq9U"
      },
      "source": [
        "43.Describe the process of connecting a Flask app to a SQLite database using SQLAlchemy.\n"
      ]
    },
    {
      "cell_type": "markdown",
      "metadata": {
        "id": "SOgw9fq3rq_g"
      },
      "source": [
        "44.How would you create a RESTful API endpoint in Flask that returns JSON data?\n"
      ]
    },
    {
      "cell_type": "markdown",
      "metadata": {
        "id": "HJiqUueLrrDA"
      },
      "source": [
        "45.Explain how to use Flask-WTF to create and validate forms in a Flask application.\n"
      ]
    },
    {
      "cell_type": "markdown",
      "metadata": {
        "id": "JNwimuHGs3Hu"
      },
      "source": [
        "46.How can you implement file uploads in a Flask application?\n"
      ]
    },
    {
      "cell_type": "markdown",
      "metadata": {
        "id": "OZbZ14fBs3Kc"
      },
      "source": [
        "47.Describe the steps to create a Flask blueprint and why you might use one.\n"
      ]
    },
    {
      "cell_type": "markdown",
      "metadata": {
        "id": "Vm_FFD_fs3M7"
      },
      "source": [
        "48.How would you deploy a Flask application to a production server using Gunicorn and Nginx?\n"
      ]
    },
    {
      "cell_type": "markdown",
      "metadata": {
        "id": "MqMhn2oOs3PW"
      },
      "source": [
        "49. Make a fully functional web application using flask, Mangodb. Signup,Signin page.And after successfully\n",
        "login .Say hello Geeks message at webpage."
      ]
    },
    {
      "cell_type": "markdown",
      "metadata": {
        "id": "gESwximss3SB"
      },
      "source": [
        "50.Machine Learning\n",
        " - what is he difference beween Series & Daaframes\n"
      ]
    },
    {
      "cell_type": "markdown",
      "metadata": {
        "id": "Ea8myn_Ts3UY"
      },
      "source": [
        " - Create a database name Travel_Planner in mysql ,and creae a able name bookings in ha which having attribues (user_id INT, fligh_id INT,hoel_id INT, aciviy_id INT,booking_dae DATE) .fill wih some dummy  value .Now you have o read he conen of his able using landas as daaframe.Show he output\n"
      ]
    },
    {
      "cell_type": "markdown",
      "metadata": {
        "id": "-f3SxbQZs3W-"
      },
      "source": [
        "- Difference beween loc and iloc\n",
        " ha is he difference beween sulervised and unsulervised learningk\n"
      ]
    },
    {
      "cell_type": "markdown",
      "metadata": {
        "id": "SwSAAa7rs3ad"
      },
      "source": [
        "- Explain he bias-variance tradeoff\n"
      ]
    },
    {
      "cell_type": "markdown",
      "metadata": {
        "id": "Ng1817HS3d4j"
      },
      "source": [
        "- What are precision and recall? How are hey different from accuracy?\n"
      ]
    },
    {
      "cell_type": "markdown",
      "metadata": {
        "id": "-fhbyCED3d7D"
      },
      "source": [
        "- What is overfiing and how can it be prevented?"
      ]
    },
    {
      "cell_type": "markdown",
      "metadata": {
        "id": "RqahkYEj3d-M"
      },
      "source": [
        "- Explain the onept of ross-validation\n",
        "- hat is the differene between a classifiation and a re0ression problem/\n",
        "- Explain the onept of ensemble learnin0\n",
        "-  What is Gradient desent and how does it work/\n",
        "- Desribe the differene between bath 0radient desent and stohasti 0radient desent\n",
        "- What is the urse of dimensionality in mahine learnin0/\n",
        "- Explain the differene between L1 and L2 re0ularization\n",
        "- What is a onfusion matrix and how is it used/\n",
        "- Define AUC-ROC urve\n",
        "- Explain the k-nearest nei0hbors al0orithm\n",
        "- Explain the basi onept of a Support Vetor Mahine (SVM)\n",
        "- How does the kernel trik work in SVM/\n",
        "- hat are the different types of kernels used in SVM and when would you use eah/\n",
        "- hat is the hyperplane in SVM and how is it determined/\n",
        "- hat are the pros and ons of usin0 a Support Vetor Mahine (SVM)/\n",
        "- Explain the differene between a hard mar0in and a soft mar0in SVM\n",
        "- Desribe the proess of onstrutin0 a deision tree\n",
        "- Desribe the workin0 priniple of a deision tree\n",
        "- hat is information 0ain and how is it used in deision trees/\n",
        "- Explain Gini impurity and its role in deision trees\n",
        "- hat are the advanta0es and disadvanta0es of deision trees/\n",
        "- How do random forests improve upon deision trees/\n",
        "- How does a random forest al0orithm work/\n",
        "- hat is bootstrappin0 in the ontext of random forests/\n",
        "- Explain the onept of feature importane in random forests\n",
        "- hat are the key hyperparameters of a random forest and how do they affet the model/\n",
        "- Desribe the lo0isti re0ression model and its assumptions\n",
        "- How does lo0isti re0ression handle binary lassifiation problems/\n",
        "- hat is the si0moid funtion and how is it used in lo0isti re0ression/\n",
        "- Explain the onept of the ost funtion in lo0isti re0ression\n",
        "- How an lo0isti re0ression be extended to handle multilass lassifiation/\n",
        "- hat is the differene between L1 and L2 re0ularization in lo0isti re0ression/\n",
        "- hat is XGBoost and how does it differ from other boostin0 al0orithms/\n",
        "- Explain the onept of boostin0 in the ontext of ensemble learnin0\n",
        "- How does XGBoost handle missin0 values/\n",
        "- hat are the key hyperparameters in XGBoost and how do they affet model performane/\n",
        "- Desribe the proess of 0radient boostin0 in XGBoost\n",
        "- hat are the advanta0es and disadvanta0es of usin0 XGBoost?"
      ]
    },
    {
      "cell_type": "markdown",
      "metadata": {
        "id": "GIe24mze3eBC"
      },
      "source": []
    },
    {
      "cell_type": "markdown",
      "metadata": {
        "id": "JAl0gqFJ3eF8"
      },
      "source": []
    },
    {
      "cell_type": "markdown",
      "metadata": {
        "id": "7zFzQbeK3eIs"
      },
      "source": []
    },
    {
      "cell_type": "markdown",
      "metadata": {
        "id": "Irggeb1T3eL4"
      },
      "source": []
    },
    {
      "cell_type": "markdown",
      "metadata": {
        "id": "uVK0gCFl3eO7"
      },
      "source": []
    },
    {
      "cell_type": "code",
      "execution_count": null,
      "metadata": {
        "id": "k-vhvMnvrpFF"
      },
      "outputs": [],
      "source": []
    },
    {
      "cell_type": "code",
      "execution_count": null,
      "metadata": {
        "id": "H1WxyIU0q3Gh"
      },
      "outputs": [],
      "source": []
    }
  ],
  "metadata": {
    "colab": {
      "provenance": []
    },
    "kernelspec": {
      "display_name": "Python 3",
      "name": "python3"
    },
    "language_info": {
      "codemirror_mode": {
        "name": "ipython",
        "version": 3
      },
      "file_extension": ".py",
      "mimetype": "text/x-python",
      "name": "python",
      "nbconvert_exporter": "python",
      "pygments_lexer": "ipython3",
      "version": "3.8.19"
    }
  },
  "nbformat": 4,
  "nbformat_minor": 0
}
